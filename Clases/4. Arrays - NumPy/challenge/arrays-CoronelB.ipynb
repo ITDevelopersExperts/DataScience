{
 "cells": [
  {
   "cell_type": "markdown",
   "source": [
    "#### Clase 4 | Chalenge: Arrays con NumPy\n",
    "\n",
    "**Ejercicio 1:**\n",
    "Generar un array aleatorio de 100 elementos. Calcular la mediana correspondiente.\n"
   ],
   "metadata": {
    "collapsed": false
   }
  },
  {
   "cell_type": "code",
   "execution_count": 1,
   "outputs": [
    {
     "name": "stdout",
     "output_type": "stream",
     "text": [
      "49.5\n"
     ]
    }
   ],
   "source": [
    "import numpy as np\n",
    "\n",
    "randomArray = np.array(range(100))\n",
    "mean = randomArray.mean()\n",
    "print(mean)\n"
   ],
   "metadata": {
    "collapsed": false,
    "pycharm": {
     "name": "#%%\n"
    }
   }
  },
  {
   "cell_type": "markdown",
   "source": [
    "**Ejercicio 2:**\n",
    "\n",
    "Recordar los ejercicios con funciones para cálculo de factorial y suma de serie de la Clase 02.\n",
    "Repetir ambos ejercicios, pero ahora utilizar las nuevas operaciones aprendidas con los ndarrays."
   ],
   "metadata": {
    "collapsed": false
   }
  },
  {
   "cell_type": "code",
   "execution_count": 27,
   "outputs": [
    {
     "name": "stdout",
     "output_type": "stream",
     "text": [
      "Array [1 2 3]\n",
      "Result of factorial: 6\n",
      "----------\n"
     ]
    }
   ],
   "source": [
    "def factorial(x):\n",
    "    range = np.arange(1, x+1)\n",
    "    print(\"Array\", range)\n",
    "    return np.prod(range)\n",
    "\n",
    "print(\"Result of factorial:\", factorial(3))\n",
    "\n",
    "print(\"----------\")\n",
    "\n",
    "def summation(first, second):\n",
    "    if not second > first: return \"ERROR: The second must be greater than the first\"\n",
    "\n",
    "    range = np.arange(first, second+1)\n",
    "    return \"Result of summation:\", range.sum()\n",
    "\n",
    "print(summation(2, 4))"
   ],
   "metadata": {
    "collapsed": false,
    "pycharm": {
     "name": "#%%\n"
    }
   }
  },
  {
   "cell_type": "markdown",
   "source": [
    "**Ejercicio 3:**\n",
    "\n",
    "En este link se provee un archivo con los resultados de la Encuesta de Sueldos de Openqube de Febrero 2020 (https://sueldos.openqube.io/encuesta-sueldos-2020.02/ ),\n",
    "Calcular y comparar media y mediana de los sueldos netos."
   ],
   "metadata": {
    "collapsed": false
   }
  },
  {
   "cell_type": "code",
   "execution_count": 10,
   "outputs": [
    {
     "name": "stdout",
     "output_type": "stream",
     "text": [
      "Mean:  19302241.366085835\n",
      "Median:  76000.0\n"
     ]
    }
   ],
   "source": [
    "sueldosNetos = np.genfromtxt(\n",
    "    '84217-datos.csv',\n",
    "    dtype = 'int',\n",
    "    delimiter = ',',\n",
    "    usecols = 0,\n",
    "    skip_header = 1,\n",
    "    filling_values = 0\n",
    ")\n",
    "\n",
    "print(\"Mean: \", sueldosNetos.mean())\n",
    "print(\"Median: \", np.median(sueldosNetos))"
   ],
   "metadata": {
    "collapsed": false,
    "pycharm": {
     "name": "#%%\n"
    }
   }
  }
 ],
 "metadata": {
  "kernelspec": {
   "display_name": "Python 3",
   "language": "python",
   "name": "python3"
  },
  "language_info": {
   "codemirror_mode": {
    "name": "ipython",
    "version": 2
   },
   "file_extension": ".py",
   "mimetype": "text/x-python",
   "name": "python",
   "nbconvert_exporter": "python",
   "pygments_lexer": "ipython2",
   "version": "2.7.6"
  }
 },
 "nbformat": 4,
 "nbformat_minor": 0
}