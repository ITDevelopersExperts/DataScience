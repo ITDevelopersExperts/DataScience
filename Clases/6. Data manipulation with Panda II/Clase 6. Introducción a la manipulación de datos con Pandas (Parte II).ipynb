{
 "cells": [
  {
   "cell_type": "markdown",
   "id": "b512eac6",
   "metadata": {},
   "source": [
    "# **CODERHOUSE DS - 22745**\n",
    "## Clase 6. Introducción a la manipulación de datos con Pandas (Parte II)"
   ]
  },
  {
   "cell_type": "markdown",
   "id": "75ef7f96",
   "metadata": {},
   "source": [
    "## Objetivos\n",
    "\n",
    "Al final de esta sesión habrás:\n",
    "\n",
    "**1.** Conocer las estructuras de datos en `pandas`. <br>\n",
    "**2.** Comprender el uso de `pandas` para la manipulación de grandes volúmenes de datos. <br>"
   ]
  },
  {
   "cell_type": "markdown",
   "id": "cb01fc94",
   "metadata": {},
   "source": [
    "## 1. Librería `pandas`\n",
    "\n",
    "En la sesión anterior, utilizamos el paquete `pandas` asd"
   ]
  },
  {
   "cell_type": "code",
   "execution_count": 2,
   "id": "d8c99f95",
   "metadata": {},
   "outputs": [],
   "source": [
    "import pandas as pd"
   ]
  },
  {
   "cell_type": "markdown",
   "id": "13827d95",
   "metadata": {},
   "source": [
    "### 1.1. Lectura de archivos\n",
    "\n",
    "A diferencia del paquete `numpy`, la librería `pandas` permite manipular información de diversas fuentes. Con invocar un función, es posible transformar estas fuentes en objetos `Dataframe` dentro del entorno de Python.<br>"
   ]
  },
  {
   "cell_type": "markdown",
   "id": "2bb5715d",
   "metadata": {},
   "source": [
    "#### Importar archivos en formato `.csv`\n",
    "\n",
    "Los archivos delimitados por comas o 'csv' son uno de los formatos de archivos más comunes en el procesamiento de datos."
   ]
  },
  {
   "cell_type": "code",
   "execution_count": 5,
   "id": "ddeb1e86",
   "metadata": {},
   "outputs": [
    {
     "data": {
      "text/plain": "    Year    Jan    Feb    Mar     Apr     May      Jun      Jul      Aug  \\\n0   1965  0.029  0.069  0.000  21.667  17.859  102.111  606.071  402.521   \n1   1966  0.905  0.000  0.000   2.981  63.008   94.088  481.942   59.386   \n2   1967  0.248  3.390  1.320  13.482  11.116  251.314  780.006  181.069   \n3   1968  0.318  3.035  1.704  23.307   7.441  179.872  379.354  171.979   \n4   1969  0.248  2.524  0.334   4.569   6.213  393.682  678.354  397.335   \n5   1970  0.070  0.000  0.001  16.218  68.036  300.546  330.502  283.476   \n6   1971  0.000  0.000  0.000   0.812  57.691  297.187  122.195  372.693   \n7   1972  0.000  0.029  0.000   5.982  19.101  132.413  338.484   68.741   \n8   1973  0.000  2.969  0.234   3.925  14.978  304.484  696.024  256.932   \n9   1974  0.000  0.000  6.427  16.864  51.209  148.697  405.359  319.651   \n10  1975  0.333  0.585  0.000   0.061  30.651  359.369  474.143  404.372   \n11  1976  0.000  0.000  5.993   4.454   3.577  773.737  545.379  436.912   \n12  1977  0.000  2.981  3.289   4.432  32.130  319.716  407.246  129.678   \n13  1978  0.061  4.197  4.004  44.623  52.950  403.860  192.399  239.066   \n14  1979  0.000  0.386  3.343   0.126   6.860  342.324  403.925  451.153   \n15  1980  0.008  0.000  8.329  28.764   4.816  349.975  344.268  404.191   \n16  1981  2.257  2.121  0.445  10.817  17.193  360.788  507.155  217.037   \n17  1982  0.000  0.560  0.000  14.585  50.468  145.343  186.691  194.307   \n18  1983  0.395  0.000  0.000   0.061   1.056  225.847  390.041  537.764   \n19  1984  0.000  0.391  5.772   4.997   0.508  367.058  621.607  138.006   \n20  1985  0.025  0.000  0.922  11.512   6.458  234.930  325.191  297.802   \n21  1986  0.000  1.229  0.000   4.567  22.547  635.977  202.570  247.395   \n22  1987  3.013  8.410  1.367   3.864  80.539  200.950  172.864  477.113   \n23  1988  0.000  0.000  0.000  43.570  12.862  186.431  740.613  211.781   \n24  1989  0.008  0.000  9.619  20.774  20.176  425.984  484.451  177.257   \n25  1990  0.004  0.531  0.789   0.274  78.384  423.314  583.557  451.707   \n26  1991  0.004  0.071  0.972  27.964  30.405  565.900  479.719  193.423   \n27  1992  0.000  0.000  0.000   3.165   9.580  227.180  321.551  428.764   \n28  1993  0.000  0.078  1.211   2.062   3.248  234.068  450.088  150.278   \n29  1994  0.879  0.325  2.415  16.823  33.378  749.030  707.986  230.898   \n30  1995  0.695  0.000  1.770  25.949  23.964  163.515  501.461  114.206   \n31  1996  0.016  2.779  0.087   6.318   5.134  453.607  558.586  212.489   \n32  1997  1.284  0.000  0.747  23.912   4.664  673.831  422.913  541.579   \n33  1998  0.008  2.671  0.073   0.377  15.717  238.609  590.663  362.357   \n34  1999  0.000  1.431  0.000   0.642  35.828  415.471  277.137   98.616   \n35  2000  0.000  0.170  0.000   1.193  26.237  371.328  265.417  220.814   \n36  2001  0.147  0.000  2.178   1.528   7.860  247.982  279.547  189.404   \n37  2002  0.231  0.911  0.388  53.266  18.430  509.145   84.936  257.205   \n\n        Sep      Oct      Nov     Dec  \n0    69.511    5.249   16.232  22.075  \n1   150.624    1.308   41.214   4.132  \n2   183.757   50.404    8.393  37.685  \n3   219.884   73.997   23.326   2.020  \n4   205.413   24.014   24.385   1.951  \n5   158.640  115.758    0.260   0.000  \n6   286.056   39.424    0.554   0.000  \n7   120.415    1.078   24.089   0.143  \n8   183.206  101.805    5.516   0.000  \n9   288.533  188.876    0.260   0.000  \n10  400.001  105.560    2.763   0.000  \n11  108.459   13.611   44.887   4.158  \n12   89.150   83.193  122.809   7.530  \n13  139.119   26.711   60.996   0.597  \n14  440.381   19.084  101.597   0.008  \n15   94.127   10.826   15.533   7.348  \n16  361.165   80.018    3.715   0.050  \n17  239.402   49.257   62.474   0.000  \n18  428.050   30.771    1.008   1.955  \n19  229.276  167.164    3.786   0.396  \n20   88.877  139.919  108.561   0.655  \n21  105.095    3.746    7.457  37.386  \n22   44.574  150.179   18.281  36.845  \n23  613.522   12.375    0.458   1.037  \n24  236.803   23.424    0.585   0.943  \n25   69.182  115.349   41.888   1.315  \n26  178.727    4.135   15.936   0.000  \n27  287.582   40.079    5.982   0.000  \n28  101.928  225.904    6.240  35.147  \n29  115.509  116.348   14.098   0.000  \n30  288.262   84.359    4.866   0.021  \n31  203.642  176.471   12.202   0.000  \n32   60.477   31.050   65.392  18.991  \n33  243.444   96.324   52.965   0.035  \n34  225.962  180.300    0.263   0.033  \n35  147.196   38.246   15.274   8.187  \n36  158.025  135.518   23.633   0.003  \n37   78.269   21.486    0.614   0.000  ",
      "text/html": "<div>\n<style scoped>\n    .dataframe tbody tr th:only-of-type {\n        vertical-align: middle;\n    }\n\n    .dataframe tbody tr th {\n        vertical-align: top;\n    }\n\n    .dataframe thead th {\n        text-align: right;\n    }\n</style>\n<table border=\"1\" class=\"dataframe\">\n  <thead>\n    <tr style=\"text-align: right;\">\n      <th></th>\n      <th>Year</th>\n      <th>Jan</th>\n      <th>Feb</th>\n      <th>Mar</th>\n      <th>Apr</th>\n      <th>May</th>\n      <th>Jun</th>\n      <th>Jul</th>\n      <th>Aug</th>\n      <th>Sep</th>\n      <th>Oct</th>\n      <th>Nov</th>\n      <th>Dec</th>\n    </tr>\n  </thead>\n  <tbody>\n    <tr>\n      <th>0</th>\n      <td>1965</td>\n      <td>0.029</td>\n      <td>0.069</td>\n      <td>0.000</td>\n      <td>21.667</td>\n      <td>17.859</td>\n      <td>102.111</td>\n      <td>606.071</td>\n      <td>402.521</td>\n      <td>69.511</td>\n      <td>5.249</td>\n      <td>16.232</td>\n      <td>22.075</td>\n    </tr>\n    <tr>\n      <th>1</th>\n      <td>1966</td>\n      <td>0.905</td>\n      <td>0.000</td>\n      <td>0.000</td>\n      <td>2.981</td>\n      <td>63.008</td>\n      <td>94.088</td>\n      <td>481.942</td>\n      <td>59.386</td>\n      <td>150.624</td>\n      <td>1.308</td>\n      <td>41.214</td>\n      <td>4.132</td>\n    </tr>\n    <tr>\n      <th>2</th>\n      <td>1967</td>\n      <td>0.248</td>\n      <td>3.390</td>\n      <td>1.320</td>\n      <td>13.482</td>\n      <td>11.116</td>\n      <td>251.314</td>\n      <td>780.006</td>\n      <td>181.069</td>\n      <td>183.757</td>\n      <td>50.404</td>\n      <td>8.393</td>\n      <td>37.685</td>\n    </tr>\n    <tr>\n      <th>3</th>\n      <td>1968</td>\n      <td>0.318</td>\n      <td>3.035</td>\n      <td>1.704</td>\n      <td>23.307</td>\n      <td>7.441</td>\n      <td>179.872</td>\n      <td>379.354</td>\n      <td>171.979</td>\n      <td>219.884</td>\n      <td>73.997</td>\n      <td>23.326</td>\n      <td>2.020</td>\n    </tr>\n    <tr>\n      <th>4</th>\n      <td>1969</td>\n      <td>0.248</td>\n      <td>2.524</td>\n      <td>0.334</td>\n      <td>4.569</td>\n      <td>6.213</td>\n      <td>393.682</td>\n      <td>678.354</td>\n      <td>397.335</td>\n      <td>205.413</td>\n      <td>24.014</td>\n      <td>24.385</td>\n      <td>1.951</td>\n    </tr>\n    <tr>\n      <th>5</th>\n      <td>1970</td>\n      <td>0.070</td>\n      <td>0.000</td>\n      <td>0.001</td>\n      <td>16.218</td>\n      <td>68.036</td>\n      <td>300.546</td>\n      <td>330.502</td>\n      <td>283.476</td>\n      <td>158.640</td>\n      <td>115.758</td>\n      <td>0.260</td>\n      <td>0.000</td>\n    </tr>\n    <tr>\n      <th>6</th>\n      <td>1971</td>\n      <td>0.000</td>\n      <td>0.000</td>\n      <td>0.000</td>\n      <td>0.812</td>\n      <td>57.691</td>\n      <td>297.187</td>\n      <td>122.195</td>\n      <td>372.693</td>\n      <td>286.056</td>\n      <td>39.424</td>\n      <td>0.554</td>\n      <td>0.000</td>\n    </tr>\n    <tr>\n      <th>7</th>\n      <td>1972</td>\n      <td>0.000</td>\n      <td>0.029</td>\n      <td>0.000</td>\n      <td>5.982</td>\n      <td>19.101</td>\n      <td>132.413</td>\n      <td>338.484</td>\n      <td>68.741</td>\n      <td>120.415</td>\n      <td>1.078</td>\n      <td>24.089</td>\n      <td>0.143</td>\n    </tr>\n    <tr>\n      <th>8</th>\n      <td>1973</td>\n      <td>0.000</td>\n      <td>2.969</td>\n      <td>0.234</td>\n      <td>3.925</td>\n      <td>14.978</td>\n      <td>304.484</td>\n      <td>696.024</td>\n      <td>256.932</td>\n      <td>183.206</td>\n      <td>101.805</td>\n      <td>5.516</td>\n      <td>0.000</td>\n    </tr>\n    <tr>\n      <th>9</th>\n      <td>1974</td>\n      <td>0.000</td>\n      <td>0.000</td>\n      <td>6.427</td>\n      <td>16.864</td>\n      <td>51.209</td>\n      <td>148.697</td>\n      <td>405.359</td>\n      <td>319.651</td>\n      <td>288.533</td>\n      <td>188.876</td>\n      <td>0.260</td>\n      <td>0.000</td>\n    </tr>\n    <tr>\n      <th>10</th>\n      <td>1975</td>\n      <td>0.333</td>\n      <td>0.585</td>\n      <td>0.000</td>\n      <td>0.061</td>\n      <td>30.651</td>\n      <td>359.369</td>\n      <td>474.143</td>\n      <td>404.372</td>\n      <td>400.001</td>\n      <td>105.560</td>\n      <td>2.763</td>\n      <td>0.000</td>\n    </tr>\n    <tr>\n      <th>11</th>\n      <td>1976</td>\n      <td>0.000</td>\n      <td>0.000</td>\n      <td>5.993</td>\n      <td>4.454</td>\n      <td>3.577</td>\n      <td>773.737</td>\n      <td>545.379</td>\n      <td>436.912</td>\n      <td>108.459</td>\n      <td>13.611</td>\n      <td>44.887</td>\n      <td>4.158</td>\n    </tr>\n    <tr>\n      <th>12</th>\n      <td>1977</td>\n      <td>0.000</td>\n      <td>2.981</td>\n      <td>3.289</td>\n      <td>4.432</td>\n      <td>32.130</td>\n      <td>319.716</td>\n      <td>407.246</td>\n      <td>129.678</td>\n      <td>89.150</td>\n      <td>83.193</td>\n      <td>122.809</td>\n      <td>7.530</td>\n    </tr>\n    <tr>\n      <th>13</th>\n      <td>1978</td>\n      <td>0.061</td>\n      <td>4.197</td>\n      <td>4.004</td>\n      <td>44.623</td>\n      <td>52.950</td>\n      <td>403.860</td>\n      <td>192.399</td>\n      <td>239.066</td>\n      <td>139.119</td>\n      <td>26.711</td>\n      <td>60.996</td>\n      <td>0.597</td>\n    </tr>\n    <tr>\n      <th>14</th>\n      <td>1979</td>\n      <td>0.000</td>\n      <td>0.386</td>\n      <td>3.343</td>\n      <td>0.126</td>\n      <td>6.860</td>\n      <td>342.324</td>\n      <td>403.925</td>\n      <td>451.153</td>\n      <td>440.381</td>\n      <td>19.084</td>\n      <td>101.597</td>\n      <td>0.008</td>\n    </tr>\n    <tr>\n      <th>15</th>\n      <td>1980</td>\n      <td>0.008</td>\n      <td>0.000</td>\n      <td>8.329</td>\n      <td>28.764</td>\n      <td>4.816</td>\n      <td>349.975</td>\n      <td>344.268</td>\n      <td>404.191</td>\n      <td>94.127</td>\n      <td>10.826</td>\n      <td>15.533</td>\n      <td>7.348</td>\n    </tr>\n    <tr>\n      <th>16</th>\n      <td>1981</td>\n      <td>2.257</td>\n      <td>2.121</td>\n      <td>0.445</td>\n      <td>10.817</td>\n      <td>17.193</td>\n      <td>360.788</td>\n      <td>507.155</td>\n      <td>217.037</td>\n      <td>361.165</td>\n      <td>80.018</td>\n      <td>3.715</td>\n      <td>0.050</td>\n    </tr>\n    <tr>\n      <th>17</th>\n      <td>1982</td>\n      <td>0.000</td>\n      <td>0.560</td>\n      <td>0.000</td>\n      <td>14.585</td>\n      <td>50.468</td>\n      <td>145.343</td>\n      <td>186.691</td>\n      <td>194.307</td>\n      <td>239.402</td>\n      <td>49.257</td>\n      <td>62.474</td>\n      <td>0.000</td>\n    </tr>\n    <tr>\n      <th>18</th>\n      <td>1983</td>\n      <td>0.395</td>\n      <td>0.000</td>\n      <td>0.000</td>\n      <td>0.061</td>\n      <td>1.056</td>\n      <td>225.847</td>\n      <td>390.041</td>\n      <td>537.764</td>\n      <td>428.050</td>\n      <td>30.771</td>\n      <td>1.008</td>\n      <td>1.955</td>\n    </tr>\n    <tr>\n      <th>19</th>\n      <td>1984</td>\n      <td>0.000</td>\n      <td>0.391</td>\n      <td>5.772</td>\n      <td>4.997</td>\n      <td>0.508</td>\n      <td>367.058</td>\n      <td>621.607</td>\n      <td>138.006</td>\n      <td>229.276</td>\n      <td>167.164</td>\n      <td>3.786</td>\n      <td>0.396</td>\n    </tr>\n    <tr>\n      <th>20</th>\n      <td>1985</td>\n      <td>0.025</td>\n      <td>0.000</td>\n      <td>0.922</td>\n      <td>11.512</td>\n      <td>6.458</td>\n      <td>234.930</td>\n      <td>325.191</td>\n      <td>297.802</td>\n      <td>88.877</td>\n      <td>139.919</td>\n      <td>108.561</td>\n      <td>0.655</td>\n    </tr>\n    <tr>\n      <th>21</th>\n      <td>1986</td>\n      <td>0.000</td>\n      <td>1.229</td>\n      <td>0.000</td>\n      <td>4.567</td>\n      <td>22.547</td>\n      <td>635.977</td>\n      <td>202.570</td>\n      <td>247.395</td>\n      <td>105.095</td>\n      <td>3.746</td>\n      <td>7.457</td>\n      <td>37.386</td>\n    </tr>\n    <tr>\n      <th>22</th>\n      <td>1987</td>\n      <td>3.013</td>\n      <td>8.410</td>\n      <td>1.367</td>\n      <td>3.864</td>\n      <td>80.539</td>\n      <td>200.950</td>\n      <td>172.864</td>\n      <td>477.113</td>\n      <td>44.574</td>\n      <td>150.179</td>\n      <td>18.281</td>\n      <td>36.845</td>\n    </tr>\n    <tr>\n      <th>23</th>\n      <td>1988</td>\n      <td>0.000</td>\n      <td>0.000</td>\n      <td>0.000</td>\n      <td>43.570</td>\n      <td>12.862</td>\n      <td>186.431</td>\n      <td>740.613</td>\n      <td>211.781</td>\n      <td>613.522</td>\n      <td>12.375</td>\n      <td>0.458</td>\n      <td>1.037</td>\n    </tr>\n    <tr>\n      <th>24</th>\n      <td>1989</td>\n      <td>0.008</td>\n      <td>0.000</td>\n      <td>9.619</td>\n      <td>20.774</td>\n      <td>20.176</td>\n      <td>425.984</td>\n      <td>484.451</td>\n      <td>177.257</td>\n      <td>236.803</td>\n      <td>23.424</td>\n      <td>0.585</td>\n      <td>0.943</td>\n    </tr>\n    <tr>\n      <th>25</th>\n      <td>1990</td>\n      <td>0.004</td>\n      <td>0.531</td>\n      <td>0.789</td>\n      <td>0.274</td>\n      <td>78.384</td>\n      <td>423.314</td>\n      <td>583.557</td>\n      <td>451.707</td>\n      <td>69.182</td>\n      <td>115.349</td>\n      <td>41.888</td>\n      <td>1.315</td>\n    </tr>\n    <tr>\n      <th>26</th>\n      <td>1991</td>\n      <td>0.004</td>\n      <td>0.071</td>\n      <td>0.972</td>\n      <td>27.964</td>\n      <td>30.405</td>\n      <td>565.900</td>\n      <td>479.719</td>\n      <td>193.423</td>\n      <td>178.727</td>\n      <td>4.135</td>\n      <td>15.936</td>\n      <td>0.000</td>\n    </tr>\n    <tr>\n      <th>27</th>\n      <td>1992</td>\n      <td>0.000</td>\n      <td>0.000</td>\n      <td>0.000</td>\n      <td>3.165</td>\n      <td>9.580</td>\n      <td>227.180</td>\n      <td>321.551</td>\n      <td>428.764</td>\n      <td>287.582</td>\n      <td>40.079</td>\n      <td>5.982</td>\n      <td>0.000</td>\n    </tr>\n    <tr>\n      <th>28</th>\n      <td>1993</td>\n      <td>0.000</td>\n      <td>0.078</td>\n      <td>1.211</td>\n      <td>2.062</td>\n      <td>3.248</td>\n      <td>234.068</td>\n      <td>450.088</td>\n      <td>150.278</td>\n      <td>101.928</td>\n      <td>225.904</td>\n      <td>6.240</td>\n      <td>35.147</td>\n    </tr>\n    <tr>\n      <th>29</th>\n      <td>1994</td>\n      <td>0.879</td>\n      <td>0.325</td>\n      <td>2.415</td>\n      <td>16.823</td>\n      <td>33.378</td>\n      <td>749.030</td>\n      <td>707.986</td>\n      <td>230.898</td>\n      <td>115.509</td>\n      <td>116.348</td>\n      <td>14.098</td>\n      <td>0.000</td>\n    </tr>\n    <tr>\n      <th>30</th>\n      <td>1995</td>\n      <td>0.695</td>\n      <td>0.000</td>\n      <td>1.770</td>\n      <td>25.949</td>\n      <td>23.964</td>\n      <td>163.515</td>\n      <td>501.461</td>\n      <td>114.206</td>\n      <td>288.262</td>\n      <td>84.359</td>\n      <td>4.866</td>\n      <td>0.021</td>\n    </tr>\n    <tr>\n      <th>31</th>\n      <td>1996</td>\n      <td>0.016</td>\n      <td>2.779</td>\n      <td>0.087</td>\n      <td>6.318</td>\n      <td>5.134</td>\n      <td>453.607</td>\n      <td>558.586</td>\n      <td>212.489</td>\n      <td>203.642</td>\n      <td>176.471</td>\n      <td>12.202</td>\n      <td>0.000</td>\n    </tr>\n    <tr>\n      <th>32</th>\n      <td>1997</td>\n      <td>1.284</td>\n      <td>0.000</td>\n      <td>0.747</td>\n      <td>23.912</td>\n      <td>4.664</td>\n      <td>673.831</td>\n      <td>422.913</td>\n      <td>541.579</td>\n      <td>60.477</td>\n      <td>31.050</td>\n      <td>65.392</td>\n      <td>18.991</td>\n    </tr>\n    <tr>\n      <th>33</th>\n      <td>1998</td>\n      <td>0.008</td>\n      <td>2.671</td>\n      <td>0.073</td>\n      <td>0.377</td>\n      <td>15.717</td>\n      <td>238.609</td>\n      <td>590.663</td>\n      <td>362.357</td>\n      <td>243.444</td>\n      <td>96.324</td>\n      <td>52.965</td>\n      <td>0.035</td>\n    </tr>\n    <tr>\n      <th>34</th>\n      <td>1999</td>\n      <td>0.000</td>\n      <td>1.431</td>\n      <td>0.000</td>\n      <td>0.642</td>\n      <td>35.828</td>\n      <td>415.471</td>\n      <td>277.137</td>\n      <td>98.616</td>\n      <td>225.962</td>\n      <td>180.300</td>\n      <td>0.263</td>\n      <td>0.033</td>\n    </tr>\n    <tr>\n      <th>35</th>\n      <td>2000</td>\n      <td>0.000</td>\n      <td>0.170</td>\n      <td>0.000</td>\n      <td>1.193</td>\n      <td>26.237</td>\n      <td>371.328</td>\n      <td>265.417</td>\n      <td>220.814</td>\n      <td>147.196</td>\n      <td>38.246</td>\n      <td>15.274</td>\n      <td>8.187</td>\n    </tr>\n    <tr>\n      <th>36</th>\n      <td>2001</td>\n      <td>0.147</td>\n      <td>0.000</td>\n      <td>2.178</td>\n      <td>1.528</td>\n      <td>7.860</td>\n      <td>247.982</td>\n      <td>279.547</td>\n      <td>189.404</td>\n      <td>158.025</td>\n      <td>135.518</td>\n      <td>23.633</td>\n      <td>0.003</td>\n    </tr>\n    <tr>\n      <th>37</th>\n      <td>2002</td>\n      <td>0.231</td>\n      <td>0.911</td>\n      <td>0.388</td>\n      <td>53.266</td>\n      <td>18.430</td>\n      <td>509.145</td>\n      <td>84.936</td>\n      <td>257.205</td>\n      <td>78.269</td>\n      <td>21.486</td>\n      <td>0.614</td>\n      <td>0.000</td>\n    </tr>\n  </tbody>\n</table>\n</div>"
     },
     "execution_count": 5,
     "metadata": {},
     "output_type": "execute_result"
    }
   ],
   "source": [
    "pd.read_csv('dataInput/pune_1965_to_2002.csv')"
   ]
  },
  {
   "cell_type": "markdown",
   "id": "6ffc9f1f",
   "metadata": {},
   "source": [
    "#### Formato `.csv` con delimitador `;`\n",
    "\n",
    "Dentro de los archivos de ejmeplo hay uno denominado `\"DiccionarioPaises.csv\"` que se diferencia del anterior dado que su separador no es una `,` sino un `;`. Esto se puede solucionar muy fácilmente usando `pandas` al establecer el delimitador.<br>\n",
    "    \n",
    "    read_csv( \"nombre_archivo.csv\", delimiter = ';)"
   ]
  },
  {
   "cell_type": "code",
   "execution_count": 6,
   "id": "b3ab9a9a",
   "metadata": {},
   "outputs": [
    {
     "data": {
      "text/plain": "    País en español País en inglés\n0        Afganistán    Afghanistan\n1           Albania        Albania\n2          Alemania        Germany\n3           Andorra        Andorra\n4            Angola         Angola\n..              ...            ...\n204         Vietnam        Vietnam\n205           Yemen          Yemen\n206          Yibuti       Djibouti\n207          Zambia         Zambia\n208        Zimbabue       Zimbabwe\n\n[209 rows x 2 columns]",
      "text/html": "<div>\n<style scoped>\n    .dataframe tbody tr th:only-of-type {\n        vertical-align: middle;\n    }\n\n    .dataframe tbody tr th {\n        vertical-align: top;\n    }\n\n    .dataframe thead th {\n        text-align: right;\n    }\n</style>\n<table border=\"1\" class=\"dataframe\">\n  <thead>\n    <tr style=\"text-align: right;\">\n      <th></th>\n      <th>País en español</th>\n      <th>País en inglés</th>\n    </tr>\n  </thead>\n  <tbody>\n    <tr>\n      <th>0</th>\n      <td>Afganistán</td>\n      <td>Afghanistan</td>\n    </tr>\n    <tr>\n      <th>1</th>\n      <td>Albania</td>\n      <td>Albania</td>\n    </tr>\n    <tr>\n      <th>2</th>\n      <td>Alemania</td>\n      <td>Germany</td>\n    </tr>\n    <tr>\n      <th>3</th>\n      <td>Andorra</td>\n      <td>Andorra</td>\n    </tr>\n    <tr>\n      <th>4</th>\n      <td>Angola</td>\n      <td>Angola</td>\n    </tr>\n    <tr>\n      <th>...</th>\n      <td>...</td>\n      <td>...</td>\n    </tr>\n    <tr>\n      <th>204</th>\n      <td>Vietnam</td>\n      <td>Vietnam</td>\n    </tr>\n    <tr>\n      <th>205</th>\n      <td>Yemen</td>\n      <td>Yemen</td>\n    </tr>\n    <tr>\n      <th>206</th>\n      <td>Yibuti</td>\n      <td>Djibouti</td>\n    </tr>\n    <tr>\n      <th>207</th>\n      <td>Zambia</td>\n      <td>Zambia</td>\n    </tr>\n    <tr>\n      <th>208</th>\n      <td>Zimbabue</td>\n      <td>Zimbabwe</td>\n    </tr>\n  </tbody>\n</table>\n<p>209 rows × 2 columns</p>\n</div>"
     },
     "execution_count": 6,
     "metadata": {},
     "output_type": "execute_result"
    }
   ],
   "source": [
    "pd.read_csv(\"dataInput/DiccionarioPaises.csv\", encoding = \"UTF-8\", delimiter = \";\")"
   ]
  },
  {
   "cell_type": "markdown",
   "id": "cc80eb05",
   "metadata": {},
   "source": [
    "#### Importación de archivos en formato Excel `.xls` o `.xlsx`\n",
    "\n",
    "Quienes apenas empiezan a incursionar en el mundo de la analítica de datos, pueden haber tenido experiencia previa con archivos de MS-Excel, para este ejercicio se plantea el documento `\"ArchivoSoporteS3TU1.xlsx\"`, el cuál puede ser fácilmente importado mediante `pandas` con una estructura similar a la siguiente:<br>\n",
    "    \n",
    "    read_excel(file = \"nombre_archivo.xlsx\")"
   ]
  },
  {
   "cell_type": "code",
   "execution_count": 12,
   "id": "6fb91d44",
   "metadata": {},
   "outputs": [
    {
     "ename": "TypeError",
     "evalue": "read_excel() got an unexpected keyword argument 'file'",
     "output_type": "error",
     "traceback": [
      "\u001B[0;31m---------------------------------------------------------------------------\u001B[0m",
      "\u001B[0;31mTypeError\u001B[0m                                 Traceback (most recent call last)",
      "\u001B[0;32m/tmp/ipykernel_95213/3134379283.py\u001B[0m in \u001B[0;36m<module>\u001B[0;34m\u001B[0m\n\u001B[1;32m      1\u001B[0m \u001B[0;31m# TODO: DOES NOT WORK\u001B[0m\u001B[0;34m\u001B[0m\u001B[0;34m\u001B[0m\u001B[0m\n\u001B[0;32m----> 2\u001B[0;31m \u001B[0mpd\u001B[0m\u001B[0;34m.\u001B[0m\u001B[0mread_excel\u001B[0m\u001B[0;34m(\u001B[0m\u001B[0mfile\u001B[0m \u001B[0;34m=\u001B[0m \u001B[0;34m\"dataInput/ArchivoSoporteS3TU1.xlsx\"\u001B[0m\u001B[0;34m)\u001B[0m\u001B[0;34m\u001B[0m\u001B[0;34m\u001B[0m\u001B[0m\n\u001B[0m\u001B[1;32m      3\u001B[0m \u001B[0;34m\u001B[0m\u001B[0m\n",
      "\u001B[0;32m~/Projects/-DataScience/Training/CoderHouse/.conda/envs/CoderHouse/lib/python3.9/site-packages/pandas/util/_decorators.py\u001B[0m in \u001B[0;36mwrapper\u001B[0;34m(*args, **kwargs)\u001B[0m\n\u001B[1;32m    309\u001B[0m                     \u001B[0mstacklevel\u001B[0m\u001B[0;34m=\u001B[0m\u001B[0mstacklevel\u001B[0m\u001B[0;34m,\u001B[0m\u001B[0;34m\u001B[0m\u001B[0;34m\u001B[0m\u001B[0m\n\u001B[1;32m    310\u001B[0m                 )\n\u001B[0;32m--> 311\u001B[0;31m             \u001B[0;32mreturn\u001B[0m \u001B[0mfunc\u001B[0m\u001B[0;34m(\u001B[0m\u001B[0;34m*\u001B[0m\u001B[0margs\u001B[0m\u001B[0;34m,\u001B[0m \u001B[0;34m**\u001B[0m\u001B[0mkwargs\u001B[0m\u001B[0;34m)\u001B[0m\u001B[0;34m\u001B[0m\u001B[0;34m\u001B[0m\u001B[0m\n\u001B[0m\u001B[1;32m    312\u001B[0m \u001B[0;34m\u001B[0m\u001B[0m\n\u001B[1;32m    313\u001B[0m         \u001B[0;32mreturn\u001B[0m \u001B[0mwrapper\u001B[0m\u001B[0;34m\u001B[0m\u001B[0;34m\u001B[0m\u001B[0m\n",
      "\u001B[0;31mTypeError\u001B[0m: read_excel() got an unexpected keyword argument 'file'"
     ]
    }
   ],
   "source": [
    "# TODO: DOES NOT WORK\n",
    "pd.read_excel(file = \"dataInput/ArchivoSoporteS3TU1.xlsx\")"
   ]
  },
  {
   "cell_type": "markdown",
   "id": "d0d77daa",
   "metadata": {},
   "source": [
    "#### Formato `.dta`\n",
    "\n",
    "Uno de los archivos de ejemplo fué llamado `\"pooled_data_public.dta\"` que contiene la base de datos completa del BID. Este archivo, al ser de tipo *.dta*, requiere de una función de `pandas` para ser importado a Python.<br>\n",
    "    \n",
    "    read_stata(file = \"nombre_archivo.dta\")\n",
    "\n",
    "Es un formato interesante ya que excel soporta como maximo hasta el millon y medio de tuplas aprox."
   ]
  },
  {
   "cell_type": "code",
   "execution_count": null,
   "id": "269ce8c0",
   "metadata": {},
   "outputs": [],
   "source": [
    "pd.read_stata(\"pooled_data_public.dta\", index_col = 'id')"
   ]
  },
  {
   "cell_type": "markdown",
   "id": "66e8d0ee",
   "metadata": {},
   "source": [
    "### 1.2. Exploración de bases de datos\n",
    "\n",
    "Explorar bases de datos es uno de los pasos esenciales en cualquier proyecto de analítica de datos, pues nos permite identificar aspectos útiles del caso de estudio.<br>"
   ]
  },
  {
   "cell_type": "markdown",
   "id": "0d459905",
   "metadata": {},
   "source": [
    "#### Establecer un índice usando el método set_index()\n",
    "\n",
    "Consideremos nuevamente el archivo `.csv ` del inicio del Notebook. Este corresponde a mediciones de precipitaciones o lluvias (en milímetros). ¿Cómo podríamos indicar a Python que la columna `year` debería ser leída como un índice?"
   ]
  },
  {
   "cell_type": "code",
   "execution_count": null,
   "id": "8655fe96",
   "metadata": {},
   "outputs": [],
   "source": [
    "df = pd.read_csv('dataInput/pune_1965_to_2002.csv')\n",
    "df = df.set_index('Year')\n",
    "df"
   ]
  },
  {
   "cell_type": "markdown",
   "id": "5deb9865",
   "metadata": {},
   "source": [
    "#### Métodos comunes para inspeccionar Dataframes\n",
    "\n",
    "A continuación veremos algunos de los métodos que tiene el paquete `pandas` para inspeccionar rápidamente los datos a disposición, que resultan de mucha utilidad para conocer las caracterísitcas de la información cargada."
   ]
  },
  {
   "cell_type": "markdown",
   "id": "e6d97b7d",
   "metadata": {},
   "source": [
    "* `head`:\n",
    "muestra las primeras n filas."
   ]
  },
  {
   "cell_type": "code",
   "execution_count": null,
   "id": "98d759af",
   "metadata": {},
   "outputs": [],
   "source": [
    "df.head(5)"
   ]
  },
  {
   "cell_type": "markdown",
   "id": "42e8684a",
   "metadata": {},
   "source": [
    "* `tail`:\n",
    "muestra las últimas n filas."
   ]
  },
  {
   "cell_type": "code",
   "execution_count": null,
   "id": "23656291",
   "metadata": {},
   "outputs": [],
   "source": [
    "df.tail(5)"
   ]
  },
  {
   "cell_type": "markdown",
   "id": "04ffa312",
   "metadata": {},
   "source": [
    "* `columns`: muestra los nombres de las columnas del `DataFrame`."
   ]
  },
  {
   "cell_type": "code",
   "execution_count": null,
   "id": "3f59b807",
   "metadata": {},
   "outputs": [],
   "source": [
    "df.columns"
   ]
  },
  {
   "cell_type": "markdown",
   "id": "8315115e",
   "metadata": {},
   "source": [
    "* `info`: muestra la información general del `DataFrame`."
   ]
  },
  {
   "cell_type": "code",
   "execution_count": null,
   "id": "0a52237a",
   "metadata": {},
   "outputs": [],
   "source": [
    "df.info()"
   ]
  },
  {
   "cell_type": "markdown",
   "id": "840b3dd2",
   "metadata": {},
   "source": [
    "* `describe`: muestra medidas de tendencia de las columnas numéricas del `DataFrame`."
   ]
  },
  {
   "cell_type": "code",
   "execution_count": null,
   "id": "ebfa4573",
   "metadata": {},
   "outputs": [],
   "source": [
    "# Descripción de los datos por sus columnas\n",
    "df.describe()"
   ]
  },
  {
   "cell_type": "code",
   "execution_count": null,
   "id": "d9154f67",
   "metadata": {},
   "outputs": [],
   "source": [
    "# Descripción de los datos por sus Índices\n",
    "df.T.describe().round()"
   ]
  },
  {
   "cell_type": "markdown",
   "id": "33b4eb3b",
   "metadata": {},
   "source": [
    "* `dtypes`: muestra el tipo de dato de cada columna del `DataFrame`."
   ]
  },
  {
   "cell_type": "code",
   "execution_count": null,
   "id": "10ba8e64",
   "metadata": {},
   "outputs": [],
   "source": [
    "# Tipos de datos de las columnas del Dataframe\n",
    "df.dtypes"
   ]
  },
  {
   "cell_type": "markdown",
   "id": "b997b0f3",
   "metadata": {},
   "source": [
    "* `unique`: muestra los datos únicos de una columna del `DataFrame`."
   ]
  },
  {
   "cell_type": "code",
   "execution_count": null,
   "id": "4d517fdf",
   "metadata": {
    "scrolled": true
   },
   "outputs": [],
   "source": [
    "# Establecer los valores únicos de la columna Enero\n",
    "df[\"Jan\"].unique()"
   ]
  },
  {
   "cell_type": "markdown",
   "id": "8f6ec17d",
   "metadata": {},
   "source": [
    "* `max`: muestra el valor máximo de una columna o índice de un `DataFrame`."
   ]
  },
  {
   "cell_type": "code",
   "execution_count": null,
   "id": "4e45725e",
   "metadata": {},
   "outputs": [],
   "source": [
    "# Calcular el máximo año del índice\n",
    "df.index.max()"
   ]
  },
  {
   "cell_type": "markdown",
   "id": "37e021e2",
   "metadata": {},
   "source": [
    "* `min`: muestra el valor minimo de una columna o índice de un `DataFrame`."
   ]
  },
  {
   "cell_type": "code",
   "execution_count": null,
   "id": "7b88bc6e",
   "metadata": {},
   "outputs": [],
   "source": [
    "# Calcular el mínimo año del índice\n",
    "df.index.min()"
   ]
  },
  {
   "cell_type": "markdown",
   "id": "c4b4fd83",
   "metadata": {},
   "source": [
    "* `sum`: muestra la suma de todos los valores de una columna en específico."
   ]
  },
  {
   "cell_type": "code",
   "execution_count": null,
   "id": "73e60991",
   "metadata": {},
   "outputs": [],
   "source": [
    "# Suma de los datos de cada mes\n",
    "datos.sum()"
   ]
  },
  {
   "cell_type": "markdown",
   "id": "ae15f504",
   "metadata": {},
   "source": [
    "* `mean`: muestra el promedio de todos los valores de un objetoen específico."
   ]
  },
  {
   "cell_type": "code",
   "execution_count": null,
   "id": "0f67d57f",
   "metadata": {},
   "outputs": [],
   "source": [
    "# Promedio de precipitaciones en cada año\n",
    "datos.mean(axis = 'columns')"
   ]
  },
  {
   "cell_type": "markdown",
   "id": "6228cb66",
   "metadata": {},
   "source": [
    "#### Operaciones con datos `String`\n",
    "\n",
    "A menudo, tendremos que trabajar con datos en forma de Strings, es decir cadenas de caracteres o texto. Para estos ejemplos, usaremos el dataset de presidentes de EEUU."
   ]
  },
  {
   "cell_type": "code",
   "execution_count": null,
   "id": "d9e5c43e",
   "metadata": {},
   "outputs": [],
   "source": [
    "# Leer archivo de datos usando Pandas\n",
    "\n",
    "datos = pd.read_csv(\"us_presidents 2.csv\")\n",
    "datos"
   ]
  },
  {
   "cell_type": "markdown",
   "id": "3bc0cac1",
   "metadata": {},
   "source": [
    "* el método `str.upper()` permite convertir texto a mayúscula"
   ]
  },
  {
   "cell_type": "code",
   "execution_count": null,
   "id": "39749d1b",
   "metadata": {},
   "outputs": [],
   "source": [
    "datos['president'].str.upper()"
   ]
  },
  {
   "cell_type": "markdown",
   "id": "9edd7135",
   "metadata": {},
   "source": [
    "* Usando `str.len()` se puede conocer la longitud total, incluyendo espacios y otros caracteres que puedan aparecer"
   ]
  },
  {
   "cell_type": "code",
   "execution_count": null,
   "id": "0457a893",
   "metadata": {},
   "outputs": [],
   "source": [
    "datos['president'].str.len()"
   ]
  },
  {
   "cell_type": "markdown",
   "id": "8faa622f",
   "metadata": {},
   "source": [
    "* Empleando `str.split()` se convertir los elementos en una lista."
   ]
  },
  {
   "cell_type": "code",
   "execution_count": null,
   "id": "acd2a901",
   "metadata": {},
   "outputs": [],
   "source": [
    "datos['president'].str.split()"
   ]
  },
  {
   "cell_type": "markdown",
   "id": "6d533446",
   "metadata": {},
   "source": [
    "#### Método `Group by`\n",
    "\n",
    "El método groupby permite realizar las siguientes tres operaciones a la vez: \n",
    "* (1) Separar en grupos el `DataFrame` de acuerdo a un criterio.\n",
    "* (2) Aplicar una función a cada grupo. \n",
    "* (3) Combinar los resultados en un nuevo `DataFrame`.\n",
    "\n",
    "La sintaxis para usar groupby es la siguiente:\n",
    "\n",
    "    pandas.DataFrame.groupby(by, axis, level)\n",
    "\n",
    "* **by:** indica el criterio para realizar el paso (1). Puede usarse un diccionario, un `Series`, entre otros.\n",
    "\n",
    "* **axis:** por defecto es 0. <br><br>\n",
    "    * `axis = 1`: indica que vamos a agrupar columnas. <br>\n",
    "    * `axis = 0`: indica que vamos a agrupar filas.<br><br>\n",
    "\n",
    "* **level:** indica por nombre o por posición a cuál de los niveles del índice múltiple se le aplicará el método."
   ]
  },
  {
   "cell_type": "code",
   "execution_count": null,
   "id": "e3bc4578",
   "metadata": {},
   "outputs": [],
   "source": [
    "# Importación de los datos\n",
    "Demografia = pd.read_excel(\"dataInput/ArchivoSoporteS3TU1.xlsx\")\n",
    "Demografia"
   ]
  },
  {
   "cell_type": "code",
   "execution_count": null,
   "id": "82b9a6e2",
   "metadata": {},
   "outputs": [],
   "source": [
    "Demografia.groupby('Ciudad Residencia')['Ingresos'].mean()"
   ]
  },
  {
   "cell_type": "markdown",
   "id": "aa71dce3",
   "metadata": {},
   "source": [
    "### 1.3. Series de Tiempo\n",
    "\n",
    "Son tipos de datos especiales donde el tiempo toma un rol fundamental. Observamos cambios en los valores de la variable a lo largo del tiempo. Si ignoramos esa dimensión temporal, los valores pierden contexto. <br>\n",
    "\n",
    "Python provee tres tipos de datos relacionados al tiempo:\n",
    "* **Timestamp** o marca de tiempo: representan un punto en el tiempo. Por ejemplo, fecha y hora.\n",
    "* **Período**: representan un intervalo de tiempo. Por ejemplo, los minutos transcurridos desde que comenzó la clase hasta ahora.\n",
    "* **Duración**: representa una duración medida en tiempo, pero independientemente del momento en que sucede. Por ejemplo, 15 minutos."
   ]
  },
  {
   "cell_type": "markdown",
   "id": "687f6da1",
   "metadata": {},
   "source": [
    "#### Convertir String a Timestamp"
   ]
  },
  {
   "cell_type": "code",
   "execution_count": null,
   "id": "a1a5fe40",
   "metadata": {},
   "outputs": [],
   "source": [
    "fecha = pd.to_datetime('03/01/2020',dayfirst=True)\n",
    "fecha"
   ]
  },
  {
   "cell_type": "markdown",
   "id": "c9f6c21b",
   "metadata": {},
   "source": [
    "#### Crear un rango de fechas"
   ]
  },
  {
   "cell_type": "code",
   "execution_count": null,
   "id": "e9ef0cbc",
   "metadata": {},
   "outputs": [],
   "source": [
    "fin = pd.to_datetime('10/01/2020',dayfirst=True)\n",
    "fechas_1 = pd.date_range(start=fecha, end=fin)\n",
    "fechas_1"
   ]
  },
  {
   "cell_type": "markdown",
   "id": "b27499d3",
   "metadata": {},
   "source": [
    "#### Periodos de tiempo en rangos (dias)"
   ]
  },
  {
   "cell_type": "code",
   "execution_count": null,
   "id": "20353757",
   "metadata": {},
   "outputs": [],
   "source": [
    "fechas_2 = pd.date_range(start=fecha, periods=8)\n",
    "fechas_2"
   ]
  },
  {
   "cell_type": "markdown",
   "id": "3b1961ba",
   "metadata": {},
   "source": [
    "#### Periodos de tiempo en rangos (meses)"
   ]
  },
  {
   "cell_type": "code",
   "execution_count": null,
   "id": "8fa844ea",
   "metadata": {},
   "outputs": [],
   "source": [
    "fechas_3 = pd.date_range(start= fecha, periods= 8, freq='M')\n",
    "fechas_3"
   ]
  },
  {
   "cell_type": "markdown",
   "id": "e7014a1a",
   "metadata": {},
   "source": [
    "#### Operaciones con fechas en Python usando `pandas`"
   ]
  },
  {
   "cell_type": "markdown",
   "id": "d67f1926",
   "metadata": {},
   "source": [
    "* Diferencia entre fechas   (por defecto es en días)"
   ]
  },
  {
   "cell_type": "code",
   "execution_count": null,
   "id": "4f3f2d44",
   "metadata": {},
   "outputs": [],
   "source": [
    "fecha_final = fechas_3[7]     # 7 hace referencia al último elemento del índice creado anteriormente\n",
    "print(fecha_final)\n",
    "fecha_inicial = fechas_3[0]   # 0 se refiere al primer elemento del índice\n",
    "print(fecha_inicial)\n",
    "\n",
    "fecha_final - fecha_inicial"
   ]
  },
  {
   "cell_type": "markdown",
   "id": "eef3b1d4",
   "metadata": {},
   "source": [
    "* Diferencia entre fechas (modificado para meses u otro periodo de tiempo)"
   ]
  },
  {
   "cell_type": "code",
   "execution_count": null,
   "id": "89566bab",
   "metadata": {},
   "outputs": [],
   "source": [
    "dif_meses = fechas_3[7].to_period('M') - fechas_3[0].to_period('M') \n",
    "dif_meses"
   ]
  },
  {
   "cell_type": "markdown",
   "id": "1c19ca95",
   "metadata": {},
   "source": [
    "#### Indexar `dataframe` con objetos de tipo tiempo"
   ]
  },
  {
   "cell_type": "code",
   "execution_count": null,
   "id": "578d623a",
   "metadata": {},
   "outputs": [],
   "source": [
    "# Datos de los presidente de EUA\n",
    "datos['start']"
   ]
  },
  {
   "cell_type": "code",
   "execution_count": null,
   "id": "3505845a",
   "metadata": {},
   "outputs": [],
   "source": [
    "inicio_presidencia = pd.DatetimeIndex(datos['start'])\n",
    "inicio_presidencia"
   ]
  },
  {
   "cell_type": "code",
   "execution_count": null,
   "id": "f17cbffe",
   "metadata": {},
   "outputs": [],
   "source": [
    "Serie_presidentes = pd.Series(datos['president'].values,index=inicio_presidencia)\n",
    "Serie_presidentes"
   ]
  },
  {
   "cell_type": "markdown",
   "id": "b88ec40a",
   "metadata": {},
   "source": [
    "### 1.4. Filtrado de un `dataframe` según un periodo de tiempo\n",
    "\n",
    "Consideremos el evento en que se quiere conocer cuales son los presidentes que han tenido los Estados Unidos desde el año 1975. ¿Como podemos lograrlo mediante el uso de Python y el paquete `pandas`?"
   ]
  },
  {
   "cell_type": "code",
   "execution_count": null,
   "id": "5e9eb35f",
   "metadata": {},
   "outputs": [],
   "source": [
    "filtro = (Serie_presidentes.index >= '1975-01-01')\n",
    "Serie_presidentes[filtro]"
   ]
  },
  {
   "cell_type": "markdown",
   "id": "857280bc",
   "metadata": {},
   "source": [
    "### 1.5. Ayuda para el Desafío propuesto\n",
    "\n",
    "Consideremos el evento en que se quiere conocer cuales son los presidentes que han tenido los Estados Unidos desde el año 1975. ¿Como podemos lograrlo mediante el uso de Python y el paquete `pandas`?"
   ]
  },
  {
   "cell_type": "code",
   "execution_count": null,
   "id": "713f110a",
   "metadata": {},
   "outputs": [],
   "source": [
    "Desafio = pd.read_csv(\"Summer-Olympic-medals-1976-to-2008.csv\")\n",
    "year_datetime = pd.to_datetime(Desafio['Year'], format = '%Y%')\n",
    "year_datetime"
   ]
  }
 ],
 "metadata": {
  "kernelspec": {
   "display_name": "Python 3",
   "language": "python",
   "name": "python3"
  },
  "language_info": {
   "codemirror_mode": {
    "name": "ipython",
    "version": 3
   },
   "file_extension": ".py",
   "mimetype": "text/x-python",
   "name": "python",
   "nbconvert_exporter": "python",
   "pygments_lexer": "ipython3",
   "version": "3.8.8"
  }
 },
 "nbformat": 4,
 "nbformat_minor": 5
}