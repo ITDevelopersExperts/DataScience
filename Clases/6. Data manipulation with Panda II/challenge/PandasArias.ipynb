{
 "cells": [
  {
   "cell_type": "markdown",
   "metadata": {},
   "source": [
    "# <h2 align=\"center\" id=\"heading\">DESAFIO TRES: <b>PANDAS Y SERIES DE TIEMPO</b></h2>\n",
    "## **Alumno:** Ariel Arias"
   ]
  },
  {
   "cell_type": "markdown",
   "metadata": {},
   "source": [
    "## Ejercicio 1\n",
    "Construir un objeto de series de tiempo con el índice igual al año de los juegos olímpicos"
   ]
  },
  {
   "cell_type": "markdown",
   "metadata": {},
   "source": [
    "Vamos a trabajar con un archivo CSV; el archivo está disponible en este [link][csvfile]  para poder validar los resultados del ejercicio.\n",
    "\n",
    "[csvfile]: https://drive.google.com/file/d/1F3L_igH1kJ_Rx44rKRjRVAtrPMulYRsY/view?usp=sharing\n"
   ]
  },
  {
   "cell_type": "code",
   "execution_count": 1,
   "metadata": {},
   "outputs": [],
   "source": [
    "import pandas as pd"
   ]
  },
  {
   "cell_type": "code",
   "execution_count": 2,
   "metadata": {},
   "outputs": [],
   "source": [
    "dfurl = 'https://drive.google.com/file/d/1F3L_igH1kJ_Rx44rKRjRVAtrPMulYRsY/view?usp=sharing'\n",
    "url2 = 'https://drive.google.com/uc?id=' + dfurl.split('/')[-2]\n",
    "print(url2)\n",
    "# df = pd.read_csv(url2, encoding='latin1')"
   ]
  },
  {
   "cell_type": "code",
   "execution_count": 3,
   "metadata": {},
   "outputs": [],
   "source": [
    "# En caso de no tener acceso al archivo por Internet\n",
    "# descomentar esta lectura directa; \n",
    "# antes, asegurarse de tener el archivo en el mismo directorio de este notebook\n",
    "## df = pd.read_csv(\"Olympicmedals-1976-to-2008CSV.csv\", encoding = \"UTF-8\", delimiter = \";\", header=0)"
   ]
  },
  {
   "cell_type": "code",
   "execution_count": 4,
   "metadata": {},
   "outputs": [
    {
     "data": {
      "text/html": [
       "<div>\n",
       "<style scoped>\n",
       "    .dataframe tbody tr th:only-of-type {\n",
       "        vertical-align: middle;\n",
       "    }\n",
       "\n",
       "    .dataframe tbody tr th {\n",
       "        vertical-align: top;\n",
       "    }\n",
       "\n",
       "    .dataframe thead th {\n",
       "        text-align: right;\n",
       "    }\n",
       "</style>\n",
       "<table border=\"1\" class=\"dataframe\">\n",
       "  <thead>\n",
       "    <tr style=\"text-align: right;\">\n",
       "      <th></th>\n",
       "      <th>City</th>\n",
       "      <th>Year</th>\n",
       "      <th>Sport</th>\n",
       "      <th>Discipline</th>\n",
       "      <th>Event</th>\n",
       "      <th>Athlete</th>\n",
       "      <th>Gender</th>\n",
       "      <th>Country_Code</th>\n",
       "      <th>Country</th>\n",
       "      <th>Event_gender</th>\n",
       "      <th>Medal</th>\n",
       "    </tr>\n",
       "  </thead>\n",
       "  <tbody>\n",
       "    <tr>\n",
       "      <th>0</th>\n",
       "      <td>Montreal</td>\n",
       "      <td>1976.0</td>\n",
       "      <td>Aquatics</td>\n",
       "      <td>Diving</td>\n",
       "      <td>3m springboard</td>\n",
       "      <td>KÖHLER, Christa</td>\n",
       "      <td>Women</td>\n",
       "      <td>GDR</td>\n",
       "      <td>East Germany</td>\n",
       "      <td>W</td>\n",
       "      <td>Silver</td>\n",
       "    </tr>\n",
       "    <tr>\n",
       "      <th>1</th>\n",
       "      <td>Montreal</td>\n",
       "      <td>1976.0</td>\n",
       "      <td>Aquatics</td>\n",
       "      <td>Diving</td>\n",
       "      <td>3m springboard</td>\n",
       "      <td>KOSENKOV, Aleksandr</td>\n",
       "      <td>Men</td>\n",
       "      <td>URS</td>\n",
       "      <td>Soviet Union</td>\n",
       "      <td>M</td>\n",
       "      <td>Bronze</td>\n",
       "    </tr>\n",
       "    <tr>\n",
       "      <th>2</th>\n",
       "      <td>Montreal</td>\n",
       "      <td>1976.0</td>\n",
       "      <td>Aquatics</td>\n",
       "      <td>Diving</td>\n",
       "      <td>3m springboard</td>\n",
       "      <td>BOGGS, Philip George</td>\n",
       "      <td>Men</td>\n",
       "      <td>USA</td>\n",
       "      <td>United States</td>\n",
       "      <td>M</td>\n",
       "      <td>Gold</td>\n",
       "    </tr>\n",
       "    <tr>\n",
       "      <th>3</th>\n",
       "      <td>Montreal</td>\n",
       "      <td>1976.0</td>\n",
       "      <td>Aquatics</td>\n",
       "      <td>Diving</td>\n",
       "      <td>3m springboard</td>\n",
       "      <td>CAGNOTTO, Giorgio Franco</td>\n",
       "      <td>Men</td>\n",
       "      <td>ITA</td>\n",
       "      <td>Italy</td>\n",
       "      <td>M</td>\n",
       "      <td>Silver</td>\n",
       "    </tr>\n",
       "    <tr>\n",
       "      <th>4</th>\n",
       "      <td>Montreal</td>\n",
       "      <td>1976.0</td>\n",
       "      <td>Aquatics</td>\n",
       "      <td>Diving</td>\n",
       "      <td>10m platform</td>\n",
       "      <td>WILSON, Deborah Keplar</td>\n",
       "      <td>Women</td>\n",
       "      <td>USA</td>\n",
       "      <td>United States</td>\n",
       "      <td>W</td>\n",
       "      <td>Bronze</td>\n",
       "    </tr>\n",
       "    <tr>\n",
       "      <th>...</th>\n",
       "      <td>...</td>\n",
       "      <td>...</td>\n",
       "      <td>...</td>\n",
       "      <td>...</td>\n",
       "      <td>...</td>\n",
       "      <td>...</td>\n",
       "      <td>...</td>\n",
       "      <td>...</td>\n",
       "      <td>...</td>\n",
       "      <td>...</td>\n",
       "      <td>...</td>\n",
       "    </tr>\n",
       "    <tr>\n",
       "      <th>15428</th>\n",
       "      <td>Beijing</td>\n",
       "      <td>2008.0</td>\n",
       "      <td>Wrestling</td>\n",
       "      <td>Wrestling Gre-R</td>\n",
       "      <td>66 - 74kg</td>\n",
       "      <td>GUENOT, Christophe</td>\n",
       "      <td>Men</td>\n",
       "      <td>FRA</td>\n",
       "      <td>France</td>\n",
       "      <td>M</td>\n",
       "      <td>Bronze</td>\n",
       "    </tr>\n",
       "    <tr>\n",
       "      <th>15429</th>\n",
       "      <td>Beijing</td>\n",
       "      <td>2008.0</td>\n",
       "      <td>Wrestling</td>\n",
       "      <td>Wrestling Gre-R</td>\n",
       "      <td>66 - 74kg</td>\n",
       "      <td>KVIRKELIA, Manuchar</td>\n",
       "      <td>Men</td>\n",
       "      <td>GEO</td>\n",
       "      <td>Georgia</td>\n",
       "      <td>M</td>\n",
       "      <td>Gold</td>\n",
       "    </tr>\n",
       "    <tr>\n",
       "      <th>15430</th>\n",
       "      <td>Beijing</td>\n",
       "      <td>2008.0</td>\n",
       "      <td>Wrestling</td>\n",
       "      <td>Wrestling Gre-R</td>\n",
       "      <td>55 - 60kg</td>\n",
       "      <td>RAHIMOV, Vitaliy</td>\n",
       "      <td>Men</td>\n",
       "      <td>AZE</td>\n",
       "      <td>Azerbaijan</td>\n",
       "      <td>M</td>\n",
       "      <td>Silver</td>\n",
       "    </tr>\n",
       "    <tr>\n",
       "      <th>15431</th>\n",
       "      <td>Beijing</td>\n",
       "      <td>2008.0</td>\n",
       "      <td>Wrestling</td>\n",
       "      <td>Wrestling Gre-R</td>\n",
       "      <td>60 - 66kg</td>\n",
       "      <td>GUENOT, Steeve</td>\n",
       "      <td>Men</td>\n",
       "      <td>FRA</td>\n",
       "      <td>France</td>\n",
       "      <td>M</td>\n",
       "      <td>Gold</td>\n",
       "    </tr>\n",
       "    <tr>\n",
       "      <th>15432</th>\n",
       "      <td>Beijing</td>\n",
       "      <td>2008.0</td>\n",
       "      <td>Wrestling</td>\n",
       "      <td>Wrestling Gre-R</td>\n",
       "      <td>96 - 120kg</td>\n",
       "      <td>LOPEZ, Mijain</td>\n",
       "      <td>Men</td>\n",
       "      <td>CUB</td>\n",
       "      <td>Cuba</td>\n",
       "      <td>M</td>\n",
       "      <td>Gold</td>\n",
       "    </tr>\n",
       "  </tbody>\n",
       "</table>\n",
       "<p>15433 rows × 11 columns</p>\n",
       "</div>"
      ],
      "text/plain": [
       "           City    Year      Sport       Discipline           Event  \\\n",
       "0      Montreal  1976.0   Aquatics           Diving  3m springboard   \n",
       "1      Montreal  1976.0   Aquatics           Diving  3m springboard   \n",
       "2      Montreal  1976.0   Aquatics           Diving  3m springboard   \n",
       "3      Montreal  1976.0   Aquatics           Diving  3m springboard   \n",
       "4      Montreal  1976.0   Aquatics           Diving    10m platform   \n",
       "...         ...     ...        ...              ...             ...   \n",
       "15428   Beijing  2008.0  Wrestling  Wrestling Gre-R       66 - 74kg   \n",
       "15429   Beijing  2008.0  Wrestling  Wrestling Gre-R       66 - 74kg   \n",
       "15430   Beijing  2008.0  Wrestling  Wrestling Gre-R       55 - 60kg   \n",
       "15431   Beijing  2008.0  Wrestling  Wrestling Gre-R       60 - 66kg   \n",
       "15432   Beijing  2008.0  Wrestling  Wrestling Gre-R      96 - 120kg   \n",
       "\n",
       "                        Athlete Gender Country_Code        Country  \\\n",
       "0               KÖHLER, Christa  Women          GDR   East Germany   \n",
       "1           KOSENKOV, Aleksandr    Men          URS   Soviet Union   \n",
       "2          BOGGS, Philip George    Men          USA  United States   \n",
       "3      CAGNOTTO, Giorgio Franco    Men          ITA          Italy   \n",
       "4        WILSON, Deborah Keplar  Women          USA  United States   \n",
       "...                         ...    ...          ...            ...   \n",
       "15428        GUENOT, Christophe    Men          FRA         France   \n",
       "15429       KVIRKELIA, Manuchar    Men          GEO        Georgia   \n",
       "15430          RAHIMOV, Vitaliy    Men          AZE     Azerbaijan   \n",
       "15431            GUENOT, Steeve    Men          FRA         France   \n",
       "15432             LOPEZ, Mijain    Men          CUB           Cuba   \n",
       "\n",
       "      Event_gender   Medal  \n",
       "0                W  Silver  \n",
       "1                M  Bronze  \n",
       "2                M    Gold  \n",
       "3                M  Silver  \n",
       "4                W  Bronze  \n",
       "...            ...     ...  \n",
       "15428            M  Bronze  \n",
       "15429            M    Gold  \n",
       "15430            M  Silver  \n",
       "15431            M    Gold  \n",
       "15432            M    Gold  \n",
       "\n",
       "[15433 rows x 11 columns]"
      ]
     },
     "execution_count": 4,
     "metadata": {},
     "output_type": "execute_result"
    }
   ],
   "source": [
    "# Para validar la correcta lectura de los datos:\n",
    "df"
   ]
  },
  {
   "cell_type": "code",
   "execution_count": 5,
   "metadata": {},
   "outputs": [
    {
     "data": {
      "text/plain": [
       "Index(['City', 'Year', 'Sport', 'Discipline', 'Event', 'Athlete', 'Gender',\n",
       "       'Country_Code', 'Country', 'Event_gender', 'Medal'],\n",
       "      dtype='object')"
      ]
     },
     "execution_count": 5,
     "metadata": {},
     "output_type": "execute_result"
    }
   ],
   "source": [
    "# Para Conocer los nombres de las columnas y poder referirlas \n",
    "df.columns"
   ]
  },
  {
   "cell_type": "code",
   "execution_count": 6,
   "metadata": {},
   "outputs": [
    {
     "data": {
      "text/plain": [
       "0        1976.0\n",
       "1        1976.0\n",
       "2        1976.0\n",
       "3        1976.0\n",
       "4        1976.0\n",
       "          ...  \n",
       "15428    2008.0\n",
       "15429    2008.0\n",
       "15430    2008.0\n",
       "15431    2008.0\n",
       "15432    2008.0\n",
       "Name: Year, Length: 15433, dtype: float64"
      ]
     },
     "execution_count": 6,
     "metadata": {},
     "output_type": "execute_result"
    }
   ],
   "source": [
    "df['Year']"
   ]
  },
  {
   "cell_type": "code",
   "execution_count": 7,
   "metadata": {},
   "outputs": [],
   "source": [
    "# Antes de crear el indice de años, vamos a asegurarnos de eliminar registros nulos:\n",
    "df.dropna(subset=['Year'], inplace=True)"
   ]
  },
  {
   "cell_type": "code",
   "execution_count": 8,
   "metadata": {},
   "outputs": [],
   "source": [
    "# Sabemos que los valores están como \"float\", vamos a pasarlos a Enteros:\n",
    "df['Year'] = df['Year'].astype(int)"
   ]
  },
  {
   "cell_type": "code",
   "execution_count": 9,
   "metadata": {},
   "outputs": [
    {
     "data": {
      "text/plain": [
       "0        1976\n",
       "1        1976\n",
       "2        1976\n",
       "3        1976\n",
       "4        1976\n",
       "         ... \n",
       "15428    2008\n",
       "15429    2008\n",
       "15430    2008\n",
       "15431    2008\n",
       "15432    2008\n",
       "Name: Year, Length: 15316, dtype: int64"
      ]
     },
     "execution_count": 9,
     "metadata": {},
     "output_type": "execute_result"
    }
   ],
   "source": [
    "# Validamos el resultado:\n",
    "df['Year']"
   ]
  },
  {
   "cell_type": "code",
   "execution_count": 10,
   "metadata": {},
   "outputs": [],
   "source": [
    "# Vamos a pasar la columna Year a formato Fecha:\n",
    "df['Year'] = pd.to_datetime(df['Year'], format='%Y')"
   ]
  },
  {
   "cell_type": "code",
   "execution_count": 11,
   "metadata": {},
   "outputs": [
    {
     "data": {
      "text/plain": [
       "0       1976-01-01\n",
       "1       1976-01-01\n",
       "2       1976-01-01\n",
       "3       1976-01-01\n",
       "4       1976-01-01\n",
       "           ...    \n",
       "15428   2008-01-01\n",
       "15429   2008-01-01\n",
       "15430   2008-01-01\n",
       "15431   2008-01-01\n",
       "15432   2008-01-01\n",
       "Name: Year, Length: 15316, dtype: datetime64[ns]"
      ]
     },
     "execution_count": 11,
     "metadata": {},
     "output_type": "execute_result"
    }
   ],
   "source": [
    "# Una vez más, verificamos el resultado:\n",
    "df['Year']"
   ]
  },
  {
   "cell_type": "markdown",
   "metadata": {},
   "source": [
    "## Objeto Series de Tiempo\n"
   ]
  },
  {
   "cell_type": "code",
   "execution_count": 12,
   "metadata": {},
   "outputs": [
    {
     "data": {
      "text/plain": [
       "Int64Index([1976, 1976, 1976, 1976, 1976, 1976, 1976, 1976, 1976, 1976,\n",
       "            ...\n",
       "            2008, 2008, 2008, 2008, 2008, 2008, 2008, 2008, 2008, 2008],\n",
       "           dtype='int64', name='Year', length=15316)"
      ]
     },
     "execution_count": 12,
     "metadata": {},
     "output_type": "execute_result"
    }
   ],
   "source": [
    "# Indexamos el DataFrame por el Año\n",
    "pd.DatetimeIndex(df['Year']).year"
   ]
  },
  {
   "cell_type": "code",
   "execution_count": 13,
   "metadata": {},
   "outputs": [
    {
     "data": {
      "text/plain": [
       "Int64Index([1976, 1976, 1976, 1976, 1976, 1976, 1976, 1976, 1976, 1976,\n",
       "            ...\n",
       "            2008, 2008, 2008, 2008, 2008, 2008, 2008, 2008, 2008, 2008],\n",
       "           dtype='int64', name='Year', length=15316)"
      ]
     },
     "execution_count": 13,
     "metadata": {},
     "output_type": "execute_result"
    }
   ],
   "source": [
    "# Copiamos el Indice a un nuevo objeto:\n",
    "indice_year = pd.DatetimeIndex(df['Year']).year\n",
    "indice_year"
   ]
  },
  {
   "cell_type": "code",
   "execution_count": 14,
   "metadata": {},
   "outputs": [
    {
     "data": {
      "text/plain": [
       "Year\n",
       "1976     East Germany\n",
       "1976     Soviet Union\n",
       "1976    United States\n",
       "1976            Italy\n",
       "1976    United States\n",
       "            ...      \n",
       "2008           France\n",
       "2008          Georgia\n",
       "2008       Azerbaijan\n",
       "2008           France\n",
       "2008             Cuba\n",
       "Length: 15316, dtype: object"
      ]
     },
     "execution_count": 14,
     "metadata": {},
     "output_type": "execute_result"
    }
   ],
   "source": [
    "# Comprobamos poder usar el objeto para analizar el DataFrame.\n",
    "# Por ejemplo, el país que ganó medallas cada año:\n",
    "Serie_medallas = pd.Series(df['Country'].values,index=indice_year)\n",
    "Serie_medallas"
   ]
  },
  {
   "cell_type": "code",
   "execution_count": 15,
   "metadata": {},
   "outputs": [
    {
     "data": {
      "text/plain": [
       "Year\n",
       "2000            China\n",
       "2000        Australia\n",
       "2000           Russia\n",
       "2000        Australia\n",
       "2000    United States\n",
       "            ...      \n",
       "2008           France\n",
       "2008          Georgia\n",
       "2008       Azerbaijan\n",
       "2008           France\n",
       "2008             Cuba\n",
       "Length: 6055, dtype: object"
      ]
     },
     "execution_count": 15,
     "metadata": {},
     "output_type": "execute_result"
    }
   ],
   "source": [
    "# O filtramos.\n",
    "# Por ejemplo, el país que ganó medallas desde el año 2000 (inclusive):\n",
    "filtro = (Serie_medallas.index >= 2000)\n",
    "Serie_medallas[filtro]"
   ]
  },
  {
   "cell_type": "markdown",
   "metadata": {},
   "source": [
    "## Ejercicio 2\n",
    "Separar nombres de apellidos en dos columnas distintas usando la coma como separador.\n",
    "\n",
    "Vamos a utilizar la función \"split\""
   ]
  },
  {
   "cell_type": "code",
   "execution_count": 16,
   "metadata": {},
   "outputs": [
    {
     "data": {
      "text/plain": [
       "0                 KÖHLER, Christa\n",
       "1             KOSENKOV, Aleksandr\n",
       "2            BOGGS, Philip George\n",
       "3        CAGNOTTO, Giorgio Franco\n",
       "4          WILSON, Deborah Keplar\n",
       "                   ...           \n",
       "15428          GUENOT, Christophe\n",
       "15429         KVIRKELIA, Manuchar\n",
       "15430            RAHIMOV, Vitaliy\n",
       "15431              GUENOT, Steeve\n",
       "15432               LOPEZ, Mijain\n",
       "Name: Athlete, Length: 15316, dtype: object"
      ]
     },
     "execution_count": 16,
     "metadata": {},
     "output_type": "execute_result"
    }
   ],
   "source": [
    "# Revisamos el contenido de la columna que contiene los nombres.\n",
    "# Sabemos que es la columna: Athlete\n",
    "df['Athlete']"
   ]
  },
  {
   "cell_type": "code",
   "execution_count": 17,
   "metadata": {},
   "outputs": [
    {
     "data": {
      "text/plain": [
       "0                  [KÖHLER,, Christa]\n",
       "1              [KOSENKOV,, Aleksandr]\n",
       "2            [BOGGS,, Philip, George]\n",
       "3        [CAGNOTTO,, Giorgio, Franco]\n",
       "4          [WILSON,, Deborah, Keplar]\n",
       "                     ...             \n",
       "15428           [GUENOT,, Christophe]\n",
       "15429          [KVIRKELIA,, Manuchar]\n",
       "15430             [RAHIMOV,, Vitaliy]\n",
       "15431               [GUENOT,, Steeve]\n",
       "15432                [LOPEZ,, Mijain]\n",
       "Name: Athlete, Length: 15316, dtype: object"
      ]
     },
     "execution_count": 17,
     "metadata": {},
     "output_type": "execute_result"
    }
   ],
   "source": [
    "# Se ve que en efecto hay 1 coma, entonces, podemos separar directamente en dos columnas:\n",
    "df['Athlete'].str.split()"
   ]
  },
  {
   "cell_type": "code",
   "execution_count": 18,
   "metadata": {},
   "outputs": [
    {
     "data": {
      "text/html": [
       "<div>\n",
       "<style scoped>\n",
       "    .dataframe tbody tr th:only-of-type {\n",
       "        vertical-align: middle;\n",
       "    }\n",
       "\n",
       "    .dataframe tbody tr th {\n",
       "        vertical-align: top;\n",
       "    }\n",
       "\n",
       "    .dataframe thead th {\n",
       "        text-align: right;\n",
       "    }\n",
       "</style>\n",
       "<table border=\"1\" class=\"dataframe\">\n",
       "  <thead>\n",
       "    <tr style=\"text-align: right;\">\n",
       "      <th></th>\n",
       "      <th>0</th>\n",
       "      <th>1</th>\n",
       "      <th>2</th>\n",
       "    </tr>\n",
       "  </thead>\n",
       "  <tbody>\n",
       "    <tr>\n",
       "      <th>0</th>\n",
       "      <td>KÖHLER</td>\n",
       "      <td>Christa</td>\n",
       "      <td>None</td>\n",
       "    </tr>\n",
       "    <tr>\n",
       "      <th>1</th>\n",
       "      <td>KOSENKOV</td>\n",
       "      <td>Aleksandr</td>\n",
       "      <td>None</td>\n",
       "    </tr>\n",
       "    <tr>\n",
       "      <th>2</th>\n",
       "      <td>BOGGS</td>\n",
       "      <td>Philip George</td>\n",
       "      <td>None</td>\n",
       "    </tr>\n",
       "    <tr>\n",
       "      <th>3</th>\n",
       "      <td>CAGNOTTO</td>\n",
       "      <td>Giorgio Franco</td>\n",
       "      <td>None</td>\n",
       "    </tr>\n",
       "    <tr>\n",
       "      <th>4</th>\n",
       "      <td>WILSON</td>\n",
       "      <td>Deborah Keplar</td>\n",
       "      <td>None</td>\n",
       "    </tr>\n",
       "    <tr>\n",
       "      <th>...</th>\n",
       "      <td>...</td>\n",
       "      <td>...</td>\n",
       "      <td>...</td>\n",
       "    </tr>\n",
       "    <tr>\n",
       "      <th>15428</th>\n",
       "      <td>GUENOT</td>\n",
       "      <td>Christophe</td>\n",
       "      <td>None</td>\n",
       "    </tr>\n",
       "    <tr>\n",
       "      <th>15429</th>\n",
       "      <td>KVIRKELIA</td>\n",
       "      <td>Manuchar</td>\n",
       "      <td>None</td>\n",
       "    </tr>\n",
       "    <tr>\n",
       "      <th>15430</th>\n",
       "      <td>RAHIMOV</td>\n",
       "      <td>Vitaliy</td>\n",
       "      <td>None</td>\n",
       "    </tr>\n",
       "    <tr>\n",
       "      <th>15431</th>\n",
       "      <td>GUENOT</td>\n",
       "      <td>Steeve</td>\n",
       "      <td>None</td>\n",
       "    </tr>\n",
       "    <tr>\n",
       "      <th>15432</th>\n",
       "      <td>LOPEZ</td>\n",
       "      <td>Mijain</td>\n",
       "      <td>None</td>\n",
       "    </tr>\n",
       "  </tbody>\n",
       "</table>\n",
       "<p>15316 rows × 3 columns</p>\n",
       "</div>"
      ],
      "text/plain": [
       "               0                1     2\n",
       "0         KÖHLER          Christa  None\n",
       "1       KOSENKOV        Aleksandr  None\n",
       "2          BOGGS    Philip George  None\n",
       "3       CAGNOTTO   Giorgio Franco  None\n",
       "4         WILSON   Deborah Keplar  None\n",
       "...          ...              ...   ...\n",
       "15428     GUENOT       Christophe  None\n",
       "15429  KVIRKELIA         Manuchar  None\n",
       "15430    RAHIMOV          Vitaliy  None\n",
       "15431     GUENOT           Steeve  None\n",
       "15432      LOPEZ           Mijain  None\n",
       "\n",
       "[15316 rows x 3 columns]"
      ]
     },
     "execution_count": 18,
     "metadata": {},
     "output_type": "execute_result"
    }
   ],
   "source": [
    "# Usar sólo \"split\" no hace lo solicitado, necesitamos que sean dos columnas.\n",
    "# Usamos los parámetros de la función para indicar que el separador es la coma (,).\n",
    "# Para analizar el resultado, usaremos además el parámetro \"expand\" para saber cuántas columnas\n",
    "# va a generar:\n",
    "df['Athlete'].str.split(',',expand=True)"
   ]
  },
  {
   "cell_type": "code",
   "execution_count": 19,
   "metadata": {},
   "outputs": [
    {
     "data": {
      "text/html": [
       "<div>\n",
       "<style scoped>\n",
       "    .dataframe tbody tr th:only-of-type {\n",
       "        vertical-align: middle;\n",
       "    }\n",
       "\n",
       "    .dataframe tbody tr th {\n",
       "        vertical-align: top;\n",
       "    }\n",
       "\n",
       "    .dataframe thead th {\n",
       "        text-align: right;\n",
       "    }\n",
       "</style>\n",
       "<table border=\"1\" class=\"dataframe\">\n",
       "  <thead>\n",
       "    <tr style=\"text-align: right;\">\n",
       "      <th></th>\n",
       "      <th>0</th>\n",
       "      <th>1</th>\n",
       "    </tr>\n",
       "  </thead>\n",
       "  <tbody>\n",
       "    <tr>\n",
       "      <th>0</th>\n",
       "      <td>KÖHLER</td>\n",
       "      <td>Christa</td>\n",
       "    </tr>\n",
       "    <tr>\n",
       "      <th>1</th>\n",
       "      <td>KOSENKOV</td>\n",
       "      <td>Aleksandr</td>\n",
       "    </tr>\n",
       "    <tr>\n",
       "      <th>2</th>\n",
       "      <td>BOGGS</td>\n",
       "      <td>Philip George</td>\n",
       "    </tr>\n",
       "    <tr>\n",
       "      <th>3</th>\n",
       "      <td>CAGNOTTO</td>\n",
       "      <td>Giorgio Franco</td>\n",
       "    </tr>\n",
       "    <tr>\n",
       "      <th>4</th>\n",
       "      <td>WILSON</td>\n",
       "      <td>Deborah Keplar</td>\n",
       "    </tr>\n",
       "    <tr>\n",
       "      <th>...</th>\n",
       "      <td>...</td>\n",
       "      <td>...</td>\n",
       "    </tr>\n",
       "    <tr>\n",
       "      <th>15428</th>\n",
       "      <td>GUENOT</td>\n",
       "      <td>Christophe</td>\n",
       "    </tr>\n",
       "    <tr>\n",
       "      <th>15429</th>\n",
       "      <td>KVIRKELIA</td>\n",
       "      <td>Manuchar</td>\n",
       "    </tr>\n",
       "    <tr>\n",
       "      <th>15430</th>\n",
       "      <td>RAHIMOV</td>\n",
       "      <td>Vitaliy</td>\n",
       "    </tr>\n",
       "    <tr>\n",
       "      <th>15431</th>\n",
       "      <td>GUENOT</td>\n",
       "      <td>Steeve</td>\n",
       "    </tr>\n",
       "    <tr>\n",
       "      <th>15432</th>\n",
       "      <td>LOPEZ</td>\n",
       "      <td>Mijain</td>\n",
       "    </tr>\n",
       "  </tbody>\n",
       "</table>\n",
       "<p>15316 rows × 2 columns</p>\n",
       "</div>"
      ],
      "text/plain": [
       "               0                1\n",
       "0         KÖHLER          Christa\n",
       "1       KOSENKOV        Aleksandr\n",
       "2          BOGGS    Philip George\n",
       "3       CAGNOTTO   Giorgio Franco\n",
       "4         WILSON   Deborah Keplar\n",
       "...          ...              ...\n",
       "15428     GUENOT       Christophe\n",
       "15429  KVIRKELIA         Manuchar\n",
       "15430    RAHIMOV          Vitaliy\n",
       "15431     GUENOT           Steeve\n",
       "15432      LOPEZ           Mijain\n",
       "\n",
       "[15316 rows x 2 columns]"
      ]
     },
     "execution_count": 19,
     "metadata": {},
     "output_type": "execute_result"
    }
   ],
   "source": [
    "# Vemos que hay datos con más de una coma en el valor, por lo que podemos tener problemas.\n",
    "# Utilizaremos además el parámetro para indicar el máximo de columnas que queremos: 1\n",
    "# Recordar que Python inicia a contar en 0\n",
    "df['Athlete'].str.split(',',1,expand=True)"
   ]
  },
  {
   "cell_type": "code",
   "execution_count": 20,
   "metadata": {},
   "outputs": [
    {
     "data": {
      "text/plain": [
       "0                 KÖHLER, Christa\n",
       "1             KOSENKOV, Aleksandr\n",
       "2            BOGGS, Philip George\n",
       "3        CAGNOTTO, Giorgio Franco\n",
       "4          WILSON, Deborah Keplar\n",
       "                   ...           \n",
       "15428          GUENOT, Christophe\n",
       "15429         KVIRKELIA, Manuchar\n",
       "15430            RAHIMOV, Vitaliy\n",
       "15431              GUENOT, Steeve\n",
       "15432               LOPEZ, Mijain\n",
       "Name: Athlete, Length: 15316, dtype: object"
      ]
     },
     "execution_count": 20,
     "metadata": {},
     "output_type": "execute_result"
    }
   ],
   "source": [
    "# aún no se modificó nuestro Data Frame:\n",
    "df['Athlete']"
   ]
  },
  {
   "cell_type": "code",
   "execution_count": 21,
   "metadata": {},
   "outputs": [],
   "source": [
    "# Vamos a invocar la misma función pero esta vez lo pasaremos al mismo arreglo.\n",
    "# Nombraremos las columnas con el valor apropiado además.\n",
    "# Agregamos el parámetro \"expand\" como Verdadero:\n",
    "df[['familyname','given']] = df['Athlete'].str.split(',',1,expand=True)"
   ]
  },
  {
   "cell_type": "code",
   "execution_count": 22,
   "metadata": {},
   "outputs": [
    {
     "data": {
      "text/plain": [
       "Index(['City', 'Year', 'Sport', 'Discipline', 'Event', 'Athlete', 'Gender',\n",
       "       'Country_Code', 'Country', 'Event_gender', 'Medal', 'familyname',\n",
       "       'given'],\n",
       "      dtype='object')"
      ]
     },
     "execution_count": 22,
     "metadata": {},
     "output_type": "execute_result"
    }
   ],
   "source": [
    "df.columns"
   ]
  },
  {
   "cell_type": "code",
   "execution_count": 23,
   "metadata": {},
   "outputs": [
    {
     "data": {
      "text/html": [
       "<div>\n",
       "<style scoped>\n",
       "    .dataframe tbody tr th:only-of-type {\n",
       "        vertical-align: middle;\n",
       "    }\n",
       "\n",
       "    .dataframe tbody tr th {\n",
       "        vertical-align: top;\n",
       "    }\n",
       "\n",
       "    .dataframe thead th {\n",
       "        text-align: right;\n",
       "    }\n",
       "</style>\n",
       "<table border=\"1\" class=\"dataframe\">\n",
       "  <thead>\n",
       "    <tr style=\"text-align: right;\">\n",
       "      <th></th>\n",
       "      <th>City</th>\n",
       "      <th>Year</th>\n",
       "      <th>Sport</th>\n",
       "      <th>Discipline</th>\n",
       "      <th>Event</th>\n",
       "      <th>Athlete</th>\n",
       "      <th>Gender</th>\n",
       "      <th>Country_Code</th>\n",
       "      <th>Country</th>\n",
       "      <th>Event_gender</th>\n",
       "      <th>Medal</th>\n",
       "      <th>familyname</th>\n",
       "      <th>given</th>\n",
       "    </tr>\n",
       "  </thead>\n",
       "  <tbody>\n",
       "    <tr>\n",
       "      <th>0</th>\n",
       "      <td>Montreal</td>\n",
       "      <td>1976-01-01</td>\n",
       "      <td>Aquatics</td>\n",
       "      <td>Diving</td>\n",
       "      <td>3m springboard</td>\n",
       "      <td>KÖHLER, Christa</td>\n",
       "      <td>Women</td>\n",
       "      <td>GDR</td>\n",
       "      <td>East Germany</td>\n",
       "      <td>W</td>\n",
       "      <td>Silver</td>\n",
       "      <td>KÖHLER</td>\n",
       "      <td>Christa</td>\n",
       "    </tr>\n",
       "    <tr>\n",
       "      <th>1</th>\n",
       "      <td>Montreal</td>\n",
       "      <td>1976-01-01</td>\n",
       "      <td>Aquatics</td>\n",
       "      <td>Diving</td>\n",
       "      <td>3m springboard</td>\n",
       "      <td>KOSENKOV, Aleksandr</td>\n",
       "      <td>Men</td>\n",
       "      <td>URS</td>\n",
       "      <td>Soviet Union</td>\n",
       "      <td>M</td>\n",
       "      <td>Bronze</td>\n",
       "      <td>KOSENKOV</td>\n",
       "      <td>Aleksandr</td>\n",
       "    </tr>\n",
       "    <tr>\n",
       "      <th>2</th>\n",
       "      <td>Montreal</td>\n",
       "      <td>1976-01-01</td>\n",
       "      <td>Aquatics</td>\n",
       "      <td>Diving</td>\n",
       "      <td>3m springboard</td>\n",
       "      <td>BOGGS, Philip George</td>\n",
       "      <td>Men</td>\n",
       "      <td>USA</td>\n",
       "      <td>United States</td>\n",
       "      <td>M</td>\n",
       "      <td>Gold</td>\n",
       "      <td>BOGGS</td>\n",
       "      <td>Philip George</td>\n",
       "    </tr>\n",
       "    <tr>\n",
       "      <th>3</th>\n",
       "      <td>Montreal</td>\n",
       "      <td>1976-01-01</td>\n",
       "      <td>Aquatics</td>\n",
       "      <td>Diving</td>\n",
       "      <td>3m springboard</td>\n",
       "      <td>CAGNOTTO, Giorgio Franco</td>\n",
       "      <td>Men</td>\n",
       "      <td>ITA</td>\n",
       "      <td>Italy</td>\n",
       "      <td>M</td>\n",
       "      <td>Silver</td>\n",
       "      <td>CAGNOTTO</td>\n",
       "      <td>Giorgio Franco</td>\n",
       "    </tr>\n",
       "    <tr>\n",
       "      <th>4</th>\n",
       "      <td>Montreal</td>\n",
       "      <td>1976-01-01</td>\n",
       "      <td>Aquatics</td>\n",
       "      <td>Diving</td>\n",
       "      <td>10m platform</td>\n",
       "      <td>WILSON, Deborah Keplar</td>\n",
       "      <td>Women</td>\n",
       "      <td>USA</td>\n",
       "      <td>United States</td>\n",
       "      <td>W</td>\n",
       "      <td>Bronze</td>\n",
       "      <td>WILSON</td>\n",
       "      <td>Deborah Keplar</td>\n",
       "    </tr>\n",
       "    <tr>\n",
       "      <th>...</th>\n",
       "      <td>...</td>\n",
       "      <td>...</td>\n",
       "      <td>...</td>\n",
       "      <td>...</td>\n",
       "      <td>...</td>\n",
       "      <td>...</td>\n",
       "      <td>...</td>\n",
       "      <td>...</td>\n",
       "      <td>...</td>\n",
       "      <td>...</td>\n",
       "      <td>...</td>\n",
       "      <td>...</td>\n",
       "      <td>...</td>\n",
       "    </tr>\n",
       "    <tr>\n",
       "      <th>15428</th>\n",
       "      <td>Beijing</td>\n",
       "      <td>2008-01-01</td>\n",
       "      <td>Wrestling</td>\n",
       "      <td>Wrestling Gre-R</td>\n",
       "      <td>66 - 74kg</td>\n",
       "      <td>GUENOT, Christophe</td>\n",
       "      <td>Men</td>\n",
       "      <td>FRA</td>\n",
       "      <td>France</td>\n",
       "      <td>M</td>\n",
       "      <td>Bronze</td>\n",
       "      <td>GUENOT</td>\n",
       "      <td>Christophe</td>\n",
       "    </tr>\n",
       "    <tr>\n",
       "      <th>15429</th>\n",
       "      <td>Beijing</td>\n",
       "      <td>2008-01-01</td>\n",
       "      <td>Wrestling</td>\n",
       "      <td>Wrestling Gre-R</td>\n",
       "      <td>66 - 74kg</td>\n",
       "      <td>KVIRKELIA, Manuchar</td>\n",
       "      <td>Men</td>\n",
       "      <td>GEO</td>\n",
       "      <td>Georgia</td>\n",
       "      <td>M</td>\n",
       "      <td>Gold</td>\n",
       "      <td>KVIRKELIA</td>\n",
       "      <td>Manuchar</td>\n",
       "    </tr>\n",
       "    <tr>\n",
       "      <th>15430</th>\n",
       "      <td>Beijing</td>\n",
       "      <td>2008-01-01</td>\n",
       "      <td>Wrestling</td>\n",
       "      <td>Wrestling Gre-R</td>\n",
       "      <td>55 - 60kg</td>\n",
       "      <td>RAHIMOV, Vitaliy</td>\n",
       "      <td>Men</td>\n",
       "      <td>AZE</td>\n",
       "      <td>Azerbaijan</td>\n",
       "      <td>M</td>\n",
       "      <td>Silver</td>\n",
       "      <td>RAHIMOV</td>\n",
       "      <td>Vitaliy</td>\n",
       "    </tr>\n",
       "    <tr>\n",
       "      <th>15431</th>\n",
       "      <td>Beijing</td>\n",
       "      <td>2008-01-01</td>\n",
       "      <td>Wrestling</td>\n",
       "      <td>Wrestling Gre-R</td>\n",
       "      <td>60 - 66kg</td>\n",
       "      <td>GUENOT, Steeve</td>\n",
       "      <td>Men</td>\n",
       "      <td>FRA</td>\n",
       "      <td>France</td>\n",
       "      <td>M</td>\n",
       "      <td>Gold</td>\n",
       "      <td>GUENOT</td>\n",
       "      <td>Steeve</td>\n",
       "    </tr>\n",
       "    <tr>\n",
       "      <th>15432</th>\n",
       "      <td>Beijing</td>\n",
       "      <td>2008-01-01</td>\n",
       "      <td>Wrestling</td>\n",
       "      <td>Wrestling Gre-R</td>\n",
       "      <td>96 - 120kg</td>\n",
       "      <td>LOPEZ, Mijain</td>\n",
       "      <td>Men</td>\n",
       "      <td>CUB</td>\n",
       "      <td>Cuba</td>\n",
       "      <td>M</td>\n",
       "      <td>Gold</td>\n",
       "      <td>LOPEZ</td>\n",
       "      <td>Mijain</td>\n",
       "    </tr>\n",
       "  </tbody>\n",
       "</table>\n",
       "<p>15316 rows × 13 columns</p>\n",
       "</div>"
      ],
      "text/plain": [
       "           City       Year      Sport       Discipline           Event  \\\n",
       "0      Montreal 1976-01-01   Aquatics           Diving  3m springboard   \n",
       "1      Montreal 1976-01-01   Aquatics           Diving  3m springboard   \n",
       "2      Montreal 1976-01-01   Aquatics           Diving  3m springboard   \n",
       "3      Montreal 1976-01-01   Aquatics           Diving  3m springboard   \n",
       "4      Montreal 1976-01-01   Aquatics           Diving    10m platform   \n",
       "...         ...        ...        ...              ...             ...   \n",
       "15428   Beijing 2008-01-01  Wrestling  Wrestling Gre-R       66 - 74kg   \n",
       "15429   Beijing 2008-01-01  Wrestling  Wrestling Gre-R       66 - 74kg   \n",
       "15430   Beijing 2008-01-01  Wrestling  Wrestling Gre-R       55 - 60kg   \n",
       "15431   Beijing 2008-01-01  Wrestling  Wrestling Gre-R       60 - 66kg   \n",
       "15432   Beijing 2008-01-01  Wrestling  Wrestling Gre-R      96 - 120kg   \n",
       "\n",
       "                        Athlete Gender Country_Code        Country  \\\n",
       "0               KÖHLER, Christa  Women          GDR   East Germany   \n",
       "1           KOSENKOV, Aleksandr    Men          URS   Soviet Union   \n",
       "2          BOGGS, Philip George    Men          USA  United States   \n",
       "3      CAGNOTTO, Giorgio Franco    Men          ITA          Italy   \n",
       "4        WILSON, Deborah Keplar  Women          USA  United States   \n",
       "...                         ...    ...          ...            ...   \n",
       "15428        GUENOT, Christophe    Men          FRA         France   \n",
       "15429       KVIRKELIA, Manuchar    Men          GEO        Georgia   \n",
       "15430          RAHIMOV, Vitaliy    Men          AZE     Azerbaijan   \n",
       "15431            GUENOT, Steeve    Men          FRA         France   \n",
       "15432             LOPEZ, Mijain    Men          CUB           Cuba   \n",
       "\n",
       "      Event_gender   Medal familyname            given  \n",
       "0                W  Silver     KÖHLER          Christa  \n",
       "1                M  Bronze   KOSENKOV        Aleksandr  \n",
       "2                M    Gold      BOGGS    Philip George  \n",
       "3                M  Silver   CAGNOTTO   Giorgio Franco  \n",
       "4                W  Bronze     WILSON   Deborah Keplar  \n",
       "...            ...     ...        ...              ...  \n",
       "15428            M  Bronze     GUENOT       Christophe  \n",
       "15429            M    Gold  KVIRKELIA         Manuchar  \n",
       "15430            M  Silver    RAHIMOV          Vitaliy  \n",
       "15431            M    Gold     GUENOT           Steeve  \n",
       "15432            M    Gold      LOPEZ           Mijain  \n",
       "\n",
       "[15316 rows x 13 columns]"
      ]
     },
     "execution_count": 23,
     "metadata": {},
     "output_type": "execute_result"
    }
   ],
   "source": [
    "# Vemos cómo quedó el arreglo con las columnas de nombre y apellido\n",
    "df"
   ]
  },
  {
   "cell_type": "markdown",
   "metadata": {},
   "source": [
    "## Ejercicio 3\n",
    "Obtener medidas resumen del conjunto de datos. Cuál es el país que ganó más medallas?"
   ]
  },
  {
   "cell_type": "code",
   "execution_count": 24,
   "metadata": {},
   "outputs": [
    {
     "data": {
      "text/plain": [
       "Country\n",
       "Afghanistan          1\n",
       "Algeria             14\n",
       "Argentina          153\n",
       "Armenia              9\n",
       "Australia          798\n",
       "                  ... \n",
       "Virgin Islands*      1\n",
       "West Germany       345\n",
       "Yugoslavia         278\n",
       "Zambia               2\n",
       "Zimbabwe            23\n",
       "Name: Medal, Length: 127, dtype: int64"
      ]
     },
     "execution_count": 24,
     "metadata": {},
     "output_type": "execute_result"
    }
   ],
   "source": [
    "# vamos a generar una serie que contendrá el número de medallas por país:\n",
    "medallasporpais = df.groupby('Country')['Medal'].count()\n",
    "medallasporpais"
   ]
  },
  {
   "cell_type": "code",
   "execution_count": 25,
   "metadata": {},
   "outputs": [
    {
     "name": "stdout",
     "output_type": "stream",
     "text": [
      "El país que más medallas ha obtenido es  United States\n"
     ]
    }
   ],
   "source": [
    "# Queremos saber el que más medallas obtuvo, por lo tanto usaremos la función MAX:\n",
    "maxmedallas = medallasporpais.idxmax()\n",
    "print(\"El país que más medallas ha obtenido es \",maxmedallas)"
   ]
  },
  {
   "cell_type": "code",
   "execution_count": 26,
   "metadata": {},
   "outputs": [
    {
     "name": "stdout",
     "output_type": "stream",
     "text": [
      "El país que más medallas ha obtenido es  United States con un total de  1992 medallas\n"
     ]
    }
   ],
   "source": [
    "# Pero, ¿Cuántas medallas obtuvo?\n",
    "maxmedallascount = medallasporpais.get(maxmedallas)\n",
    "print(\"El país que más medallas ha obtenido es \",maxmedallas, \"con un total de \", maxmedallascount, \"medallas\")"
   ]
  },
  {
   "cell_type": "code",
   "execution_count": 27,
   "metadata": {},
   "outputs": [
    {
     "name": "stdout",
     "output_type": "stream",
     "text": [
      "El país que menos medallas ha obtenido es Afghanistan  con  1\n"
     ]
    }
   ],
   "source": [
    "# Y el que menos obtuvo?:\n",
    "minmedallas = medallasporpais.idxmin()\n",
    "print(\"El país que menos medallas ha obtenido es \"+ str(minmedallas), \" con \", medallasporpais.get(minmedallas))"
   ]
  },
  {
   "cell_type": "markdown",
   "metadata": {},
   "source": [
    "## Ejercicio 4\n",
    "Construir una tabla que muestre cuántas medallas obtuvieron los hombres en total en cada año que se realizó el evento."
   ]
  },
  {
   "cell_type": "code",
   "execution_count": 28,
   "metadata": {},
   "outputs": [],
   "source": [
    "# Generamos una serie que agrupe por año y género, filtrando en seguida por Hombres\n",
    "hombres_byyear = df.groupby([\"Year\", \"Gender\"]).filter(lambda x: any(x['Gender'] == 'Men'))\n"
   ]
  },
  {
   "cell_type": "code",
   "execution_count": 29,
   "metadata": {},
   "outputs": [
    {
     "data": {
      "text/plain": [
       "Year\n",
       "1976-01-01     924\n",
       "1980-01-01     958\n",
       "1984-01-01     973\n",
       "1988-01-01    1011\n",
       "1992-01-01    1105\n",
       "1996-01-01    1082\n",
       "2000-01-01    1126\n",
       "2004-01-01    1099\n",
       "2008-01-01    1110\n",
       "Name: Medal, dtype: int64"
      ]
     },
     "execution_count": 29,
     "metadata": {},
     "output_type": "execute_result"
    }
   ],
   "source": [
    "# Modificamos la serie para totalizar las medallas por año\n",
    "hombres_byyear = hombres_byyear.groupby(\"Year\")['Medal'].count()\n",
    "hombres_byyear"
   ]
  },
  {
   "cell_type": "code",
   "execution_count": 30,
   "metadata": {},
   "outputs": [
    {
     "data": {
      "text/plain": [
       "Year        Gender\n",
       "1976-01-01  Men        924\n",
       "            Women      381\n",
       "1980-01-01  Men        958\n",
       "            Women      429\n",
       "1984-01-01  Men        973\n",
       "            Women      486\n",
       "1988-01-01  Men       1011\n",
       "            Women      535\n",
       "1992-01-01  Men       1105\n",
       "            Women      600\n",
       "1996-01-01  Men       1082\n",
       "            Women      777\n",
       "2000-01-01  Men       1126\n",
       "            Women      889\n",
       "2004-01-01  Men       1099\n",
       "            Women      899\n",
       "2008-01-01  Men       1110\n",
       "            Women      932\n",
       "Name: Medal, dtype: int64"
      ]
     },
     "execution_count": 30,
     "metadata": {},
     "output_type": "execute_result"
    }
   ],
   "source": [
    "# Sólo para validar, generamos otro arreglo que muestra medallas por año y Género\n",
    "# Sin filtrar, es decir hombres y mujeres.\n",
    "medallashombres = df.groupby([\"Year\", \"Gender\"])['Medal'].count()\n",
    "medallashombres"
   ]
  }
 ],
 "metadata": {
  "kernelspec": {
   "display_name": "Python 3",
   "language": "python",
   "name": "python3"
  },
  "language_info": {
   "codemirror_mode": {
    "name": "ipython",
    "version": 3
   },
   "file_extension": ".py",
   "mimetype": "text/x-python",
   "name": "python",
   "nbconvert_exporter": "python",
   "pygments_lexer": "ipython3",
   "version": "3.8.8"
  }
 },
 "nbformat": 4,
 "nbformat_minor": 4
}