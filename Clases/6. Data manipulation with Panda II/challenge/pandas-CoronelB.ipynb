{
 "cells": [
  {
   "cell_type": "markdown",
   "source": [
    "#### PRÁCTICA INTEGRADORA: PANDAS Y SERIES DE TIEMPO\n",
    "## CoronelB\n",
    "\n"
   ],
   "metadata": {
    "collapsed": false
   }
  },
  {
   "cell_type": "markdown",
   "source": [
    "**Ejercicio 1:**\n",
    "\n",
    "Con este archivo, construir un objeto de series de tiempo con el índice igual al año de los juegos olímpicos"
   ],
   "metadata": {
    "collapsed": false,
    "pycharm": {
     "name": "#%% md\n"
    }
   }
  },
  {
   "cell_type": "code",
   "execution_count": 56,
   "outputs": [],
   "source": [
    "import pandas as pd\n",
    "\n",
    "df = pd.read_csv(\n",
    "    \"../dataInput/Summer-Olympic-medals-1976-to-2008.csv\",\n",
    "    encoding = \"latin1\"\n",
    ")\n",
    "result = df.head(100)"
   ],
   "metadata": {
    "collapsed": false,
    "pycharm": {
     "name": "#%%\n"
    }
   }
  },
  {
   "cell_type": "code",
   "execution_count": 51,
   "outputs": [
    {
     "name": "stdout",
     "output_type": "stream",
     "text": [
      "Check data frame: \n"
     ]
    },
    {
     "data": {
      "text/plain": "       City    Year     Sport Discipline           Event  \\\n0  Montreal  1976.0  Aquatics     Diving  3m springboard   \n1  Montreal  1976.0  Aquatics     Diving  3m springboard   \n2  Montreal  1976.0  Aquatics     Diving  3m springboard   \n3  Montreal  1976.0  Aquatics     Diving  3m springboard   \n4  Montreal  1976.0  Aquatics     Diving    10m platform   \n\n                    Athlete Gender Country_Code        Country Event_gender  \\\n0           KÖHLER, Christa  Women          GDR   East Germany            W   \n1       KOSENKOV, Aleksandr    Men          URS   Soviet Union            M   \n2      BOGGS, Philip George    Men          USA  United States            M   \n3  CAGNOTTO, Giorgio Franco    Men          ITA          Italy            M   \n4    WILSON, Deborah Keplar  Women          USA  United States            W   \n\n    Medal  \n0  Silver  \n1  Bronze  \n2    Gold  \n3  Silver  \n4  Bronze  ",
      "text/html": "<div>\n<style scoped>\n    .dataframe tbody tr th:only-of-type {\n        vertical-align: middle;\n    }\n\n    .dataframe tbody tr th {\n        vertical-align: top;\n    }\n\n    .dataframe thead th {\n        text-align: right;\n    }\n</style>\n<table border=\"1\" class=\"dataframe\">\n  <thead>\n    <tr style=\"text-align: right;\">\n      <th></th>\n      <th>City</th>\n      <th>Year</th>\n      <th>Sport</th>\n      <th>Discipline</th>\n      <th>Event</th>\n      <th>Athlete</th>\n      <th>Gender</th>\n      <th>Country_Code</th>\n      <th>Country</th>\n      <th>Event_gender</th>\n      <th>Medal</th>\n    </tr>\n  </thead>\n  <tbody>\n    <tr>\n      <th>0</th>\n      <td>Montreal</td>\n      <td>1976.0</td>\n      <td>Aquatics</td>\n      <td>Diving</td>\n      <td>3m springboard</td>\n      <td>KÖHLER, Christa</td>\n      <td>Women</td>\n      <td>GDR</td>\n      <td>East Germany</td>\n      <td>W</td>\n      <td>Silver</td>\n    </tr>\n    <tr>\n      <th>1</th>\n      <td>Montreal</td>\n      <td>1976.0</td>\n      <td>Aquatics</td>\n      <td>Diving</td>\n      <td>3m springboard</td>\n      <td>KOSENKOV, Aleksandr</td>\n      <td>Men</td>\n      <td>URS</td>\n      <td>Soviet Union</td>\n      <td>M</td>\n      <td>Bronze</td>\n    </tr>\n    <tr>\n      <th>2</th>\n      <td>Montreal</td>\n      <td>1976.0</td>\n      <td>Aquatics</td>\n      <td>Diving</td>\n      <td>3m springboard</td>\n      <td>BOGGS, Philip George</td>\n      <td>Men</td>\n      <td>USA</td>\n      <td>United States</td>\n      <td>M</td>\n      <td>Gold</td>\n    </tr>\n    <tr>\n      <th>3</th>\n      <td>Montreal</td>\n      <td>1976.0</td>\n      <td>Aquatics</td>\n      <td>Diving</td>\n      <td>3m springboard</td>\n      <td>CAGNOTTO, Giorgio Franco</td>\n      <td>Men</td>\n      <td>ITA</td>\n      <td>Italy</td>\n      <td>M</td>\n      <td>Silver</td>\n    </tr>\n    <tr>\n      <th>4</th>\n      <td>Montreal</td>\n      <td>1976.0</td>\n      <td>Aquatics</td>\n      <td>Diving</td>\n      <td>10m platform</td>\n      <td>WILSON, Deborah Keplar</td>\n      <td>Women</td>\n      <td>USA</td>\n      <td>United States</td>\n      <td>W</td>\n      <td>Bronze</td>\n    </tr>\n  </tbody>\n</table>\n</div>"
     },
     "execution_count": 51,
     "metadata": {},
     "output_type": "execute_result"
    }
   ],
   "source": [
    "print(\"Check data frame: \")\n",
    "result"
   ],
   "metadata": {
    "collapsed": false,
    "pycharm": {
     "name": "#%%\n"
    }
   }
  },
  {
   "cell_type": "code",
   "execution_count": 52,
   "outputs": [
    {
     "name": "stdout",
     "output_type": "stream",
     "text": [
      "Check columns: \n"
     ]
    },
    {
     "data": {
      "text/plain": "Index(['City', 'Year', 'Sport', 'Discipline', 'Event', 'Athlete', 'Gender',\n       'Country_Code', 'Country', 'Event_gender', 'Medal'],\n      dtype='object')"
     },
     "execution_count": 52,
     "metadata": {},
     "output_type": "execute_result"
    }
   ],
   "source": [
    "print(\"Check columns: \")\n",
    "columns = result.columns\n",
    "columns"
   ],
   "metadata": {
    "collapsed": false,
    "pycharm": {
     "name": "#%%\n"
    }
   }
  },
  {
   "cell_type": "code",
   "execution_count": 68,
   "outputs": [
    {
     "name": "stdout",
     "output_type": "stream",
     "text": [
      "Check year column: \n"
     ]
    },
    {
     "data": {
      "text/plain": "0     1976.0\n1     1976.0\n2     1976.0\n3     1976.0\n4     1976.0\n       ...  \n95    1976.0\n96    1976.0\n97    1976.0\n98    1976.0\n99    1976.0\nName: Year, Length: 100, dtype: float64"
     },
     "execution_count": 68,
     "metadata": {},
     "output_type": "execute_result"
    }
   ],
   "source": [
    "print(\"Check year column: \")\n",
    "year = result['Year']\n",
    "year"
   ],
   "metadata": {
    "collapsed": false,
    "pycharm": {
     "name": "#%%\n"
    }
   }
  },
  {
   "cell_type": "code",
   "execution_count": 71,
   "outputs": [
    {
     "name": "stderr",
     "output_type": "stream",
     "text": [
      "/tmp/ipykernel_48219/2983641337.py:2: SettingWithCopyWarning: \n",
      "A value is trying to be set on a copy of a slice from a DataFrame.\n",
      "Try using .loc[row_indexer,col_indexer] = value instead\n",
      "\n",
      "See the caveats in the documentation: https://pandas.pydata.org/pandas-docs/stable/user_guide/indexing.html#returning-a-view-versus-a-copy\n",
      "  result['Year'] = pd.to_datetime(result['Year'], format='%Y')\n"
     ]
    }
   ],
   "source": [
    "# Vamos a pasar la columna Year a formato Fecha:\n",
    "result['Year'] = pd.to_datetime(result['Year'], format='%Y')"
   ],
   "metadata": {
    "collapsed": false,
    "pycharm": {
     "name": "#%%\n"
    }
   }
  },
  {
   "cell_type": "code",
   "execution_count": null,
   "outputs": [],
   "source": [
    "print(\"Check: \")\n",
    "result['Year']\n",
    "\n",
    "pd.DatetimeIndex(result['Year']).year"
   ],
   "metadata": {
    "collapsed": false,
    "pycharm": {
     "name": "#%%\n"
    }
   }
  },
  {
   "cell_type": "code",
   "execution_count": null,
   "outputs": [],
   "source": [
    "yearIndex = pd.DatetimeIndex(result['Year']).year\n",
    "yearIndex"
   ],
   "metadata": {
    "collapsed": false,
    "pycharm": {
     "name": "#%%\n"
    }
   }
  },
  {
   "cell_type": "code",
   "execution_count": null,
   "outputs": [],
   "source": [
    "medals = pd.Series(df['Country'].values,index=yearIndex)\n",
    "medals"
   ],
   "metadata": {
    "collapsed": false,
    "pycharm": {
     "name": "#%%\n"
    }
   }
  },
  {
   "cell_type": "code",
   "execution_count": null,
   "outputs": [],
   "source": [
    "filter = (medals.index >= 2000)\n",
    "medals[filter]"
   ],
   "metadata": {
    "collapsed": false,
    "pycharm": {
     "name": "#%%\n"
    }
   }
  },
  {
   "cell_type": "markdown",
   "source": [
    "**Ejercicio 2:**\n",
    "\n",
    "Separar nombres de apellidos en dos columnas distintas usando la coma como separador"
   ],
   "metadata": {
    "collapsed": false
   }
  },
  {
   "cell_type": "code",
   "execution_count": 74,
   "outputs": [
    {
     "data": {
      "text/plain": "            0                     1\n0      KÖHLER               Christa\n1    KOSENKOV             Aleksandr\n2       BOGGS         Philip George\n3    CAGNOTTO        Giorgio Franco\n4      WILSON        Deborah Keplar\n..        ...                   ...\n95   BRIGITHA                 Enith\n96    SIERING            Laura Gail\n97  BABASHOFF        Shirley Farber\n98  KOPLYAKOV                Sergei\n99    COLELLA   Richard Phillip Jr.\n\n[100 rows x 2 columns]",
      "text/html": "<div>\n<style scoped>\n    .dataframe tbody tr th:only-of-type {\n        vertical-align: middle;\n    }\n\n    .dataframe tbody tr th {\n        vertical-align: top;\n    }\n\n    .dataframe thead th {\n        text-align: right;\n    }\n</style>\n<table border=\"1\" class=\"dataframe\">\n  <thead>\n    <tr style=\"text-align: right;\">\n      <th></th>\n      <th>0</th>\n      <th>1</th>\n    </tr>\n  </thead>\n  <tbody>\n    <tr>\n      <th>0</th>\n      <td>KÖHLER</td>\n      <td>Christa</td>\n    </tr>\n    <tr>\n      <th>1</th>\n      <td>KOSENKOV</td>\n      <td>Aleksandr</td>\n    </tr>\n    <tr>\n      <th>2</th>\n      <td>BOGGS</td>\n      <td>Philip George</td>\n    </tr>\n    <tr>\n      <th>3</th>\n      <td>CAGNOTTO</td>\n      <td>Giorgio Franco</td>\n    </tr>\n    <tr>\n      <th>4</th>\n      <td>WILSON</td>\n      <td>Deborah Keplar</td>\n    </tr>\n    <tr>\n      <th>...</th>\n      <td>...</td>\n      <td>...</td>\n    </tr>\n    <tr>\n      <th>95</th>\n      <td>BRIGITHA</td>\n      <td>Enith</td>\n    </tr>\n    <tr>\n      <th>96</th>\n      <td>SIERING</td>\n      <td>Laura Gail</td>\n    </tr>\n    <tr>\n      <th>97</th>\n      <td>BABASHOFF</td>\n      <td>Shirley Farber</td>\n    </tr>\n    <tr>\n      <th>98</th>\n      <td>KOPLYAKOV</td>\n      <td>Sergei</td>\n    </tr>\n    <tr>\n      <th>99</th>\n      <td>COLELLA</td>\n      <td>Richard Phillip Jr.</td>\n    </tr>\n  </tbody>\n</table>\n<p>100 rows × 2 columns</p>\n</div>"
     },
     "execution_count": 74,
     "metadata": {},
     "output_type": "execute_result"
    }
   ],
   "source": [
    "result['Athlete'].str.split(',',1,expand=True)"
   ],
   "metadata": {
    "collapsed": false,
    "pycharm": {
     "name": "#%%\n"
    }
   }
  },
  {
   "cell_type": "code",
   "execution_count": 76,
   "outputs": [
    {
     "name": "stderr",
     "output_type": "stream",
     "text": [
      "/home/braian/Projects/-DataScience/Training/CoderHouse/.conda/envs/CoderHouse/lib/python3.9/site-packages/pandas/core/frame.py:3641: SettingWithCopyWarning: \n",
      "A value is trying to be set on a copy of a slice from a DataFrame.\n",
      "Try using .loc[row_indexer,col_indexer] = value instead\n",
      "\n",
      "See the caveats in the documentation: https://pandas.pydata.org/pandas-docs/stable/user_guide/indexing.html#returning-a-view-versus-a-copy\n",
      "  self[k1] = value[k2]\n"
     ]
    },
    {
     "data": {
      "text/plain": "        City       Year     Sport Discipline                   Event  \\\n0   Montreal 1976-01-01  Aquatics     Diving          3m springboard   \n1   Montreal 1976-01-01  Aquatics     Diving          3m springboard   \n2   Montreal 1976-01-01  Aquatics     Diving          3m springboard   \n3   Montreal 1976-01-01  Aquatics     Diving          3m springboard   \n4   Montreal 1976-01-01  Aquatics     Diving            10m platform   \n..       ...        ...       ...        ...                     ...   \n95  Montreal 1976-01-01  Aquatics   Swimming          100m freestyle   \n96  Montreal 1976-01-01  Aquatics   Swimming     4x100m medley relay   \n97  Montreal 1976-01-01  Aquatics   Swimming          400m freestyle   \n98  Montreal 1976-01-01  Aquatics   Swimming  4x200m freestyle relay   \n99  Montreal 1976-01-01  Aquatics   Swimming       200m breaststroke   \n\n                         Athlete Gender Country_Code        Country  \\\n0                KÖHLER, Christa  Women          GDR   East Germany   \n1            KOSENKOV, Aleksandr    Men          URS   Soviet Union   \n2           BOGGS, Philip George    Men          USA  United States   \n3       CAGNOTTO, Giorgio Franco    Men          ITA          Italy   \n4         WILSON, Deborah Keplar  Women          USA  United States   \n..                           ...    ...          ...            ...   \n95               BRIGITHA, Enith  Women          NED    Netherlands   \n96           SIERING, Laura Gail  Women          USA  United States   \n97     BABASHOFF, Shirley Farber  Women          USA  United States   \n98             KOPLYAKOV, Sergei    Men          URS   Soviet Union   \n99  COLELLA, Richard Phillip Jr.    Men          USA  United States   \n\n   Event_gender   Medal familyname                 given  \n0             W  Silver     KÖHLER               Christa  \n1             M  Bronze   KOSENKOV             Aleksandr  \n2             M    Gold      BOGGS         Philip George  \n3             M  Silver   CAGNOTTO        Giorgio Franco  \n4             W  Bronze     WILSON        Deborah Keplar  \n..          ...     ...        ...                   ...  \n95            W  Bronze   BRIGITHA                 Enith  \n96            W  Silver    SIERING            Laura Gail  \n97            W  Silver  BABASHOFF        Shirley Farber  \n98            M  Silver  KOPLYAKOV                Sergei  \n99            M  Bronze    COLELLA   Richard Phillip Jr.  \n\n[100 rows x 13 columns]",
      "text/html": "<div>\n<style scoped>\n    .dataframe tbody tr th:only-of-type {\n        vertical-align: middle;\n    }\n\n    .dataframe tbody tr th {\n        vertical-align: top;\n    }\n\n    .dataframe thead th {\n        text-align: right;\n    }\n</style>\n<table border=\"1\" class=\"dataframe\">\n  <thead>\n    <tr style=\"text-align: right;\">\n      <th></th>\n      <th>City</th>\n      <th>Year</th>\n      <th>Sport</th>\n      <th>Discipline</th>\n      <th>Event</th>\n      <th>Athlete</th>\n      <th>Gender</th>\n      <th>Country_Code</th>\n      <th>Country</th>\n      <th>Event_gender</th>\n      <th>Medal</th>\n      <th>familyname</th>\n      <th>given</th>\n    </tr>\n  </thead>\n  <tbody>\n    <tr>\n      <th>0</th>\n      <td>Montreal</td>\n      <td>1976-01-01</td>\n      <td>Aquatics</td>\n      <td>Diving</td>\n      <td>3m springboard</td>\n      <td>KÖHLER, Christa</td>\n      <td>Women</td>\n      <td>GDR</td>\n      <td>East Germany</td>\n      <td>W</td>\n      <td>Silver</td>\n      <td>KÖHLER</td>\n      <td>Christa</td>\n    </tr>\n    <tr>\n      <th>1</th>\n      <td>Montreal</td>\n      <td>1976-01-01</td>\n      <td>Aquatics</td>\n      <td>Diving</td>\n      <td>3m springboard</td>\n      <td>KOSENKOV, Aleksandr</td>\n      <td>Men</td>\n      <td>URS</td>\n      <td>Soviet Union</td>\n      <td>M</td>\n      <td>Bronze</td>\n      <td>KOSENKOV</td>\n      <td>Aleksandr</td>\n    </tr>\n    <tr>\n      <th>2</th>\n      <td>Montreal</td>\n      <td>1976-01-01</td>\n      <td>Aquatics</td>\n      <td>Diving</td>\n      <td>3m springboard</td>\n      <td>BOGGS, Philip George</td>\n      <td>Men</td>\n      <td>USA</td>\n      <td>United States</td>\n      <td>M</td>\n      <td>Gold</td>\n      <td>BOGGS</td>\n      <td>Philip George</td>\n    </tr>\n    <tr>\n      <th>3</th>\n      <td>Montreal</td>\n      <td>1976-01-01</td>\n      <td>Aquatics</td>\n      <td>Diving</td>\n      <td>3m springboard</td>\n      <td>CAGNOTTO, Giorgio Franco</td>\n      <td>Men</td>\n      <td>ITA</td>\n      <td>Italy</td>\n      <td>M</td>\n      <td>Silver</td>\n      <td>CAGNOTTO</td>\n      <td>Giorgio Franco</td>\n    </tr>\n    <tr>\n      <th>4</th>\n      <td>Montreal</td>\n      <td>1976-01-01</td>\n      <td>Aquatics</td>\n      <td>Diving</td>\n      <td>10m platform</td>\n      <td>WILSON, Deborah Keplar</td>\n      <td>Women</td>\n      <td>USA</td>\n      <td>United States</td>\n      <td>W</td>\n      <td>Bronze</td>\n      <td>WILSON</td>\n      <td>Deborah Keplar</td>\n    </tr>\n    <tr>\n      <th>...</th>\n      <td>...</td>\n      <td>...</td>\n      <td>...</td>\n      <td>...</td>\n      <td>...</td>\n      <td>...</td>\n      <td>...</td>\n      <td>...</td>\n      <td>...</td>\n      <td>...</td>\n      <td>...</td>\n      <td>...</td>\n      <td>...</td>\n    </tr>\n    <tr>\n      <th>95</th>\n      <td>Montreal</td>\n      <td>1976-01-01</td>\n      <td>Aquatics</td>\n      <td>Swimming</td>\n      <td>100m freestyle</td>\n      <td>BRIGITHA, Enith</td>\n      <td>Women</td>\n      <td>NED</td>\n      <td>Netherlands</td>\n      <td>W</td>\n      <td>Bronze</td>\n      <td>BRIGITHA</td>\n      <td>Enith</td>\n    </tr>\n    <tr>\n      <th>96</th>\n      <td>Montreal</td>\n      <td>1976-01-01</td>\n      <td>Aquatics</td>\n      <td>Swimming</td>\n      <td>4x100m medley relay</td>\n      <td>SIERING, Laura Gail</td>\n      <td>Women</td>\n      <td>USA</td>\n      <td>United States</td>\n      <td>W</td>\n      <td>Silver</td>\n      <td>SIERING</td>\n      <td>Laura Gail</td>\n    </tr>\n    <tr>\n      <th>97</th>\n      <td>Montreal</td>\n      <td>1976-01-01</td>\n      <td>Aquatics</td>\n      <td>Swimming</td>\n      <td>400m freestyle</td>\n      <td>BABASHOFF, Shirley Farber</td>\n      <td>Women</td>\n      <td>USA</td>\n      <td>United States</td>\n      <td>W</td>\n      <td>Silver</td>\n      <td>BABASHOFF</td>\n      <td>Shirley Farber</td>\n    </tr>\n    <tr>\n      <th>98</th>\n      <td>Montreal</td>\n      <td>1976-01-01</td>\n      <td>Aquatics</td>\n      <td>Swimming</td>\n      <td>4x200m freestyle relay</td>\n      <td>KOPLYAKOV, Sergei</td>\n      <td>Men</td>\n      <td>URS</td>\n      <td>Soviet Union</td>\n      <td>M</td>\n      <td>Silver</td>\n      <td>KOPLYAKOV</td>\n      <td>Sergei</td>\n    </tr>\n    <tr>\n      <th>99</th>\n      <td>Montreal</td>\n      <td>1976-01-01</td>\n      <td>Aquatics</td>\n      <td>Swimming</td>\n      <td>200m breaststroke</td>\n      <td>COLELLA, Richard Phillip Jr.</td>\n      <td>Men</td>\n      <td>USA</td>\n      <td>United States</td>\n      <td>M</td>\n      <td>Bronze</td>\n      <td>COLELLA</td>\n      <td>Richard Phillip Jr.</td>\n    </tr>\n  </tbody>\n</table>\n<p>100 rows × 13 columns</p>\n</div>"
     },
     "execution_count": 76,
     "metadata": {},
     "output_type": "execute_result"
    }
   ],
   "source": [
    "# Edit data frame\n",
    "result[['familyname','given']] = df['Athlete'].str.split(',',1,expand=True)\n",
    "\n",
    "result\n"
   ],
   "metadata": {
    "collapsed": false,
    "pycharm": {
     "name": "#%%\n"
    }
   }
  },
  {
   "cell_type": "markdown",
   "source": [
    "**Ejercicio 3:**\n",
    "\n",
    "Obtener medidas resumen del conjunto de datos. Cuál es el país que ganó más medallas?"
   ],
   "metadata": {
    "collapsed": false
   }
  },
  {
   "cell_type": "code",
   "execution_count": 91,
   "outputs": [
    {
     "data": {
      "text/plain": "'United States'"
     },
     "execution_count": 91,
     "metadata": {},
     "output_type": "execute_result"
    }
   ],
   "source": [
    "medalsByCountry = result.groupby('Country')['Medal'].count()\n",
    "countryWithMaxMedals = medalsByCountry.idxmax()\n",
    "countryWithMaxMedals"
   ],
   "metadata": {
    "collapsed": false,
    "pycharm": {
     "name": "#%%\n"
    }
   }
  },
  {
   "cell_type": "code",
   "execution_count": 94,
   "outputs": [
    {
     "name": "stdout",
     "output_type": "stream",
     "text": [
      "qty medals as max:  41\n"
     ]
    }
   ],
   "source": [
    "print(\"qty medals as max: \", medalsByCountry.get(countryWithMaxMedals))\n"
   ],
   "metadata": {
    "collapsed": false,
    "pycharm": {
     "name": "#%%\n"
    }
   }
  },
  {
   "cell_type": "code",
   "execution_count": 95,
   "outputs": [
    {
     "name": "stdout",
     "output_type": "stream",
     "text": [
      "-------------\n"
     ]
    },
    {
     "data": {
      "text/plain": "'Australia'"
     },
     "execution_count": 95,
     "metadata": {},
     "output_type": "execute_result"
    }
   ],
   "source": [
    "print(\"-------------\")\n",
    "\n",
    "countryWithMinMedals = medalsByCountry.idxmin()\n",
    "countryWithMinMedals"
   ],
   "metadata": {
    "collapsed": false,
    "pycharm": {
     "name": "#%%\n"
    }
   }
  },
  {
   "cell_type": "code",
   "execution_count": 96,
   "outputs": [
    {
     "name": "stdout",
     "output_type": "stream",
     "text": [
      "qty medals as min:  1\n"
     ]
    }
   ],
   "source": [
    "print(\"qty medals as min: \", medalsByCountry.get(countryWithMinMedals))\n"
   ],
   "metadata": {
    "collapsed": false,
    "pycharm": {
     "name": "#%%\n"
    }
   }
  },
  {
   "cell_type": "markdown",
   "source": [
    "**Ejercicio 4:**\n",
    "\n",
    "Construir una tabla que muestre cuántas medallas obtuvieron los hombres en total en cada año que se realizó el evento.\n"
   ],
   "metadata": {
    "collapsed": false
   }
  },
  {
   "cell_type": "code",
   "execution_count": 99,
   "outputs": [
    {
     "data": {
      "text/plain": "        City       Year     Sport Discipline                   Event  \\\n1   Montreal 1976-01-01  Aquatics     Diving          3m springboard   \n2   Montreal 1976-01-01  Aquatics     Diving          3m springboard   \n3   Montreal 1976-01-01  Aquatics     Diving          3m springboard   \n5   Montreal 1976-01-01  Aquatics     Diving            10m platform   \n8   Montreal 1976-01-01  Aquatics     Diving            10m platform   \n9   Montreal 1976-01-01  Aquatics     Diving            10m platform   \n13  Montreal 1976-01-01  Aquatics   Swimming          400m freestyle   \n15  Montreal 1976-01-01  Aquatics   Swimming         1500m freestyle   \n16  Montreal 1976-01-01  Aquatics   Swimming  400m individual medley   \n21  Montreal 1976-01-01  Aquatics   Swimming         200m backstroke   \n22  Montreal 1976-01-01  Aquatics   Swimming          400m freestyle   \n23  Montreal 1976-01-01  Aquatics   Swimming  400m individual medley   \n24  Montreal 1976-01-01  Aquatics   Swimming     4x100m medley relay   \n25  Montreal 1976-01-01  Aquatics   Swimming          200m freestyle   \n26  Montreal 1976-01-01  Aquatics   Swimming          100m butterfly   \n27  Montreal 1976-01-01  Aquatics   Swimming         100m backstroke   \n28  Montreal 1976-01-01  Aquatics   Swimming         100m backstroke   \n29  Montreal 1976-01-01  Aquatics   Swimming         100m backstroke   \n30  Montreal 1976-01-01  Aquatics   Swimming     4x100m medley relay   \n32  Montreal 1976-01-01  Aquatics   Swimming  4x200m freestyle relay   \n33  Montreal 1976-01-01  Aquatics   Swimming  4x200m freestyle relay   \n35  Montreal 1976-01-01  Aquatics   Swimming     4x100m medley relay   \n36  Montreal 1976-01-01  Aquatics   Swimming  4x200m freestyle relay   \n37  Montreal 1976-01-01  Aquatics   Swimming          100m butterfly   \n42  Montreal 1976-01-01  Aquatics   Swimming  4x200m freestyle relay   \n43  Montreal 1976-01-01  Aquatics   Swimming  4x200m freestyle relay   \n46  Montreal 1976-01-01  Aquatics   Swimming       100m breaststroke   \n48  Montreal 1976-01-01  Aquatics   Swimming  4x200m freestyle relay   \n49  Montreal 1976-01-01  Aquatics   Swimming  4x200m freestyle relay   \n50  Montreal 1976-01-01  Aquatics   Swimming       200m breaststroke   \n52  Montreal 1976-01-01  Aquatics   Swimming     4x100m medley relay   \n57  Montreal 1976-01-01  Aquatics   Swimming          200m butterfly   \n59  Montreal 1976-01-01  Aquatics   Swimming         200m backstroke   \n62  Montreal 1976-01-01  Aquatics   Swimming     4x100m medley relay   \n63  Montreal 1976-01-01  Aquatics   Swimming     4x100m medley relay   \n67  Montreal 1976-01-01  Aquatics   Swimming          100m butterfly   \n70  Montreal 1976-01-01  Aquatics   Swimming          200m freestyle   \n72  Montreal 1976-01-01  Aquatics   Swimming          200m butterfly   \n74  Montreal 1976-01-01  Aquatics   Swimming  4x200m freestyle relay   \n76  Montreal 1976-01-01  Aquatics   Swimming  400m individual medley   \n77  Montreal 1976-01-01  Aquatics   Swimming          400m freestyle   \n79  Montreal 1976-01-01  Aquatics   Swimming         1500m freestyle   \n80  Montreal 1976-01-01  Aquatics   Swimming     4x100m medley relay   \n81  Montreal 1976-01-01  Aquatics   Swimming         200m backstroke   \n84  Montreal 1976-01-01  Aquatics   Swimming          100m freestyle   \n89  Montreal 1976-01-01  Aquatics   Swimming  4x200m freestyle relay   \n92  Montreal 1976-01-01  Aquatics   Swimming       200m breaststroke   \n93  Montreal 1976-01-01  Aquatics   Swimming          100m freestyle   \n98  Montreal 1976-01-01  Aquatics   Swimming  4x200m freestyle relay   \n99  Montreal 1976-01-01  Aquatics   Swimming       200m breaststroke   \n\n                         Athlete Gender Country_Code         Country  \\\n1            KOSENKOV, Aleksandr    Men          URS    Soviet Union   \n2           BOGGS, Philip George    Men          USA   United States   \n3       CAGNOTTO, Giorgio Franco    Men          ITA           Italy   \n5              LOUGANIS, Gregory    Men          USA   United States   \n8                 DIBIASI, Klaus    Men          ITA           Italy   \n9              ALEINIK, Vladimir    Men          URS    Soviet Union   \n13          SHAW, Timothy Andrew    Men          USA   United States   \n15              HOLLAND, Stephen    Men          AUS       Australia   \n16               SMIRNOV, Andrei    Men          URS    Soviet Union   \n21            ROCCA, Peter Drake    Men          USA   United States   \n22         GOODELL, Brian Stuart    Men          USA   United States   \n23      MCKEE, Alexander Timothy    Men          USA   United States   \n24                EVANS, Clayton    Men          CAN          Canada   \n25        MONTGOMERY, James Paul    Men          USA   United States   \n26         VOGEL, Matthew Haynes    Men          USA   United States   \n27               MATTHES, Roland    Men          GDR    East Germany   \n28          NABER, John Phillips    Men          USA   United States   \n29            ROCCA, Peter Drake    Men          USA   United States   \n30                KRAUS, Michael    Men          FRG    West Germany   \n32          DUNNE, David Michael    Men          GBR  United Kingdom   \n33          NABER, John Phillips    Men          USA   United States   \n35              MAC DONALD, Gary    Men          CAN          Canada   \n36              BOGDANOV, Andrei    Men          URS    Soviet Union   \n37              HALL, Gary Wayne    Men          USA   United States   \n42        MONTGOMERY, James Paul    Men          USA   United States   \n43            RASKATOV, Vladimir    Men          URS    Soviet Union   \n46             YOZAITIS, Arvidas    Men          URS    Soviet Union   \n48                KRYLOV, Andrei    Men          URS    Soviet Union   \n49         DOWNIE, Gordon Hunter    Men          GBR  United Kingdom   \n50          WILKIE, David Andrew    Men          GBR  United Kingdom   \n52        MONTGOMERY, James Paul    Men          USA   United States   \n57           BRUNER, Michael Lee    Men          USA   United States   \n59          NABER, John Phillips    Men          USA   United States   \n62                 SMITH, Graham    Men          CAN          Canada   \n63         VOGEL, Matthew Haynes    Men          USA   United States   \n67         BOTTOM, Joseph Stuart    Men          USA   United States   \n70     FURNISS, Bruce Macfarlane    Men          USA   United States   \n72         GREGG, Steven Garrett    Men          USA   United States   \n74              MCCLATCHEY, Alan    Men          GBR  United Kingdom   \n76              STRACHAN, Rodney    Men          USA   United States   \n77            RASKATOV, Vladimir    Men          URS    Soviet Union   \n79         GOODELL, Brian Stuart    Men          USA   United States   \n80              PICKELL, Stephen    Men          CAN          Canada   \n81          HARRIGAN, Daniel Lee    Men          USA   United States   \n84        MONTGOMERY, James Paul    Men          USA   United States   \n89           BRUNER, Michael Lee    Men          USA   United States   \n92       HENCKEN, John Frederick    Men          USA   United States   \n93          BABASHOFF, Jack, Jr.    Men          USA   United States   \n98             KOPLYAKOV, Sergei    Men          URS    Soviet Union   \n99  COLELLA, Richard Phillip Jr.    Men          USA   United States   \n\n   Event_gender   Medal  familyname                 given  \n1             M  Bronze    KOSENKOV             Aleksandr  \n2             M    Gold       BOGGS         Philip George  \n3             M  Silver    CAGNOTTO        Giorgio Franco  \n5             M  Silver    LOUGANIS               Gregory  \n8             M    Gold     DIBIASI                 Klaus  \n9             M  Bronze     ALEINIK              Vladimir  \n13            M  Silver        SHAW        Timothy Andrew  \n15            M  Bronze     HOLLAND               Stephen  \n16            M  Bronze     SMIRNOV                Andrei  \n21            M  Silver       ROCCA           Peter Drake  \n22            M    Gold     GOODELL          Brian Stuart  \n23            M  Silver       MCKEE     Alexander Timothy  \n24            M  Silver       EVANS               Clayton  \n25            M  Bronze  MONTGOMERY            James Paul  \n26            M    Gold       VOGEL        Matthew Haynes  \n27            M  Bronze     MATTHES                Roland  \n28            M    Gold       NABER         John Phillips  \n29            M  Silver       ROCCA           Peter Drake  \n30            M  Bronze       KRAUS               Michael  \n32            M  Bronze       DUNNE         David Michael  \n33            M    Gold       NABER         John Phillips  \n35            M  Silver  MAC DONALD                  Gary  \n36            M  Silver    BOGDANOV                Andrei  \n37            M  Bronze        HALL            Gary Wayne  \n42            M    Gold  MONTGOMERY            James Paul  \n43            M  Silver    RASKATOV              Vladimir  \n46            M  Bronze    YOZAITIS               Arvidas  \n48            M  Silver      KRYLOV                Andrei  \n49            M  Bronze      DOWNIE         Gordon Hunter  \n50            M    Gold      WILKIE          David Andrew  \n52            M    Gold  MONTGOMERY            James Paul  \n57            M    Gold      BRUNER           Michael Lee  \n59            M    Gold       NABER         John Phillips  \n62            M  Silver       SMITH                Graham  \n63            M    Gold       VOGEL        Matthew Haynes  \n67            M  Silver      BOTTOM         Joseph Stuart  \n70            M    Gold     FURNISS      Bruce Macfarlane  \n72            M  Silver       GREGG        Steven Garrett  \n74            M  Bronze  MCCLATCHEY                  Alan  \n76            M    Gold    STRACHAN                Rodney  \n77            M  Bronze    RASKATOV              Vladimir  \n79            M    Gold     GOODELL          Brian Stuart  \n80            M  Silver     PICKELL               Stephen  \n81            M  Bronze    HARRIGAN            Daniel Lee  \n84            M    Gold  MONTGOMERY            James Paul  \n89            M    Gold      BRUNER           Michael Lee  \n92            M  Silver     HENCKEN        John Frederick  \n93            M  Silver   BABASHOFF             Jack, Jr.  \n98            M  Silver   KOPLYAKOV                Sergei  \n99            M  Bronze     COLELLA   Richard Phillip Jr.  ",
      "text/html": "<div>\n<style scoped>\n    .dataframe tbody tr th:only-of-type {\n        vertical-align: middle;\n    }\n\n    .dataframe tbody tr th {\n        vertical-align: top;\n    }\n\n    .dataframe thead th {\n        text-align: right;\n    }\n</style>\n<table border=\"1\" class=\"dataframe\">\n  <thead>\n    <tr style=\"text-align: right;\">\n      <th></th>\n      <th>City</th>\n      <th>Year</th>\n      <th>Sport</th>\n      <th>Discipline</th>\n      <th>Event</th>\n      <th>Athlete</th>\n      <th>Gender</th>\n      <th>Country_Code</th>\n      <th>Country</th>\n      <th>Event_gender</th>\n      <th>Medal</th>\n      <th>familyname</th>\n      <th>given</th>\n    </tr>\n  </thead>\n  <tbody>\n    <tr>\n      <th>1</th>\n      <td>Montreal</td>\n      <td>1976-01-01</td>\n      <td>Aquatics</td>\n      <td>Diving</td>\n      <td>3m springboard</td>\n      <td>KOSENKOV, Aleksandr</td>\n      <td>Men</td>\n      <td>URS</td>\n      <td>Soviet Union</td>\n      <td>M</td>\n      <td>Bronze</td>\n      <td>KOSENKOV</td>\n      <td>Aleksandr</td>\n    </tr>\n    <tr>\n      <th>2</th>\n      <td>Montreal</td>\n      <td>1976-01-01</td>\n      <td>Aquatics</td>\n      <td>Diving</td>\n      <td>3m springboard</td>\n      <td>BOGGS, Philip George</td>\n      <td>Men</td>\n      <td>USA</td>\n      <td>United States</td>\n      <td>M</td>\n      <td>Gold</td>\n      <td>BOGGS</td>\n      <td>Philip George</td>\n    </tr>\n    <tr>\n      <th>3</th>\n      <td>Montreal</td>\n      <td>1976-01-01</td>\n      <td>Aquatics</td>\n      <td>Diving</td>\n      <td>3m springboard</td>\n      <td>CAGNOTTO, Giorgio Franco</td>\n      <td>Men</td>\n      <td>ITA</td>\n      <td>Italy</td>\n      <td>M</td>\n      <td>Silver</td>\n      <td>CAGNOTTO</td>\n      <td>Giorgio Franco</td>\n    </tr>\n    <tr>\n      <th>5</th>\n      <td>Montreal</td>\n      <td>1976-01-01</td>\n      <td>Aquatics</td>\n      <td>Diving</td>\n      <td>10m platform</td>\n      <td>LOUGANIS, Gregory</td>\n      <td>Men</td>\n      <td>USA</td>\n      <td>United States</td>\n      <td>M</td>\n      <td>Silver</td>\n      <td>LOUGANIS</td>\n      <td>Gregory</td>\n    </tr>\n    <tr>\n      <th>8</th>\n      <td>Montreal</td>\n      <td>1976-01-01</td>\n      <td>Aquatics</td>\n      <td>Diving</td>\n      <td>10m platform</td>\n      <td>DIBIASI, Klaus</td>\n      <td>Men</td>\n      <td>ITA</td>\n      <td>Italy</td>\n      <td>M</td>\n      <td>Gold</td>\n      <td>DIBIASI</td>\n      <td>Klaus</td>\n    </tr>\n    <tr>\n      <th>9</th>\n      <td>Montreal</td>\n      <td>1976-01-01</td>\n      <td>Aquatics</td>\n      <td>Diving</td>\n      <td>10m platform</td>\n      <td>ALEINIK, Vladimir</td>\n      <td>Men</td>\n      <td>URS</td>\n      <td>Soviet Union</td>\n      <td>M</td>\n      <td>Bronze</td>\n      <td>ALEINIK</td>\n      <td>Vladimir</td>\n    </tr>\n    <tr>\n      <th>13</th>\n      <td>Montreal</td>\n      <td>1976-01-01</td>\n      <td>Aquatics</td>\n      <td>Swimming</td>\n      <td>400m freestyle</td>\n      <td>SHAW, Timothy Andrew</td>\n      <td>Men</td>\n      <td>USA</td>\n      <td>United States</td>\n      <td>M</td>\n      <td>Silver</td>\n      <td>SHAW</td>\n      <td>Timothy Andrew</td>\n    </tr>\n    <tr>\n      <th>15</th>\n      <td>Montreal</td>\n      <td>1976-01-01</td>\n      <td>Aquatics</td>\n      <td>Swimming</td>\n      <td>1500m freestyle</td>\n      <td>HOLLAND, Stephen</td>\n      <td>Men</td>\n      <td>AUS</td>\n      <td>Australia</td>\n      <td>M</td>\n      <td>Bronze</td>\n      <td>HOLLAND</td>\n      <td>Stephen</td>\n    </tr>\n    <tr>\n      <th>16</th>\n      <td>Montreal</td>\n      <td>1976-01-01</td>\n      <td>Aquatics</td>\n      <td>Swimming</td>\n      <td>400m individual medley</td>\n      <td>SMIRNOV, Andrei</td>\n      <td>Men</td>\n      <td>URS</td>\n      <td>Soviet Union</td>\n      <td>M</td>\n      <td>Bronze</td>\n      <td>SMIRNOV</td>\n      <td>Andrei</td>\n    </tr>\n    <tr>\n      <th>21</th>\n      <td>Montreal</td>\n      <td>1976-01-01</td>\n      <td>Aquatics</td>\n      <td>Swimming</td>\n      <td>200m backstroke</td>\n      <td>ROCCA, Peter Drake</td>\n      <td>Men</td>\n      <td>USA</td>\n      <td>United States</td>\n      <td>M</td>\n      <td>Silver</td>\n      <td>ROCCA</td>\n      <td>Peter Drake</td>\n    </tr>\n    <tr>\n      <th>22</th>\n      <td>Montreal</td>\n      <td>1976-01-01</td>\n      <td>Aquatics</td>\n      <td>Swimming</td>\n      <td>400m freestyle</td>\n      <td>GOODELL, Brian Stuart</td>\n      <td>Men</td>\n      <td>USA</td>\n      <td>United States</td>\n      <td>M</td>\n      <td>Gold</td>\n      <td>GOODELL</td>\n      <td>Brian Stuart</td>\n    </tr>\n    <tr>\n      <th>23</th>\n      <td>Montreal</td>\n      <td>1976-01-01</td>\n      <td>Aquatics</td>\n      <td>Swimming</td>\n      <td>400m individual medley</td>\n      <td>MCKEE, Alexander Timothy</td>\n      <td>Men</td>\n      <td>USA</td>\n      <td>United States</td>\n      <td>M</td>\n      <td>Silver</td>\n      <td>MCKEE</td>\n      <td>Alexander Timothy</td>\n    </tr>\n    <tr>\n      <th>24</th>\n      <td>Montreal</td>\n      <td>1976-01-01</td>\n      <td>Aquatics</td>\n      <td>Swimming</td>\n      <td>4x100m medley relay</td>\n      <td>EVANS, Clayton</td>\n      <td>Men</td>\n      <td>CAN</td>\n      <td>Canada</td>\n      <td>M</td>\n      <td>Silver</td>\n      <td>EVANS</td>\n      <td>Clayton</td>\n    </tr>\n    <tr>\n      <th>25</th>\n      <td>Montreal</td>\n      <td>1976-01-01</td>\n      <td>Aquatics</td>\n      <td>Swimming</td>\n      <td>200m freestyle</td>\n      <td>MONTGOMERY, James Paul</td>\n      <td>Men</td>\n      <td>USA</td>\n      <td>United States</td>\n      <td>M</td>\n      <td>Bronze</td>\n      <td>MONTGOMERY</td>\n      <td>James Paul</td>\n    </tr>\n    <tr>\n      <th>26</th>\n      <td>Montreal</td>\n      <td>1976-01-01</td>\n      <td>Aquatics</td>\n      <td>Swimming</td>\n      <td>100m butterfly</td>\n      <td>VOGEL, Matthew Haynes</td>\n      <td>Men</td>\n      <td>USA</td>\n      <td>United States</td>\n      <td>M</td>\n      <td>Gold</td>\n      <td>VOGEL</td>\n      <td>Matthew Haynes</td>\n    </tr>\n    <tr>\n      <th>27</th>\n      <td>Montreal</td>\n      <td>1976-01-01</td>\n      <td>Aquatics</td>\n      <td>Swimming</td>\n      <td>100m backstroke</td>\n      <td>MATTHES, Roland</td>\n      <td>Men</td>\n      <td>GDR</td>\n      <td>East Germany</td>\n      <td>M</td>\n      <td>Bronze</td>\n      <td>MATTHES</td>\n      <td>Roland</td>\n    </tr>\n    <tr>\n      <th>28</th>\n      <td>Montreal</td>\n      <td>1976-01-01</td>\n      <td>Aquatics</td>\n      <td>Swimming</td>\n      <td>100m backstroke</td>\n      <td>NABER, John Phillips</td>\n      <td>Men</td>\n      <td>USA</td>\n      <td>United States</td>\n      <td>M</td>\n      <td>Gold</td>\n      <td>NABER</td>\n      <td>John Phillips</td>\n    </tr>\n    <tr>\n      <th>29</th>\n      <td>Montreal</td>\n      <td>1976-01-01</td>\n      <td>Aquatics</td>\n      <td>Swimming</td>\n      <td>100m backstroke</td>\n      <td>ROCCA, Peter Drake</td>\n      <td>Men</td>\n      <td>USA</td>\n      <td>United States</td>\n      <td>M</td>\n      <td>Silver</td>\n      <td>ROCCA</td>\n      <td>Peter Drake</td>\n    </tr>\n    <tr>\n      <th>30</th>\n      <td>Montreal</td>\n      <td>1976-01-01</td>\n      <td>Aquatics</td>\n      <td>Swimming</td>\n      <td>4x100m medley relay</td>\n      <td>KRAUS, Michael</td>\n      <td>Men</td>\n      <td>FRG</td>\n      <td>West Germany</td>\n      <td>M</td>\n      <td>Bronze</td>\n      <td>KRAUS</td>\n      <td>Michael</td>\n    </tr>\n    <tr>\n      <th>32</th>\n      <td>Montreal</td>\n      <td>1976-01-01</td>\n      <td>Aquatics</td>\n      <td>Swimming</td>\n      <td>4x200m freestyle relay</td>\n      <td>DUNNE, David Michael</td>\n      <td>Men</td>\n      <td>GBR</td>\n      <td>United Kingdom</td>\n      <td>M</td>\n      <td>Bronze</td>\n      <td>DUNNE</td>\n      <td>David Michael</td>\n    </tr>\n    <tr>\n      <th>33</th>\n      <td>Montreal</td>\n      <td>1976-01-01</td>\n      <td>Aquatics</td>\n      <td>Swimming</td>\n      <td>4x200m freestyle relay</td>\n      <td>NABER, John Phillips</td>\n      <td>Men</td>\n      <td>USA</td>\n      <td>United States</td>\n      <td>M</td>\n      <td>Gold</td>\n      <td>NABER</td>\n      <td>John Phillips</td>\n    </tr>\n    <tr>\n      <th>35</th>\n      <td>Montreal</td>\n      <td>1976-01-01</td>\n      <td>Aquatics</td>\n      <td>Swimming</td>\n      <td>4x100m medley relay</td>\n      <td>MAC DONALD, Gary</td>\n      <td>Men</td>\n      <td>CAN</td>\n      <td>Canada</td>\n      <td>M</td>\n      <td>Silver</td>\n      <td>MAC DONALD</td>\n      <td>Gary</td>\n    </tr>\n    <tr>\n      <th>36</th>\n      <td>Montreal</td>\n      <td>1976-01-01</td>\n      <td>Aquatics</td>\n      <td>Swimming</td>\n      <td>4x200m freestyle relay</td>\n      <td>BOGDANOV, Andrei</td>\n      <td>Men</td>\n      <td>URS</td>\n      <td>Soviet Union</td>\n      <td>M</td>\n      <td>Silver</td>\n      <td>BOGDANOV</td>\n      <td>Andrei</td>\n    </tr>\n    <tr>\n      <th>37</th>\n      <td>Montreal</td>\n      <td>1976-01-01</td>\n      <td>Aquatics</td>\n      <td>Swimming</td>\n      <td>100m butterfly</td>\n      <td>HALL, Gary Wayne</td>\n      <td>Men</td>\n      <td>USA</td>\n      <td>United States</td>\n      <td>M</td>\n      <td>Bronze</td>\n      <td>HALL</td>\n      <td>Gary Wayne</td>\n    </tr>\n    <tr>\n      <th>42</th>\n      <td>Montreal</td>\n      <td>1976-01-01</td>\n      <td>Aquatics</td>\n      <td>Swimming</td>\n      <td>4x200m freestyle relay</td>\n      <td>MONTGOMERY, James Paul</td>\n      <td>Men</td>\n      <td>USA</td>\n      <td>United States</td>\n      <td>M</td>\n      <td>Gold</td>\n      <td>MONTGOMERY</td>\n      <td>James Paul</td>\n    </tr>\n    <tr>\n      <th>43</th>\n      <td>Montreal</td>\n      <td>1976-01-01</td>\n      <td>Aquatics</td>\n      <td>Swimming</td>\n      <td>4x200m freestyle relay</td>\n      <td>RASKATOV, Vladimir</td>\n      <td>Men</td>\n      <td>URS</td>\n      <td>Soviet Union</td>\n      <td>M</td>\n      <td>Silver</td>\n      <td>RASKATOV</td>\n      <td>Vladimir</td>\n    </tr>\n    <tr>\n      <th>46</th>\n      <td>Montreal</td>\n      <td>1976-01-01</td>\n      <td>Aquatics</td>\n      <td>Swimming</td>\n      <td>100m breaststroke</td>\n      <td>YOZAITIS, Arvidas</td>\n      <td>Men</td>\n      <td>URS</td>\n      <td>Soviet Union</td>\n      <td>M</td>\n      <td>Bronze</td>\n      <td>YOZAITIS</td>\n      <td>Arvidas</td>\n    </tr>\n    <tr>\n      <th>48</th>\n      <td>Montreal</td>\n      <td>1976-01-01</td>\n      <td>Aquatics</td>\n      <td>Swimming</td>\n      <td>4x200m freestyle relay</td>\n      <td>KRYLOV, Andrei</td>\n      <td>Men</td>\n      <td>URS</td>\n      <td>Soviet Union</td>\n      <td>M</td>\n      <td>Silver</td>\n      <td>KRYLOV</td>\n      <td>Andrei</td>\n    </tr>\n    <tr>\n      <th>49</th>\n      <td>Montreal</td>\n      <td>1976-01-01</td>\n      <td>Aquatics</td>\n      <td>Swimming</td>\n      <td>4x200m freestyle relay</td>\n      <td>DOWNIE, Gordon Hunter</td>\n      <td>Men</td>\n      <td>GBR</td>\n      <td>United Kingdom</td>\n      <td>M</td>\n      <td>Bronze</td>\n      <td>DOWNIE</td>\n      <td>Gordon Hunter</td>\n    </tr>\n    <tr>\n      <th>50</th>\n      <td>Montreal</td>\n      <td>1976-01-01</td>\n      <td>Aquatics</td>\n      <td>Swimming</td>\n      <td>200m breaststroke</td>\n      <td>WILKIE, David Andrew</td>\n      <td>Men</td>\n      <td>GBR</td>\n      <td>United Kingdom</td>\n      <td>M</td>\n      <td>Gold</td>\n      <td>WILKIE</td>\n      <td>David Andrew</td>\n    </tr>\n    <tr>\n      <th>52</th>\n      <td>Montreal</td>\n      <td>1976-01-01</td>\n      <td>Aquatics</td>\n      <td>Swimming</td>\n      <td>4x100m medley relay</td>\n      <td>MONTGOMERY, James Paul</td>\n      <td>Men</td>\n      <td>USA</td>\n      <td>United States</td>\n      <td>M</td>\n      <td>Gold</td>\n      <td>MONTGOMERY</td>\n      <td>James Paul</td>\n    </tr>\n    <tr>\n      <th>57</th>\n      <td>Montreal</td>\n      <td>1976-01-01</td>\n      <td>Aquatics</td>\n      <td>Swimming</td>\n      <td>200m butterfly</td>\n      <td>BRUNER, Michael Lee</td>\n      <td>Men</td>\n      <td>USA</td>\n      <td>United States</td>\n      <td>M</td>\n      <td>Gold</td>\n      <td>BRUNER</td>\n      <td>Michael Lee</td>\n    </tr>\n    <tr>\n      <th>59</th>\n      <td>Montreal</td>\n      <td>1976-01-01</td>\n      <td>Aquatics</td>\n      <td>Swimming</td>\n      <td>200m backstroke</td>\n      <td>NABER, John Phillips</td>\n      <td>Men</td>\n      <td>USA</td>\n      <td>United States</td>\n      <td>M</td>\n      <td>Gold</td>\n      <td>NABER</td>\n      <td>John Phillips</td>\n    </tr>\n    <tr>\n      <th>62</th>\n      <td>Montreal</td>\n      <td>1976-01-01</td>\n      <td>Aquatics</td>\n      <td>Swimming</td>\n      <td>4x100m medley relay</td>\n      <td>SMITH, Graham</td>\n      <td>Men</td>\n      <td>CAN</td>\n      <td>Canada</td>\n      <td>M</td>\n      <td>Silver</td>\n      <td>SMITH</td>\n      <td>Graham</td>\n    </tr>\n    <tr>\n      <th>63</th>\n      <td>Montreal</td>\n      <td>1976-01-01</td>\n      <td>Aquatics</td>\n      <td>Swimming</td>\n      <td>4x100m medley relay</td>\n      <td>VOGEL, Matthew Haynes</td>\n      <td>Men</td>\n      <td>USA</td>\n      <td>United States</td>\n      <td>M</td>\n      <td>Gold</td>\n      <td>VOGEL</td>\n      <td>Matthew Haynes</td>\n    </tr>\n    <tr>\n      <th>67</th>\n      <td>Montreal</td>\n      <td>1976-01-01</td>\n      <td>Aquatics</td>\n      <td>Swimming</td>\n      <td>100m butterfly</td>\n      <td>BOTTOM, Joseph Stuart</td>\n      <td>Men</td>\n      <td>USA</td>\n      <td>United States</td>\n      <td>M</td>\n      <td>Silver</td>\n      <td>BOTTOM</td>\n      <td>Joseph Stuart</td>\n    </tr>\n    <tr>\n      <th>70</th>\n      <td>Montreal</td>\n      <td>1976-01-01</td>\n      <td>Aquatics</td>\n      <td>Swimming</td>\n      <td>200m freestyle</td>\n      <td>FURNISS, Bruce Macfarlane</td>\n      <td>Men</td>\n      <td>USA</td>\n      <td>United States</td>\n      <td>M</td>\n      <td>Gold</td>\n      <td>FURNISS</td>\n      <td>Bruce Macfarlane</td>\n    </tr>\n    <tr>\n      <th>72</th>\n      <td>Montreal</td>\n      <td>1976-01-01</td>\n      <td>Aquatics</td>\n      <td>Swimming</td>\n      <td>200m butterfly</td>\n      <td>GREGG, Steven Garrett</td>\n      <td>Men</td>\n      <td>USA</td>\n      <td>United States</td>\n      <td>M</td>\n      <td>Silver</td>\n      <td>GREGG</td>\n      <td>Steven Garrett</td>\n    </tr>\n    <tr>\n      <th>74</th>\n      <td>Montreal</td>\n      <td>1976-01-01</td>\n      <td>Aquatics</td>\n      <td>Swimming</td>\n      <td>4x200m freestyle relay</td>\n      <td>MCCLATCHEY, Alan</td>\n      <td>Men</td>\n      <td>GBR</td>\n      <td>United Kingdom</td>\n      <td>M</td>\n      <td>Bronze</td>\n      <td>MCCLATCHEY</td>\n      <td>Alan</td>\n    </tr>\n    <tr>\n      <th>76</th>\n      <td>Montreal</td>\n      <td>1976-01-01</td>\n      <td>Aquatics</td>\n      <td>Swimming</td>\n      <td>400m individual medley</td>\n      <td>STRACHAN, Rodney</td>\n      <td>Men</td>\n      <td>USA</td>\n      <td>United States</td>\n      <td>M</td>\n      <td>Gold</td>\n      <td>STRACHAN</td>\n      <td>Rodney</td>\n    </tr>\n    <tr>\n      <th>77</th>\n      <td>Montreal</td>\n      <td>1976-01-01</td>\n      <td>Aquatics</td>\n      <td>Swimming</td>\n      <td>400m freestyle</td>\n      <td>RASKATOV, Vladimir</td>\n      <td>Men</td>\n      <td>URS</td>\n      <td>Soviet Union</td>\n      <td>M</td>\n      <td>Bronze</td>\n      <td>RASKATOV</td>\n      <td>Vladimir</td>\n    </tr>\n    <tr>\n      <th>79</th>\n      <td>Montreal</td>\n      <td>1976-01-01</td>\n      <td>Aquatics</td>\n      <td>Swimming</td>\n      <td>1500m freestyle</td>\n      <td>GOODELL, Brian Stuart</td>\n      <td>Men</td>\n      <td>USA</td>\n      <td>United States</td>\n      <td>M</td>\n      <td>Gold</td>\n      <td>GOODELL</td>\n      <td>Brian Stuart</td>\n    </tr>\n    <tr>\n      <th>80</th>\n      <td>Montreal</td>\n      <td>1976-01-01</td>\n      <td>Aquatics</td>\n      <td>Swimming</td>\n      <td>4x100m medley relay</td>\n      <td>PICKELL, Stephen</td>\n      <td>Men</td>\n      <td>CAN</td>\n      <td>Canada</td>\n      <td>M</td>\n      <td>Silver</td>\n      <td>PICKELL</td>\n      <td>Stephen</td>\n    </tr>\n    <tr>\n      <th>81</th>\n      <td>Montreal</td>\n      <td>1976-01-01</td>\n      <td>Aquatics</td>\n      <td>Swimming</td>\n      <td>200m backstroke</td>\n      <td>HARRIGAN, Daniel Lee</td>\n      <td>Men</td>\n      <td>USA</td>\n      <td>United States</td>\n      <td>M</td>\n      <td>Bronze</td>\n      <td>HARRIGAN</td>\n      <td>Daniel Lee</td>\n    </tr>\n    <tr>\n      <th>84</th>\n      <td>Montreal</td>\n      <td>1976-01-01</td>\n      <td>Aquatics</td>\n      <td>Swimming</td>\n      <td>100m freestyle</td>\n      <td>MONTGOMERY, James Paul</td>\n      <td>Men</td>\n      <td>USA</td>\n      <td>United States</td>\n      <td>M</td>\n      <td>Gold</td>\n      <td>MONTGOMERY</td>\n      <td>James Paul</td>\n    </tr>\n    <tr>\n      <th>89</th>\n      <td>Montreal</td>\n      <td>1976-01-01</td>\n      <td>Aquatics</td>\n      <td>Swimming</td>\n      <td>4x200m freestyle relay</td>\n      <td>BRUNER, Michael Lee</td>\n      <td>Men</td>\n      <td>USA</td>\n      <td>United States</td>\n      <td>M</td>\n      <td>Gold</td>\n      <td>BRUNER</td>\n      <td>Michael Lee</td>\n    </tr>\n    <tr>\n      <th>92</th>\n      <td>Montreal</td>\n      <td>1976-01-01</td>\n      <td>Aquatics</td>\n      <td>Swimming</td>\n      <td>200m breaststroke</td>\n      <td>HENCKEN, John Frederick</td>\n      <td>Men</td>\n      <td>USA</td>\n      <td>United States</td>\n      <td>M</td>\n      <td>Silver</td>\n      <td>HENCKEN</td>\n      <td>John Frederick</td>\n    </tr>\n    <tr>\n      <th>93</th>\n      <td>Montreal</td>\n      <td>1976-01-01</td>\n      <td>Aquatics</td>\n      <td>Swimming</td>\n      <td>100m freestyle</td>\n      <td>BABASHOFF, Jack, Jr.</td>\n      <td>Men</td>\n      <td>USA</td>\n      <td>United States</td>\n      <td>M</td>\n      <td>Silver</td>\n      <td>BABASHOFF</td>\n      <td>Jack, Jr.</td>\n    </tr>\n    <tr>\n      <th>98</th>\n      <td>Montreal</td>\n      <td>1976-01-01</td>\n      <td>Aquatics</td>\n      <td>Swimming</td>\n      <td>4x200m freestyle relay</td>\n      <td>KOPLYAKOV, Sergei</td>\n      <td>Men</td>\n      <td>URS</td>\n      <td>Soviet Union</td>\n      <td>M</td>\n      <td>Silver</td>\n      <td>KOPLYAKOV</td>\n      <td>Sergei</td>\n    </tr>\n    <tr>\n      <th>99</th>\n      <td>Montreal</td>\n      <td>1976-01-01</td>\n      <td>Aquatics</td>\n      <td>Swimming</td>\n      <td>200m breaststroke</td>\n      <td>COLELLA, Richard Phillip Jr.</td>\n      <td>Men</td>\n      <td>USA</td>\n      <td>United States</td>\n      <td>M</td>\n      <td>Bronze</td>\n      <td>COLELLA</td>\n      <td>Richard Phillip Jr.</td>\n    </tr>\n  </tbody>\n</table>\n</div>"
     },
     "execution_count": 99,
     "metadata": {},
     "output_type": "execute_result"
    }
   ],
   "source": [
    "menByYear = result.groupby([\"Year\", \"Gender\"]).filter(lambda x: any(x['Gender'] == 'Men'))\n",
    "menByYear"
   ],
   "metadata": {
    "collapsed": false,
    "pycharm": {
     "name": "#%%\n"
    }
   }
  },
  {
   "cell_type": "code",
   "execution_count": 100,
   "outputs": [
    {
     "data": {
      "text/plain": "Year\n1976-01-01    50\nName: Medal, dtype: int64"
     },
     "execution_count": 100,
     "metadata": {},
     "output_type": "execute_result"
    }
   ],
   "source": [
    "menByYear = menByYear.groupby(\"Year\")['Medal'].count()\n",
    "menByYear"
   ],
   "metadata": {
    "collapsed": false,
    "pycharm": {
     "name": "#%%\n"
    }
   }
  }
 ],
 "metadata": {
  "kernelspec": {
   "display_name": "Python 3",
   "language": "python",
   "name": "python3"
  },
  "language_info": {
   "codemirror_mode": {
    "name": "ipython",
    "version": 2
   },
   "file_extension": ".py",
   "mimetype": "text/x-python",
   "name": "python",
   "nbconvert_exporter": "python",
   "pygments_lexer": "ipython2",
   "version": "2.7.6"
  }
 },
 "nbformat": 4,
 "nbformat_minor": 0
}