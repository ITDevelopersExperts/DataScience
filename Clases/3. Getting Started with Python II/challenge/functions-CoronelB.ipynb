{
 "cells": [
  {
   "cell_type": "markdown",
   "source": [
    "#### Clase 3 | Desafío\n",
    "\n",
    "**Ejercicio 1:**\n",
    "El factorial x! se define como el producto de todos los números desde 1 a x.\n",
    "\n",
    "***Escribir una función para calcular el factorial de un número cualquiera.***\n"
   ],
   "metadata": {
    "collapsed": false
   }
  },
  {
   "cell_type": "code",
   "execution_count": 2,
   "outputs": [
    {
     "name": "stdout",
     "output_type": "stream",
     "text": [
      "i: 1 | factorial: 1\n",
      "i: 2 | factorial: 2\n",
      "i: 3 | factorial: 6\n",
      "i: 4 | factorial: 24\n",
      "Result: 24\n"
     ]
    }
   ],
   "source": [
    "def factorial(x):\n",
    "    result=1\n",
    "    for i in range(1, x+1):\n",
    "        result *= i\n",
    "        print(\"i: \" + str(i) + \" | factorial: \" + str(result))\n",
    "    return result\n",
    "\n",
    "print(\"Result:\", factorial(4))\n"
   ],
   "metadata": {
    "collapsed": false,
    "pycharm": {
     "name": "#%%\n"
    }
   }
  },
  {
   "cell_type": "markdown",
   "source": [
    "**Ejercicio 2:**\n",
    "\n",
    "Escribir una función para calcular la suma de una serie comenzando por un número cualquiera\n",
    "y terminando en otro número que debe ser mayor al primero."
   ],
   "metadata": {
    "collapsed": false
   }
  },
  {
   "cell_type": "code",
   "execution_count": 1,
   "outputs": [
    {
     "name": "stdout",
     "output_type": "stream",
     "text": [
      "i: 2 | sumatoria: 2\n",
      "i: 3 | sumatoria: 5\n",
      "i: 4 | sumatoria: 9\n",
      "i: 5 | sumatoria: 14\n",
      "('Result:', 14)\n"
     ]
    }
   ],
   "source": [
    "def summation(first, second):\n",
    "    if not second > first: return \"ERROR: The second must be greater than the first\"\n",
    "\n",
    "    result=0\n",
    "    for i in range(first, second+1):\n",
    "        result += i\n",
    "        print(\"i: \" + str(i) + \" | sumatoria: \" + str(result))\n",
    "    return \"Result:\", result\n",
    "\n",
    "print(summation(2, 5))"
   ],
   "metadata": {
    "collapsed": false,
    "pycharm": {
     "name": "#%%\n"
    }
   }
  }
 ],
 "metadata": {
  "kernelspec": {
   "display_name": "Python 3",
   "language": "python",
   "name": "python3"
  },
  "language_info": {
   "codemirror_mode": {
    "name": "ipython",
    "version": 2
   },
   "file_extension": ".py",
   "mimetype": "text/x-python",
   "name": "python",
   "nbconvert_exporter": "python",
   "pygments_lexer": "ipython2",
   "version": "2.7.6"
  }
 },
 "nbformat": 4,
 "nbformat_minor": 0
}