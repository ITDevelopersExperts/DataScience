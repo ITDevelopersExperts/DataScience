{
 "nbformat": 4,
 "nbformat_minor": 5,
 "metadata": {
  "kernelspec": {
   "display_name": "Python 3",
   "language": "python",
   "name": "python3"
  },
  "language_info": {
   "codemirror_mode": {
    "name": "ipython",
    "version": 3
   },
   "file_extension": ".py",
   "mimetype": "text/x-python",
   "name": "python",
   "nbconvert_exporter": "python",
   "pygments_lexer": "ipython3",
   "version": "3.8.8"
  },
  "colab": {
   "name": "Clase 3. Introducción a la programación con Python (Parte 2).ipynb",
   "provenance": []
  }
 },
 "cells": [
  {
   "cell_type": "markdown",
   "metadata": {
    "id": "b30af467"
   },
   "source": [
    "# **CODERHOUSE DS - 22745**\n",
    "## Clase 3. Introducción a la programación con Python (Parte II)"
   ],
   "id": "b30af467"
  },
  {
   "cell_type": "markdown",
   "metadata": {
    "id": "f8f33c16"
   },
   "source": [
    "### Estructuras de datos: listas, tuplas, conjuntos y diccionarios\n",
    "\n",
    "Al iniciar un proyecto de analítica de datos resulta fundamental almacenar información en la máquina con el fin de procesarla de una manera eficiente. Las estructuras de datos resuelven esta necesidad, pues nos proveen diferentes formas de representar información computacionalmente. \n",
    "\n",
    "#### Listas\n",
    "Una lista permite representar una colección ordenada de cualquier cantidad de elementos. Estos elementos pueden ser números, palabras, otras listas, etc. Una lista es una estructura de datos flexible debido a que no necesariamente todos sus elementos tienen que ser del mismo tipo. Adicionalmente, ***es mutable debido a que podemos modificar sus elementos***.\n",
    "\n",
    "Para declarar una lista inciamos abriendo un corchete (`[ ]`), escribimos uno a uno sus elementos separados por medio de comas (`,`) y finalizamos cerrando el corchete."
   ],
   "id": "f8f33c16"
  },
  {
   "cell_type": "code",
   "metadata": {
    "id": "1fd67da7"
   },
   "source": [
    "lista_edades = [25, 30, 15, 16, 13]\n",
    "lista_edades\n",
    "lista_edades.append(100)\n",
    "lista_edades.add(105)"
   ],
   "id": "1fd67da7",
   "execution_count": 4,
   "outputs": [
    {
     "ename": "AttributeError",
     "evalue": "'list' object has no attribute 'add'",
     "output_type": "error",
     "traceback": [
      "\u001B[0;31m---------------------------------------------------------------------------\u001B[0m",
      "\u001B[0;31mAttributeError\u001B[0m                            Traceback (most recent call last)",
      "\u001B[0;32m/tmp/ipykernel_53190/3982655433.py\u001B[0m in \u001B[0;36m<module>\u001B[0;34m\u001B[0m\n\u001B[1;32m      2\u001B[0m \u001B[0mlista_edades\u001B[0m\u001B[0;34m\u001B[0m\u001B[0;34m\u001B[0m\u001B[0m\n\u001B[1;32m      3\u001B[0m \u001B[0mlista_edades\u001B[0m\u001B[0;34m.\u001B[0m\u001B[0mappend\u001B[0m\u001B[0;34m(\u001B[0m\u001B[0;36m100\u001B[0m\u001B[0;34m)\u001B[0m\u001B[0;34m\u001B[0m\u001B[0;34m\u001B[0m\u001B[0m\n\u001B[0;32m----> 4\u001B[0;31m \u001B[0mlista_edades\u001B[0m\u001B[0;34m.\u001B[0m\u001B[0madd\u001B[0m\u001B[0;34m(\u001B[0m\u001B[0;36m105\u001B[0m\u001B[0;34m)\u001B[0m\u001B[0;34m\u001B[0m\u001B[0;34m\u001B[0m\u001B[0m\n\u001B[0m\u001B[1;32m      5\u001B[0m \u001B[0;34m\u001B[0m\u001B[0m\n",
      "\u001B[0;31mAttributeError\u001B[0m: 'list' object has no attribute 'add'"
     ]
    }
   ]
  },
  {
   "cell_type": "markdown",
   "metadata": {
    "id": "d751cc97"
   },
   "source": [
    "#### Tuplas\n",
    "\n",
    "Las tuplas son otra estructura de datos ordenada que, al igual que las listas, pueden guardar diferentes tipos de datos o incluso elementos repetidos. No obstante, la principal diferencia es que ***son inmutables; esto significa que no se podemos añadir, alterar, ni eliminar elementos***. \n",
    "\n",
    "Para declarar una tupla empleamos paréntesis (`()`) y separamos los elementos contenidos por medio de comas."
   ],
   "id": "d751cc97"
  },
  {
   "cell_type": "code",
   "metadata": {
    "id": "b6510f64",
    "executionInfo": {
     "status": "ok",
     "timestamp": 1633476974508,
     "user_tz": 180,
     "elapsed": 259,
     "user": {
      "displayName": "Juan Doppler",
      "photoUrl": "https://lh3.googleusercontent.com/a/default-user=s64",
      "userId": "07844692617551794157"
     }
    },
    "outputId": "88f52ffa-eada-4a59-f11d-f9e7848a07ac",
    "colab": {
     "base_uri": "https://localhost:8080/"
    }
   },
   "source": [
    "tupla_eliminatorias_2018 = (\"Brasil\", \"Uruguay\", \"Argentina\", \"Colombia\", \"Perú\", \"Chile\", \"Paraguay\", \"Ecuador\", \"Bolivia\", \"Venezuela\") \n",
    "tupla_eliminatorias_2018"
   ],
   "id": "b6510f64",
   "execution_count": 5,
   "outputs": [
    {
     "data": {
      "text/plain": "('Brasil',\n 'Uruguay',\n 'Argentina',\n 'Colombia',\n 'Perú',\n 'Chile',\n 'Paraguay',\n 'Ecuador',\n 'Bolivia',\n 'Venezuela')"
     },
     "execution_count": 5,
     "metadata": {},
     "output_type": "execute_result"
    }
   ]
  },
  {
   "cell_type": "markdown",
   "metadata": {
    "id": "2d7deaed"
   },
   "source": [
    "#### Diccionarios\n",
    "Los diccionarios son estructuras de datos no ordenadas que identifican relaciones de correspondencia entre llaves y valores. Los diccionarios buscan entonces indexar una colección de valores a una colección de llaves.\n",
    "\n",
    "**Ejemplo:**\n",
    "\n",
    "Un niño le pidió ayuda para crear un diccionario de la edad de su familia. Su mamá y su papá tienen 40 años cada uno, su hermana 8 años y su hermano 11 años. A continuación, se presenta un diagrama con las relaciones de correspondencia:"
   ],
   "id": "2d7deaed"
  },
  {
   "cell_type": "code",
   "metadata": {
    "id": "c704ced7",
    "executionInfo": {
     "status": "ok",
     "timestamp": 1633476979648,
     "user_tz": 180,
     "elapsed": 681,
     "user": {
      "displayName": "Juan Doppler",
      "photoUrl": "https://lh3.googleusercontent.com/a/default-user=s64",
      "userId": "07844692617551794157"
     }
    }
   },
   "source": [
    "familia = {\"Mama\": 40, \"Papa\": 40, \"Hermana\": 8, \"Hermano\": 11}"
   ],
   "id": "c704ced7",
   "execution_count": 2,
   "outputs": []
  },
  {
   "cell_type": "markdown",
   "metadata": {
    "id": "20ea6a45"
   },
   "source": [
    "### Estructuras de Control\n",
    "\n",
    "En programación, las estructuras de control operan como señales que determinan si ejecutar o no ciertas operaciones y cuando hacerlo. Cuando programamos definimos este tipo de reglas sobre cómo se ejecuta un procedimiento. A estas reglas las llamamos condicionales y son parte fundamental de todo programa."
   ],
   "id": "20ea6a45"
  },
  {
   "cell_type": "markdown",
   "metadata": {
    "id": "ee0fdee5"
   },
   "source": [
    "#### Sentencia if\n",
    "\n",
    "Para poder entrar a una película de terror hay que tener al menos 18 años. Por lo tanto, determinemos si una persona cumple o no con la condición. De este modo, si la persona tiene al menos 18 años imprimiremos “¡Puede entrar a la película!”, y de lo contrario imprimiremos “¡No puede entrar a la película!”."
   ],
   "id": "ee0fdee5"
  },
  {
   "cell_type": "code",
   "metadata": {
    "id": "f4c077d3",
    "executionInfo": {
     "status": "ok",
     "timestamp": 1633476983399,
     "user_tz": 180,
     "elapsed": 3,
     "user": {
      "displayName": "Juan Doppler",
      "photoUrl": "https://lh3.googleusercontent.com/a/default-user=s64",
      "userId": "07844692617551794157"
     }
    },
    "outputId": "b5594614-e401-4897-f25f-c3e1dfa03f5a",
    "colab": {
     "base_uri": "https://localhost:8080/"
    }
   },
   "source": [
    "edad = 17\n",
    "\n",
    "if edad >= 18:\n",
    "    print(\"¡Puede entrar a la película!\")\n",
    "else:\n",
    "    print(\"¡No puede entrar a la película!\")"
   ],
   "id": "f4c077d3",
   "execution_count": 3,
   "outputs": [
    {
     "output_type": "stream",
     "name": "stdout",
     "text": [
      "¡No puede entrar a la película!\n"
     ]
    }
   ]
  },
  {
   "cell_type": "markdown",
   "metadata": {
    "id": "34b4786b"
   },
   "source": [
    "#### Ciclos"
   ],
   "id": "34b4786b"
  },
  {
   "cell_type": "markdown",
   "metadata": {
    "id": "fabce335"
   },
   "source": [
    "```python\n",
    "for indices in estructura_iterable:\n",
    "    bloque_de_codigo \n",
    "```\n",
    "Un ciclo `for` es una estructura de control que nos permite repetir un bloque de código varias veces. De esta forma, podemos recorrer los objetos de una estructura iterable con los índices de las posiciones u obteniendo directamente el objeto de cada posición."
   ],
   "id": "fabce335"
  },
  {
   "cell_type": "code",
   "metadata": {
    "id": "4a68d857",
    "executionInfo": {
     "status": "ok",
     "timestamp": 1633476990208,
     "user_tz": 180,
     "elapsed": 237,
     "user": {
      "displayName": "Juan Doppler",
      "photoUrl": "https://lh3.googleusercontent.com/a/default-user=s64",
      "userId": "07844692617551794157"
     }
    },
    "outputId": "70044766-27be-4d03-e9d5-84516ade13b8",
    "colab": {
     "base_uri": "https://localhost:8080/"
    }
   },
   "source": [
    "paises = ['Japon', 'China', 'España', 'Estados Unidos', 'Indonesia']\n",
    "\n",
    "#Ejemplo 1\n",
    "for pais in paises:\n",
    "    print(pais)\n",
    "\n",
    "#Ejemplo 2\n",
    "for indice in range(len(paises)):\n",
    "    print (paises[indice])"
   ],
   "id": "4a68d857",
   "execution_count": 4,
   "outputs": [
    {
     "output_type": "stream",
     "name": "stdout",
     "text": [
      "Japon\n",
      "China\n",
      "España\n",
      "Estados Unidos\n",
      "Indonesia\n",
      "Japon\n",
      "China\n",
      "España\n",
      "Estados Unidos\n",
      "Indonesia\n"
     ]
    }
   ]
  },
  {
   "cell_type": "markdown",
   "metadata": {
    "id": "232f76ab"
   },
   "source": [
    "```python  \n",
    "    while(condicion):\n",
    "        bloque_de_codigo\n",
    "``` \n",
    "Un ciclo `while` es una estructura de control que nos permite repetir un bloque de código dependiendo del cumplimiento de una condición. De esta manera, en cada iteración se evalua la condición y si su valor es `True`, se ejecuta el bloque de código; el ciclo se detiene cuando la condición retorna por primera vez `False`."
   ],
   "id": "232f76ab"
  },
  {
   "cell_type": "code",
   "metadata": {
    "id": "287d245e",
    "executionInfo": {
     "status": "ok",
     "timestamp": 1633476992844,
     "user_tz": 180,
     "elapsed": 245,
     "user": {
      "displayName": "Juan Doppler",
      "photoUrl": "https://lh3.googleusercontent.com/a/default-user=s64",
      "userId": "07844692617551794157"
     }
    },
    "outputId": "6cc51f1c-243d-4443-807e-ee19f85b90cd",
    "colab": {
     "base_uri": "https://localhost:8080/"
    }
   },
   "source": [
    "continuar = True\n",
    "numero = 1\n",
    "\n",
    "while continuar:\n",
    "    print(numero)\n",
    "    \n",
    "    if numero%3 == 0 and not numero == 3:\n",
    "        continuar = False   # Podemos obtener el mismo resultado reemplazando esta línea de código por: break  \n",
    "\n",
    "    numero = numero + 1"
   ],
   "id": "287d245e",
   "execution_count": 5,
   "outputs": [
    {
     "output_type": "stream",
     "name": "stdout",
     "text": [
      "1\n",
      "2\n",
      "3\n",
      "4\n",
      "5\n",
      "6\n"
     ]
    }
   ]
  },
  {
   "cell_type": "markdown",
   "metadata": {
    "id": "1ae4208e"
   },
   "source": [
    "##### Nota Importante: ciclo infinito\n",
    "\n",
    "Un ciclo infinito ocurre cuando la condición del `while` nunca retorna `False`. De esta forma, el ciclo se ejecutará infinitamente, lo cual no es deseable. Ejemplo:\n",
    "\n",
    "```python  \n",
    "    x = 1\n",
    "    while( x > 0 ):\n",
    "        x = x + 1\n",
    "```\n",
    "En este caso, `x` siempre será mayor a 0, por lo cual, el ciclo nunca parará."
   ],
   "id": "1ae4208e"
  },
  {
   "cell_type": "markdown",
   "metadata": {
    "id": "bd8acdbf"
   },
   "source": [
    "#### Desafío Genérico\n",
    "\n",
    "**Ejercicio 1:**\n",
    "El factorial x! se define como el producto de todos los números desde 1 a x.\n",
    "\n",
    "***Escribir el código para calcular el factorial de 5.***\n"
   ],
   "id": "bd8acdbf"
  },
  {
   "cell_type": "code",
   "metadata": {
    "id": "aff5fb17"
   },
   "source": [
    "x=5\n",
    "factorial=1\n",
    "for i in range(1, x+1):\n",
    "    factorial *= i\n",
    "    print(\"i: \" + str(i) + \" | factorial: \" + str(factorial))"
   ],
   "id": "aff5fb17",
   "execution_count": 15,
   "outputs": [
    {
     "name": "stdout",
     "output_type": "stream",
     "text": [
      "i: 1 | factorial: 1\n",
      "i: 2 | factorial: 2\n",
      "i: 3 | factorial: 6\n",
      "i: 4 | factorial: 24\n",
      "i: 5 | factorial: 120\n"
     ]
    }
   ]
  },
  {
   "cell_type": "markdown",
   "metadata": {
    "id": "082993bd"
   },
   "source": [
    "**Ejercicio 2:**\n",
    "La solución de Gauss al problema de sucesión numérica.\n",
    "\n",
    "***Hacer un programa que calcule la suma de los primeros 100 números naturales.***"
   ],
   "id": "082993bd"
  },
  {
   "cell_type": "code",
   "metadata": {
    "id": "f7fa6216"
   },
   "source": [
    "x=int(input(\"Ingreso el nro de Gauss\"))\n",
    "sumatoria=0\n",
    "for i in range(1, x+1):\n",
    "    sumatoria += i\n",
    "    print(\"i: \" + str(i) + \" | sumatoria: \" + str(sumatoria))\n",
    "\n"
   ],
   "id": "f7fa6216",
   "execution_count": 2,
   "outputs": [
    {
     "name": "stdout",
     "output_type": "stream",
     "text": [
      "i: 1 | sumatoria: 1\n",
      "i: 2 | sumatoria: 3\n",
      "i: 3 | sumatoria: 6\n",
      "i: 4 | sumatoria: 10\n",
      "i: 5 | sumatoria: 15\n"
     ]
    }
   ]
  },
  {
   "cell_type": "markdown",
   "metadata": {
    "id": "446ef1b6"
   },
   "source": [
    "### Funciones\n",
    "\n",
    "En general, una función recibe uno o más elementos como entrada, efectúa ciertas operaciones a partir ellos y retorna uno o más elementos como salida. Así, podemos entender las funciones como una composición de tres partes de la siguiente manera:\n",
    "\n",
    "1. Parámetros: elementos recibidos para llevar a cabo las operaciones definidas en el cuerpo de la función. Estos pueden ser incluso estructuras de datos.\n",
    "2. Cuerpo: sección donde definimos las operaciones que se llevarán a cabo con el fin de producir un resultado. Aquí podemos definir variables e incluir estructuras de control.\n",
    "3. Retorno: resultado de ejecutar la función.\n",
    "\n",
    "También se da el caso en que una función no recibe parámetros o no genera un retorno; en este caso, el propósito de la función suele ser modificar un archivo o variable global."
   ],
   "id": "446ef1b6"
  },
  {
   "cell_type": "code",
   "metadata": {
    "id": "6d409be4",
    "outputId": "5b788979-2c51-40f9-e77a-e1b819ecd13e"
   },
   "source": [
    "def suma(x,y):\n",
    "    respuesta = x + y\n",
    "    return respuesta\n",
    "\n",
    "resp = suma(453,734)\n",
    "print(\"La suma de los ingresos brutos es: \" + str(resp) + \" USD\")"
   ],
   "id": "6d409be4",
   "execution_count": null,
   "outputs": [
    {
     "name": "stdout",
     "output_type": "stream",
     "text": [
      "La suma de los ingresos brutos es: 1187 USD\n"
     ]
    }
   ]
  },
  {
   "cell_type": "markdown",
   "metadata": {
    "id": "e3ccf4af"
   },
   "source": [
    "#### Funciones anónimas\n",
    "\n",
    "Las funciones anónimas son un tipo de función ampliamente utilizado en la programación y nos permiten comprimir una función en una linea de código. Sin embargo, no pueden tener más de una expresión dentro de su cuerpo. Este tipo de funciones se pueden o no asignar a una variable, de allí que sean llamadas funciones anónimas. En la práctica, las funciones anónimas nos ayudan a escribir código de manera concisa y ordenada. Se conocen como funciones `lambda` ya que Python utiliza esta palabra reservada para declararlas.\n",
    "\n",
    "**Sintaxis general**\n",
    "\n",
    "*Función asignada a una variable*\n",
    "```python\n",
    "nombre_funcion = lambda parametros: código_funcion\n",
    "```\n",
    "*Función sin asignar*\n",
    "```python\n",
    "lambda parametros: código_funcion\n",
    "```"
   ],
   "id": "e3ccf4af"
  },
  {
   "cell_type": "code",
   "metadata": {
    "id": "2f30ffd9",
    "outputId": "64d9b630-6b71-4079-8a9f-f0e780651878"
   },
   "source": [
    "suma_lambda = lambda x,y: x + y\n",
    "\n",
    "resp1 = suma_lambda(1,2)\n",
    "print(\"La suma de 1 y 2 es : \" + str(resp1))\n",
    "\n",
    "resp2 = suma_lambda(5,6)\n",
    "print(\"La suma de 5 y 6 es : \" + str(resp2))"
   ],
   "id": "2f30ffd9",
   "execution_count": null,
   "outputs": [
    {
     "name": "stdout",
     "output_type": "stream",
     "text": [
      "La suma de 1 y 2 es : 3\n",
      "La suma de 5 y 6 es : 11\n"
     ]
    }
   ]
  }
 ]
}