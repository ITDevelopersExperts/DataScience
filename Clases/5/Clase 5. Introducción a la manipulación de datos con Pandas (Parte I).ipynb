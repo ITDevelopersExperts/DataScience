{
 "cells": [
  {
   "cell_type": "markdown",
   "id": "b98b339e",
   "metadata": {},
   "source": [
    "# **CODERHOUSE DS - 22745**\n",
    "## Clase 5. Introducción a la manipulación de datos con Pandas (Parte I)"
   ]
  },
  {
   "cell_type": "markdown",
   "id": "25df3435",
   "metadata": {},
   "source": [
    "## Objetivos\n",
    "\n",
    "Al final de esta sesión habrás:\n",
    "\n",
    "**1.** Conocer las estructuras de datos en `pandas`. <br>\n",
    "**2.** Comprender el uso de `pandas` para operaciones básicas. <br>"
   ]
  },
  {
   "cell_type": "markdown",
   "id": "cb32003c",
   "metadata": {},
   "source": [
    "## 1. Librería `pandas`\n",
    "`pandas` es una librería abierta de Python que permite llevar a cabo manipulación y exploración de datos de forma sencilla. Sus estructuras básicas son llamadas `Series` y `DataFrame`, y nos permiten almacenar, limpiar y analizar datos.<br>\n",
    "Es recomendable importar la libería `pandas` utilizando el nombre `pd` (su alias más frecuentemente usado), como se muestra a continuación."
   ]
  },
  {
   "cell_type": "code",
   "execution_count": 5,
   "id": "1687ca8e",
   "metadata": {},
   "outputs": [],
   "source": [
    "import pandas as pd"
   ]
  },
  {
   "cell_type": "markdown",
   "id": "7a16df53",
   "metadata": {},
   "source": [
    "### 1.1. Objeto `Series`\n",
    "Un `Series` es un objeto unidimensional similar a una columna de una matriz, en el cual podemos almacenar datos. Un `Series` esta compuesto por índices y datos almacenados.\n",
    "\n",
    "\n",
    "| Índice | Datos |\n",
    "|:-:|:-:|\n",
    "| 1      | \"A\"   |\n",
    "| 2      | \"B\"   |\n",
    "| 3      | \"C\"   |\n",
    "| 4      | \"D\"   |\n",
    "| 5      | \"E\"   |"
   ]
  },
  {
   "cell_type": "markdown",
   "id": "a696ef5c",
   "metadata": {},
   "source": [
    "#### Declaración\n",
    "Podemos declarar un `Series` a partir de diferentes estructuras de datos. A continuación, vemos un ejemplo de declaración a partir de una lista:"
   ]
  },
  {
   "cell_type": "markdown",
   "id": "d6f98db6",
   "metadata": {},
   "source": [
    "##### Ejemplo 1. Declaración basada en una lista"
   ]
  },
  {
   "cell_type": "code",
   "execution_count": 6,
   "id": "048c4b83",
   "metadata": {},
   "outputs": [
    {
     "data": {
      "text/plain": "0    A\n1    B\n2    C\n3    D\n4    E\ndtype: object"
     },
     "execution_count": 6,
     "metadata": {},
     "output_type": "execute_result"
    }
   ],
   "source": [
    "# Ejemplo 1\n",
    "serie = pd.Series(['A','B','C','D','E'])\n",
    "serie"
   ]
  },
  {
   "cell_type": "markdown",
   "id": "90735cce",
   "metadata": {},
   "source": [
    "##### Ejemplo 2. Declaración basada en un rango de datos"
   ]
  },
  {
   "cell_type": "code",
   "execution_count": 7,
   "id": "ce01de93",
   "metadata": {},
   "outputs": [
    {
     "data": {
      "text/plain": "0    50\n1    52\n2    54\n3    56\n4    58\n5    60\n6    62\n7    64\n8    66\n9    68\ndtype: int64"
     },
     "execution_count": 7,
     "metadata": {},
     "output_type": "execute_result"
    }
   ],
   "source": [
    "# Ejemplo 2\n",
    "Numeros = range(50, 70, 2) \n",
    "Numeros_serie = pd.Series(Numeros)\n",
    "Numeros_serie"
   ]
  },
  {
   "cell_type": "markdown",
   "id": "3b655f48",
   "metadata": {},
   "source": [
    "También podemos usar diccionarios para declarar `Series`, a continuación vemos un ejemplo de cómo hacerlo:"
   ]
  },
  {
   "cell_type": "code",
   "execution_count": 8,
   "id": "62015fc2",
   "metadata": {},
   "outputs": [
    {
     "data": {
      "text/plain": "Colombia               Bogotá\nArgentina        Buenos Aires\nPeru                     Lima\nMexico       Ciudad de Mexico\nUruguay            Montevideo\ndtype: object"
     },
     "execution_count": 8,
     "metadata": {},
     "output_type": "execute_result"
    }
   ],
   "source": [
    "serie_1 = pd.Series({\"Colombia\":\"Bogotá\", \"Argentina\": \"Buenos Aires\", \"Peru\": \"Lima\", \"Mexico\": \"Ciudad de Mexico\", \"Uruguay\": \"Montevideo\"})\n",
    "serie_1"
   ]
  },
  {
   "cell_type": "markdown",
   "id": "66123f11",
   "metadata": {},
   "source": [
    "Finalmente, veamos cómo darle valor a los índices y nombrar el `Series`:"
   ]
  },
  {
   "cell_type": "code",
   "execution_count": 9,
   "id": "2b842155",
   "metadata": {
    "scrolled": true
   },
   "outputs": [
    {
     "data": {
      "text/plain": "10    A\n20    B\n30    C\n40    D\n50    E\nName: Mi_serie, dtype: object"
     },
     "execution_count": 9,
     "metadata": {},
     "output_type": "execute_result"
    }
   ],
   "source": [
    "serie_2 = pd.Series(['A','B','C','D','E'], index = [10,20,30,40,50], name = \"Mi_serie\")\n",
    "serie_2"
   ]
  },
  {
   "cell_type": "markdown",
   "id": "88cd8bfd",
   "metadata": {},
   "source": [
    "#### Componentes de un objeto Series\n",
    "Los dos elementos que compoenen un `Series` son su índice `index` y sus valores `values`."
   ]
  },
  {
   "cell_type": "code",
   "execution_count": 10,
   "id": "e012806e",
   "metadata": {},
   "outputs": [
    {
     "name": "stdout",
     "output_type": "stream",
     "text": [
      "RangeIndex(start=0, stop=10, step=1)\n",
      "[50 52 54 56 58 60 62 64 66 68]\n"
     ]
    }
   ],
   "source": [
    "# Índices\n",
    "print(Numeros_serie.index)\n",
    "\n",
    "# Valores\n",
    "print(Numeros_serie.values)"
   ]
  },
  {
   "cell_type": "markdown",
   "id": "73b9987a",
   "metadata": {},
   "source": [
    "#### Modificación de Índice\n",
    "Una de las grandes ventajas de una series con respecto a un objeto de tipo `list` o `numpy array`, es la posibilidad de asignar un índice a la medida y gusto de quien lo esté construyendo. Incluso existen índices múltiples."
   ]
  },
  {
   "cell_type": "code",
   "execution_count": 11,
   "id": "e828f850",
   "metadata": {},
   "outputs": [
    {
     "data": {
      "text/plain": "primero    50\nsegundo    52\ntercero    54\ncuarto     56\nquinto     58\nsexto      60\nséptimo    62\noctavo     64\nnoveno     66\ndécimo     68\ndtype: int64"
     },
     "execution_count": 11,
     "metadata": {},
     "output_type": "execute_result"
    }
   ],
   "source": [
    "Numeros_en_texto = ['primero','segundo','tercero','cuarto','quinto','sexto','séptimo','octavo','noveno','décimo']\n",
    "Numeros_serie_2 = pd.Series(Numeros,index=Numeros_en_texto)\n",
    "Numeros_serie_2"
   ]
  },
  {
   "cell_type": "markdown",
   "id": "a98a307a",
   "metadata": {},
   "source": [
    "#### Consulta\n",
    "\n",
    "Para acceder a un elemento de un `Series` podemos hacer uso de su posición o del valor de su índice, utilizando los atributos `iloc` o `loc`, respectivamente. A continuación, veremos un ejemplo de cómo acceder al segundo elemento según su posición."
   ]
  },
  {
   "cell_type": "markdown",
   "id": "95e179e9",
   "metadata": {},
   "source": [
    "#### Ejemplo 1.  Llamado básico por índice\n"
   ]
  },
  {
   "cell_type": "code",
   "execution_count": 12,
   "id": "bce4e7af",
   "metadata": {},
   "outputs": [
    {
     "data": {
      "text/plain": "58"
     },
     "execution_count": 12,
     "metadata": {},
     "output_type": "execute_result"
    }
   ],
   "source": [
    "Numeros_serie_2['quinto']"
   ]
  },
  {
   "cell_type": "markdown",
   "id": "b6c443d2",
   "metadata": {},
   "source": [
    "#### Ejemplo 2.  Atributo `loc`"
   ]
  },
  {
   "cell_type": "code",
   "execution_count": 13,
   "id": "2108ca87",
   "metadata": {},
   "outputs": [
    {
     "data": {
      "text/plain": "58"
     },
     "execution_count": 13,
     "metadata": {},
     "output_type": "execute_result"
    }
   ],
   "source": [
    "Numeros_serie_2.loc['quinto']"
   ]
  },
  {
   "cell_type": "markdown",
   "id": "5b6265fc",
   "metadata": {},
   "source": [
    "#### Ejemplo 3. Consulta por posiciones"
   ]
  },
  {
   "cell_type": "markdown",
   "id": "40d06237",
   "metadata": {},
   "source": [
    "A continuación, veremos un ejemplo de cómo acceder al segundo elemento según su posición."
   ]
  },
  {
   "cell_type": "code",
   "execution_count": 14,
   "id": "aa348fd3",
   "metadata": {},
   "outputs": [
    {
     "name": "stdout",
     "output_type": "stream",
     "text": [
      "10    A\n",
      "20    B\n",
      "30    C\n",
      "40    D\n",
      "50    E\n",
      "Name: Mi_serie, dtype: object\n"
     ]
    },
    {
     "data": {
      "text/plain": "'B'"
     },
     "execution_count": 14,
     "metadata": {},
     "output_type": "execute_result"
    }
   ],
   "source": [
    "# Recordemos la serie creada con anterioridad\n",
    "serie = pd.Series(['A','B','C','D','E'], index = [10,20,30,40,50], name = \"Mi_serie\")\n",
    "print(serie)\n",
    "# Seleccionemos un elemento de la Serie a partir de su posición.\n",
    "elem_2 = serie.iloc[1]\n",
    "elem_2"
   ]
  },
  {
   "cell_type": "markdown",
   "id": "bc82df02",
   "metadata": {},
   "source": [
    "También veremos un ejemplo de cómo acceder al segundo elemento según su índice."
   ]
  },
  {
   "cell_type": "code",
   "execution_count": 15,
   "id": "876967ae",
   "metadata": {},
   "outputs": [
    {
     "data": {
      "text/plain": "'B'"
     },
     "execution_count": 15,
     "metadata": {},
     "output_type": "execute_result"
    }
   ],
   "source": [
    "elem_2 = serie.loc[20]\n",
    "elem_2"
   ]
  },
  {
   "cell_type": "markdown",
   "id": "8fedea6f",
   "metadata": {},
   "source": [
    "#### Rebanado\n",
    "\n",
    "De manera similar a cómo accedimos a un elemento, también podemos acceder a una porción de un `Series` utilizando los atributos `iloc` y `loc`, y la sintaxis que ya hemos aprendido anteriormente para rebanar. Veremos cómo obtener los primeros dos elementos del `Series` `serie` usando un rebanado por posición:"
   ]
  },
  {
   "cell_type": "code",
   "execution_count": 16,
   "id": "8aea86da",
   "metadata": {},
   "outputs": [
    {
     "data": {
      "text/plain": "10    A\n20    B\n30    C\n40    D\nName: Mi_serie, dtype: object"
     },
     "execution_count": 16,
     "metadata": {},
     "output_type": "execute_result"
    }
   ],
   "source": [
    "parte_serie = serie.iloc[0:4]\n",
    "parte_serie"
   ]
  },
  {
   "cell_type": "markdown",
   "id": "cecdad8b",
   "metadata": {},
   "source": [
    "### 1.2. Objeto `DataFrame`\n",
    "\n",
    "Un `DataFrame` es una estructura de datos mutable de dos dimensiones: filas y columnas. Usualmente utilizamos un `DataFrame` para registrar observaciones de variables o características. A cada observación le corresponde una fila y a cada característica una columna.\n",
    "\n",
    "Esta convención no es exclusiva de Python, generalmente los programas para el análisis de datos se manejan de la misma manera.\n",
    "\n",
    "Podemos ver en la siguiente tabla un ejemplo de como ordenamos observaciones en una tabla o `DataFrame`\n",
    "\n",
    "|Índice| <center>Nombre</center>    | <center>Sexo</center>      | Estatura (metros) |\n",
    "|---|:-----------:|-----------|:-------------------:|\n",
    "| 0 | Alejandro | Masculino | 1.70              |\n",
    "| 1 | Esteban   | Masculino | 1.75              |\n",
    "| 2 | Manuela   | Femenino  | 1.69              |\n",
    "| 3 | Diego     | Masculino | 1.60              |\n",
    "| 4 | Alejandra | Femenino  | 1.65              |\n",
    "| 5 | Paula     | Femenino  | 1.55              |"
   ]
  },
  {
   "cell_type": "markdown",
   "id": "e0cf028b",
   "metadata": {},
   "source": [
    "#### Declaración\n",
    "Podemos declarar un `DataFrame` a partir de diferentes estructuras de datos. A continuación, vemos un ejemplo de declaración a partir de una listas:"
   ]
  },
  {
   "cell_type": "code",
   "execution_count": 17,
   "id": "cb5c1710",
   "metadata": {
    "scrolled": true
   },
   "outputs": [
    {
     "data": {
      "text/plain": "          Nombre  Edad Ciudad Residencia\nPersona 1  Jorge    28            Bogotá\nPersona 2  Laura    37              Lima",
      "text/html": "<div>\n<style scoped>\n    .dataframe tbody tr th:only-of-type {\n        vertical-align: middle;\n    }\n\n    .dataframe tbody tr th {\n        vertical-align: top;\n    }\n\n    .dataframe thead th {\n        text-align: right;\n    }\n</style>\n<table border=\"1\" class=\"dataframe\">\n  <thead>\n    <tr style=\"text-align: right;\">\n      <th></th>\n      <th>Nombre</th>\n      <th>Edad</th>\n      <th>Ciudad Residencia</th>\n    </tr>\n  </thead>\n  <tbody>\n    <tr>\n      <th>Persona 1</th>\n      <td>Jorge</td>\n      <td>28</td>\n      <td>Bogotá</td>\n    </tr>\n    <tr>\n      <th>Persona 2</th>\n      <td>Laura</td>\n      <td>37</td>\n      <td>Lima</td>\n    </tr>\n  </tbody>\n</table>\n</div>"
     },
     "execution_count": 17,
     "metadata": {},
     "output_type": "execute_result"
    }
   ],
   "source": [
    "l1 = [\"Jorge\", 28, \"Bogotá\"]\n",
    "l2 = [\"Laura\", 37, \"Lima\"]\n",
    "\n",
    "df = pd.DataFrame([l1,l2], index = [\"Persona 1\", \"Persona 2\"], columns = [\"Nombre\", \"Edad\", \"Ciudad Residencia\"])\n",
    "\n",
    "df"
   ]
  },
  {
   "cell_type": "markdown",
   "id": "089e30b5",
   "metadata": {},
   "source": [
    "También podemos declarar un `DataFrame` a partir de múltiples `Series`."
   ]
  },
  {
   "cell_type": "code",
   "execution_count": 18,
   "id": "68297abc",
   "metadata": {
    "scrolled": true
   },
   "outputs": [
    {
     "data": {
      "text/plain": "             Pais       Capital\nPais 1   Colombia        Bogotá\nPais 2  Argentina  Buenos Aires\nPais 3       Peru          Lima",
      "text/html": "<div>\n<style scoped>\n    .dataframe tbody tr th:only-of-type {\n        vertical-align: middle;\n    }\n\n    .dataframe tbody tr th {\n        vertical-align: top;\n    }\n\n    .dataframe thead th {\n        text-align: right;\n    }\n</style>\n<table border=\"1\" class=\"dataframe\">\n  <thead>\n    <tr style=\"text-align: right;\">\n      <th></th>\n      <th>Pais</th>\n      <th>Capital</th>\n    </tr>\n  </thead>\n  <tbody>\n    <tr>\n      <th>Pais 1</th>\n      <td>Colombia</td>\n      <td>Bogotá</td>\n    </tr>\n    <tr>\n      <th>Pais 2</th>\n      <td>Argentina</td>\n      <td>Buenos Aires</td>\n    </tr>\n    <tr>\n      <th>Pais 3</th>\n      <td>Peru</td>\n      <td>Lima</td>\n    </tr>\n  </tbody>\n</table>\n</div>"
     },
     "execution_count": 18,
     "metadata": {},
     "output_type": "execute_result"
    }
   ],
   "source": [
    "s1 = pd.Series({\"Pais\":\"Colombia\", \"Capital\": \"Bogotá\"})\n",
    "s2 = pd.Series({\"Pais\": \"Argentina\", \"Capital\": \"Buenos Aires\"})\n",
    "s3 = pd.Series({\"Pais\": \"Peru\", \"Capital\": \"Lima\"})\n",
    "\n",
    "df = pd.DataFrame([s1,s2, s3], index = [\"Pais 1\", \"Pais 2\", \"Pais 3\"])\n",
    "\n",
    "df"
   ]
  },
  {
   "cell_type": "markdown",
   "id": "bf0b6f45",
   "metadata": {},
   "source": [
    "#### Consulta\n",
    "\n",
    "De manera similar al filtrado por posiciones de un `Series`, para acceder a uno o más valores dentro de un `DataFrame`, podemos hacer uso de su posición, del nombre de su índice o del nombre de su columna.\n",
    "\n",
    "Los atributos `loc` y `iloc` son estructuras iterables que nos permiten filtrar filas y columnas de manera simultánea.\n",
    "\n",
    "Por ejemplo, podemos utilizar los objetos `filas` y `columnas` para indicar las posiciones deseadas, como se muestra a continuación:\n",
    "\n",
    "```python\n",
    "df.iloc[filas, columnas]\n",
    "```\n",
    "\n",
    "Si queremos seleccionar las primeras $n$ filas y las columnas de la $m$ en adelante, podemos hacerlo de la siguiente manera:\n",
    "\n",
    "```python\n",
    "df.iloc[ :n, m: ]\n",
    "```\n",
    "\n",
    "A continuación accedemos a los valores de la columna llamada `\"Pais\"`."
   ]
  },
  {
   "cell_type": "code",
   "execution_count": 19,
   "id": "32df9b08",
   "metadata": {},
   "outputs": [
    {
     "data": {
      "text/plain": "Pais 1     Colombia\nPais 2    Argentina\nPais 3         Peru\nName: Pais, dtype: object"
     },
     "execution_count": 19,
     "metadata": {},
     "output_type": "execute_result"
    }
   ],
   "source": [
    "paises = df[\"Pais\"]\n",
    "paises"
   ]
  },
  {
   "cell_type": "markdown",
   "id": "8df58f91",
   "metadata": {},
   "source": [
    "Veamos ahora como acceder a los valores de una fila utilizando su posición."
   ]
  },
  {
   "cell_type": "code",
   "execution_count": 20,
   "id": "8349b13a",
   "metadata": {
    "scrolled": true
   },
   "outputs": [
    {
     "data": {
      "text/plain": "Pais       Colombia\nCapital      Bogotá\nName: Pais 1, dtype: object"
     },
     "execution_count": 20,
     "metadata": {},
     "output_type": "execute_result"
    }
   ],
   "source": [
    "primer_pais = df.iloc[0]\n",
    "primer_pais"
   ]
  },
  {
   "cell_type": "markdown",
   "id": "cd4b9962",
   "metadata": {},
   "source": [
    "También, podemos acceder a esta misma información utilizando el nombre del índice de la fila consultada."
   ]
  },
  {
   "cell_type": "code",
   "execution_count": 21,
   "id": "2de5f326",
   "metadata": {},
   "outputs": [
    {
     "data": {
      "text/plain": "Pais       Colombia\nCapital      Bogotá\nName: Pais 1, dtype: object"
     },
     "execution_count": 21,
     "metadata": {},
     "output_type": "execute_result"
    }
   ],
   "source": [
    "primer_pais = df.loc[\"Pais 1\"]\n",
    "primer_pais"
   ]
  },
  {
   "cell_type": "markdown",
   "id": "f0b67247",
   "metadata": {},
   "source": [
    "Finalmente, accedemos a un elemento en específico utlizando el nombre de su índice y su columna."
   ]
  },
  {
   "cell_type": "code",
   "execution_count": 22,
   "id": "ae42ab58",
   "metadata": {
    "scrolled": true
   },
   "outputs": [
    {
     "data": {
      "text/plain": "'Bogotá'"
     },
     "execution_count": 22,
     "metadata": {},
     "output_type": "execute_result"
    }
   ],
   "source": [
    "capital_pais_1 = df.loc[\"Pais 1\", \"Capital\"]\n",
    "capital_pais_1"
   ]
  },
  {
   "cell_type": "markdown",
   "id": "a3277ff7",
   "metadata": {},
   "source": [
    "#### Rebanado\n",
    "\n",
    "De manera similar a cómo accedimos a un elemento, también podemos acceder a una porción de un `DataFrame` utilizando los atributos `iloc` y `loc`, y la sintaxis que ya hemos aprendido anteriormente para rebanar. Veremos cómo obtener las primeras dos filas del `DataFrame` `df` usando un rebanado por posición:"
   ]
  },
  {
   "cell_type": "code",
   "execution_count": 23,
   "id": "3c4ff43e",
   "metadata": {
    "scrolled": false
   },
   "outputs": [
    {
     "data": {
      "text/plain": "             Pais       Capital\nPais 1   Colombia        Bogotá\nPais 2  Argentina  Buenos Aires",
      "text/html": "<div>\n<style scoped>\n    .dataframe tbody tr th:only-of-type {\n        vertical-align: middle;\n    }\n\n    .dataframe tbody tr th {\n        vertical-align: top;\n    }\n\n    .dataframe thead th {\n        text-align: right;\n    }\n</style>\n<table border=\"1\" class=\"dataframe\">\n  <thead>\n    <tr style=\"text-align: right;\">\n      <th></th>\n      <th>Pais</th>\n      <th>Capital</th>\n    </tr>\n  </thead>\n  <tbody>\n    <tr>\n      <th>Pais 1</th>\n      <td>Colombia</td>\n      <td>Bogotá</td>\n    </tr>\n    <tr>\n      <th>Pais 2</th>\n      <td>Argentina</td>\n      <td>Buenos Aires</td>\n    </tr>\n  </tbody>\n</table>\n</div>"
     },
     "execution_count": 23,
     "metadata": {},
     "output_type": "execute_result"
    }
   ],
   "source": [
    "filas_df = df.iloc[0:2]\n",
    "filas_df"
   ]
  },
  {
   "cell_type": "markdown",
   "id": "ad40bbe7",
   "metadata": {},
   "source": [
    "A continuación mostramos como obtener la segunda columna del `DataFrame`."
   ]
  },
  {
   "cell_type": "code",
   "execution_count": 24,
   "id": "8ec30998",
   "metadata": {
    "scrolled": true
   },
   "outputs": [
    {
     "data": {
      "text/plain": "             Capital\nPais 1        Bogotá\nPais 2  Buenos Aires\nPais 3          Lima",
      "text/html": "<div>\n<style scoped>\n    .dataframe tbody tr th:only-of-type {\n        vertical-align: middle;\n    }\n\n    .dataframe tbody tr th {\n        vertical-align: top;\n    }\n\n    .dataframe thead th {\n        text-align: right;\n    }\n</style>\n<table border=\"1\" class=\"dataframe\">\n  <thead>\n    <tr style=\"text-align: right;\">\n      <th></th>\n      <th>Capital</th>\n    </tr>\n  </thead>\n  <tbody>\n    <tr>\n      <th>Pais 1</th>\n      <td>Bogotá</td>\n    </tr>\n    <tr>\n      <th>Pais 2</th>\n      <td>Buenos Aires</td>\n    </tr>\n    <tr>\n      <th>Pais 3</th>\n      <td>Lima</td>\n    </tr>\n  </tbody>\n</table>\n</div>"
     },
     "execution_count": 24,
     "metadata": {},
     "output_type": "execute_result"
    }
   ],
   "source": [
    "columnas_df = df.iloc[:,1:2]\n",
    "columnas_df"
   ]
  },
  {
   "cell_type": "markdown",
   "id": "b3e38117",
   "metadata": {},
   "source": [
    "Además, veamos como obtener la porción que contiene únicamente la capital de los dos primero países."
   ]
  },
  {
   "cell_type": "code",
   "execution_count": 25,
   "id": "95321498",
   "metadata": {},
   "outputs": [
    {
     "data": {
      "text/plain": "             Capital\nPais 1        Bogotá\nPais 2  Buenos Aires",
      "text/html": "<div>\n<style scoped>\n    .dataframe tbody tr th:only-of-type {\n        vertical-align: middle;\n    }\n\n    .dataframe tbody tr th {\n        vertical-align: top;\n    }\n\n    .dataframe thead th {\n        text-align: right;\n    }\n</style>\n<table border=\"1\" class=\"dataframe\">\n  <thead>\n    <tr style=\"text-align: right;\">\n      <th></th>\n      <th>Capital</th>\n    </tr>\n  </thead>\n  <tbody>\n    <tr>\n      <th>Pais 1</th>\n      <td>Bogotá</td>\n    </tr>\n    <tr>\n      <th>Pais 2</th>\n      <td>Buenos Aires</td>\n    </tr>\n  </tbody>\n</table>\n</div>"
     },
     "execution_count": 25,
     "metadata": {},
     "output_type": "execute_result"
    }
   ],
   "source": [
    "porcion_df = df.iloc[0:2, 1:2]\n",
    "porcion_df"
   ]
  },
  {
   "cell_type": "markdown",
   "id": "14a0ff8b",
   "metadata": {},
   "source": [
    "Si las posiciones que queremos rebanar no son consecutivas, `pandas` nos permite indicarlas en una lista.\n",
    "A continuación, vemos una manera de mostrar únicamente la primera y última fila de un `DataFrame`."
   ]
  },
  {
   "cell_type": "code",
   "execution_count": 38,
   "id": "16411fd4",
   "metadata": {},
   "outputs": [
    {
     "data": {
      "text/plain": "            Pais Capital\nPais 1  Colombia  Bogotá\nPais 3      Peru    Lima",
      "text/html": "<div>\n<style scoped>\n    .dataframe tbody tr th:only-of-type {\n        vertical-align: middle;\n    }\n\n    .dataframe tbody tr th {\n        vertical-align: top;\n    }\n\n    .dataframe thead th {\n        text-align: right;\n    }\n</style>\n<table border=\"1\" class=\"dataframe\">\n  <thead>\n    <tr style=\"text-align: right;\">\n      <th></th>\n      <th>Pais</th>\n      <th>Capital</th>\n    </tr>\n  </thead>\n  <tbody>\n    <tr>\n      <th>Pais 1</th>\n      <td>Colombia</td>\n      <td>Bogotá</td>\n    </tr>\n    <tr>\n      <th>Pais 3</th>\n      <td>Peru</td>\n      <td>Lima</td>\n    </tr>\n  </tbody>\n</table>\n</div>"
     },
     "execution_count": 38,
     "metadata": {},
     "output_type": "execute_result"
    }
   ],
   "source": [
    "df.iloc[ [0, df.shape[0] - 1], : ]"
   ]
  },
  {
   "cell_type": "markdown",
   "id": "8e930675",
   "metadata": {},
   "source": [
    "### 1.3. Operaciones con Objetos `Series` y  `Dataframe`"
   ]
  },
  {
   "cell_type": "markdown",
   "id": "6afee19d",
   "metadata": {},
   "source": [
    "#### Transpuesta\n",
    "\n",
    "La transposición, es la operación de cambiar las filas por las columnas y viceversa. En álgebra lineal, el corazón de la matemática y la estadísitca de la Ciencia de Datos, es una de las operaciones más comunes y simples."
   ]
  },
  {
   "cell_type": "code",
   "execution_count": 27,
   "id": "3efae232",
   "metadata": {},
   "outputs": [
    {
     "data": {
      "text/plain": "             Pais       Capital\nPais 1   Colombia        Bogotá\nPais 2  Argentina  Buenos Aires\nPais 3       Peru          Lima",
      "text/html": "<div>\n<style scoped>\n    .dataframe tbody tr th:only-of-type {\n        vertical-align: middle;\n    }\n\n    .dataframe tbody tr th {\n        vertical-align: top;\n    }\n\n    .dataframe thead th {\n        text-align: right;\n    }\n</style>\n<table border=\"1\" class=\"dataframe\">\n  <thead>\n    <tr style=\"text-align: right;\">\n      <th></th>\n      <th>Pais</th>\n      <th>Capital</th>\n    </tr>\n  </thead>\n  <tbody>\n    <tr>\n      <th>Pais 1</th>\n      <td>Colombia</td>\n      <td>Bogotá</td>\n    </tr>\n    <tr>\n      <th>Pais 2</th>\n      <td>Argentina</td>\n      <td>Buenos Aires</td>\n    </tr>\n    <tr>\n      <th>Pais 3</th>\n      <td>Peru</td>\n      <td>Lima</td>\n    </tr>\n  </tbody>\n</table>\n</div>"
     },
     "execution_count": 27,
     "metadata": {},
     "output_type": "execute_result"
    }
   ],
   "source": [
    "#Dataframe Original\n",
    "df"
   ]
  },
  {
   "cell_type": "code",
   "execution_count": 28,
   "id": "348ad78f",
   "metadata": {},
   "outputs": [
    {
     "data": {
      "text/plain": "           Pais 1        Pais 2 Pais 3\nPais     Colombia     Argentina   Peru\nCapital    Bogotá  Buenos Aires   Lima",
      "text/html": "<div>\n<style scoped>\n    .dataframe tbody tr th:only-of-type {\n        vertical-align: middle;\n    }\n\n    .dataframe tbody tr th {\n        vertical-align: top;\n    }\n\n    .dataframe thead th {\n        text-align: right;\n    }\n</style>\n<table border=\"1\" class=\"dataframe\">\n  <thead>\n    <tr style=\"text-align: right;\">\n      <th></th>\n      <th>Pais 1</th>\n      <th>Pais 2</th>\n      <th>Pais 3</th>\n    </tr>\n  </thead>\n  <tbody>\n    <tr>\n      <th>Pais</th>\n      <td>Colombia</td>\n      <td>Argentina</td>\n      <td>Peru</td>\n    </tr>\n    <tr>\n      <th>Capital</th>\n      <td>Bogotá</td>\n      <td>Buenos Aires</td>\n      <td>Lima</td>\n    </tr>\n  </tbody>\n</table>\n</div>"
     },
     "execution_count": 28,
     "metadata": {},
     "output_type": "execute_result"
    }
   ],
   "source": [
    "#Dataframe Transpuesto\n",
    "df.T"
   ]
  },
  {
   "cell_type": "markdown",
   "id": "1cbd7f66",
   "metadata": {},
   "source": [
    "#### Funciones Vectorizadas\n",
    "\n",
    "Al igual que con los arreglos vectoriales de la librería `numpy` es posible realizar operaciones entre objetos `Series` o `Dataframe`. Un aspecto relevante a mencionar es que los criterios para efectuar estos cálculos dependerán en gran medida de los índices.<br>\n",
    "\n",
    "Veamos un ejemplo de construcción de Dataframe y su posterior uso conjunto a funciones vectorizadas."
   ]
  },
  {
   "cell_type": "code",
   "execution_count": 29,
   "id": "cc5a04bd",
   "metadata": {},
   "outputs": [
    {
     "data": {
      "text/plain": "                                 Peso       Largo\nA4 3.0 Quattro 4dr manual  100.000000  100.000000\nA4 3.0 Quattro 4dr auto    101.228021  100.000000\nA6 3.0 4dr                  99.385989  107.262570\nA6 3.0 Quattro 4dr         108.289143  107.262570\nA4 3.0 convertible 2dr     106.447111  100.558659",
      "text/html": "<div>\n<style scoped>\n    .dataframe tbody tr th:only-of-type {\n        vertical-align: middle;\n    }\n\n    .dataframe tbody tr th {\n        vertical-align: top;\n    }\n\n    .dataframe thead th {\n        text-align: right;\n    }\n</style>\n<table border=\"1\" class=\"dataframe\">\n  <thead>\n    <tr style=\"text-align: right;\">\n      <th></th>\n      <th>Peso</th>\n      <th>Largo</th>\n    </tr>\n  </thead>\n  <tbody>\n    <tr>\n      <th>A4 3.0 Quattro 4dr manual</th>\n      <td>100.000000</td>\n      <td>100.000000</td>\n    </tr>\n    <tr>\n      <th>A4 3.0 Quattro 4dr auto</th>\n      <td>101.228021</td>\n      <td>100.000000</td>\n    </tr>\n    <tr>\n      <th>A6 3.0 4dr</th>\n      <td>99.385989</td>\n      <td>107.262570</td>\n    </tr>\n    <tr>\n      <th>A6 3.0 Quattro 4dr</th>\n      <td>108.289143</td>\n      <td>107.262570</td>\n    </tr>\n    <tr>\n      <th>A4 3.0 convertible 2dr</th>\n      <td>106.447111</td>\n      <td>100.558659</td>\n    </tr>\n  </tbody>\n</table>\n</div>"
     },
     "execution_count": 29,
     "metadata": {},
     "output_type": "execute_result"
    }
   ],
   "source": [
    "# Datos originales en formato de lista\n",
    "modelos = ['A4 3.0 Quattro 4dr manual',\n",
    " 'A4 3.0 Quattro 4dr auto',\n",
    " 'A6 3.0 4dr',\n",
    " 'A6 3.0 Quattro 4dr',\n",
    " 'A4 3.0 convertible 2dr']\n",
    "peso = [3583, 3627, 3561, 3880, 3814]\n",
    "precios = ['$33,430', '$34,480', '$36,640', '$39,640', '$42,490']\n",
    "largo = [179, 179, 192, 192, 180]\n",
    "\n",
    "# Creación de Series de peso y Precio\n",
    "Autos_peso = pd.Series(peso,index=modelos)\n",
    "Autos_precio = pd.Series(precios,index=modelos)\n",
    "\n",
    "# Creación de Dataframe a partir de objetos Series y List\n",
    "Autos = pd.DataFrame({'Peso':peso,'Largo':largo },index=modelos)\n",
    "Autos / Autos.iloc[0] * 100"
   ]
  },
  {
   "cell_type": "markdown",
   "id": "56731bb3",
   "metadata": {},
   "source": [
    "#### Conservación de índices\n",
    "\n",
    "Al igual que con los arreglos vectoriales de la librería `numpy` es posible realizar operaciones entre obejtos `Series` o `Dataframe`. Un aspecto relevante a mencionar es que los criterios para efectuar estos cálculos dependerán en gran medida de los índices.<br>"
   ]
  },
  {
   "cell_type": "code",
   "execution_count": 30,
   "id": "d1fdde07",
   "metadata": {},
   "outputs": [
    {
     "data": {
      "text/plain": "primero    50\nsegundo    52\ntercero    54\ncuarto     56\nquinto     58\nsexto      60\nséptimo    62\noctavo     64\nnoveno     66\ndécimo     68\ndtype: int64"
     },
     "execution_count": 30,
     "metadata": {},
     "output_type": "execute_result"
    }
   ],
   "source": [
    "Numeros_en_texto = ['primero','segundo','tercero','cuarto','quinto','sexto','séptimo','octavo','noveno','décimo']\n",
    "Numeros_serie_2 = pd.Series(Numeros,index=Numeros_en_texto)\n",
    "Numeros_serie_2"
   ]
  },
  {
   "cell_type": "code",
   "execution_count": 31,
   "id": "c0309502",
   "metadata": {},
   "outputs": [
    {
     "data": {
      "text/plain": "primero    51\nsegundo    53\ntercero    55\ncuarto     57\nquinto     59\nsexto      61\nséptimo    63\noctavo     65\nnoveno     67\ndécimo     69\ndtype: int64"
     },
     "execution_count": 31,
     "metadata": {},
     "output_type": "execute_result"
    }
   ],
   "source": [
    "Numeros_3 = range(51,70,2)\n",
    "Numeros_serie_3 = pd.Series(Numeros_3,index=Numeros_en_texto)\n",
    "Numeros_serie_3"
   ]
  },
  {
   "cell_type": "code",
   "execution_count": 32,
   "id": "19ca6cf9",
   "metadata": {},
   "outputs": [
    {
     "data": {
      "text/plain": "primero    101\nsegundo    105\ntercero    109\ncuarto     113\nquinto     117\nsexto      121\nséptimo    125\noctavo     129\nnoveno     133\ndécimo     137\ndtype: int64"
     },
     "execution_count": 32,
     "metadata": {},
     "output_type": "execute_result"
    }
   ],
   "source": [
    "#Aplicamos una operación de suma\n",
    "Numeros_serie_2 + Numeros_serie_3"
   ]
  },
  {
   "cell_type": "markdown",
   "id": "fbfd7688",
   "metadata": {},
   "source": [
    "En el ejercicio inmediatamente anterior es posible ver cómo se conservan los índices para realizar operaciones, sin embargo, ¿que sucedería si no tenemos índices compatibles o idénticos? <br>\n",
    "En el siguiente ejemplo se muestra que sucede si se toman dos objetos con índices que no coinciden."
   ]
  },
  {
   "cell_type": "code",
   "execution_count": 33,
   "id": "8516dc82",
   "metadata": {},
   "outputs": [
    {
     "name": "stdout",
     "output_type": "stream",
     "text": [
      "sexto      61\n",
      "séptimo    63\n",
      "octavo     65\n",
      "dtype: int64 quinto     58\n",
      "sexto      60\n",
      "séptimo    62\n",
      "dtype: int64\n",
      "\n",
      "octavo       NaN\n",
      "quinto       NaN\n",
      "sexto      121.0\n",
      "séptimo    125.0\n",
      "dtype: float64\n"
     ]
    }
   ],
   "source": [
    "#Rebanamos los objetos Series para obtener porciones de índices dispares\n",
    "Numeros_serie_2_porcion = Numeros_serie_2[4:7]\n",
    "Numeros_serie_3_porcion = Numeros_serie_3[5:8]\n",
    "print(Numeros_serie_3_porcion, Numeros_serie_2_porcion); print()\n",
    "#Efectuamos la operación de suma con índices variables\n",
    "print(Numeros_serie_2_porcion + Numeros_serie_3_porcion)"
   ]
  },
  {
   "cell_type": "markdown",
   "id": "3622c633",
   "metadata": {},
   "source": [
    "### 1.4. Introducción a valores faltantes o 'missing values'"
   ]
  },
  {
   "cell_type": "markdown",
   "id": "22baeef2",
   "metadata": {},
   "source": [
    "Los valores faltantes representan secciones de los datos que carecen de información, bien sea por:\n",
    "1. Errores de carga.\n",
    "2. Omisión del encargado de la recoleción y dispersión.\n",
    "3. Renuencia a compartir la información.\n",
    "4. Disponibilidad.\n",
    "\n",
    "En el diario vivir de un Científico de Datos, los valores faltantes siempre estarán presentes, es por esto que es importante conocer diversas herramientas que permitan manipular adecuadamante la información."
   ]
  },
  {
   "cell_type": "markdown",
   "id": "e23135eb",
   "metadata": {},
   "source": [
    "#### NaN == Not a Number"
   ]
  },
  {
   "cell_type": "code",
   "execution_count": 34,
   "id": "9ebb9498",
   "metadata": {},
   "outputs": [
    {
     "data": {
      "text/plain": "float"
     },
     "execution_count": 34,
     "metadata": {},
     "output_type": "execute_result"
    }
   ],
   "source": [
    "import numpy as np\n",
    "valor_nan = np.nan\n",
    "type(valor_nan)"
   ]
  },
  {
   "cell_type": "markdown",
   "id": "8c112430",
   "metadata": {},
   "source": [
    "Los valores NaN, tienen una particularidad, cualquier operación que se les aplique dará como resultado NaN. Por ejemplo:"
   ]
  },
  {
   "cell_type": "code",
   "execution_count": 35,
   "id": "4192efd1",
   "metadata": {},
   "outputs": [
    {
     "data": {
      "text/plain": "nan"
     },
     "execution_count": 35,
     "metadata": {},
     "output_type": "execute_result"
    }
   ],
   "source": [
    "2 * valor_nan"
   ]
  },
  {
   "cell_type": "markdown",
   "id": "394fad45",
   "metadata": {},
   "source": [
    "Dado lo frecuente de los 'missing values' la mayoría de las funciones de las librerías incorporan métodos para tratar con datasets que tengan una proporción faltante.<br>\n",
    "Para ilustrarlo, veamos como realizar la multiplicación anterior:"
   ]
  },
  {
   "cell_type": "code",
   "execution_count": 36,
   "id": "8e026da2",
   "metadata": {},
   "outputs": [
    {
     "data": {
      "text/plain": "2.0"
     },
     "execution_count": 36,
     "metadata": {},
     "output_type": "execute_result"
    }
   ],
   "source": [
    "np.nanprod([2,valor_nan])"
   ]
  },
  {
   "cell_type": "markdown",
   "id": "8c6db79c",
   "metadata": {},
   "source": [
    "#### Procedimientos comunes con datos faltantes"
   ]
  },
  {
   "cell_type": "markdown",
   "id": "a7fbcb4d",
   "metadata": {},
   "source": [
    "Identificación para su posterior procesamiento o remoción"
   ]
  },
  {
   "cell_type": "code",
   "execution_count": 37,
   "id": "c4796bc0",
   "metadata": {},
   "outputs": [
    {
     "ename": "NameError",
     "evalue": "name 'Numeros_nan' is not defined",
     "output_type": "error",
     "traceback": [
      "\u001B[0;31m---------------------------------------------------------------------------\u001B[0m",
      "\u001B[0;31mNameError\u001B[0m                                 Traceback (most recent call last)",
      "\u001B[0;32m/tmp/ipykernel_71403/1667832279.py\u001B[0m in \u001B[0;36m<module>\u001B[0;34m\u001B[0m\n\u001B[0;32m----> 1\u001B[0;31m \u001B[0mNumeros_nan\u001B[0m\u001B[0;34m.\u001B[0m\u001B[0misnull\u001B[0m\u001B[0;34m(\u001B[0m\u001B[0;34m)\u001B[0m\u001B[0;34m\u001B[0m\u001B[0;34m\u001B[0m\u001B[0m\n\u001B[0m\u001B[1;32m      2\u001B[0m \u001B[0;34m\u001B[0m\u001B[0m\n",
      "\u001B[0;31mNameError\u001B[0m: name 'Numeros_nan' is not defined"
     ]
    }
   ],
   "source": [
    "Numeros_nan.isnull()"
   ]
  },
  {
   "cell_type": "markdown",
   "id": "69ddf77e",
   "metadata": {},
   "source": [
    "Imputación o Reemplazo"
   ]
  },
  {
   "cell_type": "code",
   "execution_count": null,
   "id": "b19c8cf4",
   "metadata": {},
   "outputs": [],
   "source": [
    "Numeros_nan.fillna(0)"
   ]
  },
  {
   "cell_type": "markdown",
   "id": "38f1b2a0",
   "metadata": {},
   "source": [
    "Eliminación"
   ]
  },
  {
   "cell_type": "code",
   "execution_count": null,
   "id": "72c3c404",
   "metadata": {},
   "outputs": [],
   "source": [
    "Numeros_nan.dropna()"
   ]
  }
 ],
 "metadata": {
  "kernelspec": {
   "display_name": "Python 3",
   "language": "python",
   "name": "python3"
  },
  "language_info": {
   "codemirror_mode": {
    "name": "ipython",
    "version": 3
   },
   "file_extension": ".py",
   "mimetype": "text/x-python",
   "name": "python",
   "nbconvert_exporter": "python",
   "pygments_lexer": "ipython3",
   "version": "3.8.8"
  }
 },
 "nbformat": 4,
 "nbformat_minor": 5
}