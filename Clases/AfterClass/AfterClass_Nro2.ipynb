{
 "nbformat": 4,
 "nbformat_minor": 0,
 "metadata": {
  "colab": {
   "name": "AfterClass_Nro2.ipynb",
   "provenance": [],
   "collapsed_sections": []
  },
  "kernelspec": {
   "name": "python3",
   "display_name": "Python 3"
  },
  "language_info": {
   "name": "python"
  }
 },
 "cells": [
  {
   "cell_type": "markdown",
   "metadata": {
    "id": "hNVaLzXqIgJl"
   },
   "source": [
    "# **CODERHOUSE DS - 22745**\n",
    "## After Class Nro. 2 - Introducción a la programación con Python (Parte II)\n",
    "\n",
    "Esta notebook tiene el objetivo de profundizar un poco más en los temas vistos en clase. "
   ]
  },
  {
   "cell_type": "markdown",
   "metadata": {
    "id": "gXJXQHL5lu7q"
   },
   "source": [
    "## Estructuras de control\n",
    "\n",
    "En Python, como en otros lenguajes de programación **estructurados**, se utilizan las **estructuras de control**. Las cuales pueden ser de tipo *condicional* (if) o *cíclicas* (for, while). "
   ]
  },
  {
   "cell_type": "markdown",
   "metadata": {
    "id": "7usFELonxR0n"
   },
   "source": [
    "### Condicional: estructura IF\n",
    "La estructura condicional se basa en que una sentencia se ejecuta según el valor que se le atribuye a una variable booleana. Acuerdense que una variable booleana es aquella que tiene dos valores posibles (true o false). Por tanto, esta estructura se puede ejecutar de dos formas distintas, dependiendo del valor que tenga su variable."
   ]
  },
  {
   "cell_type": "code",
   "metadata": {
    "colab": {
     "base_uri": "https://localhost:8080/"
    },
    "id": "SYS2ZvkJxRDJ",
    "executionInfo": {
     "status": "ok",
     "timestamp": 1633561888944,
     "user_tz": 180,
     "elapsed": 248,
     "user": {
      "displayName": "Luciana Simón González",
      "photoUrl": "https://lh3.googleusercontent.com/a-/AOh14GiO9XxFI6VwTom2ad9qlw5ZM9l-C51yr8Ws94_z=s64",
      "userId": "14300818116758846531"
     }
    },
    "outputId": "3abdcaf2-ff9e-44a6-d268-9a6c26dd2201"
   },
   "source": [
    "#IF\n",
    "condicion = False\n",
    "\n",
    "if (condicion):\n",
    "  print(\"Se cumplió la condición\")\n",
    "else:\n",
    "  print(\"No se cumpplió\")"
   ],
   "execution_count": 1,
   "outputs": [
    {
     "name": "stdout",
     "output_type": "stream",
     "text": [
      "No se cumpplió\n"
     ]
    }
   ]
  },
  {
   "cell_type": "markdown",
   "metadata": {
    "id": "nVWxzFO34_J5"
   },
   "source": [
    "Para poner un ejemplo, podríamos hablar de la condición para aprobar una materia. Si la nota es mayor o igual a 7 promociona, si es mayor o igual a 5 habilita, pero si es menor a 5 desaprueba ¡Esto lo podemos llevar a código con la estructura if!"
   ]
  },
  {
   "cell_type": "code",
   "metadata": {
    "colab": {
     "base_uri": "https://localhost:8080/"
    },
    "id": "LrT6q7QO4XoE",
    "executionInfo": {
     "status": "ok",
     "timestamp": 1633562296945,
     "user_tz": 180,
     "elapsed": 261,
     "user": {
      "displayName": "Luciana Simón González",
      "photoUrl": "https://lh3.googleusercontent.com/a-/AOh14GiO9XxFI6VwTom2ad9qlw5ZM9l-C51yr8Ws94_z=s64",
      "userId": "14300818116758846531"
     }
    },
    "outputId": "e2e4a9ff-faca-4195-c2b6-2a42e0100df5"
   },
   "source": [
    "nota = 7\n",
    "\n",
    "if (nota >= 7):\n",
    "  print(\"Promociona\")\n",
    "  print(\"hola\")\n",
    "\n",
    "elif (nota>=5):\n",
    "  print(\"Aprobado\")\n",
    "\n",
    "else:\n",
    "  print(\"Desaprueba\")"
   ],
   "execution_count": 2,
   "outputs": [
    {
     "name": "stdout",
     "output_type": "stream",
     "text": [
      "Promociona\n",
      "hola\n"
     ]
    }
   ]
  },
  {
   "cell_type": "markdown",
   "metadata": {
    "id": "0J77m1m6xu44"
   },
   "source": [
    "### Iteración:  FOR y WHILE\n",
    "\n",
    "La estructura de repetición ejecuta una o un conjunto de sentencias siempre que una variable booleana sea verdadera. Es decir, son una forma de ejecutar un código de manera repetida. Para los bucles o iteraciones, los lenguajes de programación usan las estructuras while y for. "
   ]
  },
  {
   "cell_type": "markdown",
   "metadata": {
    "id": "Xhn43B3k52Ib"
   },
   "source": [
    "### Estructura FOR\n",
    "\n",
    "Consta de:\n",
    "\n",
    "1. El nombre de la variable a utilizar (color)\n",
    "2. El conjunto de valores a recorrer (los colores)\n",
    "3. Se utiliza la palabra \"in\" para unirlos.\n",
    "\n",
    "El objeto a la derecha de \"in\" puede ser cualquier objeto que soporte la iteración. Si se puede pensar en un grupo de cosas (lista), probablemente se pueda hacer un bucle sobre él (iterar). "
   ]
  },
  {
   "cell_type": "code",
   "metadata": {
    "colab": {
     "base_uri": "https://localhost:8080/"
    },
    "id": "9kxvhWlLDoBP",
    "executionInfo": {
     "status": "ok",
     "timestamp": 1633562397991,
     "user_tz": 180,
     "elapsed": 249,
     "user": {
      "displayName": "Luciana Simón González",
      "photoUrl": "https://lh3.googleusercontent.com/a-/AOh14GiO9XxFI6VwTom2ad9qlw5ZM9l-C51yr8Ws94_z=s64",
      "userId": "14300818116758846531"
     }
    },
    "outputId": "6e6679e3-4711-457e-82bf-ba3ad5d9fb8d"
   },
   "source": [
    "colores = ['violeta', 'azul', 'verde', 'amarillo']\n",
    "\n",
    "for color in colores:\n",
    "  print(color) "
   ],
   "execution_count": 12,
   "outputs": [
    {
     "output_type": "stream",
     "name": "stdout",
     "text": [
      "violeta\n",
      "azul\n",
      "verde\n",
      "amarillo\n"
     ]
    }
   ]
  },
  {
   "cell_type": "code",
   "metadata": {
    "colab": {
     "base_uri": "https://localhost:8080/"
    },
    "id": "GqyYGNLZDznW",
    "executionInfo": {
     "status": "ok",
     "timestamp": 1633562466593,
     "user_tz": 180,
     "elapsed": 309,
     "user": {
      "displayName": "Luciana Simón González",
      "photoUrl": "https://lh3.googleusercontent.com/a-/AOh14GiO9XxFI6VwTom2ad9qlw5ZM9l-C51yr8Ws94_z=s64",
      "userId": "14300818116758846531"
     }
    },
    "outputId": "7cd87142-2a0e-4cd2-e5df-53d8e7cf500f"
   },
   "source": [
    "numeros = [1,2,3,4,5]\n",
    "\n",
    "for numero in numeros:\n",
    "  print(numero)"
   ],
   "execution_count": 13,
   "outputs": [
    {
     "output_type": "stream",
     "name": "stdout",
     "text": [
      "1\n",
      "2\n",
      "3\n",
      "4\n",
      "5\n"
     ]
    }
   ]
  },
  {
   "cell_type": "code",
   "metadata": {
    "colab": {
     "base_uri": "https://localhost:8080/"
    },
    "id": "RE70Vp6_J4Av",
    "executionInfo": {
     "status": "ok",
     "timestamp": 1633562486772,
     "user_tz": 180,
     "elapsed": 276,
     "user": {
      "displayName": "Luciana Simón González",
      "photoUrl": "https://lh3.googleusercontent.com/a-/AOh14GiO9XxFI6VwTom2ad9qlw5ZM9l-C51yr8Ws94_z=s64",
      "userId": "14300818116758846531"
     }
    },
    "outputId": "a906aa64-249b-420f-9d75-3a4124fd202d"
   },
   "source": [
    "palabra = 'prueba'\n",
    "\n",
    "for letra in palabra:\n",
    "  print(letra)"
   ],
   "execution_count": 14,
   "outputs": [
    {
     "output_type": "stream",
     "name": "stdout",
     "text": [
      "p\n",
      "r\n",
      "u\n",
      "e\n",
      "b\n",
      "a\n"
     ]
    }
   ]
  },
  {
   "cell_type": "markdown",
   "metadata": {
    "id": "Sl_hgDc6KoL_"
   },
   "source": [
    "Con el ciclo FOR se suele utilizar la función range(), la cual es una función que devuelve una secuencia de números. Por ejemplo, si queremos repetir alguna acción cierta cantidad de veces:"
   ]
  },
  {
   "cell_type": "code",
   "metadata": {
    "colab": {
     "base_uri": "https://localhost:8080/"
    },
    "id": "m9JEIT8JK-y4",
    "executionInfo": {
     "status": "ok",
     "timestamp": 1633562648408,
     "user_tz": 180,
     "elapsed": 260,
     "user": {
      "displayName": "Luciana Simón González",
      "photoUrl": "https://lh3.googleusercontent.com/a-/AOh14GiO9XxFI6VwTom2ad9qlw5ZM9l-C51yr8Ws94_z=s64",
      "userId": "14300818116758846531"
     }
    },
    "outputId": "aad0d4fa-5d74-4501-923d-4d3fbb963689"
   },
   "source": [
    "for i in range(5): #itera desde el primer valor (1) hasta el utimo valor - 1 (en este caso 4)\n",
    "                     #Si no especifico el primer valor en range, empieza por 0\n",
    "  print(\"Hola!\")"
   ],
   "execution_count": 18,
   "outputs": [
    {
     "output_type": "stream",
     "name": "stdout",
     "text": [
      "Hola!\n",
      "Hola!\n",
      "Hola!\n",
      "Hola!\n",
      "Hola!\n"
     ]
    }
   ]
  },
  {
   "cell_type": "code",
   "metadata": {
    "id": "eSef8qGrpeef",
    "colab": {
     "base_uri": "https://localhost:8080/"
    },
    "executionInfo": {
     "status": "ok",
     "timestamp": 1633562585345,
     "user_tz": 180,
     "elapsed": 266,
     "user": {
      "displayName": "Luciana Simón González",
      "photoUrl": "https://lh3.googleusercontent.com/a-/AOh14GiO9XxFI6VwTom2ad9qlw5ZM9l-C51yr8Ws94_z=s64",
      "userId": "14300818116758846531"
     }
    },
    "outputId": "f31238da-4e4c-4fdb-c2db-14223d76ba03"
   },
   "source": [
    "for i in range(len(colores)):\n",
    "  print(i, colores[i])"
   ],
   "execution_count": 16,
   "outputs": [
    {
     "output_type": "stream",
     "name": "stdout",
     "text": [
      "0 violeta\n",
      "1 azul\n",
      "2 verde\n",
      "3 amarillo\n"
     ]
    }
   ]
  },
  {
   "cell_type": "code",
   "metadata": {
    "colab": {
     "base_uri": "https://localhost:8080/",
     "height": 34
    },
    "id": "BVfmtnXA7esX",
    "executionInfo": {
     "status": "ok",
     "timestamp": 1633562792743,
     "user_tz": 180,
     "elapsed": 288,
     "user": {
      "displayName": "Luciana Simón González",
      "photoUrl": "https://lh3.googleusercontent.com/a-/AOh14GiO9XxFI6VwTom2ad9qlw5ZM9l-C51yr8Ws94_z=s64",
      "userId": "14300818116758846531"
     }
    },
    "outputId": "3f25ccbe-8d9a-4852-bf5c-6da1ada779c8"
   },
   "source": [
    "colores[1]"
   ],
   "execution_count": 20,
   "outputs": [
    {
     "output_type": "execute_result",
     "data": {
      "application/vnd.google.colaboratory.intrinsic+json": {
       "type": "string"
      },
      "text/plain": [
       "'azul'"
      ]
     },
     "metadata": {},
     "execution_count": 20
    }
   ]
  },
  {
   "cell_type": "markdown",
   "metadata": {
    "id": "2EbOo88j550J"
   },
   "source": [
    "### Estructura WHILE\n",
    "\n",
    "El otro tipo de bucle en Python es el bucle while, que itera hasta que se cumpla alguna condición."
   ]
  },
  {
   "cell_type": "code",
   "metadata": {
    "id": "mzxFUltylSkF",
    "colab": {
     "base_uri": "https://localhost:8080/"
    },
    "executionInfo": {
     "status": "ok",
     "timestamp": 1633563095242,
     "user_tz": 180,
     "elapsed": 274,
     "user": {
      "displayName": "Luciana Simón González",
      "photoUrl": "https://lh3.googleusercontent.com/a-/AOh14GiO9XxFI6VwTom2ad9qlw5ZM9l-C51yr8Ws94_z=s64",
      "userId": "14300818116758846531"
     }
    },
    "outputId": "8c4fd926-faa5-4c56-8a06-6724a0353bcf"
   },
   "source": [
    "#WHILE\n",
    "\n",
    "i = 0 #creo un contador\n",
    "\n",
    "while (i<5): #mientras se cumpla la condición de que i es distinto a 5 vuelvo a entrar al ciclo e imprimo i\n",
    "  print(i)\n",
    "  i+=1 #incremento el contador en cada iteración"
   ],
   "execution_count": 24,
   "outputs": [
    {
     "output_type": "stream",
     "name": "stdout",
     "text": [
      "0\n",
      "1\n",
      "2\n",
      "3\n",
      "4\n"
     ]
    }
   ]
  },
  {
   "cell_type": "markdown",
   "metadata": {
    "id": "4t2IcMz6lyuE"
   },
   "source": [
    "## Funciones en Python\n",
    "\n",
    "Cuando usamos print(\"...\"), por ejemplo, estamos usando una función. Python tiene muchas funciones (más adelante en el curso vamos a ver más), pero además de las propias del lenguaje podemos crear nuestras propias funciones. \n",
    "\n",
    "Para crear una función, debemos definirla de la siguiente manera:\n",
    "\n",
    "\n",
    "\n",
    "```\n",
    "def funcion(parametro1, parametro2, ..., parametroN):\n",
    "  \"\"\"Descripción de lo que hace la función\"\"\"\n",
    "  #Cuerpo: aca iria el codigo, por ejemplo una suma \n",
    "  return resultado #El return es opcional, podría no devolver nada!\n",
    "```\n",
    "\n",
    "Tenemos tres partes:\n",
    "\n",
    "1. Parámetros: elementos recibidos para llevar a cabo las operaciones definidas en el cuerpo de la función. Estos pueden ser incluso estructuras de datos.\n",
    "2. Cuerpo: sección donde definimos las operaciones que se llevarán a cabo con el fin de producir un resultado. Aquí podemos definir variables e incluir estructuras de control.\n",
    "3. Retorno: resultado de ejecutar la función. OPCIONAL, si no se espcifica retorna None. \n",
    "\n",
    "La descripción se llama docstring, se escribe entre \"\"\" \"\"\" y sirve para documentar qué hace mi función. Si yo quiero usar una función y no se qué es lo que hace (cuál es su función), accedemos al docstring usando help().\n",
    "\n",
    "Nota: Las funciones de Python no tienen begin o end explícitos, ni llaves que marquen dónde empieza o termina su código. El único delimitador son dos puntos (:) y la indentación del propio código. Es decir, los bloques de código ( if, bucles for, while, etc. ) van definidos por su indentación. La identacion comienza un bloque y su ausencia lo termina.\n",
    "\n"
   ]
  },
  {
   "cell_type": "markdown",
   "metadata": {
    "id": "AF-ZU_c6OE5r"
   },
   "source": [
    "### Definimos una función que no retorna nada\n",
    "\n",
    "Para dar un ejemplo bien sencillo, vamos a definir una función cuyo único objetivo sea saludar a una persona. Para ello, vamos a pasarle como parametro el nombre de esa persona cuando llamamemos a la función, y la función nos devolvera el saludo como: \"Hola, *nombre*!\". Fijénse que esta función no retorna ningún valor.\n"
   ]
  },
  {
   "cell_type": "code",
   "metadata": {
    "id": "-WpeMlrfInJv",
    "colab": {
     "base_uri": "https://localhost:8080/"
    },
    "executionInfo": {
     "status": "ok",
     "timestamp": 1633563824027,
     "user_tz": 180,
     "elapsed": 270,
     "user": {
      "displayName": "Luciana Simón González",
      "photoUrl": "https://lh3.googleusercontent.com/a-/AOh14GiO9XxFI6VwTom2ad9qlw5ZM9l-C51yr8Ws94_z=s64",
      "userId": "14300818116758846531"
     }
    },
    "outputId": "479d945e-f445-4998-d922-65dc28d141c6"
   },
   "source": [
    "#Definimos la función\n",
    "def saludar(nombre=\"Mundo\"): #Si no pasamos nada, por defecto muestra mundo!\n",
    "  \"\"\"Función que saluda.\"\"\"\n",
    "  print(f\"Hola, {nombre}!\")\n",
    "  \n",
    "#Llamamos a la función \n",
    "saludar(\"estudiantes\")"
   ],
   "execution_count": 4,
   "outputs": [
    {
     "name": "stdout",
     "output_type": "stream",
     "text": [
      "Hola, estudiantes!\n"
     ]
    }
   ]
  },
  {
   "cell_type": "markdown",
   "metadata": {
    "id": "6Vntrdq06511"
   },
   "source": [
    "¿Qué pasa si quiero hacer un print de la función saludar?"
   ]
  },
  {
   "cell_type": "code",
   "metadata": {
    "colab": {
     "base_uri": "https://localhost:8080/"
    },
    "id": "jWQTNdkH6Z3M",
    "executionInfo": {
     "status": "ok",
     "timestamp": 1633563843460,
     "user_tz": 180,
     "elapsed": 247,
     "user": {
      "displayName": "Luciana Simón González",
      "photoUrl": "https://lh3.googleusercontent.com/a-/AOh14GiO9XxFI6VwTom2ad9qlw5ZM9l-C51yr8Ws94_z=s64",
      "userId": "14300818116758846531"
     }
    },
    "outputId": "d9c7ff51-7b4e-4272-eaaf-de35e9024826"
   },
   "source": [
    "print(saludar())"
   ],
   "execution_count": 5,
   "outputs": [
    {
     "name": "stdout",
     "output_type": "stream",
     "text": [
      "Hola, Mundo!\n",
      "None\n"
     ]
    }
   ]
  },
  {
   "cell_type": "markdown",
   "metadata": {
    "id": "WyTtX1v-OKTF"
   },
   "source": [
    "Resutla que la función no retorna nada, por eso aparece \"None\" cuando queremos ahcer un print."
   ]
  },
  {
   "cell_type": "markdown",
   "metadata": {
    "id": "rDWJ1jzKB7E7"
   },
   "source": [
    "### Función que retorna \n",
    "\n",
    "Para retornar algo, debemos de utilizar \"return\". Para ejemplificar, vamos a definir una función que mutiplique dos valores y nos devuelva el resultado de esa multiplicación. Traducido a código sería algo como:"
   ]
  },
  {
   "cell_type": "code",
   "metadata": {
    "id": "yvLAvNtXBv0h",
    "executionInfo": {
     "status": "ok",
     "timestamp": 1633563901460,
     "user_tz": 180,
     "elapsed": 307,
     "user": {
      "displayName": "Luciana Simón González",
      "photoUrl": "https://lh3.googleusercontent.com/a-/AOh14GiO9XxFI6VwTom2ad9qlw5ZM9l-C51yr8Ws94_z=s64",
      "userId": "14300818116758846531"
     }
    }
   },
   "source": [
    "def multiplicar(a, b):\n",
    "  return a*b"
   ],
   "execution_count": 6,
   "outputs": []
  },
  {
   "cell_type": "code",
   "metadata": {
    "colab": {
     "base_uri": "https://localhost:8080/"
    },
    "id": "PHjFtgUqC9Lv",
    "executionInfo": {
     "status": "ok",
     "timestamp": 1633563902986,
     "user_tz": 180,
     "elapsed": 261,
     "user": {
      "displayName": "Luciana Simón González",
      "photoUrl": "https://lh3.googleusercontent.com/a-/AOh14GiO9XxFI6VwTom2ad9qlw5ZM9l-C51yr8Ws94_z=s64",
      "userId": "14300818116758846531"
     }
    },
    "outputId": "5a0ec7ea-68dc-44a2-eb6b-cbda92ef7f2b"
   },
   "source": [
    "print(\"3 x 4 =\", multiplicar(3,4))"
   ],
   "execution_count": 7,
   "outputs": [
    {
     "name": "stdout",
     "output_type": "stream",
     "text": [
      "3 x 4 = 12\n"
     ]
    }
   ]
  }
 ]
}