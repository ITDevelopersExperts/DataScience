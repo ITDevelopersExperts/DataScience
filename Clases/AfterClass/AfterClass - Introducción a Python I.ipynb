{
 "cells": [
  {
   "cell_type": "markdown",
   "id": "467c2ae6",
   "metadata": {},
   "source": [
    "## **CoderHouse** After Class Intro Python"
   ]
  },
  {
   "cell_type": "markdown",
   "id": "f5a87605",
   "metadata": {},
   "source": [
    "## *Tipos de Datos*"
   ]
  },
  {
   "cell_type": "code",
   "execution_count": 8,
   "id": "c457edb0",
   "metadata": {},
   "outputs": [
    {
     "name": "stdout",
     "output_type": "stream",
     "text": [
      "[1, 23, 'str', True]\n",
      "(1, 56, 'str')\n"
     ]
    }
   ],
   "source": [
    "#Tipo de Datos Básicos\n",
    "\n",
    "x = True\n",
    "type(x)\n",
    "\n",
    "# Tipo de datos asociados a Python\n",
    "\n",
    "#Listas\n",
    "lista = [1,23,'str',True]\n",
    "\n",
    "#Tuplas\n",
    "tupla = (1,56,'str')\n",
    "print(lista)\n",
    "print(tupla)"
   ]
  },
  {
   "cell_type": "markdown",
   "id": "918c7040",
   "metadata": {},
   "source": [
    "## Operadores"
   ]
  },
  {
   "cell_type": "code",
   "execution_count": 25,
   "id": "44d53e31",
   "metadata": {},
   "outputs": [
    {
     "data": {
      "text/plain": [
       "True"
      ]
     },
     "execution_count": 25,
     "metadata": {},
     "output_type": "execute_result"
    }
   ],
   "source": [
    "#Operadores Matemàticos\n",
    "\n",
    "z = 5.5\n",
    "y = 2.5\n",
    "\n",
    "(z // y) \n",
    "\n",
    "# Operadores Lógicos\n",
    "\n",
    "a = [1,2,'David']\n",
    "b = [1,2,3]\n",
    "\n",
    "# Operadores de Identidad y Pertenencia\n",
    "\n",
    "'David' in a"
   ]
  },
  {
   "cell_type": "markdown",
   "id": "5470fed4",
   "metadata": {},
   "source": [
    "## Ejercicio Vagoncito"
   ]
  },
  {
   "cell_type": "code",
   "execution_count": 26,
   "id": "b0614668",
   "metadata": {},
   "outputs": [
    {
     "data": {
      "text/plain": [
       "34.13716694115407"
      ]
     },
     "execution_count": 26,
     "metadata": {},
     "output_type": "execute_result"
    }
   ],
   "source": [
    "import math\n",
    "\n",
    "\n",
    "b = 10\n",
    "\n",
    "a = 2\n",
    "\n",
    "r = 1.5\n",
    "\n",
    "#pi = 3.141516\n",
    "pi = math.pi\n",
    "\n",
    "area_rect = a*b\n",
    "\n",
    "area_circulo = pi*(r**2)\n",
    "\n",
    "total_area = area_rect + (area_circulo*2)\n",
    "total_area"
   ]
  },
  {
   "cell_type": "markdown",
   "id": "5adff661",
   "metadata": {},
   "source": [
    "## Ejercicio Volumen"
   ]
  },
  {
   "cell_type": "code",
   "execution_count": 30,
   "id": "5eb2da28",
   "metadata": {},
   "outputs": [
    {
     "data": {
      "text/plain": [
       "2249.9542042283474"
      ]
     },
     "execution_count": 30,
     "metadata": {},
     "output_type": "execute_result"
    }
   ],
   "source": [
    "r1 = 8\n",
    "\n",
    "r2 = 4.2\n",
    "\n",
    "h = 5.7\n",
    "\n",
    "volumen_esfera = (4/3)*pi*(r1**3)\n",
    "\n",
    "volumen_cono = (1/3)*pi*(r2**2)*h\n",
    "\n",
    "vol_total = volumen_esfera + volumen_cono\n",
    "vol_total"
   ]
  }
 ],
 "metadata": {
  "kernelspec": {
   "display_name": "Python 3",
   "language": "python",
   "name": "python3"
  },
  "language_info": {
   "codemirror_mode": {
    "name": "ipython",
    "version": 3
   },
   "file_extension": ".py",
   "mimetype": "text/x-python",
   "name": "python",
   "nbconvert_exporter": "python",
   "pygments_lexer": "ipython3",
   "version": "3.8.8"
  }
 },
 "nbformat": 4,
 "nbformat_minor": 5
}
