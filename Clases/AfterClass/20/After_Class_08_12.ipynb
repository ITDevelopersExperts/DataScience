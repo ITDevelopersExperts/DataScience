{
 "cells": [
  {
   "cell_type": "markdown",
   "id": "e24d746b",
   "metadata": {
    "id": "e24d746b"
   },
   "source": [
    "# After Class - 8 de Diciembre de 2021\n",
    "## Tutor: Héctor Schwarz\n",
    "<br>**Contenido:**<br>\n",
    "**1-** Presentación de la librería yfinance<br>\n",
    "**2-** Presentación de la librería pandas-datareader<br>\n",
    "**3-** Predicciones utilizando Scikit-Learn"
   ]
  },
  {
   "cell_type": "code",
   "execution_count": 1,
   "id": "TEsnFusAQnbn",
   "metadata": {
    "colab": {
     "base_uri": "https://localhost:8080/"
    },
    "id": "TEsnFusAQnbn",
    "outputId": "b360fd9d-bcb8-4d05-990d-ff34214dbdc1"
   },
   "outputs": [],
   "source": [
    "# Esto es solo para los que usen Colab\n",
    "# !pip install --upgrade pandas_datareader\n",
    "# pip install yfinance"
   ]
  },
  {
   "cell_type": "code",
   "execution_count": 2,
   "id": "3cc2534c",
   "metadata": {
    "id": "3cc2534c"
   },
   "outputs": [],
   "source": [
    "import pandas as pd\n",
    "import matplotlib.pyplot as plt\n",
    "import yfinance as yf\n",
    "import seaborn as sns\n",
    "import pandas_datareader.data as web\n",
    "import datetime"
   ]
  },
  {
   "cell_type": "markdown",
   "id": "c00a132d",
   "metadata": {
    "id": "c00a132d"
   },
   "source": [
    "# 1- yfinance\n",
    "**Instalación para Jupyter:**\n",
    "    pip install yfinance<br>\n",
    "**Instalación para Colab:** !pip install yfinance<br>\n",
    "**Documentación:**\n",
    "    https://pypi.org/project/yfinance/"
   ]
  },
  {
   "cell_type": "code",
   "execution_count": 3,
   "id": "a6c003a8",
   "metadata": {
    "id": "a6c003a8"
   },
   "outputs": [],
   "source": [
    "BMA_yf = yf.Ticker('BMA.BA')\n",
    "GGAL_yf = yf.Ticker('GGAL.BA')\n",
    "BPAT_yf = yf.Ticker('BPAT.BA')\n",
    "BBAR_yf = yf.Ticker('BBAR.BA')\n",
    "BRIO_yf = yf.Ticker('BRIO.BA')\n",
    "empresas = [BMA_yf, GGAL_yf, BPAT_yf, BBAR_yf, BRIO_yf]"
   ]
  },
  {
   "cell_type": "code",
   "execution_count": 4,
   "id": "g93c-oMOVIg3",
   "metadata": {
    "colab": {
     "base_uri": "https://localhost:8080/"
    },
    "id": "g93c-oMOVIg3",
    "outputId": "42f7e44b-c40c-4126-c72f-ff8b746c5149"
   },
   "outputs": [
    {
     "data": {
      "text/plain": [
       "{'zip': '1182',\n",
       " 'sector': 'Financial Services',\n",
       " 'fullTimeEmployees': 8167,\n",
       " 'longBusinessSummary': 'Banco Macro S.A. provides various banking products and services to retail and corporate customers in Argentina. It offers various retail banking products and services, such as savings and checking accounts, time deposits, credit and debit cards, consumer finance loans, mortgage loans, automobile loans, overdrafts, credit-related services, home and car insurance coverage, tax collection, utility payments, automated teller machines (ATMs), and money transfers. The company also provides personal loans, document discounts, residential mortgages, overdrafts, pledged loans, and credit card loans to retail customers. In addition, it offers corporate banking products and services, including deposits, lending, check cashing advances and factoring, guaranteed loans, credit lines for financing foreign trade, and cash management services; trust, payroll, and financial agency services, as well as corporate credit cards and other specialty products; and working capital facilities, credit for investment projects, and leasing and foreign trade transactions. Further, the company provides transaction services, such as collection services, payments to suppliers, payroll services, and foreign exchange transactions; information services comprising Datanet and Interpymes services to corporate customers; and Internet and mobile banking services. As of December 31, 2020, it operated through a network of 463 branches, 1,578 ATMs, 960 self-service terminals, and service points. The company was incorporated in 1966 and is headquartered in Buenos Aires, Argentina.',\n",
       " 'city': 'Buenos Aires',\n",
       " 'phone': '54 11 5222 6500',\n",
       " 'country': 'Argentina',\n",
       " 'companyOfficers': [],\n",
       " 'website': 'https://www.macro.com.ar',\n",
       " 'maxAge': 1,\n",
       " 'address1': 'Avenida Madero 1182',\n",
       " 'industry': 'Banks—Regional',\n",
       " 'ebitdaMargins': 0,\n",
       " 'profitMargins': 0.18608,\n",
       " 'grossMargins': 0,\n",
       " 'operatingCashflow': 271017967616,\n",
       " 'revenueGrowth': -0.049,\n",
       " 'operatingMargins': 0.19914,\n",
       " 'ebitda': None,\n",
       " 'targetLowPrice': 198,\n",
       " 'recommendationKey': 'hold',\n",
       " 'grossProfits': 91253470000,\n",
       " 'freeCashflow': None,\n",
       " 'targetMedianPrice': 351,\n",
       " 'currentPrice': 319.55,\n",
       " 'earningsGrowth': -0.002,\n",
       " 'currentRatio': None,\n",
       " 'returnOnAssets': 0.02,\n",
       " 'numberOfAnalystOpinions': 5,\n",
       " 'targetMeanPrice': 387.04,\n",
       " 'debtToEquity': None,\n",
       " 'returnOnEquity': 0.09563,\n",
       " 'targetHighPrice': 554.19,\n",
       " 'totalCash': 257109966848,\n",
       " 'totalDebt': 47404773376,\n",
       " 'totalRevenue': 87566548992,\n",
       " 'totalCashPerShare': 201.051,\n",
       " 'financialCurrency': 'ARS',\n",
       " 'revenuePerShare': 136.948,\n",
       " 'quickRatio': None,\n",
       " 'recommendationMean': 3,\n",
       " 'exchange': 'BUE',\n",
       " 'shortName': 'BANCO MACRO S.A.',\n",
       " 'longName': 'Banco Macro S.A.',\n",
       " 'exchangeTimezoneName': 'America/Argentina/Buenos_Aires',\n",
       " 'exchangeTimezoneShortName': 'ART',\n",
       " 'isEsgPopulated': False,\n",
       " 'gmtOffSetMilliseconds': '-10800000',\n",
       " 'quoteType': 'EQUITY',\n",
       " 'symbol': 'BMA.BA',\n",
       " 'messageBoardId': 'finmb_878443',\n",
       " 'market': 'ar_market',\n",
       " 'annualHoldingsTurnover': None,\n",
       " 'enterpriseToRevenue': 2.272,\n",
       " 'beta3Year': None,\n",
       " 'enterpriseToEbitda': None,\n",
       " '52WeekChange': 0.3767773,\n",
       " 'morningStarRiskRating': None,\n",
       " 'forwardEps': 41.17,\n",
       " 'revenueQuarterlyGrowth': None,\n",
       " 'sharesOutstanding': 628177984,\n",
       " 'fundInceptionDate': None,\n",
       " 'annualReportExpenseRatio': None,\n",
       " 'totalAssets': None,\n",
       " 'bookValue': 323.495,\n",
       " 'sharesShort': None,\n",
       " 'sharesPercentSharesOut': None,\n",
       " 'fundFamily': None,\n",
       " 'lastFiscalYearEnd': 1609372800,\n",
       " 'heldPercentInstitutions': 0.31214002,\n",
       " 'netIncomeToCommon': 16294475776,\n",
       " 'trailingEps': 25.483,\n",
       " 'lastDividendValue': 20,\n",
       " 'SandP52WeekChange': 0.27606308,\n",
       " 'priceToBook': 0.98780507,\n",
       " 'heldPercentInsiders': 0.33637002,\n",
       " 'nextFiscalYearEnd': 1672444800,\n",
       " 'yield': None,\n",
       " 'mostRecentQuarter': 1632960000,\n",
       " 'shortRatio': None,\n",
       " 'sharesShortPreviousMonthDate': None,\n",
       " 'floatShares': 466119586,\n",
       " 'beta': 2.219911,\n",
       " 'enterpriseValue': 198946783232,\n",
       " 'priceHint': 2,\n",
       " 'threeYearAverageReturn': None,\n",
       " 'lastSplitDate': None,\n",
       " 'lastSplitFactor': None,\n",
       " 'legalType': None,\n",
       " 'lastDividendDate': 1593129600,\n",
       " 'morningStarOverallRating': None,\n",
       " 'earningsQuarterlyGrowth': -0.002,\n",
       " 'priceToSalesTrailing12Months': 2.3318546,\n",
       " 'dateShortInterest': None,\n",
       " 'pegRatio': 1.92,\n",
       " 'ytdReturn': None,\n",
       " 'forwardPE': 7.7617197,\n",
       " 'lastCapGain': None,\n",
       " 'shortPercentOfFloat': None,\n",
       " 'sharesShortPriorMonth': None,\n",
       " 'impliedSharesOutstanding': 639000000,\n",
       " 'category': None,\n",
       " 'fiveYearAverageReturn': None,\n",
       " 'previousClose': 318,\n",
       " 'regularMarketOpen': 318.6,\n",
       " 'twoHundredDayAverage': 274.054,\n",
       " 'trailingAnnualDividendYield': 0.049182393,\n",
       " 'payoutRatio': 0,\n",
       " 'volume24Hr': None,\n",
       " 'regularMarketDayHigh': 326.9,\n",
       " 'navPrice': None,\n",
       " 'averageDailyVolume10Day': 256287,\n",
       " 'regularMarketPreviousClose': 318,\n",
       " 'fiftyDayAverage': 333.385,\n",
       " 'trailingAnnualDividendRate': 15.64,\n",
       " 'open': 318.6,\n",
       " 'toCurrency': None,\n",
       " 'averageVolume10days': 256287,\n",
       " 'expireDate': None,\n",
       " 'algorithm': None,\n",
       " 'dividendRate': None,\n",
       " 'exDividendDate': 1593129600,\n",
       " 'circulatingSupply': None,\n",
       " 'startDate': None,\n",
       " 'regularMarketDayLow': 318.5,\n",
       " 'currency': 'ARS',\n",
       " 'trailingPE': 12.539732,\n",
       " 'regularMarketVolume': 341864,\n",
       " 'lastMarket': None,\n",
       " 'maxSupply': None,\n",
       " 'openInterest': None,\n",
       " 'marketCap': 204192448512,\n",
       " 'volumeAllCurrencies': None,\n",
       " 'strikePrice': None,\n",
       " 'averageVolume': 276694,\n",
       " 'dayLow': 318.5,\n",
       " 'ask': 320.8,\n",
       " 'askSize': 0,\n",
       " 'volume': 341864,\n",
       " 'fiftyTwoWeekHigh': 385.2,\n",
       " 'fromCurrency': None,\n",
       " 'fiveYearAvgDividendYield': None,\n",
       " 'fiftyTwoWeekLow': 186.8,\n",
       " 'bid': 320,\n",
       " 'tradeable': False,\n",
       " 'dividendYield': None,\n",
       " 'bidSize': 0,\n",
       " 'dayHigh': 326.9,\n",
       " 'regularMarketPrice': 319.55,\n",
       " 'logo_url': 'https://logo.clearbit.com/macro.com.ar'}"
      ]
     },
     "execution_count": 4,
     "metadata": {},
     "output_type": "execute_result"
    }
   ],
   "source": [
    "BMA_yf.info"
   ]
  },
  {
   "cell_type": "code",
   "execution_count": 5,
   "id": "229784ca",
   "metadata": {
    "id": "229784ca"
   },
   "outputs": [],
   "source": [
    "def convertir_DataFrame(empresas):\n",
    "    marketCap_values=[] \n",
    "    empleados_values=[]\n",
    "    cierre_values=[]\n",
    "    EPS_values=[]\n",
    "    index_df =[]\n",
    "    for item in empresas:\n",
    "        marketCap_values.append(item.info['marketCap'] / 1000000000)\n",
    "        empleados_values.append( item.info['fullTimeEmployees'])\n",
    "        cierre_values.append( item.info['previousClose'])\n",
    "        EPS_values.append( item.info['trailingEps'])\n",
    "        symbol=item.info['symbol']\n",
    "        index_df.append(symbol)\n",
    "    \n",
    "    data_df = { 'Capitalización de Mercado': marketCap_values,            \n",
    "                'Cantidad de Empleados': empleados_values,\n",
    "                'Último Cierre': cierre_values,\n",
    "                'Ganancias por acción': EPS_values\n",
    "                 }\n",
    "    full_df = pd.DataFrame(data=data_df, index=index_df)\n",
    "    return full_df"
   ]
  },
  {
   "cell_type": "code",
   "execution_count": 6,
   "id": "bfc50176",
   "metadata": {
    "colab": {
     "base_uri": "https://localhost:8080/",
     "height": 206
    },
    "id": "bfc50176",
    "outputId": "4b13cd36-2b5a-4eda-a1e7-41b41ce2d740"
   },
   "outputs": [
    {
     "data": {
      "text/html": [
       "<div>\n",
       "<style scoped>\n",
       "    .dataframe tbody tr th:only-of-type {\n",
       "        vertical-align: middle;\n",
       "    }\n",
       "\n",
       "    .dataframe tbody tr th {\n",
       "        vertical-align: top;\n",
       "    }\n",
       "\n",
       "    .dataframe thead th {\n",
       "        text-align: right;\n",
       "    }\n",
       "</style>\n",
       "<table border=\"1\" class=\"dataframe\">\n",
       "  <thead>\n",
       "    <tr style=\"text-align: right;\">\n",
       "      <th></th>\n",
       "      <th>Capitalización de Mercado</th>\n",
       "      <th>Cantidad de Empleados</th>\n",
       "      <th>Último Cierre</th>\n",
       "      <th>Ganancias por acción</th>\n",
       "    </tr>\n",
       "  </thead>\n",
       "  <tbody>\n",
       "    <tr>\n",
       "      <th>BMA.BA</th>\n",
       "      <td>204.192449</td>\n",
       "      <td>8167</td>\n",
       "      <td>318.00</td>\n",
       "      <td>25.483</td>\n",
       "    </tr>\n",
       "    <tr>\n",
       "      <th>GGAL.BA</th>\n",
       "      <td>314.108969</td>\n",
       "      <td>8744</td>\n",
       "      <td>208.75</td>\n",
       "      <td>11.758</td>\n",
       "    </tr>\n",
       "    <tr>\n",
       "      <th>BPAT.BA</th>\n",
       "      <td>60.408238</td>\n",
       "      <td>3200</td>\n",
       "      <td>81.40</td>\n",
       "      <td>3.867</td>\n",
       "    </tr>\n",
       "    <tr>\n",
       "      <th>BBAR.BA</th>\n",
       "      <td>140.727992</td>\n",
       "      <td>5888</td>\n",
       "      <td>235.40</td>\n",
       "      <td>0.199</td>\n",
       "    </tr>\n",
       "    <tr>\n",
       "      <th>BRIO.BA</th>\n",
       "      <td>137.641738</td>\n",
       "      <td>7263</td>\n",
       "      <td>30.80</td>\n",
       "      <td>1.324</td>\n",
       "    </tr>\n",
       "  </tbody>\n",
       "</table>\n",
       "</div>"
      ],
      "text/plain": [
       "         Capitalización de Mercado  Cantidad de Empleados  Último Cierre  \\\n",
       "BMA.BA                  204.192449                   8167         318.00   \n",
       "GGAL.BA                 314.108969                   8744         208.75   \n",
       "BPAT.BA                  60.408238                   3200          81.40   \n",
       "BBAR.BA                 140.727992                   5888         235.40   \n",
       "BRIO.BA                 137.641738                   7263          30.80   \n",
       "\n",
       "         Ganancias por acción  \n",
       "BMA.BA                 25.483  \n",
       "GGAL.BA                11.758  \n",
       "BPAT.BA                 3.867  \n",
       "BBAR.BA                 0.199  \n",
       "BRIO.BA                 1.324  "
      ]
     },
     "execution_count": 6,
     "metadata": {},
     "output_type": "execute_result"
    }
   ],
   "source": [
    "empresas_df = convertir_DataFrame(empresas)\n",
    "empresas_df.head()"
   ]
  },
  {
   "cell_type": "code",
   "execution_count": 7,
   "id": "c7608508",
   "metadata": {
    "colab": {
     "base_uri": "https://localhost:8080/",
     "height": 265
    },
    "id": "c7608508",
    "outputId": "532979a5-85bb-4fb1-be15-a53bc9e06093"
   },
   "outputs": [
    {
     "data": {
      "image/png": "[encoded data removed]",
      "text/plain": [
       "<Figure size 432x288 with 1 Axes>"
      ]
     },
     "metadata": {
      "needs_background": "light"
     },
     "output_type": "display_data"
    }
   ],
   "source": [
    "barras = sns.barplot(data=empresas_df, x= empresas_df.index, y=empresas_df['Capitalización de Mercado'])\n",
    "barras.axhline(empresas_df['Capitalización de Mercado'].mean(), color='purple')\n",
    "plt.show()"
   ]
  },
  {
   "cell_type": "code",
   "execution_count": 8,
   "id": "4125745d",
   "metadata": {
    "colab": {
     "base_uri": "https://localhost:8080/",
     "height": 265
    },
    "id": "4125745d",
    "outputId": "633227ad-6e20-4df2-a6dc-d69b76413972"
   },
   "outputs": [
    {
     "data": {
      "image/png": "[encoded data removed]",
      "text/plain": [
       "<Figure size 432x288 with 1 Axes>"
      ]
     },
     "metadata": {
      "needs_background": "light"
     },
     "output_type": "display_data"
    }
   ],
   "source": [
    "barras = sns.barplot(data=empresas_df, x= empresas_df.index, y=empresas_df['Cantidad de Empleados'])\n",
    "barras.axhline(empresas_df['Cantidad de Empleados'].mean(), color='purple')\n",
    "plt.show()"
   ]
  },
  {
   "cell_type": "code",
   "execution_count": 9,
   "id": "e07ba97d",
   "metadata": {
    "colab": {
     "base_uri": "https://localhost:8080/",
     "height": 279
    },
    "id": "e07ba97d",
    "outputId": "da5e50e9-890f-4fe0-b801-70fa4cb5039c"
   },
   "outputs": [
    {
     "data": {
      "image/png": "[encoded data removed]",
      "text/plain": [
       "<Figure size 432x288 with 1 Axes>"
      ]
     },
     "metadata": {
      "needs_background": "light"
     },
     "output_type": "display_data"
    }
   ],
   "source": [
    "scatter = sns.scatterplot(data=empresas_df, \n",
    "                x=empresas_df['Último Cierre'], \n",
    "                y= empresas_df['Ganancias por acción'], \n",
    "                s = empresas_df['Capitalización de Mercado'],\n",
    "                hue=empresas_df.index,\n",
    "                )\n",
    "plt.legend(bbox_to_anchor=(1.05,1), loc=2, borderaxespad=0)\n",
    "plt.show()"
   ]
  },
  {
   "cell_type": "markdown",
   "id": "ca8a4553",
   "metadata": {
    "id": "ca8a4553"
   },
   "source": [
    "# 2- pandas-datareader\n",
    "**Instalación para Jupyter:**\n",
    "    pip install pandas-datareader<br>\n",
    "**Instalación para Colab:** !pip install --upgrade pandas_datareader<br>\n",
    "En caso de no funcionar, volver a ejecutar tras haber reiniciado el entorno de ejecución.\n",
    "**Documentación:**\n",
    "    https://pandas-datareader.readthedocs.io/en/latest/"
   ]
  },
  {
   "cell_type": "code",
   "execution_count": 10,
   "id": "698b104f",
   "metadata": {
    "colab": {
     "base_uri": "https://localhost:8080/",
     "height": 238
    },
    "id": "698b104f",
    "outputId": "1bdad852-083e-49ff-bb97-4cbf8db072d1"
   },
   "outputs": [
    {
     "data": {
      "text/html": [
       "<div>\n",
       "<style scoped>\n",
       "    .dataframe tbody tr th:only-of-type {\n",
       "        vertical-align: middle;\n",
       "    }\n",
       "\n",
       "    .dataframe tbody tr th {\n",
       "        vertical-align: top;\n",
       "    }\n",
       "\n",
       "    .dataframe thead th {\n",
       "        text-align: right;\n",
       "    }\n",
       "</style>\n",
       "<table border=\"1\" class=\"dataframe\">\n",
       "  <thead>\n",
       "    <tr style=\"text-align: right;\">\n",
       "      <th></th>\n",
       "      <th>High</th>\n",
       "      <th>Low</th>\n",
       "      <th>Open</th>\n",
       "      <th>Close</th>\n",
       "      <th>Volume</th>\n",
       "      <th>Adj Close</th>\n",
       "    </tr>\n",
       "    <tr>\n",
       "      <th>Date</th>\n",
       "      <th></th>\n",
       "      <th></th>\n",
       "      <th></th>\n",
       "      <th></th>\n",
       "      <th></th>\n",
       "      <th></th>\n",
       "    </tr>\n",
       "  </thead>\n",
       "  <tbody>\n",
       "    <tr>\n",
       "      <th>2021-12-01</th>\n",
       "      <td>654.520020</td>\n",
       "      <td>617.070007</td>\n",
       "      <td>649.479980</td>\n",
       "      <td>617.770020</td>\n",
       "      <td>3882800</td>\n",
       "      <td>617.770020</td>\n",
       "    </tr>\n",
       "    <tr>\n",
       "      <th>2021-12-02</th>\n",
       "      <td>625.359985</td>\n",
       "      <td>612.880005</td>\n",
       "      <td>617.099976</td>\n",
       "      <td>616.469971</td>\n",
       "      <td>3331100</td>\n",
       "      <td>616.469971</td>\n",
       "    </tr>\n",
       "    <tr>\n",
       "      <th>2021-12-03</th>\n",
       "      <td>625.500000</td>\n",
       "      <td>594.000000</td>\n",
       "      <td>622.750000</td>\n",
       "      <td>602.130005</td>\n",
       "      <td>4825200</td>\n",
       "      <td>602.130005</td>\n",
       "    </tr>\n",
       "    <tr>\n",
       "      <th>2021-12-06</th>\n",
       "      <td>617.289978</td>\n",
       "      <td>601.000000</td>\n",
       "      <td>606.010010</td>\n",
       "      <td>612.690002</td>\n",
       "      <td>3075700</td>\n",
       "      <td>612.690002</td>\n",
       "    </tr>\n",
       "    <tr>\n",
       "      <th>2021-12-07</th>\n",
       "      <td>628.890015</td>\n",
       "      <td>611.400024</td>\n",
       "      <td>619.830017</td>\n",
       "      <td>625.580017</td>\n",
       "      <td>3124100</td>\n",
       "      <td>625.580017</td>\n",
       "    </tr>\n",
       "  </tbody>\n",
       "</table>\n",
       "</div>"
      ],
      "text/plain": [
       "                  High         Low        Open       Close   Volume  \\\n",
       "Date                                                                  \n",
       "2021-12-01  654.520020  617.070007  649.479980  617.770020  3882800   \n",
       "2021-12-02  625.359985  612.880005  617.099976  616.469971  3331100   \n",
       "2021-12-03  625.500000  594.000000  622.750000  602.130005  4825200   \n",
       "2021-12-06  617.289978  601.000000  606.010010  612.690002  3075700   \n",
       "2021-12-07  628.890015  611.400024  619.830017  625.580017  3124100   \n",
       "\n",
       "             Adj Close  \n",
       "Date                    \n",
       "2021-12-01  617.770020  \n",
       "2021-12-02  616.469971  \n",
       "2021-12-03  602.130005  \n",
       "2021-12-06  612.690002  \n",
       "2021-12-07  625.580017  "
      ]
     },
     "execution_count": 10,
     "metadata": {},
     "output_type": "execute_result"
    }
   ],
   "source": [
    "comienzo = datetime.datetime(2020, 1, 1)\n",
    "final = datetime.datetime(2021, 12, 7)\n",
    "\n",
    "df = web.DataReader(\"NFLX\", 'yahoo', comienzo, final)\n",
    "df.tail()"
   ]
  },
  {
   "cell_type": "code",
   "execution_count": 11,
   "id": "hQxOSkVedAUv",
   "metadata": {
    "colab": {
     "base_uri": "https://localhost:8080/",
     "height": 294
    },
    "id": "hQxOSkVedAUv",
    "outputId": "ccd54bb6-2704-4f09-de6a-659a4b87d2a8"
   },
   "outputs": [
    {
     "data": {
      "text/plain": [
       "<AxesSubplot:xlabel='Date'>"
      ]
     },
     "execution_count": 11,
     "metadata": {},
     "output_type": "execute_result"
    },
    {
     "data": {
      "image/png": "[encoded data removed]",
      "text/plain": [
       "<Figure size 432x288 with 1 Axes>"
      ]
     },
     "metadata": {
      "needs_background": "light"
     },
     "output_type": "display_data"
    }
   ],
   "source": [
    "df['Adj Close'].plot()"
   ]
  },
  {
   "cell_type": "code",
   "execution_count": 12,
   "id": "f62b072f",
   "metadata": {
    "colab": {
     "base_uri": "https://localhost:8080/",
     "height": 238
    },
    "id": "f62b072f",
    "outputId": "fc5c335b-98eb-4d79-f106-efe526799013"
   },
   "outputs": [
    {
     "data": {
      "text/html": [
       "<div>\n",
       "<style scoped>\n",
       "    .dataframe tbody tr th:only-of-type {\n",
       "        vertical-align: middle;\n",
       "    }\n",
       "\n",
       "    .dataframe tbody tr th {\n",
       "        vertical-align: top;\n",
       "    }\n",
       "\n",
       "    .dataframe thead th {\n",
       "        text-align: right;\n",
       "    }\n",
       "</style>\n",
       "<table border=\"1\" class=\"dataframe\">\n",
       "  <thead>\n",
       "    <tr style=\"text-align: right;\">\n",
       "      <th>Symbols</th>\n",
       "      <th>FB</th>\n",
       "      <th>AMZN</th>\n",
       "      <th>AAPL</th>\n",
       "      <th>NFLX</th>\n",
       "      <th>GOOG</th>\n",
       "      <th>MSFT</th>\n",
       "    </tr>\n",
       "    <tr>\n",
       "      <th>Date</th>\n",
       "      <th></th>\n",
       "      <th></th>\n",
       "      <th></th>\n",
       "      <th></th>\n",
       "      <th></th>\n",
       "      <th></th>\n",
       "    </tr>\n",
       "  </thead>\n",
       "  <tbody>\n",
       "    <tr>\n",
       "      <th>2020-01-02</th>\n",
       "      <td>209.779999</td>\n",
       "      <td>1898.010010</td>\n",
       "      <td>73.988480</td>\n",
       "      <td>329.809998</td>\n",
       "      <td>1367.369995</td>\n",
       "      <td>157.615112</td>\n",
       "    </tr>\n",
       "    <tr>\n",
       "      <th>2020-01-03</th>\n",
       "      <td>208.669998</td>\n",
       "      <td>1874.969971</td>\n",
       "      <td>73.269165</td>\n",
       "      <td>325.899994</td>\n",
       "      <td>1360.660034</td>\n",
       "      <td>155.652527</td>\n",
       "    </tr>\n",
       "    <tr>\n",
       "      <th>2020-01-06</th>\n",
       "      <td>212.600006</td>\n",
       "      <td>1902.880005</td>\n",
       "      <td>73.852989</td>\n",
       "      <td>335.829987</td>\n",
       "      <td>1394.209961</td>\n",
       "      <td>156.054886</td>\n",
       "    </tr>\n",
       "    <tr>\n",
       "      <th>2020-01-07</th>\n",
       "      <td>213.059998</td>\n",
       "      <td>1906.859985</td>\n",
       "      <td>73.505646</td>\n",
       "      <td>330.750000</td>\n",
       "      <td>1393.339966</td>\n",
       "      <td>154.631973</td>\n",
       "    </tr>\n",
       "    <tr>\n",
       "      <th>2020-01-08</th>\n",
       "      <td>215.220001</td>\n",
       "      <td>1891.969971</td>\n",
       "      <td>74.688072</td>\n",
       "      <td>339.260010</td>\n",
       "      <td>1404.319946</td>\n",
       "      <td>157.095016</td>\n",
       "    </tr>\n",
       "  </tbody>\n",
       "</table>\n",
       "</div>"
      ],
      "text/plain": [
       "Symbols             FB         AMZN       AAPL        NFLX         GOOG  \\\n",
       "Date                                                                      \n",
       "2020-01-02  209.779999  1898.010010  73.988480  329.809998  1367.369995   \n",
       "2020-01-03  208.669998  1874.969971  73.269165  325.899994  1360.660034   \n",
       "2020-01-06  212.600006  1902.880005  73.852989  335.829987  1394.209961   \n",
       "2020-01-07  213.059998  1906.859985  73.505646  330.750000  1393.339966   \n",
       "2020-01-08  215.220001  1891.969971  74.688072  339.260010  1404.319946   \n",
       "\n",
       "Symbols           MSFT  \n",
       "Date                    \n",
       "2020-01-02  157.615112  \n",
       "2020-01-03  155.652527  \n",
       "2020-01-06  156.054886  \n",
       "2020-01-07  154.631973  \n",
       "2020-01-08  157.095016  "
      ]
     },
     "execution_count": 12,
     "metadata": {},
     "output_type": "execute_result"
    }
   ],
   "source": [
    "total_df = web.DataReader(['FB', 'AMZN', 'AAPL', 'NFLX', 'GOOG','MSFT'],\n",
    "                        'yahoo', start = comienzo, end = final )['Adj Close']\n",
    "total_df.head()"
   ]
  },
  {
   "cell_type": "code",
   "execution_count": 13,
   "id": "3d2fcf8a",
   "metadata": {
    "colab": {
     "base_uri": "https://localhost:8080/",
     "height": 238
    },
    "id": "3d2fcf8a",
    "outputId": "4fae89c8-b7fd-4411-fb27-6a3c9e85fbec"
   },
   "outputs": [
    {
     "data": {
      "text/html": [
       "<div>\n",
       "<style scoped>\n",
       "    .dataframe tbody tr th:only-of-type {\n",
       "        vertical-align: middle;\n",
       "    }\n",
       "\n",
       "    .dataframe tbody tr th {\n",
       "        vertical-align: top;\n",
       "    }\n",
       "\n",
       "    .dataframe thead th {\n",
       "        text-align: right;\n",
       "    }\n",
       "</style>\n",
       "<table border=\"1\" class=\"dataframe\">\n",
       "  <thead>\n",
       "    <tr style=\"text-align: right;\">\n",
       "      <th>Symbols</th>\n",
       "      <th>FB</th>\n",
       "      <th>AMZN</th>\n",
       "      <th>AAPL</th>\n",
       "      <th>NFLX</th>\n",
       "      <th>GOOG</th>\n",
       "      <th>MSFT</th>\n",
       "    </tr>\n",
       "    <tr>\n",
       "      <th>Date</th>\n",
       "      <th></th>\n",
       "      <th></th>\n",
       "      <th></th>\n",
       "      <th></th>\n",
       "      <th></th>\n",
       "      <th></th>\n",
       "    </tr>\n",
       "  </thead>\n",
       "  <tbody>\n",
       "    <tr>\n",
       "      <th>2021-12-01</th>\n",
       "      <td>310.600006</td>\n",
       "      <td>3443.719971</td>\n",
       "      <td>164.770004</td>\n",
       "      <td>617.770020</td>\n",
       "      <td>2832.360107</td>\n",
       "      <td>330.079987</td>\n",
       "    </tr>\n",
       "    <tr>\n",
       "      <th>2021-12-02</th>\n",
       "      <td>310.390015</td>\n",
       "      <td>3437.360107</td>\n",
       "      <td>163.759995</td>\n",
       "      <td>616.469971</td>\n",
       "      <td>2875.530029</td>\n",
       "      <td>329.489990</td>\n",
       "    </tr>\n",
       "    <tr>\n",
       "      <th>2021-12-03</th>\n",
       "      <td>306.839996</td>\n",
       "      <td>3389.790039</td>\n",
       "      <td>161.839996</td>\n",
       "      <td>602.130005</td>\n",
       "      <td>2850.409912</td>\n",
       "      <td>323.010010</td>\n",
       "    </tr>\n",
       "    <tr>\n",
       "      <th>2021-12-06</th>\n",
       "      <td>317.869995</td>\n",
       "      <td>3427.370117</td>\n",
       "      <td>165.320007</td>\n",
       "      <td>612.690002</td>\n",
       "      <td>2875.929932</td>\n",
       "      <td>326.190002</td>\n",
       "    </tr>\n",
       "    <tr>\n",
       "      <th>2021-12-07</th>\n",
       "      <td>322.809998</td>\n",
       "      <td>3523.290039</td>\n",
       "      <td>171.179993</td>\n",
       "      <td>625.580017</td>\n",
       "      <td>2960.729980</td>\n",
       "      <td>334.920013</td>\n",
       "    </tr>\n",
       "  </tbody>\n",
       "</table>\n",
       "</div>"
      ],
      "text/plain": [
       "Symbols             FB         AMZN        AAPL        NFLX         GOOG  \\\n",
       "Date                                                                       \n",
       "2021-12-01  310.600006  3443.719971  164.770004  617.770020  2832.360107   \n",
       "2021-12-02  310.390015  3437.360107  163.759995  616.469971  2875.530029   \n",
       "2021-12-03  306.839996  3389.790039  161.839996  602.130005  2850.409912   \n",
       "2021-12-06  317.869995  3427.370117  165.320007  612.690002  2875.929932   \n",
       "2021-12-07  322.809998  3523.290039  171.179993  625.580017  2960.729980   \n",
       "\n",
       "Symbols           MSFT  \n",
       "Date                    \n",
       "2021-12-01  330.079987  \n",
       "2021-12-02  329.489990  \n",
       "2021-12-03  323.010010  \n",
       "2021-12-06  326.190002  \n",
       "2021-12-07  334.920013  "
      ]
     },
     "execution_count": 13,
     "metadata": {},
     "output_type": "execute_result"
    }
   ],
   "source": [
    "total_df.tail()"
   ]
  },
  {
   "cell_type": "markdown",
   "id": "d788ac65",
   "metadata": {
    "id": "d788ac65"
   },
   "source": [
    "### Calculamos si hay Correlación"
   ]
  },
  {
   "cell_type": "code",
   "execution_count": 14,
   "id": "b200f245",
   "metadata": {
    "colab": {
     "base_uri": "https://localhost:8080/",
     "height": 269
    },
    "id": "b200f245",
    "outputId": "b7e66443-d55c-4546-fac6-fc3ea3a68cba"
   },
   "outputs": [
    {
     "data": {
      "text/html": [
       "<div>\n",
       "<style scoped>\n",
       "    .dataframe tbody tr th:only-of-type {\n",
       "        vertical-align: middle;\n",
       "    }\n",
       "\n",
       "    .dataframe tbody tr th {\n",
       "        vertical-align: top;\n",
       "    }\n",
       "\n",
       "    .dataframe thead th {\n",
       "        text-align: right;\n",
       "    }\n",
       "</style>\n",
       "<table border=\"1\" class=\"dataframe\">\n",
       "  <thead>\n",
       "    <tr style=\"text-align: right;\">\n",
       "      <th>Symbols</th>\n",
       "      <th>FB</th>\n",
       "      <th>AMZN</th>\n",
       "      <th>AAPL</th>\n",
       "      <th>NFLX</th>\n",
       "      <th>GOOG</th>\n",
       "      <th>MSFT</th>\n",
       "    </tr>\n",
       "    <tr>\n",
       "      <th>Symbols</th>\n",
       "      <th></th>\n",
       "      <th></th>\n",
       "      <th></th>\n",
       "      <th></th>\n",
       "      <th></th>\n",
       "      <th></th>\n",
       "    </tr>\n",
       "  </thead>\n",
       "  <tbody>\n",
       "    <tr>\n",
       "      <th>FB</th>\n",
       "      <td>1.000000</td>\n",
       "      <td>0.861298</td>\n",
       "      <td>0.926128</td>\n",
       "      <td>0.785393</td>\n",
       "      <td>0.921612</td>\n",
       "      <td>0.913360</td>\n",
       "    </tr>\n",
       "    <tr>\n",
       "      <th>AMZN</th>\n",
       "      <td>0.861298</td>\n",
       "      <td>1.000000</td>\n",
       "      <td>0.917180</td>\n",
       "      <td>0.874416</td>\n",
       "      <td>0.731953</td>\n",
       "      <td>0.816467</td>\n",
       "    </tr>\n",
       "    <tr>\n",
       "      <th>AAPL</th>\n",
       "      <td>0.926128</td>\n",
       "      <td>0.917180</td>\n",
       "      <td>1.000000</td>\n",
       "      <td>0.890531</td>\n",
       "      <td>0.886153</td>\n",
       "      <td>0.927061</td>\n",
       "    </tr>\n",
       "    <tr>\n",
       "      <th>NFLX</th>\n",
       "      <td>0.785393</td>\n",
       "      <td>0.874416</td>\n",
       "      <td>0.890531</td>\n",
       "      <td>1.000000</td>\n",
       "      <td>0.791666</td>\n",
       "      <td>0.896555</td>\n",
       "    </tr>\n",
       "    <tr>\n",
       "      <th>GOOG</th>\n",
       "      <td>0.921612</td>\n",
       "      <td>0.731953</td>\n",
       "      <td>0.886153</td>\n",
       "      <td>0.791666</td>\n",
       "      <td>1.000000</td>\n",
       "      <td>0.967053</td>\n",
       "    </tr>\n",
       "    <tr>\n",
       "      <th>MSFT</th>\n",
       "      <td>0.913360</td>\n",
       "      <td>0.816467</td>\n",
       "      <td>0.927061</td>\n",
       "      <td>0.896555</td>\n",
       "      <td>0.967053</td>\n",
       "      <td>1.000000</td>\n",
       "    </tr>\n",
       "  </tbody>\n",
       "</table>\n",
       "</div>"
      ],
      "text/plain": [
       "Symbols        FB      AMZN      AAPL      NFLX      GOOG      MSFT\n",
       "Symbols                                                            \n",
       "FB       1.000000  0.861298  0.926128  0.785393  0.921612  0.913360\n",
       "AMZN     0.861298  1.000000  0.917180  0.874416  0.731953  0.816467\n",
       "AAPL     0.926128  0.917180  1.000000  0.890531  0.886153  0.927061\n",
       "NFLX     0.785393  0.874416  0.890531  1.000000  0.791666  0.896555\n",
       "GOOG     0.921612  0.731953  0.886153  0.791666  1.000000  0.967053\n",
       "MSFT     0.913360  0.816467  0.927061  0.896555  0.967053  1.000000"
      ]
     },
     "execution_count": 14,
     "metadata": {},
     "output_type": "execute_result"
    }
   ],
   "source": [
    "correl = total_df.corr()\n",
    "correl"
   ]
  },
  {
   "cell_type": "code",
   "execution_count": 15,
   "id": "c8a9dafc",
   "metadata": {
    "colab": {
     "base_uri": "https://localhost:8080/",
     "height": 269
    },
    "id": "c8a9dafc",
    "outputId": "97afe3fc-d883-4ff6-e026-10d00838eba8"
   },
   "outputs": [
    {
     "data": {
      "image/png": "[encoded data removed]",
      "text/plain": [
       "<Figure size 432x288 with 2 Axes>"
      ]
     },
     "metadata": {
      "needs_background": "light"
     },
     "output_type": "display_data"
    }
   ],
   "source": [
    "plt.imshow(correl, cmap='hot', interpolation='None') #probar interpolation = 'quadric'\n",
    "plt.colorbar()\n",
    "plt.xticks(range(len(correl)), correl.columns)\n",
    "plt.yticks(range(len(correl)), correl.columns);\n",
    "plt.show()"
   ]
  },
  {
   "cell_type": "markdown",
   "id": "c0636ee2",
   "metadata": {
    "id": "c0636ee2"
   },
   "source": [
    "### Data Readers Disponibles\n",
    "<br> Banco Mundial\n",
    "<br> Reserva Federal de EE.UU.\n",
    "<br> OCDE\n",
    "<br>https://pandas-datareader.readthedocs.io/en/latest/readers/index.html\n"
   ]
  },
  {
   "cell_type": "markdown",
   "id": "d4b9cc0f",
   "metadata": {
    "id": "d4b9cc0f"
   },
   "source": [
    "# 3- Scikit-Learn"
   ]
  },
  {
   "cell_type": "code",
   "execution_count": 16,
   "id": "3e4b7c3a",
   "metadata": {
    "id": "3e4b7c3a"
   },
   "outputs": [],
   "source": [
    "import math\n",
    "import numpy as np\n",
    "from sklearn.linear_model import LinearRegression\n",
    "from sklearn.neighbors import KNeighborsRegressor\n",
    "from sklearn import preprocessing\n",
    "from sklearn.linear_model import Ridge\n",
    "from sklearn.preprocessing import PolynomialFeatures\n",
    "from sklearn.pipeline import make_pipeline\n",
    "from sklearn.model_selection import train_test_split\n",
    "\n",
    "import matplotlib as mpl\n",
    "from matplotlib import style"
   ]
  },
  {
   "cell_type": "code",
   "execution_count": 17,
   "id": "ff22ecc6",
   "metadata": {
    "colab": {
     "base_uri": "https://localhost:8080/"
    },
    "id": "ff22ecc6",
    "outputId": "d3027b4a-a5e1-4fb5-a544-ee9c165822b5"
   },
   "outputs": [
    {
     "name": "stdout",
     "output_type": "stream",
     "text": [
      "         Date        Open        High         Low       Close   Adj Close  \\\n",
      "0  2018-12-03  293.190002  298.720001  284.579987  290.299988  290.299988   \n",
      "1  2018-12-04  288.130005  295.739990  274.720001  275.329987  275.329987   \n",
      "2  2018-12-06  268.329987  283.220001  267.140015  282.880005  282.880005   \n",
      "3  2018-12-07  282.480011  284.209991  263.380005  265.140015  265.140015   \n",
      "4  2018-12-10  264.190002  271.179993  260.609985  269.700012  269.700012   \n",
      "\n",
      "     Volume  \n",
      "0  14117400  \n",
      "1  12800600  \n",
      "2  13074300  \n",
      "3  12466700  \n",
      "4   9605600  \n"
     ]
    }
   ],
   "source": [
    "#pd.options.display.width = 0\n",
    "# Vamos a trabajar con Datos de Netflix (NFLX).\n",
    "# Por si quieren probar con otros datos, también subí archivos de Disney (DIS) y Bitcoin (BTC-USD)\n",
    "NFLX_df = pd.read_csv('NFLX.csv')\n",
    "print(NFLX_df.head())\n",
    "\n",
    "close_px = NFLX_df['Adj Close']\n",
    "\n",
    "# Preparo un DataFrame con menos datos\n",
    "shorter_df = NFLX_df.loc[:,['Adj Close','Volume']]\n"
   ]
  },
  {
   "cell_type": "code",
   "execution_count": 18,
   "id": "ZMRKHme8dHoI",
   "metadata": {
    "colab": {
     "base_uri": "https://localhost:8080/",
     "height": 206
    },
    "id": "ZMRKHme8dHoI",
    "outputId": "43df6e73-3f34-4e2f-8eb9-6c2c4267fbe7"
   },
   "outputs": [
    {
     "data": {
      "text/html": [
       "<div>\n",
       "<style scoped>\n",
       "    .dataframe tbody tr th:only-of-type {\n",
       "        vertical-align: middle;\n",
       "    }\n",
       "\n",
       "    .dataframe tbody tr th {\n",
       "        vertical-align: top;\n",
       "    }\n",
       "\n",
       "    .dataframe thead th {\n",
       "        text-align: right;\n",
       "    }\n",
       "</style>\n",
       "<table border=\"1\" class=\"dataframe\">\n",
       "  <thead>\n",
       "    <tr style=\"text-align: right;\">\n",
       "      <th></th>\n",
       "      <th>Adj Close</th>\n",
       "      <th>Volume</th>\n",
       "    </tr>\n",
       "  </thead>\n",
       "  <tbody>\n",
       "    <tr>\n",
       "      <th>0</th>\n",
       "      <td>290.299988</td>\n",
       "      <td>14117400</td>\n",
       "    </tr>\n",
       "    <tr>\n",
       "      <th>1</th>\n",
       "      <td>275.329987</td>\n",
       "      <td>12800600</td>\n",
       "    </tr>\n",
       "    <tr>\n",
       "      <th>2</th>\n",
       "      <td>282.880005</td>\n",
       "      <td>13074300</td>\n",
       "    </tr>\n",
       "    <tr>\n",
       "      <th>3</th>\n",
       "      <td>265.140015</td>\n",
       "      <td>12466700</td>\n",
       "    </tr>\n",
       "    <tr>\n",
       "      <th>4</th>\n",
       "      <td>269.700012</td>\n",
       "      <td>9605600</td>\n",
       "    </tr>\n",
       "  </tbody>\n",
       "</table>\n",
       "</div>"
      ],
      "text/plain": [
       "    Adj Close    Volume\n",
       "0  290.299988  14117400\n",
       "1  275.329987  12800600\n",
       "2  282.880005  13074300\n",
       "3  265.140015  12466700\n",
       "4  269.700012   9605600"
      ]
     },
     "execution_count": 18,
     "metadata": {},
     "output_type": "execute_result"
    }
   ],
   "source": [
    "shorter_df.head()"
   ]
  },
  {
   "cell_type": "code",
   "execution_count": 19,
   "id": "yN2tQk5lTn9T",
   "metadata": {
    "colab": {
     "base_uri": "https://localhost:8080/"
    },
    "id": "yN2tQk5lTn9T",
    "outputId": "9ddf7466-7d08-4ed4-b973-824a9815ec72"
   },
   "outputs": [
    {
     "data": {
      "text/plain": [
       "False"
      ]
     },
     "execution_count": 19,
     "metadata": {},
     "output_type": "execute_result"
    }
   ],
   "source": [
    "# Chequear si hay algún Nan\n",
    "shorter_df.isnull().values.any()"
   ]
  },
  {
   "cell_type": "code",
   "execution_count": 20,
   "id": "40d422f6",
   "metadata": {
    "colab": {
     "base_uri": "https://localhost:8080/"
    },
    "id": "40d422f6",
    "outputId": "676e5a3f-1848-4910-f651-dd7bdbb452ba"
   },
   "outputs": [],
   "source": [
    "# Nos deshacemos de los Nan\n",
    "#shorter_df.fillna(value=-99999, inplace=True)"
   ]
  },
  {
   "cell_type": "code",
   "execution_count": 21,
   "id": "8ca8030f",
   "metadata": {
    "id": "8ca8030f"
   },
   "outputs": [],
   "source": [
    "# Calculo cuánto es el 1%, respecto de los datos para predecir\n",
    "separados_1p = int(math.ceil(0.01 * len(shorter_df)))\n",
    "\n",
    "# Separamos el \"precio de cierre ajustado\"\n",
    "forecast_col = 'Adj Close'\n",
    "shorter_df['label'] = shorter_df[forecast_col].shift(-separados_1p)\n",
    "X = np.array(shorter_df.drop(['label'], 1))\n",
    "\n",
    "# Hacemos un preprocesamiento de X, para que tengan la misma distribución para Regresión Lineal\n",
    "X = preprocessing.scale(X)\n",
    "\n",
    "# Preparamos X para la generación y evaluación del modelo\n",
    "X_lately = X[-separados_1p:]\n",
    "X = X[:-separados_1p]\n",
    "\n",
    "# Separamos a label y lo identificamos como y\n",
    "y = np.array(shorter_df['label'])\n",
    "y = y[:-separados_1p]"
   ]
  },
  {
   "cell_type": "code",
   "execution_count": 22,
   "id": "1a9ff72d",
   "metadata": {
    "id": "1a9ff72d"
   },
   "outputs": [],
   "source": [
    "# Separamos los datos para Train y test, en un 80% - 20%\n",
    "train, test = train_test_split(NFLX_df, test_size=0.20)\n",
    "\n",
    "# Hacemos un Reshape a X_train \n",
    "X_train = np.array(train.index).reshape(-1, 1)\n",
    "y_train = train['Adj Close']\n",
    "\n",
    "# Regresión Lineal\n",
    "clfreg = LinearRegression(n_jobs=-1)\n",
    "clfreg.fit(X_train, y_train)\n",
    "\n",
    "# Regresión Cuadrática\n",
    "clfpoly2 = make_pipeline(PolynomialFeatures(2), Ridge())\n",
    "clfpoly2.fit(X_train, y_train)\n",
    "\n",
    "# KNN \n",
    "clfknn = KNeighborsRegressor(n_neighbors=2)\n",
    "clfknn.fit(X_train, y_train)\n",
    "\n",
    "X_test = np.array(test.index).reshape(-1, 1)\n",
    "y_test = test['Adj Close']\n",
    "\n",
    "# Generamos un array de Y con los valores que se predicen\n",
    "y_pred_reg = clfreg.predict(X_test)\n",
    "y_pred_poly2 = clfpoly2.predict(X_test)\n",
    "y_pred_knn = clfknn.predict(X_test)\n"
   ]
  },
  {
   "cell_type": "markdown",
   "id": "875925e1",
   "metadata": {
    "id": "875925e1"
   },
   "source": [
    "### Predicción mediante Regresión Lineal"
   ]
  },
  {
   "cell_type": "code",
   "execution_count": 23,
   "id": "226c96a9",
   "metadata": {
    "colab": {
     "base_uri": "https://localhost:8080/",
     "height": 295
    },
    "id": "226c96a9",
    "outputId": "9cd39706-c8bf-4ea6-d748-8d3588166cff"
   },
   "outputs": [
    {
     "data": {
      "image/png": "[encoded data removed]",
      "text/plain": [
       "<Figure size 432x288 with 1 Axes>"
      ]
     },
     "metadata": {
      "needs_background": "light"
     },
     "output_type": "display_data"
    }
   ],
   "source": [
    "plt.scatter(y_test, y_pred_reg)\n",
    "\n",
    "plt.xlabel('Precio Real')\n",
    "plt.ylabel('Predicciones')\n",
    "\n",
    "plt.title('Predicción mediante Regresión Lineal')\n",
    "plt.grid()\n",
    "plt.show()"
   ]
  },
  {
   "cell_type": "markdown",
   "id": "a9efc29c",
   "metadata": {
    "id": "a9efc29c"
   },
   "source": [
    "### Predicción mediante Regresión Cuadrática"
   ]
  },
  {
   "cell_type": "code",
   "execution_count": 24,
   "id": "62860e7d",
   "metadata": {
    "colab": {
     "base_uri": "https://localhost:8080/",
     "height": 295
    },
    "id": "62860e7d",
    "outputId": "d1dbc15b-e7f8-4fc9-a5f2-20cc356900ec"
   },
   "outputs": [
    {
     "data": {
      "image/png": "[encoded data removed]",
      "text/plain": [
       "<Figure size 432x288 with 1 Axes>"
      ]
     },
     "metadata": {
      "needs_background": "light"
     },
     "output_type": "display_data"
    }
   ],
   "source": [
    "plt.scatter(y_test, y_pred_poly2)\n",
    "plt.grid()\n",
    "plt.xlabel('Precio Real')\n",
    "plt.ylabel('Predicciones')\n",
    "\n",
    "plt.title('Predicción mediante Regresión Cuadrática')\n",
    "\n",
    "plt.show()"
   ]
  },
  {
   "cell_type": "markdown",
   "id": "08c5eeb1",
   "metadata": {
    "id": "08c5eeb1"
   },
   "source": [
    "### Predicción mediante KNN"
   ]
  },
  {
   "cell_type": "code",
   "execution_count": 25,
   "id": "5511a785",
   "metadata": {
    "colab": {
     "base_uri": "https://localhost:8080/",
     "height": 295
    },
    "id": "5511a785",
    "outputId": "d824e18f-b5ab-41b7-c517-97a3ff55f23f"
   },
   "outputs": [
    {
     "data": {
      "image/png": "[encoded data removed]",
      "text/plain": [
       "<Figure size 432x288 with 1 Axes>"
      ]
     },
     "metadata": {
      "needs_background": "light"
     },
     "output_type": "display_data"
    }
   ],
   "source": [
    "plt.scatter(y_test, y_pred_knn)\n",
    "plt.grid()\n",
    "plt.xlabel('Precio Real')\n",
    "plt.ylabel('Predicciones')\n",
    "\n",
    "plt.title('Predicción mediante KNN')\n",
    "\n",
    "plt.show()"
   ]
  },
  {
   "cell_type": "markdown",
   "id": "54597e14",
   "metadata": {
    "id": "hcQhnkMHgEhY"
   },
   "source": [
    "# Muchas gracias!"
   ]
  }
 ],
 "metadata": {
  "colab": {
   "name": "After Class 08-12.ipynb",
   "provenance": []
  },
  "kernelspec": {
   "display_name": "Python 3",
   "language": "python",
   "name": "python3"
  },
  "language_info": {
   "codemirror_mode": {
    "name": "ipython",
    "version": 3
   },
   "file_extension": ".py",
   "mimetype": "text/x-python",
   "name": "python",
   "nbconvert_exporter": "python",
   "pygments_lexer": "ipython3",
   "version": "3.8.8"
  }
 },
 "nbformat": 4,
 "nbformat_minor": 5
}
