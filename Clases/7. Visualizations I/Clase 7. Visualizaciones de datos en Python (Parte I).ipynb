{
 "cells": [
  {
   "cell_type": "markdown",
   "id": "914f71aa",
   "metadata": {},
   "source": [
    "# **CODERHOUSE DS - 22745**\n",
    "## Clase 7. Visualizaciones de datos en Python (Parte I)"
   ]
  },
  {
   "cell_type": "markdown",
   "id": "a94ac945",
   "metadata": {},
   "source": [
    "# Objetivos\n",
    "Al final de esta sesión habrás:\n",
    "\n",
    "1. Aprendido a graficar datos en Python.\n",
    "2. Entendido el uso básico de las librerías más utilizadas: Matplotlib y Seaborn."
   ]
  },
  {
   "cell_type": "code",
   "execution_count": null,
   "id": "f1107af2",
   "metadata": {},
   "outputs": [],
   "source": [
    "# Reset del fondo o 'theme' para mejor contraste\n",
    "# !jt -r"
   ]
  },
  {
   "cell_type": "markdown",
   "id": "b9301c45",
   "metadata": {},
   "source": [
    "## 1. Paquete `matplotlib`\n",
    "\n",
    "Es la librería más ampliamente utilizada en Python para la visualización. Es además el constructo básico de graficación de muchas otras librerías de uso común. Es posible compararla con `numpy` en el sentido que ha servido de piedra angular para integrar otras herramientas útiles."
   ]
  },
  {
   "cell_type": "code",
   "execution_count": 3,
   "id": "7d69c8b6",
   "metadata": {},
   "outputs": [
    {
     "ename": "AttributeError",
     "evalue": "module 'matplotlib' has no attribute 'subplots'",
     "output_type": "error",
     "traceback": [
      "\u001B[0;31m---------------------------------------------------------------------------\u001B[0m",
      "\u001B[0;31mAttributeError\u001B[0m                            Traceback (most recent call last)",
      "\u001B[0;32m/tmp/ipykernel_42392/435206319.py\u001B[0m in \u001B[0;36m<module>\u001B[0;34m\u001B[0m\n\u001B[1;32m      7\u001B[0m \u001B[0;31m# import numpy as np\u001B[0m\u001B[0;34m\u001B[0m\u001B[0;34m\u001B[0m\u001B[0m\n\u001B[1;32m      8\u001B[0m \u001B[0;34m\u001B[0m\u001B[0m\n\u001B[0;32m----> 9\u001B[0;31m \u001B[0mfig\u001B[0m\u001B[0;34m,\u001B[0m \u001B[0max\u001B[0m \u001B[0;34m=\u001B[0m \u001B[0mplt\u001B[0m\u001B[0;34m.\u001B[0m\u001B[0msubplots\u001B[0m\u001B[0;34m(\u001B[0m\u001B[0;34m)\u001B[0m\u001B[0;34m\u001B[0m\u001B[0;34m\u001B[0m\u001B[0m\n\u001B[0m\u001B[1;32m     10\u001B[0m \u001B[0;34m\u001B[0m\u001B[0m\n\u001B[1;32m     11\u001B[0m \u001B[0;34m\u001B[0m\u001B[0m\n",
      "\u001B[0;31mAttributeError\u001B[0m: module 'matplotlib' has no attribute 'subplots'"
     ]
    }
   ],
   "source": [
    "# Importación de paquetes\n",
    "import pandas as pd\n",
    "import matplotlib as mpl\n",
    "import pillow\n",
    "import matplotlib.pyplot as plt\n",
    "# import seaborn as sns\n",
    "# import numpy as np\n",
    "\n",
    "fig, ax = plt.subplots()\n"
   ]
  },
  {
   "cell_type": "markdown",
   "id": "72dfd3d0",
   "metadata": {},
   "source": [
    "### 1.1. Declarar una visualización\n",
    "\n",
    "Para declarar una visualización utilizamos el método `subplots` del módulo `matplotlib.pyplot`. Este nos permite crear un objeto de tipo `figure` (`fig`) para establecer el lienzo sobre el cual colocaremos un gráfico y un objeto de tipo `axes`(`ax`) que hace referencia a un gráfico. \n",
    "\n",
    "    fig, ax = plt.subplots()\n",
    "\n",
    "Asimismo, podemos colocar más de un gráfico en un mismo lienzo. Para esto, ingresamos por parámetro el número de filas (`n`) y el número de columnas (`m`) en las que queremos dividir el lienzo. \n",
    "\n",
    "    fig, ax = plt.subplots(n,m)"
   ]
  },
  {
   "cell_type": "markdown",
   "id": "5e6fc552",
   "metadata": {},
   "source": [
    "#### Ejemplo\n",
    "Grafiquemos una línea que una los puntos con coordenadas (x,y) = (1, 2) y (x,y) = (3, 4).<br>\n",
    "* coordenadas en el eje x (ordenada) = (1,3)\n",
    "* coordenadas en el eje y (abscisa) = (2,4)"
   ]
  },
  {
   "cell_type": "code",
   "execution_count": 1,
   "id": "e146b24e",
   "metadata": {},
   "outputs": [
    {
     "ename": "NameError",
     "evalue": "name 'plt' is not defined",
     "output_type": "error",
     "traceback": [
      "\u001B[0;31m---------------------------------------------------------------------------\u001B[0m",
      "\u001B[0;31mNameError\u001B[0m                                 Traceback (most recent call last)",
      "\u001B[0;32m/tmp/ipykernel_83100/3236262683.py\u001B[0m in \u001B[0;36m<module>\u001B[0;34m\u001B[0m\n\u001B[1;32m      1\u001B[0m \u001B[0;31m#mpl.style.use('bmh')\u001B[0m\u001B[0;34m\u001B[0m\u001B[0;34m\u001B[0m\u001B[0m\n\u001B[0;32m----> 2\u001B[0;31m \u001B[0mfig\u001B[0m\u001B[0;34m,\u001B[0m \u001B[0max\u001B[0m \u001B[0;34m=\u001B[0m \u001B[0mplt\u001B[0m\u001B[0;34m.\u001B[0m\u001B[0msubplots\u001B[0m\u001B[0;34m(\u001B[0m\u001B[0;34m)\u001B[0m\u001B[0;34m\u001B[0m\u001B[0;34m\u001B[0m\u001B[0m\n\u001B[0m\u001B[1;32m      3\u001B[0m \u001B[0max\u001B[0m\u001B[0;34m.\u001B[0m\u001B[0mplot\u001B[0m\u001B[0;34m(\u001B[0m\u001B[0;34m[\u001B[0m\u001B[0;36m1\u001B[0m\u001B[0;34m,\u001B[0m \u001B[0;36m3\u001B[0m\u001B[0;34m]\u001B[0m\u001B[0;34m,\u001B[0m \u001B[0;34m[\u001B[0m\u001B[0;36m2\u001B[0m\u001B[0;34m,\u001B[0m \u001B[0;36m4\u001B[0m\u001B[0;34m]\u001B[0m\u001B[0;34m)\u001B[0m\u001B[0;34m\u001B[0m\u001B[0;34m\u001B[0m\u001B[0m\n\u001B[1;32m      4\u001B[0m \u001B[0mplt\u001B[0m\u001B[0;34m.\u001B[0m\u001B[0mshow\u001B[0m\u001B[0;34m(\u001B[0m\u001B[0;34m)\u001B[0m\u001B[0;34m\u001B[0m\u001B[0;34m\u001B[0m\u001B[0m\n\u001B[1;32m      5\u001B[0m \u001B[0;34m\u001B[0m\u001B[0m\n",
      "\u001B[0;31mNameError\u001B[0m: name 'plt' is not defined"
     ]
    }
   ],
   "source": [
    "#mpl.style.use('bmh')\n",
    "fig, ax = plt.subplots()\n",
    "ax.plot([1, 3], [2, 4])\n",
    "plt.show()"
   ]
  },
  {
   "cell_type": "markdown",
   "id": "07e98c78",
   "metadata": {},
   "source": [
    "### 1.2. Métodos para editar los gráficos\n",
    "A continuación, presentamos los principales métodos para editar un objeto de tipo `axes`.\n",
    "\n",
    "| <center>Método<center> | <center>Descripción<center> | \n",
    "| :--- | :--- | \n",
    "| `set_xscale` | Establece la escala del eje x |\n",
    "| `set_yscale` | Establece la escala del eje y |\n",
    "| `set_axis_off` | Elimina los ejes del gráfico|\n",
    "| `set_xlim` | Establece límites para el rango del eje x |\n",
    "| `set_ylim` | Establece límites para el rango del eje y |\n",
    "| `set_xticks` | Establece cuales valores del eje x tendrán una etiqueta |\n",
    "| `set_yticks` | Establecemos cuales valores del eje y tendrán una etiqueta |\n",
    "| `set_xticklabels` | Establece los valores de las etiquetas de datos del eje x |\n",
    "| `set_yticklabels` | Establece los valores de las etiquetas de datos del eje y |\n",
    "| `set_title` | Agrega un título al gráfico |\n",
    "| `legend` | Agrega una leyenda al gráfico|\n",
    "| `twinx` | Genera un segundo eje vertical a la derecha del gráfico|\n",
    "| `twiny` | Genera un segundo eje horizontal arriba del gráfico|\n",
    "| `grid` | Agrega una grilla al gráfico cuando toma el valor `True`|"
   ]
  },
  {
   "cell_type": "markdown",
   "id": "285c5994",
   "metadata": {},
   "source": [
    "#### Ejemplo usando un Objeto de tipo `dataframe`"
   ]
  },
  {
   "cell_type": "code",
   "execution_count": null,
   "id": "f221315a",
   "metadata": {},
   "outputs": [],
   "source": [
    "# Importación de datos sobre precipitaciones\n",
    "dfurl = 'https://drive.google.com/file/d/1axO5w6ONPPmSIcYEYgKy9-W0PLFzCB2r/view?usp=sharing'\n",
    "url = 'https://drive.google.com/uc?id=' + dfurl.split('/')[-2]\n",
    "df_lluvias = pd.read_csv(url, encoding='latin1')\n",
    "df_lluvias.index = df_lluvias['Year']\n",
    "df_lluvias = df_lluvias.drop('Year', axis='columns')\n",
    "df_lluvias"
   ]
  },
  {
   "cell_type": "markdown",
   "id": "ceab8505",
   "metadata": {},
   "source": [
    "#### Ejemplo:  serie de tiempo de precipitaciones\n",
    "Grafiquemos las precipitaciones acumuladas para los distintos años como una serie de tiempo:"
   ]
  },
  {
   "cell_type": "code",
   "execution_count": null,
   "id": "73035dd9",
   "metadata": {},
   "outputs": [],
   "source": [
    "fig, ax = plt.subplots(figsize=(12, 4))\n",
    "ax.plot(df_lluvias.index ,df_lluvias.sum(axis='columns') , label='Precipitaciones acumuladas')\n",
    "#ax.set_xlabel('Año')\n",
    "#ax.set_ylabel('Precipitación acumulada (mm.)')\n",
    "#ax.set_title('Precipitaciones acumuladas según el año')\n",
    "#ax.legend()\n",
    "#plt.show()"
   ]
  },
  {
   "cell_type": "markdown",
   "id": "1e70750d",
   "metadata": {},
   "source": [
    "#### Guardar gráficos para uso posterior\n",
    "Es posible guardar gráficos en el equipo para uso posterior en formatos `.jpg`, `.pdf`, `.png` entre otros."
   ]
  },
  {
   "cell_type": "code",
   "execution_count": null,
   "id": "633cf631",
   "metadata": {},
   "outputs": [],
   "source": [
    "fig.savefig(\"precipitaciones_año.pdf\")"
   ]
  },
  {
   "cell_type": "markdown",
   "id": "258ccd98",
   "metadata": {},
   "source": [
    "### 1.3. Tipos de visualización\n",
    "La siguiente tabla asocia algunos de los métodos del objeto `ax` con el respectivo tipo de visualización que genera.\n",
    "\n",
    "| <center>Método | <center>Tipo de visualización | \n",
    "| :--- | :--- | \n",
    "| `scatter` | Gráfico de dispersión |\n",
    "| `plot` | Gráfico de línea |\n",
    "| `hist` | Histogramas |\n",
    "| `bar` | Gráfico de barras |"
   ]
  },
  {
   "cell_type": "markdown",
   "id": "a1496b05",
   "metadata": {},
   "source": [
    "### 1.3.1. Gráficos de Dispersión\n",
    "\n",
    "Los gráficos de dispersión permiten comparar las interacciones entre variables. Esta interacción sirve como intuición para determinar correlaciones y tendencias."
   ]
  },
  {
   "cell_type": "code",
   "execution_count": null,
   "id": "8a5ad325",
   "metadata": {},
   "outputs": [],
   "source": [
    "fig, ax = plt.subplots()                            # Declaramos la visualización.\n",
    "\n",
    "# Serie de datos 1.\n",
    "serie_1 = ax.scatter(                                \n",
    "                     [1,2,3,4],                       # Declaramos las coordenadas del eje x.\n",
    "                     [1,4,8,10],                      # Declaramos las coordenadas del eje y.\n",
    "                     color='blue',                    # Modificamos el color de los puntos.\n",
    "                     label='Serie 1'                  # Definimos un nombre para la serie 1.\n",
    "                     )    \n",
    "# Serie de datos 2.\n",
    "serie_2 = ax.scatter(                                \n",
    "                     [1,2,3,4],                       # Declaramos las coordenadas del eje x.\n",
    "                     [1,5,7,9],                       # Declaramos las coordenadas del eje y.\n",
    "                     color='green',                   # Modificamos el color de los puntos.\n",
    "                     label='Serie 2'                  # Definimos un nombre para la serie 2.\n",
    "                   )\n",
    "\n",
    "ax.set_xscale('linear')                               # Establecemos una escala lineal para el eje x.\n",
    "ax.set_yscale('linear')                               # Establecemos una escala lineal para el eje y.\n",
    "ax.set_title('Gráfico de dispersión')                 # Definimos un título para la visualización.\n",
    "ax.grid(True)                                         # Agregamos una grilla al gráfico.\n",
    "ax.legend()                                           # Modificamos el color del gráfico.\n",
    "\n",
    "plt.show()                                            # Utilizamos el método show para mostrar la visualización."
   ]
  },
  {
   "cell_type": "code",
   "execution_count": null,
   "id": "0febc614",
   "metadata": {},
   "outputs": [],
   "source": [
    "pesos = [42.8, 43.3, 42. , 44. , 44.1, 43.5, 48.1, 48.9, 47.7,46.9,50.4,\n",
    "       52.7, 51.8, 54.5, 54.2, 56.9, 55.4, 55.5, 57.1, 58.3, 63.7, 58.8,\n",
    "       64.6, 60.2, 64. , 63.8, 61.4, 66.3, 64.7, 63.9, 69.3, 67.9, 65.2,\n",
    "       70.8, 70.5, 69.3, 75.3, 75.5, 78.2, 78. , 73.2, 78. , 80.1, 78.2,\n",
    "       76. , 81.5, 79.4, 81.8, 81.8, 84.1]\n",
    "alturas = [149. , 149. , 149.9, 156.8, 150.6, 155.4, 151. , 162. , 165.,\n",
    "       157.8, 164.4, 160.1, 160.8, 163.8, 175.2, 162. , 159.5, 159.2,\n",
    "       169.8, 166.7, 179.4, 180.6, 163.3, 178.8, 176.3, 184.8, 181. ,\n",
    "       170.5, 184.1, 187.1, 187.1, 177.7, 184.5, 190.3, 196. , 192.1,\n",
    "       200.4, 201.8, 187.5, 202.1, 200.3, 208.8, 204.6, 193.5, 200.9,\n",
    "       196.8, 213.1, 204.8, 215.5, 210.2] \n",
    "\n",
    "fig, ax = plt.subplots()\n",
    "ax.scatter(alturas, pesos, alpha=0.7)\n",
    "ax.set_title('Altura vs. Peso de 50 alumnos')\n",
    "ax.set_xlabel('Altura (cm.)')\n",
    "ax.set_ylabel('Peso (kg.)')\n",
    "plt.show()"
   ]
  },
  {
   "cell_type": "markdown",
   "id": "cde0e415",
   "metadata": {},
   "source": [
    "¿Guardarán algún tipo de relación las precipitaciones de Agosto respecto de las de septiembre?"
   ]
  },
  {
   "cell_type": "code",
   "execution_count": null,
   "id": "642cddc8",
   "metadata": {},
   "outputs": [],
   "source": [
    "fig, ax = plt.subplots()  \n",
    "mapeo_colores = ax.scatter(df_lluvias['Aug'], df_lluvias['Sep'], c=df_lluvias.index)\n",
    "#fig.colorbar(mapeo_colores)\n",
    "#ax.set_title('Precipitaciones Agosto-Septiembre')\n",
    "#ax.set_xlabel('Precipitaciones en Agosto (mm.)')\n",
    "#ax.set_ylabel('Precipitaciones en Septiembre (mm.)')"
   ]
  },
  {
   "cell_type": "markdown",
   "id": "920a9f65",
   "metadata": {},
   "source": [
    "### 1.3.2. Gráfico de barras\n",
    "Queremos comparar las ventas anuales (en USD) de dos productos durante los últimos 5 años. Para esto, crearemos un gráfico de barras."
   ]
  },
  {
   "cell_type": "code",
   "execution_count": null,
   "id": "6142b8a3",
   "metadata": {},
   "outputs": [],
   "source": [
    "fig, ax = plt.subplots()                                # Declaramos la visualización.\n",
    "etiquetas = ['2016', '2017', '2018', '2019', '2020']    # Declaramos las etiquetas del eje x (años).\n",
    "producto_a = [20000, 40000, 35000, 45000, 60000]        # Declaramos los registros de las ventas del producto A.\n",
    "producto_b = [55000, 40000, 20000, 22000, 17000]        # Declaramos los registros de las ventas del producto B.\n",
    "\n",
    "ancho = 0.35                                            # Definimos el ancho de las barras.\n",
    "pos_bar_a = [i - ancho/2 for i in range(len(etiquetas))]# Ubicación de cada barra en A.\n",
    "pos_bar_b = [i + ancho/2 for i in range(len(etiquetas))]# Ubicación de cada barra en B.\n",
    "\n",
    "# Serie de datos correspondiente al producto A.\n",
    "serie_a = ax.bar(pos_bar_a,                             # Definimos la ubicación de cada barra.\n",
    "                 producto_a,                            # Asignamos los registros correspondientes a las barras.\n",
    "                 ancho,                                 # Asignamos el ancho de cada barra.\n",
    "                 label = 'Producto A',                  # Definimos un nombre para la serie A.\n",
    "                 color = 'lightsteelblue')              # Modificamos el color de las barras. \n",
    "\n",
    "# Serie de datos correspondiente al producto B.\n",
    "serie_b = ax.bar(pos_bar_b,                             # Definimos la ubicación de cada barra.\n",
    "                 producto_b,                            # Asignamos los registros del producto A a las barras.\n",
    "                 ancho,                                 # Asignamos el ancho de cada barra.\n",
    "                 label = 'Producto B',                  # Definimos un nombre para la serie A.\n",
    "                 color = 'navy')                        # Modificamos el color de las barras.\n",
    "\n",
    "ax.set_xticks([*range(len(etiquetas))])                 # Establecemos cuales valores del eje x tendrán una etiqueta.\n",
    "ax.set_xticklabels(etiquetas)                           # Establecemos las etiquetas del eje x.\n",
    "ax.legend()                                             # Declaramos la leyenda de los datos.\n",
    "\n",
    "plt.show()                                              # Utilizamos el método show para mostrar la visualización."
   ]
  },
  {
   "cell_type": "code",
   "execution_count": null,
   "id": "f9998b0b",
   "metadata": {},
   "outputs": [],
   "source": [
    "fig, ax = plt.subplots(figsize=(8,5))\n",
    "precipitaciones_acumuladas = df_lluvias.sum()\n",
    "ax.bar(df_lluvias.columns, precipitaciones_acumuladas)\n",
    "ax.set_title('Precipitaciones acumuladas desde 1965 a 2002, según el mes')\n",
    "ax.set_ylabel('Precipitación total (mm.)')\n",
    "ax.set_xlabel('Mes')\n",
    "\n",
    "plt.show()"
   ]
  },
  {
   "cell_type": "markdown",
   "id": "962246f6",
   "metadata": {},
   "source": [
    "### 1.3.3. Histograma\n",
    "Los histogramas son gráficos que permiten conocer visualmente la distribución de los datos. Esto es muy útil para realizar inferencia estadística, y conocer anticipadamente características del conjunto de datos."
   ]
  },
  {
   "cell_type": "code",
   "execution_count": null,
   "id": "232f3581",
   "metadata": {},
   "outputs": [],
   "source": [
    "df_lluvias.values.flatten()"
   ]
  },
  {
   "cell_type": "code",
   "execution_count": null,
   "id": "0b0fa9ad",
   "metadata": {},
   "outputs": [],
   "source": [
    "fig, ax = plt.subplots(figsize=(8, 4))\n",
    "#ax.hist(df_lluvias.values.flatten(), bins=10)\n",
    "#ax.set_title('Histograma de precipitaciones')\n",
    "#ax.set_xlabel('Intervalos de precipitaciones (mm.)')\n",
    "#ax.set_ylabel('Frecuencia absoluta')\n",
    "plt.show()"
   ]
  },
  {
   "cell_type": "code",
   "execution_count": null,
   "id": "1d5bc419",
   "metadata": {},
   "outputs": [],
   "source": [
    "fig, ax = plt.subplots(figsize=(8, 4))\n",
    "ax.hist(df_lluvias['Jun'])\n",
    "ax.set_title('Histograma de precipitaciones')\n",
    "ax.set_xlabel('Intervalos de precipitaciones (mm.)')\n",
    "ax.set_ylabel('Frecuencia absoluta')"
   ]
  },
  {
   "cell_type": "code",
   "execution_count": null,
   "id": "fcfedb3d",
   "metadata": {},
   "outputs": [],
   "source": [
    "media = 0\n",
    "varianza = 21\n",
    "gaussiana = np.random.normal(media, varianza, 1000)\n",
    "grafico = plt.hist(gaussiana, density=True)\n",
    "plt.show()"
   ]
  },
  {
   "cell_type": "markdown",
   "id": "21609619",
   "metadata": {},
   "source": [
    "### 1.4. Librería Seaborn\n",
    "\n",
    "Este paquete permite realizar visualizaciones al igual que `matplotlib` sin embargo está optimizado para su uso conjunto a la librería `pandas`. Veamos un ejemplo del histograma anterior usando `seaborn`."
   ]
  },
  {
   "cell_type": "code",
   "execution_count": null,
   "id": "f2eb545a",
   "metadata": {},
   "outputs": [],
   "source": [
    "sns.histplot(data=gaussiana,bins = 10, kde=True)"
   ]
  },
  {
   "cell_type": "markdown",
   "id": "fa0cdad4",
   "metadata": {},
   "source": [
    "## 2. Agregar elementos a los gráficos (customization)\n",
    "\n",
    "En los gráficos es posible agregar distintos elementos de acuerdo con la necesidad de cada problema o el interés del analista que lo esté realizando.\n",
    "\n",
    "<br> Comparemos las precipitaciones de Enero y Febrero en el mismo objeto ax"
   ]
  },
  {
   "cell_type": "code",
   "execution_count": null,
   "id": "ff697a00",
   "metadata": {},
   "outputs": [],
   "source": [
    "# Obtener elementos máximos o límite\n",
    "maximo_enero = df_lluvias['Jan'].max()\n",
    "print('El maximo de precipitación en Enero es:',maximo_enero )\n",
    "maximo_febrero =  df_lluvias['Feb'].max()\n",
    "print('El maximo de precipitación en Febrero es:',maximo_febrero )"
   ]
  },
  {
   "cell_type": "code",
   "execution_count": null,
   "id": "71282987",
   "metadata": {},
   "outputs": [],
   "source": [
    "fig, ax = plt.subplots(figsize=(12, 3))  \n",
    "ax.plot(df_lluvias.index, df_lluvias['Jan'], label='Precipitaciones de enero')\n",
    "ax.plot(df_lluvias.index, df_lluvias['Feb'], label='Precipitaciones de febrero', color='C1')\n",
    "\n",
    "# Se agregan lineas horizontales con el comando axhline para los dos valores maximos encontrados antes\n",
    "#ax.axhline(maximo_enero, color='red', linestyle='--', alpha=0.5,    linewidth=3, label='Máxima de enero')\n",
    "#ax.axhline(maximo_febrero, color='red', linestyle=':', alpha=0.5, linewidth=3, label='Máxima de febrero')\n",
    "\n",
    "# Incluir elementos descriptivos para el gráfico\n",
    "#ax.set_xlabel('Año')  \n",
    "#ax.set_ylabel('Precipitación (mm.)') \n",
    "#ax.set_title('Precipitaciones de enero y febrero') \t\n",
    "#ax.set_xlim(df_lluvias.index[0], df_lluvias.index[-1])  #<- ¿que cambia?\n",
    "#ax.legend()\n",
    "plt.show()\n"
   ]
  },
  {
   "cell_type": "code",
   "execution_count": null,
   "id": "1178572a",
   "metadata": {},
   "outputs": [],
   "source": []
  }
 ],
 "metadata": {
  "kernelspec": {
   "display_name": "Python 3",
   "language": "python",
   "name": "python3"
  },
  "language_info": {
   "codemirror_mode": {
    "name": "ipython",
    "version": 3
   },
   "file_extension": ".py",
   "mimetype": "text/x-python",
   "name": "python",
   "nbconvert_exporter": "python",
   "pygments_lexer": "ipython3",
   "version": "3.8.8"
  }
 },
 "nbformat": 4,
 "nbformat_minor": 5
}