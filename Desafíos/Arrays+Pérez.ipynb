{
 "cells": [
  {
   "cell_type": "markdown",
   "id": "5f4078ca",
   "metadata": {},
   "source": [
    "# Alumno \n",
    "Pérez Gastón"
   ]
  },
  {
   "cell_type": "markdown",
   "id": "b8e917ff",
   "metadata": {},
   "source": [
    "## Ejercicio 01\n",
    "Generar un array aleatorio de 100 elementos. Calcular la mediana correspondiente."
   ]
  },
  {
   "cell_type": "code",
   "execution_count": 4,
   "id": "11097250",
   "metadata": {},
   "outputs": [],
   "source": [
    "#Importamos librería NumPy\n",
    "\n",
    "import numpy as np"
   ]
  },
  {
   "cell_type": "code",
   "execution_count": 13,
   "id": "9870c9ab",
   "metadata": {},
   "outputs": [
    {
     "name": "stdout",
     "output_type": "stream",
     "text": [
      "Bienvenidx a este programa\n",
      "Para comenzar ingrese 1. Si no desea continuar, pulse 0: 1\n",
      "\n",
      "Generador de arrays aleatorio compuestos por 100 elementos\n",
      "==========================================================\n",
      "\n",
      "Su array Random es:\n",
      "-------------------\n",
      "[[41 13 43 30 63 48 56 92 92 82]\n",
      " [26 89  1 64 65 39 75  3 25 92]\n",
      " [30  6 20 81 67 89 73 36 30 89]\n",
      " [74  3  1 46 73 70 42 47 58 36]\n",
      " [60  0 88 60 90 13 64  0 89 14]\n",
      " [22 91 21 53 81 70 72 66 53 26]\n",
      " [60 88 83 28 12 69 93 69  2 19]\n",
      " [93 57 49 47 14 16 40 79 74 21]\n",
      " [26 87 39  7  0 79 96 91 67 16]\n",
      " [83 53 36  9 40 17 29 75 94 53]]\n",
      "\n",
      "La mediana de su array es = 53.0\n",
      "¿Quiere volver a utilizar el programa?: Si\n",
      "\n",
      "Generador de arrays aleatorio compuestos por 100 elementos\n",
      "==========================================================\n",
      "\n",
      "Su array Random es:\n",
      "-------------------\n",
      "[[59 42 21 83 74 52 61  0 81 72]\n",
      " [94 40 34 34 50 15 86 49 30 74]\n",
      " [ 0 67 18 98 68 79 80 72 75 79]\n",
      " [81 65 91 51 67 71 48 89 40 31]\n",
      " [ 3 20  0 31 27 40 79  2 11  9]\n",
      " [72 10 57 87 13 44 31  1 12 24]\n",
      " [21 71 10 74 79 31  1 23 56 78]\n",
      " [22 54 73 69 41 60 92 54 69 83]\n",
      " [11 49 73 70 84 41 19 93 32 95]\n",
      " [50  5 31 15 92 43  9  8 96 26]]\n",
      "\n",
      "La mediana de su array es = 50.0\n",
      "¿Quiere volver a utilizar el programa?: Sí\n",
      "\n",
      "Generador de arrays aleatorio compuestos por 100 elementos\n",
      "==========================================================\n",
      "\n",
      "Su array Random es:\n",
      "-------------------\n",
      "[[ 4  1  8 97 31 55 49 28 33 23]\n",
      " [35 30 91 91 48 13 43 62 23 71]\n",
      " [89 90 32 32 83 78 80 92 80 11]\n",
      " [86 13 47 76 15 22 29 35 67 55]\n",
      " [31 10  1 23 48 81 28 49 50 25]\n",
      " [59 92 44 21 97 39 47 78 11 99]\n",
      " [54 93 10 21 96 63 33 21 41 66]\n",
      " [52  5 64 41 25 25 24 48 87 10]\n",
      " [53 69 15 25 55 94 23 97  9 28]\n",
      " [57 12 34 85 38 40 79 71 18 23]]\n",
      "\n",
      "La mediana de su array es = 42.0\n",
      "¿Quiere volver a utilizar el programa?: SI\n",
      "\n",
      "Generador de arrays aleatorio compuestos por 100 elementos\n",
      "==========================================================\n",
      "\n",
      "Su array Random es:\n",
      "-------------------\n",
      "[[38 80 51 70 51 43 27 94 89 61]\n",
      " [31 42 56 30 34  1 80 11 81 72]\n",
      " [ 1  7 46 12 45 91  5 60 92 87]\n",
      " [57 41 35 29  8 99 78 45  1 86]\n",
      " [83 37 35 74 96 78 11 49  7 84]\n",
      " [62 32 38 55 92 20 84 70  1 59]\n",
      " [52 80 95  0 61 52 23 67 87 73]\n",
      " [ 3 28 64  8 19 74 42 74 38 91]\n",
      " [17 18 36 46 76 88 41  4 12 90]\n",
      " [26 47 12 52 17 92 46 87 16 57]]\n",
      "\n",
      "La mediana de su array es = 48.0\n",
      "¿Quiere volver a utilizar el programa?: sí\n",
      "\n",
      "Generador de arrays aleatorio compuestos por 100 elementos\n",
      "==========================================================\n",
      "\n",
      "Su array Random es:\n",
      "-------------------\n",
      "[[78 14 80 42 45 95 60 19  5 62]\n",
      " [ 0 11 55 88  1 66 43 90  9 59]\n",
      " [35  1 15 20 42  2 17 82 74 27]\n",
      " [ 3 56 70 12 62 17 12 45 17  3]\n",
      " [85 36 30 67 41 49  3  3 14  5]\n",
      " [ 4 75 14 37 78 68 74 96 56 17]\n",
      " [29 73 98 86 75 68 96 13 54 15]\n",
      " [16 24 30 21 65 47 69 89 51 86]\n",
      " [59 82 48 36 28 99 13 43 13 45]\n",
      " [45 84 27 63 54 72 89 69 96 65]]\n",
      "\n",
      "La mediana de su array es = 45.0\n",
      "¿Quiere volver a utilizar el programa?: no\n",
      "¡Adiós Vaquerx!\n"
     ]
    }
   ],
   "source": [
    "def arrayRandom ():\n",
    "    print(\"\\nGenerador de arrays aleatorio compuestos por 100 elementos\")\n",
    "    print(\"==========================================================\")\n",
    "\n",
    "    arrayAleatorio = np.random.randint(100, size=(10,10))\n",
    "    \n",
    "    print(\"\\nSu array Random es:\")\n",
    "    print(\"-------------------\")\n",
    "    print(arrayAleatorio)\n",
    "    \n",
    "    mediana = np.median(arrayAleatorio)\n",
    "    print(\"\\nLa mediana de su array es =\",mediana)\n",
    "\n",
    "print(\"Bienvenidx a este programa\")\n",
    "init = int(input(\"Para comenzar ingrese 1. Si no desea continuar, pulse 0: \"))\n",
    "\n",
    "if init == 1:\n",
    "    arrayRandom()\n",
    "else:\n",
    "    print(\"La próxima será :)\")\n",
    "\n",
    "consulta = input(\"¿Quiere volver a utilizar el programa?: \")\n",
    "\n",
    "while consulta == \"si\" or consulta == \"SI\" or consulta == \"Si\" or consulta == \"sí\" or consulta == \"SÍ\" or consulta == \"Sí\" or consulta == \"sI\" or consulta == \"sÍ\":\n",
    "    arrayRandom()\n",
    "    consulta = input(\"¿Quiere volver a utilizar el programa?: \")\n",
    "else:\n",
    "    print(\"¡Adiós Vaquerx!\")"
   ]
  },
  {
   "cell_type": "markdown",
   "id": "856f558f",
   "metadata": {},
   "source": [
    "## Ejercicio 02\n",
    "Recordar los ejercicios con funciones para cálculo de factorial y suma de serie de la Clase 02. Repetir ambos ejercicios, pero ahora utilizar las nuevas operaciones aprendidas con los ndarrays."
   ]
  },
  {
   "cell_type": "markdown",
   "id": "defc3f5f",
   "metadata": {},
   "source": [
    "### Desafío 01\n",
    "- Escribir una función para calcular el factorial de un número cualquiera."
   ]
  },
  {
   "cell_type": "code",
   "execution_count": 4,
   "id": "ae3d09a4",
   "metadata": {},
   "outputs": [
    {
     "name": "stdout",
     "output_type": "stream",
     "text": [
      "Calculadora de factoriales\n",
      "==========================\n",
      "\n",
      "Ingrese un número: 7\n",
      "\n",
      "El factor del numero ingresado es = 5040\n"
     ]
    }
   ],
   "source": [
    "print(\"Calculadora de factoriales\")\n",
    "print(\"==========================\\n\")\n",
    "\n",
    "a = 1\n",
    "b = int(input(\"Ingrese un número: \"))\n",
    "\n",
    "while b < 0:\n",
    "    print(\"El número ingresado debe ser mayor o igual a 0.\")\n",
    "    b = int(input(\"Ingrese un número: \"))\n",
    "\n",
    "np_rango = np.arange(a,b+1, step = 1)\n",
    "\n",
    "suma = 1\n",
    "\n",
    "for num in np_rango:\n",
    "    suma *= num\n",
    "print(\"\\nEl factor del numero ingresado es =\",suma)"
   ]
  },
  {
   "cell_type": "markdown",
   "id": "ac30a006",
   "metadata": {},
   "source": [
    "### Desafío 02\n",
    "- Escribir una función para calcular la suma de una serie comenzando por un número cualquiera y terminando en otro número que debe ser mayor al primero"
   ]
  },
  {
   "cell_type": "code",
   "execution_count": 30,
   "id": "b179dec5",
   "metadata": {},
   "outputs": [
    {
     "name": "stdout",
     "output_type": "stream",
     "text": [
      "Calculadora de series\n",
      "=====================\n",
      "\n",
      "Ingrese un valor 'a': 7\n",
      "Ingrese un valor 'b': 2\n",
      "'b' debe ser mayor que 'a'\n",
      "Ingrese un valor 'b': 3\n",
      "'b' debe ser mayor que 'a'\n",
      "Ingrese un valor 'b': 4\n",
      "'b' debe ser mayor que 'a'\n",
      "Ingrese un valor 'b': 5\n",
      "'b' debe ser mayor que 'a'\n",
      "Ingrese un valor 'b': 6\n",
      "'b' debe ser mayor que 'a'\n",
      "Ingrese un valor 'b': 7\n",
      "'b' debe ser mayor que 'a'\n",
      "Ingrese un valor 'b': 123\n",
      "\n",
      "La suma de la serie es = 7605\n"
     ]
    }
   ],
   "source": [
    "print(\"Calculadora de series\")\n",
    "print(\"=====================\\n\")\n",
    "\n",
    "a = int(input(\"Ingrese un valor 'a': \")) \n",
    "b = int(input(\"Ingrese un valor 'b': \"))\n",
    "\n",
    "while b <= a:\n",
    "    print(\"'b' debe ser mayor que 'a'\")\n",
    "    b = int(input(\"Ingrese un valor 'b': \"))\n",
    "\n",
    "np_rango = np.arange(a,b+1, step = 1)\n",
    "print(\"\\nLa suma de la serie es =\",np_rango.sum())"
   ]
  },
  {
   "cell_type": "markdown",
   "id": "a3c1a2d0",
   "metadata": {},
   "source": [
    "## Ejercicio 03\n",
    "En este link se provee un archivo con los resultados de la Encuesta de Sueldos de Openqube de Febrero 2020 (https://sueldos.openqube.io/encuesta-sueldos-2020.02/ ), Calcular y comparar media y mediana de los sueldos netos."
   ]
  },
  {
   "cell_type": "code",
   "execution_count": 24,
   "id": "ebc78bfd",
   "metadata": {},
   "outputs": [
    {
     "name": "stdout",
     "output_type": "stream",
     "text": [
      "La 'media' de los sueldos netos es = 19047028.7\n",
      "La 'mediana' de los sueldos netos es = 78000.0\n",
      "La diferencia entre la 'media'-'mediana' es = 18969028.7\n"
     ]
    }
   ],
   "source": [
    "sueldosNetos = np.genfromtxt('Desafio2.csv',dtype = 'int', delimiter = ',', usecols = (5), skip_header = 1, filling_values = 0)\n",
    "\n",
    "media = round(np.mean(sueldosNetos),1)\n",
    "\n",
    "mediana = np.median(sueldosNetos)\n",
    "\n",
    "print(\"La 'media' de los sueldos netos es =\",media)\n",
    "print(\"La 'mediana' de los sueldos netos es =\",mediana)\n",
    "\n",
    "diferencia = media - mediana\n",
    "\n",
    "print(\"La diferencia entre la 'media'-'mediana' es =\",diferencia)"
   ]
  }
 ],
 "metadata": {
  "kernelspec": {
   "display_name": "Python 3",
   "language": "python",
   "name": "python3"
  },
  "language_info": {
   "codemirror_mode": {
    "name": "ipython",
    "version": 3
   },
   "file_extension": ".py",
   "mimetype": "text/x-python",
   "name": "python",
   "nbconvert_exporter": "python",
   "pygments_lexer": "ipython3",
   "version": "3.8.8"
  }
 },
 "nbformat": 4,
 "nbformat_minor": 7
}
