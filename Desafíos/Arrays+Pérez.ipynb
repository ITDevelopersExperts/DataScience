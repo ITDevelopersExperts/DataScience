{
 "cells": [
  {
   "cell_type": "markdown",
   "id": "5f4078ca",
   "metadata": {},
   "source": [
    "# Alumno \n",
    "Pérez Gastón"
   ]
  },
  {
   "cell_type": "markdown",
   "id": "b8e917ff",
   "metadata": {},
   "source": [
    "## Ejercicio 01\n",
    "Generar un array aleatorio de 100 elementos. Calcular la mediana correspondiente."
   ]
  },
  {
   "cell_type": "code",
   "execution_count": 4,
   "id": "11097250",
   "metadata": {},
   "outputs": [],
   "source": [
    "#Importamos librería NumPy\n",
    "\n",
    "import numpy as np"
   ]
  },
  {
   "cell_type": "code",
   "execution_count": 14,
   "id": "9870c9ab",
   "metadata": {},
   "outputs": [
    {
     "name": "stdout",
     "output_type": "stream",
     "text": [
      "Bienvenidx a este programa\n",
      "Para comenzar ingrese 1. Si no desea continuar, pulse 0: 1\n",
      "\n",
      "Generador de arrays aleatorio compuestos por 100 elementos\n",
      "==========================================================\n",
      "\n",
      "Su array Random es:\n",
      "-------------------\n",
      "[[28 44 59 92 71 41 18 80 19 46]\n",
      " [ 0 51 66 10 52 92 18 50 94 17]\n",
      " [75 95 34 73 38 86 94 46 64  4]\n",
      " [ 3 81 63 82 64 80 96 16  8 52]\n",
      " [51 21  9 80 63 17 36 89 78 85]\n",
      " [36 37 45 72 43 98 56 25 27 91]\n",
      " [20 78 39 27 95 18 46 11 24 55]\n",
      " [ 4 11 48 73 82 15  0 41 34 56]\n",
      " [65 28 47  9 72 58  9 65 86 97]\n",
      " [87  7 25 81 57 74 49 28 69  2]]\n",
      "\n",
      "La mediana de su array es = 49.5\n",
      "¿Quiere volver a utilizar el programa? Responde 'si' para continuar o 'no' para salir: Sí\n",
      "\n",
      "Generador de arrays aleatorio compuestos por 100 elementos\n",
      "==========================================================\n",
      "\n",
      "Su array Random es:\n",
      "-------------------\n",
      "[[55 37 18 99 52 36 14  8 34 53]\n",
      " [12 76 91 51 66 47 22 47 91 76]\n",
      " [67 13 74  2 16 74 33  7 54 18]\n",
      " [62 21 39 50 66 29 17 77 61 65]\n",
      " [92 95 67 92 66 56 79 89 64 40]\n",
      " [30 41 77 13 58 64 64  2 60 10]\n",
      " [ 3 21  2 12 61 19 97 80 13 87]\n",
      " [72 83 89 23 58 21 89 27 15 10]\n",
      " [15 43 13 61 37 89 21 14 85 85]\n",
      " [94 36  6  5 18 69 62 80 74 82]]\n",
      "\n",
      "La mediana de su array es = 52.5\n",
      "¿Quiere volver a utilizar el programa? Responde 'si' para continuar o 'no' para salir: si\n",
      "\n",
      "Generador de arrays aleatorio compuestos por 100 elementos\n",
      "==========================================================\n",
      "\n",
      "Su array Random es:\n",
      "-------------------\n",
      "[[91 91 47 44  8 30 93 27 27 24]\n",
      " [32 41  4 48 97 96 19 12 30 58]\n",
      " [73 67 40 57  8 95 50 51 75 94]\n",
      " [ 2 83 43 19 50 66 75 28 18  9]\n",
      " [57 17 72 25 69  8 21 49 22 70]\n",
      " [17 26 65  1 89 87 14 52 13 24]\n",
      " [60  2 98  8 73 78 79 75 54 30]\n",
      " [11 89 13 98 29 45  7 91  1 72]\n",
      " [ 6 54 25 49  3 32 55 95 23 72]\n",
      " [95 59 35 81 87 46 95 17 48 36]]\n",
      "\n",
      "La mediana de su array es = 47.5\n",
      "¿Quiere volver a utilizar el programa? Responde 'si' para continuar o 'no' para salir: SI\n",
      "\n",
      "Generador de arrays aleatorio compuestos por 100 elementos\n",
      "==========================================================\n",
      "\n",
      "Su array Random es:\n",
      "-------------------\n",
      "[[93 31 53 46 70 70 67 99 37 97]\n",
      " [ 8 76 22 75 89 25 66 50 72 56]\n",
      " [60 11 41 46 63 91  1  6 52  4]\n",
      " [26 54 90 90 19 71  6 49 94 10]\n",
      " [10 39 10 39 79 73 59 76 69 35]\n",
      " [52 71 80 63 53  4 43 36 43 83]\n",
      " [50 28 39 92 27  9 66  7 69 36]\n",
      " [70 47  5 77  1 63 18 33 69 19]\n",
      " [67  4 76 71 59 81 50 20 17 49]\n",
      " [12 48 14 21 96 77 78 30  5 87]]\n",
      "\n",
      "La mediana de su array es = 50.0\n",
      "¿Quiere volver a utilizar el programa? Responde 'si' para continuar o 'no' para salir: sí\n",
      "\n",
      "Generador de arrays aleatorio compuestos por 100 elementos\n",
      "==========================================================\n",
      "\n",
      "Su array Random es:\n",
      "-------------------\n",
      "[[55 20 12 28 48 43 31 54 27 99]\n",
      " [80 42 16 98 90 92 65 80 20 45]\n",
      " [ 1 78 34 87 14 91 31 86 53 87]\n",
      " [50 64 10 80 92 52  0 29 88 82]\n",
      " [65 55 53 28 35 63 20 78 31 24]\n",
      " [86  9 16 16 44 34 18 25 78 94]\n",
      " [73 91 19 40  4  4 28 97 75 49]\n",
      " [61 94 59 54 70 59 68 59 12 26]\n",
      " [83 57 91 74 19 31 39 80 99 73]\n",
      " [29 36 61 82 38 65 33 92 95 65]]\n",
      "\n",
      "La mediana de su array es = 54.0\n",
      "¿Quiere volver a utilizar el programa? Responde 'si' para continuar o 'no' para salir: no\n",
      "¡Adiós Vaquerx!\n"
     ]
    }
   ],
   "source": [
    "def arrayRandom ():\n",
    "    print(\"\\nGenerador de arrays aleatorio compuestos por 100 elementos\")\n",
    "    print(\"==========================================================\")\n",
    "\n",
    "    arrayAleatorio = np.random.randint(100, size=(10,10))\n",
    "    \n",
    "    print(\"\\nSu array Random es:\")\n",
    "    print(\"-------------------\")\n",
    "    print(arrayAleatorio)\n",
    "    \n",
    "    mediana = np.median(arrayAleatorio)\n",
    "    print(\"\\nLa mediana de su array es =\",mediana)\n",
    "\n",
    "print(\"Bienvenidx a este programa\")\n",
    "init = int(input(\"Para comenzar ingrese 1. Si no desea continuar, pulse 0: \"))\n",
    "\n",
    "if init == 1:\n",
    "    arrayRandom()\n",
    "else:\n",
    "    print(\"La próxima será :)\")\n",
    "\n",
    "consulta = input(\"¿Quiere volver a utilizar el programa? Responde 'si' para continuar o 'no' para salir: \")\n",
    "\n",
    "while consulta == \"si\" or consulta == \"SI\" or consulta == \"Si\" or consulta == \"sí\" or consulta == \"SÍ\" or consulta == \"Sí\" or consulta == \"sI\" or consulta == \"sÍ\":\n",
    "    arrayRandom()\n",
    "    consulta = input(\"¿Quiere volver a utilizar el programa? Responde 'si' para continuar o 'no' para salir: \")\n",
    "else:\n",
    "    print(\"\\n¡Adiós Vaquerx!\")"
   ]
  },
  {
   "cell_type": "markdown",
   "id": "856f558f",
   "metadata": {},
   "source": [
    "## Ejercicio 02\n",
    "Recordar los ejercicios con funciones para cálculo de factorial y suma de serie de la Clase 02. Repetir ambos ejercicios, pero ahora utilizar las nuevas operaciones aprendidas con los ndarrays."
   ]
  },
  {
   "cell_type": "markdown",
   "id": "defc3f5f",
   "metadata": {},
   "source": [
    "### Desafío 01\n",
    "- Escribir una función para calcular el factorial de un número cualquiera."
   ]
  },
  {
   "cell_type": "code",
   "execution_count": 16,
   "id": "ae3d09a4",
   "metadata": {},
   "outputs": [
    {
     "name": "stdout",
     "output_type": "stream",
     "text": [
      "Calculadora de factoriales\n",
      "==========================\n",
      "\n",
      "Ingrese un número: -1\n",
      "El número ingresado debe ser mayor o igual a 0.\n",
      "Ingrese un número: 5\n",
      "\n",
      "El factor del numero ingresado es = 120\n"
     ]
    }
   ],
   "source": [
    "print(\"Calculadora de factoriales\")\n",
    "print(\"==========================\\n\")\n",
    "\n",
    "a = 1\n",
    "b = int(input(\"Ingrese un número: \"))\n",
    "\n",
    "while b < 0:\n",
    "    print(\"El número ingresado debe ser mayor o igual a 0.\")\n",
    "    b = int(input(\"Ingrese un número: \"))\n",
    "\n",
    "np_rango = np.arange(a,b+1, step = 1)\n",
    "\n",
    "fact = np.prod(np_rango)\n",
    "\n",
    "print(\"\\nEl factor del numero ingresado es =\",fact)"
   ]
  },
  {
   "cell_type": "markdown",
   "id": "ac30a006",
   "metadata": {},
   "source": [
    "### Desafío 02\n",
    "- Escribir una función para calcular la suma de una serie comenzando por un número cualquiera y terminando en otro número que debe ser mayor al primero"
   ]
  },
  {
   "cell_type": "code",
   "execution_count": 30,
   "id": "b179dec5",
   "metadata": {},
   "outputs": [
    {
     "name": "stdout",
     "output_type": "stream",
     "text": [
      "Calculadora de series\n",
      "=====================\n",
      "\n",
      "Ingrese un valor 'a': 7\n",
      "Ingrese un valor 'b': 2\n",
      "'b' debe ser mayor que 'a'\n",
      "Ingrese un valor 'b': 3\n",
      "'b' debe ser mayor que 'a'\n",
      "Ingrese un valor 'b': 4\n",
      "'b' debe ser mayor que 'a'\n",
      "Ingrese un valor 'b': 5\n",
      "'b' debe ser mayor que 'a'\n",
      "Ingrese un valor 'b': 6\n",
      "'b' debe ser mayor que 'a'\n",
      "Ingrese un valor 'b': 7\n",
      "'b' debe ser mayor que 'a'\n",
      "Ingrese un valor 'b': 123\n",
      "\n",
      "La suma de la serie es = 7605\n"
     ]
    }
   ],
   "source": [
    "print(\"Calculadora de series\")\n",
    "print(\"=====================\\n\")\n",
    "\n",
    "a = int(input(\"Ingrese un valor 'a': \")) \n",
    "b = int(input(\"Ingrese un valor 'b': \"))\n",
    "\n",
    "while b <= a:\n",
    "    print(\"'b' debe ser mayor que 'a'\")\n",
    "    b = int(input(\"Ingrese un valor 'b': \"))\n",
    "\n",
    "np_rango = np.arange(a,b+1, step = 1)\n",
    "print(\"\\nLa suma de la serie es =\",np_rango.sum())"
   ]
  },
  {
   "cell_type": "markdown",
   "id": "a3c1a2d0",
   "metadata": {},
   "source": [
    "## Ejercicio 03\n",
    "En este link se provee un archivo con los resultados de la Encuesta de Sueldos de Openqube de Febrero 2020 (https://sueldos.openqube.io/encuesta-sueldos-2020.02/ ), Calcular y comparar media y mediana de los sueldos netos."
   ]
  },
  {
   "cell_type": "code",
   "execution_count": 24,
   "id": "ebc78bfd",
   "metadata": {},
   "outputs": [
    {
     "name": "stdout",
     "output_type": "stream",
     "text": [
      "La 'media' de los sueldos netos es = 19047028.7\n",
      "La 'mediana' de los sueldos netos es = 78000.0\n",
      "La diferencia entre la 'media'-'mediana' es = 18969028.7\n"
     ]
    }
   ],
   "source": [
    "sueldosNetos = np.genfromtxt('Desafio2.csv',dtype = 'int', delimiter = ',', usecols = (5), skip_header = 1, filling_values = 0)\n",
    "\n",
    "media = round(np.mean(sueldosNetos),1)\n",
    "\n",
    "mediana = np.median(sueldosNetos)\n",
    "\n",
    "print(\"La 'media' de los sueldos netos es =\",media)\n",
    "print(\"La 'mediana' de los sueldos netos es =\",mediana)\n",
    "\n",
    "diferencia = media - mediana\n",
    "\n",
    "print(\"La diferencia entre la 'media'-'mediana' es =\",diferencia)"
   ]
  }
 ],
 "metadata": {
  "kernelspec": {
   "display_name": "Python 3",
   "language": "python",
   "name": "python3"
  },
  "language_info": {
   "codemirror_mode": {
    "name": "ipython",
    "version": 3
   },
   "file_extension": ".py",
   "mimetype": "text/x-python",
   "name": "python",
   "nbconvert_exporter": "python",
   "pygments_lexer": "ipython3",
   "version": "3.8.8"
  }
 },
 "nbformat": 4,
 "nbformat_minor": 7
}
