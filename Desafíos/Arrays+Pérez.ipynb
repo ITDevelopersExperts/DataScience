{
 "cells": [
  {
   "cell_type": "markdown",
   "id": "5f4078ca",
   "metadata": {},
   "source": [
    "# Alumno \n",
    "Pérez Gastón"
   ]
  },
  {
   "cell_type": "markdown",
   "id": "b8e917ff",
   "metadata": {},
   "source": [
    "## Ejercicio 01\n",
    "Generar un array aleatorio de 100 elementos. Calcular la mediana correspondiente."
   ]
  },
  {
   "cell_type": "code",
   "execution_count": 1,
   "id": "11097250",
   "metadata": {},
   "outputs": [],
   "source": [
    "#Importamos librería NumPy\n",
    "\n",
    "import numpy as np"
   ]
  },
  {
   "cell_type": "code",
   "execution_count": null,
   "id": "9870c9ab",
   "metadata": {},
   "outputs": [],
   "source": [
    "def arrayRandom ():\n",
    "    print(\"\\nGenerador de arrays aleatorio compuestos por 100 elementos\")\n",
    "    print(\"==========================================================\")\n",
    "\n",
    "    arrayAleatorio = np.random.randint(100, size=(10,10))\n",
    "    \n",
    "    print(\"\\nSu array Random es:\")\n",
    "    print(\"-------------------\")\n",
    "    print(arrayAleatorio)\n",
    "    \n",
    "    mediana = np.median(arrayAleatorio)\n",
    "    print(\"\\nLa mediana de su array es =\",mediana)\n",
    "\n",
    "print(\"Bienvenidx a este programa\")\n",
    "init = int(input(\"Para comenzar ingrese 1. Si no desea continuar, pulse 0.\"))\n",
    "\n",
    "if init == 1:\n",
    "    arrayRandom()\n",
    "else:\n",
    "    print(\"La próxima será :)\")\n",
    "\n",
    "consulta = input(\"¿Quiere volver a utilizar el programa?: \")\n",
    "\n",
    "while consulta == \"si\":\n",
    "    arrayRandom()\n",
    "    consulta = input(\"¿Quiere volver a utilizar el programa?: \")\n",
    "else:\n",
    "    print(\"¡Adiós Vaquerx!\")"
   ]
  },
  {
   "cell_type": "markdown",
   "id": "856f558f",
   "metadata": {},
   "source": [
    "## Ejercicio 02\n",
    "Recordar los ejercicios con funciones para cálculo de factorial y suma de serie de la Clase 02. Repetir ambos ejercicios, pero ahora utilizar las nuevas operaciones aprendidas con los ndarrays."
   ]
  },
  {
   "cell_type": "code",
   "execution_count": null,
   "id": "b179dec5",
   "metadata": {},
   "outputs": [],
   "source": [
    "print(\"hola\")\n",
    "    \n",
    "    "
   ]
  },
  {
   "cell_type": "markdown",
   "id": "a3c1a2d0",
   "metadata": {},
   "source": [
    "## Ejercicio 03\n",
    "En este link se provee un archivo con los resultados de la Encuesta de Sueldos de Openqube de Febrero 2020 (https://sueldos.openqube.io/encuesta-sueldos-2020.02/ ), Calcular y comparar media y mediana de los sueldos netos."
   ]
  },
  {
   "cell_type": "code",
   "execution_count": null,
   "id": "ebc78bfd",
   "metadata": {},
   "outputs": [],
   "source": []
  }
 ],
 "metadata": {
  "kernelspec": {
   "display_name": "Python 3",
   "language": "python",
   "name": "python3"
  },
  "language_info": {
   "codemirror_mode": {
    "name": "ipython",
    "version": 3
   },
   "file_extension": ".py",
   "mimetype": "text/x-python",
   "name": "python",
   "nbconvert_exporter": "python",
   "pygments_lexer": "ipython3",
   "version": "3.8.8"
  }
 },
 "nbformat": 4,
 "nbformat_minor": 7
}
