{
  "nbformat": 4,
  "nbformat_minor": 0,
  "metadata": {
    "interpreter": {
      "hash": "170daf2fbf305a04c01fef15609337625c4b737df545132343987bac47f6c3d1"
    },
    "kernelspec": {
      "display_name": "Python 3",
      "language": "python",
      "name": "python3"
    },
    "language_info": {
      "codemirror_mode": {
        "name": "ipython",
        "version": 3
      },
      "file_extension": ".py",
      "mimetype": "text/x-python",
      "name": "python",
      "nbconvert_exporter": "python",
      "pygments_lexer": "ipython3",
      "version": "3.8.8"
    },
    "colab": {
      "name": "Visualización+Pérez.ipynb",
      "provenance": []
    }
  },
  "cells": [
    {
      "cell_type": "markdown",
      "metadata": {
        "id": "tcEWfViK8xna"
      },
      "source": [
        "| <center>Desafío<center> | <center>Alumno<center> | \n",
        "| :---: | :---: | \n",
        "| `04` | <b>Pérez<b>, <br>Gastón |"
      ]
    },
    {
      "cell_type": "markdown",
      "metadata": {
        "id": "ogHxn35x8xnh"
      },
      "source": [
        "# Punto 01\n",
        "### Cargar este archivo en Python. Realizar estadísticas descriptivas básicas\n",
        "Previo a comenzar con el desarrollo importo todas las librerías que podría llegar a utilizar."
      ]
    },
    {
      "cell_type": "code",
      "metadata": {
        "id": "bj3hpL2T8xni"
      },
      "source": [
        "import pandas as pd\n",
        "import matplotlib as mpl\n",
        "import matplotlib.pyplot as plt\n",
        "import seaborn as sns\n",
        "import numpy as np"
      ],
      "execution_count": 128,
      "outputs": []
    },
    {
      "cell_type": "code",
      "metadata": {
        "colab": {
          "base_uri": "https://localhost:8080/"
        },
        "id": "yyyT9jtc8xnm",
        "outputId": "9f31a50a-3617-42ca-d744-14ff29354e7f"
      },
      "source": [
        "dfurl = 'https://drive.google.com/file/d/1Msf9fKLNyQJFmZbPecSe1G23kjkPg-ap/view?usp=sharing'\n",
        "url = 'https://drive.google.com/uc?id=' + dfurl.split('/')[-2]\n",
        "df = pd.read_csv(url, encoding='latin1')\n",
        "print(\"Descripción de los datos:\", df.describe(), \"\\n\")\n",
        "print(\"Información de los datos:\", df.info())"
      ],
      "execution_count": 147,
      "outputs": [
        {
          "output_type": "stream",
          "name": "stdout",
          "text": [
            "Descripción de los datos:               EmpID   MarriedID  ...  DaysLateLast30    Absences\n",
            "count    311.000000  311.000000  ...      311.000000  311.000000\n",
            "mean   10156.000000    0.398714  ...        0.414791   10.237942\n",
            "std       89.922189    0.490423  ...        1.294519    5.852596\n",
            "min    10001.000000    0.000000  ...        0.000000    1.000000\n",
            "25%    10078.500000    0.000000  ...        0.000000    5.000000\n",
            "50%    10156.000000    0.000000  ...        0.000000   10.000000\n",
            "75%    10233.500000    1.000000  ...        0.000000   15.000000\n",
            "max    10311.000000    1.000000  ...        6.000000   20.000000\n",
            "\n",
            "[8 rows x 18 columns] \n",
            "\n",
            "<class 'pandas.core.frame.DataFrame'>\n",
            "RangeIndex: 311 entries, 0 to 310\n",
            "Data columns (total 36 columns):\n",
            " #   Column                      Non-Null Count  Dtype  \n",
            "---  ------                      --------------  -----  \n",
            " 0   ï»¿Employee_Name            311 non-null    object \n",
            " 1   EmpID                       311 non-null    int64  \n",
            " 2   MarriedID                   311 non-null    int64  \n",
            " 3   MaritalStatusID             311 non-null    int64  \n",
            " 4   GenderID                    311 non-null    int64  \n",
            " 5   EmpStatusID                 311 non-null    int64  \n",
            " 6   DeptID                      311 non-null    int64  \n",
            " 7   PerfScoreID                 311 non-null    int64  \n",
            " 8   FromDiversityJobFairID      311 non-null    int64  \n",
            " 9   Salary                      311 non-null    int64  \n",
            " 10  Termd                       311 non-null    int64  \n",
            " 11  PositionID                  311 non-null    int64  \n",
            " 12  Position                    311 non-null    object \n",
            " 13  State                       311 non-null    object \n",
            " 14  Zip                         311 non-null    int64  \n",
            " 15  DOB                         311 non-null    object \n",
            " 16  Sex                         311 non-null    object \n",
            " 17  MaritalDesc                 311 non-null    object \n",
            " 18  CitizenDesc                 311 non-null    object \n",
            " 19  HispanicLatino              311 non-null    object \n",
            " 20  RaceDesc                    311 non-null    object \n",
            " 21  DateofHire                  311 non-null    object \n",
            " 22  DateofTermination           104 non-null    object \n",
            " 23  TermReason                  311 non-null    object \n",
            " 24  EmploymentStatus            311 non-null    object \n",
            " 25  Department                  311 non-null    object \n",
            " 26  ManagerName                 311 non-null    object \n",
            " 27  ManagerID                   303 non-null    float64\n",
            " 28  RecruitmentSource           311 non-null    object \n",
            " 29  PerformanceScore            311 non-null    object \n",
            " 30  EngagementSurvey            311 non-null    float64\n",
            " 31  EmpSatisfaction             311 non-null    int64  \n",
            " 32  SpecialProjectsCount        311 non-null    int64  \n",
            " 33  LastPerformanceReview_Date  311 non-null    object \n",
            " 34  DaysLateLast30              311 non-null    int64  \n",
            " 35  Absences                    311 non-null    int64  \n",
            "dtypes: float64(2), int64(16), object(18)\n",
            "memory usage: 87.6+ KB\n",
            "Información de los datos: None\n"
          ]
        }
      ]
    },
    {
      "cell_type": "markdown",
      "metadata": {
        "id": "Smhe0Tc-8xnn"
      },
      "source": [
        "# Punto 02. \n",
        "### Realizar un histograma con los salarios. Qué rango(s) de salarios son los más populares?"
      ]
    },
    {
      "cell_type": "code",
      "metadata": {
        "colab": {
          "base_uri": "https://localhost:8080/",
          "height": 295
        },
        "id": "WokIB-IO8xno",
        "outputId": "777bc78c-89e5-45bd-8080-d903f52a4d6e"
      },
      "source": [
        "plt.figure()\n",
        "ax = sns.histplot(data=df, x='Salary', bins=80, kde=True, palette=\"pastel\") \n",
        "ax.set(xlabel='Salary', ylabel='Quantity', title='Salary Chart')\n",
        "a = pd.Series(df[[\"Salary\"]].values.flatten()).mode() #obtengo la moda\n",
        "mode = a.values[-1]\n",
        "plt.show()"
      ],
      "execution_count": 130,
      "outputs": [
        {
          "output_type": "display_data",
          "data": {
            "image/png": "[encoded data removed]",
            "text/plain": [
              "<Figure size 432x288 with 1 Axes>"
            ]
          },
          "metadata": {
            "needs_background": "light"
          }
        }
      ]
    },
    {
      "cell_type": "code",
      "metadata": {
        "colab": {
          "base_uri": "https://localhost:8080/"
        },
        "id": "ma1ohpCW8xnq",
        "outputId": "7d575f70-3c2d-4c30-8cf1-b9abfff20e52"
      },
      "source": [
        "print(\"El salario más popular es $\",mode)"
      ],
      "execution_count": 131,
      "outputs": [
        {
          "output_type": "stream",
          "name": "stdout",
          "text": [
            "El salario más popular es $ 63025\n"
          ]
        }
      ]
    },
    {
      "cell_type": "markdown",
      "metadata": {
        "id": "sRRg9yL08xns"
      },
      "source": [
        "# Punto 03\n",
        "### Realizar un gráfico de violín con los salarios, discriminados por género. "
      ]
    },
    {
      "cell_type": "code",
      "metadata": {
        "colab": {
          "base_uri": "https://localhost:8080/",
          "height": 297
        },
        "id": "XiUQcbK28xnt",
        "outputId": "fb2267aa-c946-434b-ac29-f91a9a26b02c"
      },
      "source": [
        "fg = sns.violinplot(data=df,x = \"Sex\", y='Salary',palette = \"pastel\")\n",
        "\n",
        "plt.xlabel('Sex')\n",
        "plt.ylabel('Salary')"
      ],
      "execution_count": 132,
      "outputs": [
        {
          "output_type": "execute_result",
          "data": {
            "text/plain": [
              "Text(0, 0.5, 'Salary')"
            ]
          },
          "metadata": {},
          "execution_count": 132
        },
        {
          "output_type": "display_data",
          "data": {
            "image/png": "[encoded data removed]",
            "text/plain": [
              "<Figure size 432x288 with 1 Axes>"
            ]
          },
          "metadata": {
            "needs_background": "light"
          }
        }
      ]
    },
    {
      "cell_type": "markdown",
      "metadata": {
        "id": "y0bI17aO8xnu"
      },
      "source": [
        "# Punto 04\n",
        "### Graficar la serie de tiempo correspondiente a la fecha de contratación (DateofHire)"
      ]
    },
    {
      "cell_type": "code",
      "metadata": {
        "colab": {
          "base_uri": "https://localhost:8080/",
          "height": 374
        },
        "id": "V7wCwasG8xnu",
        "outputId": "dda71204-af3d-4027-f369-854f324a19f3"
      },
      "source": [
        "df['DateofHire'] = pd.to_datetime(df['DateofHire'])\n",
        "plt.figure(figsize=(15,6))\n",
        "plt.hist(df[\"DateofHire\"],bins = pd.date_range(df[\"DateofHire\"].min(), df[\"DateofHire\"].max(), 100), edgecolor = \"black\", color = \"grey\")\n",
        "plt.xticks(pd.date_range(df[\"DateofHire\"].min(), df[\"DateofHire\"].max(),8))\n",
        "df = df.set_index('DateofHire')"
      ],
      "execution_count": 148,
      "outputs": [
        {
          "output_type": "display_data",
          "data": {
            "image/png": "[encoded data removed]",
            "text/plain": [
              "<Figure size 1080x432 with 1 Axes>"
            ]
          },
          "metadata": {
            "needs_background": "light"
          }
        }
      ]
    }
  ]
}