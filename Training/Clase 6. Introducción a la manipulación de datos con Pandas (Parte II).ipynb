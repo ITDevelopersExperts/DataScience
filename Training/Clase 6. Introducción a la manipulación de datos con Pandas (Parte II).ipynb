{
 "cells": [
  {
   "cell_type": "markdown",
   "id": "b512eac6",
   "metadata": {},
   "source": [
    "# **CODERHOUSE DS - 22745**\n",
    "## Clase 6. Introducción a la manipulación de datos con Pandas (Parte II)"
   ]
  },
  {
   "cell_type": "markdown",
   "id": "75ef7f96",
   "metadata": {},
   "source": [
    "## Objetivos\n",
    "\n",
    "Al final de esta sesión habrás:\n",
    "\n",
    "**1.** Conocer las estructuras de datos en `pandas`. <br>\n",
    "**2.** Comprender el uso de `pandas` para la manipulación de grandes volúmenes de datos. <br>"
   ]
  },
  {
   "cell_type": "markdown",
   "id": "cb01fc94",
   "metadata": {},
   "source": [
    "## 1. Librería `pandas`\n",
    "\n",
    "En la sesión anterior, utilizamos el paquete `pandas` asd"
   ]
  },
  {
   "cell_type": "code",
   "execution_count": null,
   "id": "d8c99f95",
   "metadata": {},
   "outputs": [],
   "source": [
    "import pandas as pd"
   ]
  },
  {
   "cell_type": "markdown",
   "id": "13827d95",
   "metadata": {},
   "source": [
    "### 1.1. Lectura de archivos\n",
    "\n",
    "A diferencia del paquete `numpy`, la librería `pandas` permite manipular información de diversas fuentes. Con invocar un función, es posible transformar estas fuentes en objetos `Dataframe` dentro del entorno de Python.<br>"
   ]
  },
  {
   "cell_type": "markdown",
   "id": "2bb5715d",
   "metadata": {},
   "source": [
    "#### Importar archivos en formato `.csv`\n",
    "\n",
    "Los archivos delimitados por comas o 'csv' son uno de los formatos de archivos más comunes en el procesamiento de datos."
   ]
  },
  {
   "cell_type": "code",
   "execution_count": null,
   "id": "ddeb1e86",
   "metadata": {},
   "outputs": [],
   "source": [
    "pd.read_csv('pune_1965_to_2002.csv')"
   ]
  },
  {
   "cell_type": "markdown",
   "id": "6ffc9f1f",
   "metadata": {},
   "source": [
    "#### Formato `.csv` con delimitador `;`\n",
    "\n",
    "Dentro de los archivos de ejmeplo hay uno denominado `\"DiccionarioPaises.csv\"` que se diferencia del anterior dado que su separador no es una `,` sino un `;`. Esto se puede solucionar muy fácilmente usando `pandas` al establecer el delimitador.<br>\n",
    "    \n",
    "    read_csv(file = \"nombre_archivo.csv\", delimiter = ';)"
   ]
  },
  {
   "cell_type": "code",
   "execution_count": null,
   "id": "b3ab9a9a",
   "metadata": {},
   "outputs": [],
   "source": [
    "pd.read_csv(\"DiccionarioPaises.csv\", encoding = \"UTF-8\", delimiter = \";\")"
   ]
  },
  {
   "cell_type": "markdown",
   "id": "cc80eb05",
   "metadata": {},
   "source": [
    "#### Importación de archivos en formato Excel `.xls` o `.xlsx`\n",
    "\n",
    "Quienes apenas empiezan a incursionar en el mundo de la analítica de datos, pueden haber tenido experiencia previa con archivos de MS-Excel, para este ejercicio se plantea el documento `\"ArchivoSoporteS3TU1.xlsx\"`, el cuál puede ser fácilmente importado mediante `pandas` con una estructura similar a la siguiente:<br>\n",
    "    \n",
    "    read_excel(file = \"nombre_archivo.xlsx\")"
   ]
  },
  {
   "cell_type": "code",
   "execution_count": null,
   "id": "6fb91d44",
   "metadata": {},
   "outputs": [],
   "source": [
    "pd.read_excel(\"ArchivoSoporteS3TU1.xlsx\")"
   ]
  },
  {
   "cell_type": "markdown",
   "id": "d0d77daa",
   "metadata": {},
   "source": [
    "#### Formato `.dta`\n",
    "\n",
    "Uno de los archivos de ejemplo fué llamado `\"pooled_data_public.dta\"` que contiene la base de datos completa del BID. Este archivo, al ser de tipo *.dta*, requiere de una función de `pandas` para ser importado a Python.<br>\n",
    "    \n",
    "    read_stata(file = \"nombre_archivo.dta\")"
   ]
  },
  {
   "cell_type": "code",
   "execution_count": null,
   "id": "269ce8c0",
   "metadata": {},
   "outputs": [],
   "source": [
    "pd.read_stata(\"pooled_data_public.dta\", index_col = 'id')"
   ]
  },
  {
   "cell_type": "markdown",
   "id": "66e8d0ee",
   "metadata": {},
   "source": [
    "### 1.2. Exploración de bases de datos\n",
    "\n",
    "Explorar bases de datos es uno de los pasos esenciales en cualquier proyecto de analítica de datos, pues nos permite identificar aspectos útiles del caso de estudio.<br>"
   ]
  },
  {
   "cell_type": "markdown",
   "id": "0d459905",
   "metadata": {},
   "source": [
    "#### Establecer un índice usando el método set_index()\n",
    "\n",
    "Consideremos nuevamente el archivo `.csv ` del inicio del Notebook. Este corresponde a mediciones de precipitaciones o lluvias (en milímetros). ¿Cómo podríamos indicar a Python que la columna `year` debería ser leída como un índice?"
   ]
  },
  {
   "cell_type": "code",
   "execution_count": null,
   "id": "8655fe96",
   "metadata": {},
   "outputs": [],
   "source": [
    "df = pd.read_csv('pune_1965_to_2002.csv')\n",
    "df = df.set_index('Year')\n",
    "df"
   ]
  },
  {
   "cell_type": "markdown",
   "id": "5deb9865",
   "metadata": {},
   "source": [
    "#### Métodos comunes para inspeccionar Dataframes\n",
    "\n",
    "A continuación veremos algunos de los métodos que tiene el paquete `pandas` para inspeccionar rápidamente los datos a disposición, que resultan de mucha utilidad para conocer las caracterísitcas de la información cargada."
   ]
  },
  {
   "cell_type": "markdown",
   "id": "e6d97b7d",
   "metadata": {},
   "source": [
    "* `head`:\n",
    "muestra las primeras n filas."
   ]
  },
  {
   "cell_type": "code",
   "execution_count": null,
   "id": "98d759af",
   "metadata": {},
   "outputs": [],
   "source": [
    "df.head(5)"
   ]
  },
  {
   "cell_type": "markdown",
   "id": "42e8684a",
   "metadata": {},
   "source": [
    "* `tail`:\n",
    "muestra las últimas n filas."
   ]
  },
  {
   "cell_type": "code",
   "execution_count": null,
   "id": "23656291",
   "metadata": {},
   "outputs": [],
   "source": [
    "df.tail(5)"
   ]
  },
  {
   "cell_type": "markdown",
   "id": "04ffa312",
   "metadata": {},
   "source": [
    "* `columns`: muestra los nombres de las columnas del `DataFrame`."
   ]
  },
  {
   "cell_type": "code",
   "execution_count": null,
   "id": "3f59b807",
   "metadata": {},
   "outputs": [],
   "source": [
    "df.columns"
   ]
  },
  {
   "cell_type": "markdown",
   "id": "8315115e",
   "metadata": {},
   "source": [
    "* `info`: muestra la información general del `DataFrame`."
   ]
  },
  {
   "cell_type": "code",
   "execution_count": null,
   "id": "0a52237a",
   "metadata": {},
   "outputs": [],
   "source": [
    "df.info()"
   ]
  },
  {
   "cell_type": "markdown",
   "id": "840b3dd2",
   "metadata": {},
   "source": [
    "* `describe`: muestra medidas de tendencia de las columnas numéricas del `DataFrame`."
   ]
  },
  {
   "cell_type": "code",
   "execution_count": null,
   "id": "ebfa4573",
   "metadata": {},
   "outputs": [],
   "source": [
    "# Descripción de los datos por sus columnas\n",
    "df.describe()"
   ]
  },
  {
   "cell_type": "code",
   "execution_count": null,
   "id": "d9154f67",
   "metadata": {},
   "outputs": [],
   "source": [
    "# Descripción de los datos por sus Índices\n",
    "df.T.describe().round()"
   ]
  },
  {
   "cell_type": "markdown",
   "id": "33b4eb3b",
   "metadata": {},
   "source": [
    "* `dtypes`: muestra el tipo de dato de cada columna del `DataFrame`."
   ]
  },
  {
   "cell_type": "code",
   "execution_count": null,
   "id": "10ba8e64",
   "metadata": {},
   "outputs": [],
   "source": [
    "# Tipos de datos de las columnas del Dataframe\n",
    "df.dtypes"
   ]
  },
  {
   "cell_type": "markdown",
   "id": "b997b0f3",
   "metadata": {},
   "source": [
    "* `unique`: muestra los datos únicos de una columna del `DataFrame`."
   ]
  },
  {
   "cell_type": "code",
   "execution_count": null,
   "id": "4d517fdf",
   "metadata": {
    "scrolled": true
   },
   "outputs": [],
   "source": [
    "# Establecer los valores únicos de la columna Enero\n",
    "df[\"Jan\"].unique()"
   ]
  },
  {
   "cell_type": "markdown",
   "id": "8f6ec17d",
   "metadata": {},
   "source": [
    "* `max`: muestra el valor máximo de una columna o índice de un `DataFrame`."
   ]
  },
  {
   "cell_type": "code",
   "execution_count": null,
   "id": "4e45725e",
   "metadata": {},
   "outputs": [],
   "source": [
    "# Calcular el máximo año del índice\n",
    "df.index.max()"
   ]
  },
  {
   "cell_type": "markdown",
   "id": "37e021e2",
   "metadata": {},
   "source": [
    "* `min`: muestra el valor minimo de una columna o índice de un `DataFrame`."
   ]
  },
  {
   "cell_type": "code",
   "execution_count": null,
   "id": "7b88bc6e",
   "metadata": {},
   "outputs": [],
   "source": [
    "# Calcular el mínimo año del índice\n",
    "df.index.min()"
   ]
  },
  {
   "cell_type": "markdown",
   "id": "c4b4fd83",
   "metadata": {},
   "source": [
    "* `sum`: muestra la suma de todos los valores de una columna en específico."
   ]
  },
  {
   "cell_type": "code",
   "execution_count": null,
   "id": "73e60991",
   "metadata": {},
   "outputs": [],
   "source": [
    "# Suma de los datos de cada mes\n",
    "datos.sum()"
   ]
  },
  {
   "cell_type": "markdown",
   "id": "ae15f504",
   "metadata": {},
   "source": [
    "* `mean`: muestra el promedio de todos los valores de un objetoen específico."
   ]
  },
  {
   "cell_type": "code",
   "execution_count": null,
   "id": "0f67d57f",
   "metadata": {},
   "outputs": [],
   "source": [
    "# Promedio de precipitaciones en cada año\n",
    "datos.mean(axis = 'columns')"
   ]
  },
  {
   "cell_type": "markdown",
   "id": "6228cb66",
   "metadata": {},
   "source": [
    "#### Operaciones con datos `String`\n",
    "\n",
    "A menudo, tendremos que trabajar con datos en forma de Strings, es decir cadenas de caracteres o texto. Para estos ejemplos, usaremos el dataset de presidentes de EEUU."
   ]
  },
  {
   "cell_type": "code",
   "execution_count": null,
   "id": "d9e5c43e",
   "metadata": {},
   "outputs": [],
   "source": [
    "# Leer archivo de datos usando Pandas\n",
    "\n",
    "datos = pd.read_csv(\"us_presidents 2.csv\")\n",
    "datos"
   ]
  },
  {
   "cell_type": "markdown",
   "id": "3bc0cac1",
   "metadata": {},
   "source": [
    "* el método `str.upper()` permite convertir texto a mayúscula"
   ]
  },
  {
   "cell_type": "code",
   "execution_count": null,
   "id": "39749d1b",
   "metadata": {},
   "outputs": [],
   "source": [
    "datos['president'].str.upper()"
   ]
  },
  {
   "cell_type": "markdown",
   "id": "9edd7135",
   "metadata": {},
   "source": [
    "* Usando `str.len()` se puede conocer la longitud total, incluyendo espacios y otros caracteres que puedan aparecer"
   ]
  },
  {
   "cell_type": "code",
   "execution_count": null,
   "id": "0457a893",
   "metadata": {},
   "outputs": [],
   "source": [
    "datos['president'].str.len()"
   ]
  },
  {
   "cell_type": "markdown",
   "id": "8faa622f",
   "metadata": {},
   "source": [
    "* Empleando `str.split()` se convertir los elementos en una lista."
   ]
  },
  {
   "cell_type": "code",
   "execution_count": null,
   "id": "acd2a901",
   "metadata": {},
   "outputs": [],
   "source": [
    "datos['president'].str.split()"
   ]
  },
  {
   "cell_type": "markdown",
   "id": "6d533446",
   "metadata": {},
   "source": [
    "#### Método `Group by`\n",
    "\n",
    "El método groupby permite realizar las siguientes tres operaciones a la vez: \n",
    "* (1) Separar en grupos el `DataFrame` de acuerdo a un criterio.\n",
    "* (2) Aplicar una función a cada grupo. \n",
    "* (3) Combinar los resultados en un nuevo `DataFrame`.\n",
    "\n",
    "La sintaxis para usar groupby es la siguiente:\n",
    "\n",
    "    pandas.DataFrame.groupby(by, axis, level)\n",
    "\n",
    "* **by:** indica el criterio para realizar el paso (1). Puede usarse un diccionario, un `Series`, entre otros.\n",
    "\n",
    "* **axis:** por defecto es 0. <br><br>\n",
    "    * `axis = 1`: indica que vamos a agrupar columnas. <br>\n",
    "    * `axis = 0`: indica que vamos a agrupar filas.<br><br>\n",
    "\n",
    "* **level:** indica por nombre o por posición a cuál de los niveles del índice múltiple se le aplicará el método."
   ]
  },
  {
   "cell_type": "code",
   "execution_count": null,
   "id": "e3bc4578",
   "metadata": {},
   "outputs": [],
   "source": [
    "# Importación de los datos\n",
    "Demografia = pd.read_excel(\"ArchivoSoporteS3TU1.xlsx\")\n",
    "Demografia"
   ]
  },
  {
   "cell_type": "code",
   "execution_count": null,
   "id": "82b9a6e2",
   "metadata": {},
   "outputs": [],
   "source": [
    "Demografia.groupby('Ciudad Residencia')['Ingresos'].mean()"
   ]
  },
  {
   "cell_type": "markdown",
   "id": "aa71dce3",
   "metadata": {},
   "source": [
    "### 1.3. Series de Tiempo\n",
    "\n",
    "Son tipos de datos especiales donde el tiempo toma un rol fundamental. Observamos cambios en los valores de la variable a lo largo del tiempo. Si ignoramos esa dimensión temporal, los valores pierden contexto. <br>\n",
    "\n",
    "Python provee tres tipos de datos relacionados al tiempo:\n",
    "* **Timestamp** o marca de tiempo: representan un punto en el tiempo. Por ejemplo, fecha y hora.\n",
    "* **Período**: representan un intervalo de tiempo. Por ejemplo, los minutos transcurridos desde que comenzó la clase hasta ahora.\n",
    "* **Duración**: representa una duración medida en tiempo, pero independientemente del momento en que sucede. Por ejemplo, 15 minutos."
   ]
  },
  {
   "cell_type": "markdown",
   "id": "687f6da1",
   "metadata": {},
   "source": [
    "#### Convertir String a Timestamp"
   ]
  },
  {
   "cell_type": "code",
   "execution_count": null,
   "id": "a1a5fe40",
   "metadata": {},
   "outputs": [],
   "source": [
    "fecha = pd.to_datetime('03/01/2020',dayfirst=True)\n",
    "fecha"
   ]
  },
  {
   "cell_type": "markdown",
   "id": "c9f6c21b",
   "metadata": {},
   "source": [
    "#### Crear un rango de fechas"
   ]
  },
  {
   "cell_type": "code",
   "execution_count": null,
   "id": "e9ef0cbc",
   "metadata": {},
   "outputs": [],
   "source": [
    "fin = pd.to_datetime('10/01/2020',dayfirst=True)\n",
    "fechas_1 = pd.date_range(start=fecha, end=fin)\n",
    "fechas_1"
   ]
  },
  {
   "cell_type": "markdown",
   "id": "b27499d3",
   "metadata": {},
   "source": [
    "#### Periodos de tiempo en rangos (dias)"
   ]
  },
  {
   "cell_type": "code",
   "execution_count": null,
   "id": "20353757",
   "metadata": {},
   "outputs": [],
   "source": [
    "fechas_2 = pd.date_range(start=fecha, periods=8)\n",
    "fechas_2"
   ]
  },
  {
   "cell_type": "markdown",
   "id": "3b1961ba",
   "metadata": {},
   "source": [
    "#### Periodos de tiempo en rangos (meses)"
   ]
  },
  {
   "cell_type": "code",
   "execution_count": null,
   "id": "8fa844ea",
   "metadata": {},
   "outputs": [],
   "source": [
    "fechas_3 = pd.date_range(start= fecha, periods= 8, freq='M')\n",
    "fechas_3"
   ]
  },
  {
   "cell_type": "markdown",
   "id": "e7014a1a",
   "metadata": {},
   "source": [
    "#### Operaciones con fechas en Python usando `pandas`"
   ]
  },
  {
   "cell_type": "markdown",
   "id": "d67f1926",
   "metadata": {},
   "source": [
    "* Diferencia entre fechas   (por defecto es en días)"
   ]
  },
  {
   "cell_type": "code",
   "execution_count": null,
   "id": "4f3f2d44",
   "metadata": {},
   "outputs": [],
   "source": [
    "fecha_final = fechas_3[7]     # 7 hace referencia al último elemento del índice creado anteriormente\n",
    "print(fecha_final)\n",
    "fecha_inicial = fechas_3[0]   # 0 se refiere al primer elemento del índice\n",
    "print(fecha_inicial)\n",
    "\n",
    "fecha_final - fecha_inicial"
   ]
  },
  {
   "cell_type": "markdown",
   "id": "eef3b1d4",
   "metadata": {},
   "source": [
    "* Diferencia entre fechas (modificado para meses u otro periodo de tiempo)"
   ]
  },
  {
   "cell_type": "code",
   "execution_count": null,
   "id": "89566bab",
   "metadata": {},
   "outputs": [],
   "source": [
    "dif_meses = fechas_3[7].to_period('M') - fechas_3[0].to_period('M') \n",
    "dif_meses"
   ]
  },
  {
   "cell_type": "markdown",
   "id": "1c19ca95",
   "metadata": {},
   "source": [
    "#### Indexar `dataframe` con objetos de tipo tiempo"
   ]
  },
  {
   "cell_type": "code",
   "execution_count": null,
   "id": "578d623a",
   "metadata": {},
   "outputs": [],
   "source": [
    "# Datos de los presidente de EUA\n",
    "datos['start']"
   ]
  },
  {
   "cell_type": "code",
   "execution_count": null,
   "id": "3505845a",
   "metadata": {},
   "outputs": [],
   "source": [
    "inicio_presidencia = pd.DatetimeIndex(datos['start'])\n",
    "inicio_presidencia"
   ]
  },
  {
   "cell_type": "code",
   "execution_count": null,
   "id": "f17cbffe",
   "metadata": {},
   "outputs": [],
   "source": [
    "Serie_presidentes = pd.Series(datos['president'].values,index=inicio_presidencia)\n",
    "Serie_presidentes"
   ]
  },
  {
   "cell_type": "markdown",
   "id": "b88ec40a",
   "metadata": {},
   "source": [
    "### 1.4. Filtrado de un `dataframe` según un periodo de tiempo\n",
    "\n",
    "Consideremos el evento en que se quiere conocer cuales son los presidentes que han tenido los Estados Unidos desde el año 1975. ¿Como podemos lograrlo mediante el uso de Python y el paquete `pandas`?"
   ]
  },
  {
   "cell_type": "code",
   "execution_count": null,
   "id": "5e9eb35f",
   "metadata": {},
   "outputs": [],
   "source": [
    "filtro = (Serie_presidentes.index >= '1975-01-01')\n",
    "Serie_presidentes[filtro]"
   ]
  },
  {
   "cell_type": "markdown",
   "id": "857280bc",
   "metadata": {},
   "source": [
    "### 1.5. Ayuda para el Desafío propuesto\n",
    "\n",
    "Consideremos el evento en que se quiere conocer cuales son los presidentes que han tenido los Estados Unidos desde el año 1975. ¿Como podemos lograrlo mediante el uso de Python y el paquete `pandas`?"
   ]
  },
  {
   "cell_type": "code",
   "execution_count": null,
   "id": "713f110a",
   "metadata": {},
   "outputs": [],
   "source": [
    "Desafio = pd.read_csv(\"Summer-Olympic-medals-1976-to-2008.csv\")\n",
    "year_datetime = pd.to_datetime(Desafio['Year'], format = '%Y%')\n",
    "year_datetime"
   ]
  }
 ],
 "metadata": {
  "kernelspec": {
   "display_name": "Python 3",
   "language": "python",
   "name": "python3"
  },
  "language_info": {
   "codemirror_mode": {
    "name": "ipython",
    "version": 3
   },
   "file_extension": ".py",
   "mimetype": "text/x-python",
   "name": "python",
   "nbconvert_exporter": "python",
   "pygments_lexer": "ipython3",
   "version": "3.8.8"
  }
 },
 "nbformat": 4,
 "nbformat_minor": 5
}
