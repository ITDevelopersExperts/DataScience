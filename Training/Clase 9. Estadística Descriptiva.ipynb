{
 "cells": [
  {
   "cell_type": "markdown",
   "id": "bb33f081",
   "metadata": {},
   "source": [
    "# **CODERHOUSE DS - 22745**\n",
    "## Clase 9. Estadística Descriptiva"
   ]
  },
  {
   "cell_type": "code",
   "execution_count": 1,
   "id": "77242a60",
   "metadata": {},
   "outputs": [],
   "source": [
    "import matplotlib.pyplot as plt\n",
    "import pandas as pd\n",
    "import numpy as np\n",
    "import statistics as stats\n",
    "import math"
   ]
  },
  {
   "cell_type": "markdown",
   "id": "7d8fd634",
   "metadata": {},
   "source": [
    "# Objetivos\n",
    "Al final de esta sesión habrás podido:\n",
    "\n",
    "1. Conocer las generalidades de la Estadística Descriptiva.\n",
    "2. Identificar los tipos de variables. \n",
    "3. Diferenciar las medidas de resumen.\n",
    "4. Comprender la distribución: uniforme vs. normal.\n"
   ]
  },
  {
   "cell_type": "markdown",
   "id": "0c78e080",
   "metadata": {},
   "source": [
    "La estadística descriptiva es una rama de la estadística que nos ayuda a entender mejor los datos, a partir de su descripción y análisis. Como parte del proceso de Data Science, la estadística descriptiva es uno de los pilares del Análisis Exploratorio de Datos o EDA, que veremos más adelante en este curso."
   ]
  },
  {
   "cell_type": "markdown",
   "id": "7d13a8e0",
   "metadata": {},
   "source": [
    "# Tipos de variables y tipos de datos\n",
    "\n",
    "En estadística, **los tipos de variables son análogos en su concepto a los tipos de datos**. Los tipos de datos existen en programación, entre otras razones, porque **hay operaciones que podemos hacer con algunos de ellos pero con otros no**. Podemos partir de una noción básica en estadística sobre los tipos de variables a partir de esta analogía. En general hablaremos sobre una gran división en los tipos de variables, que es la que será más práctica para Data Science: variables cuantitativas y cualitativas."
   ]
  },
  {
   "cell_type": "markdown",
   "id": "35ce3105",
   "metadata": {},
   "source": [
    "## Variables cuantitativas\n",
    "\n",
    "Las variables cuantitativas son variables para las que tiene sentido realizar la suma, la resta o el promedio, de acuerdo al caso. En general son numéricas y pertenecientes al conjunto de los números reales o a alguno de sus subconjuntos Por ejemplo, las alturas de las personas pueden estar medidas en centímetros, y las edades podrían estar medidas en números enteros, lo cual en realidad no sucede de esa forma (nuestra edad aumenta día a día, segundo a segundo) pero sí puede servir a fines prácticos.\n",
    "\n",
    "Las variables numéricas pueden implementarse en Python con los tipos de datos int, float o complex.\n",
    "\n",
    "**Ejemplos**"
   ]
  },
  {
   "cell_type": "code",
   "execution_count": 2,
   "id": "78e919e5",
   "metadata": {},
   "outputs": [],
   "source": [
    "# Nombres\n",
    "nombres = ['Amadeus','Balthazar','Sephirot','Sonya','Annabeth']\n",
    "\n",
    "#Edades\n",
    "edad = np.random.randint(low=18, high=35,size=len(nombres))\n",
    "\n",
    "# Distancia en Metros\n",
    "distancia = [21,33,78,101,46,16,32]"
   ]
  },
  {
   "cell_type": "markdown",
   "id": "a7b2e538",
   "metadata": {},
   "source": [
    "## Series de Tiempo\n",
    "\n",
    "Las variables de tipo fecha constituyen un mundo aparte, tanto para la visión estadística como para el enfoque de tipos de datos de programación. Tienen algunas cualidades distintivas como la secuencialidad, la relación entre datos con valores sucesivos y las características particulares del devenir temporal, tales como años bisiestos, estaciones del año, periodicidad en escalas que no encajan de forma perfecta (como las semanas en el mes), etc.\n",
    "\n",
    "En términos estadísticos, una serie de tiempo puede ser considerada como una variable cuantitativa, ya que si bien el promedio no es una operación que tenga mucho sentido, sí se pueden establecer diferencias entre fechas, que dan como resultado duraciones. Por ejemplo, es práctica común en el desarrollo de sistemas que la edad de una persona se calcule como la diferencia entre la fecha de nacimiento (cargada en la base de datos) y la fecha de hoy (calculada con una función del lenguaje de programación).\n",
    "\n",
    "\n",
    "**Ejemplos**"
   ]
  },
  {
   "cell_type": "code",
   "execution_count": null,
   "id": "6b2eb143",
   "metadata": {},
   "outputs": [],
   "source": [
    "df = pd.read_csv('https://raw.githubusercontent.com/selva86/datasets/master/a10.csv', parse_dates=['date'], index_col='date')\n",
    "\n",
    "# Draw Plot\n",
    "def plot_df(df, x, y, title=\"\", xlabel='Fecha', ylabel='Valor', dpi=100):\n",
    "    plt.figure(figsize=(16,5), dpi=dpi)\n",
    "    plt.plot(x, y, color='tab:red')\n",
    "    plt.gca().set(title=title, xlabel=xlabel, ylabel=ylabel)\n",
    "    plt.show()\n",
    "\n",
    "plot_df(df, x=df.index, y=df.value, title='Ventas Mensuales de medicamentos Anti-Diabetes en Australia del 1992 al 2008.')    "
   ]
  },
  {
   "cell_type": "code",
   "execution_count": null,
   "id": "e3dbfc73",
   "metadata": {},
   "outputs": [],
   "source": [
    "fig, axes = plt.subplots(1,3, figsize=(20,4), dpi=100)\n",
    "pd.read_csv('https://raw.githubusercontent.com/selva86/datasets/master/guinearice.csv', parse_dates=['date'], index_col='date').plot(title='Solo Tendencia', legend=False, ax=axes[0])\n",
    "\n",
    "pd.read_csv('https://raw.githubusercontent.com/selva86/datasets/master/sunspotarea.csv', parse_dates=['date'], index_col='date').plot(title='Solo Estacionalidad', legend=False, ax=axes[1])\n",
    "\n",
    "pd.read_csv('https://raw.githubusercontent.com/selva86/datasets/master/AirPassengers.csv', parse_dates=['date'], index_col='date').plot(title='Tendencia y Estacionalidad', legend=False, ax=axes[2])\n",
    "plt.show()"
   ]
  },
  {
   "cell_type": "markdown",
   "id": "d10b9959",
   "metadata": {},
   "source": [
    "## Variables Cualitativas Categóricas\n",
    "\n",
    "Las variables categóricas o cualitativas, por su parte, como su nombre lo indica, **sirven efectivamente para categorizar elementos**. Esto significa que podríamos armar subconjuntos o subgrupos de elementos de acuerdo a dicha variable. Encontramos aquí por ejemplo algunos datos comunes que se utilizan en data science para caracterizar a las personas, tales como el sexo/género, la ocupación/profesión y el lugar de procedencia.\n",
    "\n",
    "\n",
    "**Ejemplos**"
   ]
  },
  {
   "cell_type": "code",
   "execution_count": null,
   "id": "16b297c9",
   "metadata": {},
   "outputs": [],
   "source": [
    "#Ocupaciones\n",
    "profesion = ['ingeniería','medicina','bellas artes','gastronmía']\n",
    "\n",
    "#Género\n",
    "sexo = ['masculino','femenino','no binario','otro']\n",
    "\n",
    "# Nacionalidad\n",
    "nacionalidad = ['Colombiano','Argentino','Uruguayo','Brasileño']"
   ]
  },
  {
   "cell_type": "markdown",
   "id": "1a4349df",
   "metadata": {},
   "source": [
    "* ### Variables Lógicas\n",
    "\n",
    "Las variables lógicas son el análogo de los tipos de datos Booleanos o lógicos (bool) de Python. Este tipo de dato tiene como valores posibles verdadero (True) y falso (False). Esta variable tiene su tipo de dato específico en Python porque puede utilizarse para hacer operaciones particulares. No obstante, a los efectos del análisis estadístico, **sigue siendo una variable categórica**.\n",
    "\n",
    "**Ejemplos**"
   ]
  },
  {
   "cell_type": "code",
   "execution_count": null,
   "id": "1fd3d963",
   "metadata": {},
   "outputs": [],
   "source": [
    "#Calificaciones\n",
    "nota_final = [1,5,4,4,3,3.5,3,2.5,1,1.5,4.5,4,4.5,3]\n",
    "nota_aprobacion = 3.5\n",
    "Booleana = [valor > nota_aprobacion for valor in nota_final]\n",
    "Booleana"
   ]
  },
  {
   "cell_type": "markdown",
   "id": "7e4abc15",
   "metadata": {},
   "source": [
    "## Conceptos Básicos\n",
    "\n",
    "* Los datos que componen un conjunto a analizar describen una parte de la realidad o la situación de interés.<br>\n",
    "\n",
    "\n",
    "*  **Observación:** conjunto de variables representadas con datos.\n",
    "*  **Población:** universo de observaciones que consta de todas las unidades de observación posibles, incluidas aquellas a las que no tenemos acceso, o que todavía no ocurrieron.\n",
    "*  **Muestra:** el conjunto de observaciones que contiene las unidades de observación a las que tenemos acceso.\n",
    "\n"
   ]
  },
  {
   "cell_type": "markdown",
   "id": "21a605d4",
   "metadata": {},
   "source": [
    "## Medidas Resumen\n",
    "\n",
    "### 1. Variables Cuantitativas\n",
    "\n",
    "#### Medidas de tendencia central\n",
    "\n",
    "* **Media o promedio:** \n",
    "El promedio o media aritmética se define como la suma de todos los valores dividida entre la cantidad de datos. $\\frac{\\sum_{i=1}^{n} x_i}{n}$\n",
    "\n",
    "* **Mediana:** \n",
    "Centro de los datos después de ser ordenados de menor a mayor. En caso de que el set de datos sea par, se promedian los valores centrales.\n",
    "\n",
    "* **Moda:** \n",
    "Se trata del valor que más veces se repite en el conjunto de datos.\n",
    "\n",
    "\n",
    "**Ejemplos**\n",
    "\n"
   ]
  },
  {
   "cell_type": "code",
   "execution_count": null,
   "id": "7542b8c0",
   "metadata": {},
   "outputs": [],
   "source": [
    "#Mediana\n",
    "student_ages = (9, 10, 9, 10, 9, 9, 10, 11, 11, 10, 9, 9)\n",
    "print('La mediana de la edad de los estudiantes es:',stats.median(student_ages))\n",
    "\n",
    "#Media\n",
    "print('La media de la edad de los estudiantes es:', np.mean(student_ages))\n",
    "\n",
    "#Moda\n",
    "print(\"La moda del conjunto de datos es:\",(stats.mode(student_ages)))"
   ]
  },
  {
   "cell_type": "markdown",
   "id": "da4e799d",
   "metadata": {},
   "source": [
    "#### Medidas de dispersión\n",
    "\n",
    "* **Varianza:** \n",
    "Consiste en medir las distancias de todos los datos hasta la media, elevar cada distancia al cuadrado, realizar la suma y dividir por la cantidad de datos menos dos unidades.\n",
    "\n",
    "* **Desviación estándar:** \n",
    "La varianza tiene un problema: dado que su fórmula involucra una operación de elevar al cuadrado, su resultado estará expresado en unidades al cuadrado. Por ejemplo si estamos midiendo alturas en centímetros, la varianza estará dada en centímetros al cuadrado, lo cual no tiene mucho sentido si queremos interpretar el valor con respecto a los datos.\n"
   ]
  },
  {
   "cell_type": "code",
   "execution_count": null,
   "id": "44781e1f",
   "metadata": {},
   "outputs": [],
   "source": [
    "student_ages = (9, 10, 9, 10, 9, 9, 10, 11, 11, 10, 9, 9)\n",
    "\n",
    "#Desviación estandar y Varianza\n",
    "np.std(student_ages)\n"
   ]
  },
  {
   "cell_type": "markdown",
   "id": "07cd9f8d",
   "metadata": {},
   "source": [
    "### 2. Variables Cualitativas\n",
    "\n",
    "Aquí se usan descriptivas como cantidad total, frecuencia de ocurrencia, cantidad de valores únicos, etc."
   ]
  },
  {
   "cell_type": "code",
   "execution_count": null,
   "id": "96e0d4d9",
   "metadata": {},
   "outputs": [],
   "source": [
    "dataframe=pd.DataFrame({'Attendance': {0: 60, 1: 100, 2: 80,3: 78,4: 95},\n",
    "                        'Name': {0: 'Olivia', 1: 'John', 2: 'Laura',3: 'Ben',4: 'Kevin'},\n",
    "                        'Obtained Marks': {0: 90, 1: 75, 2: 82, 3: 64, 4: 45}})\n",
    "\n"
   ]
  },
  {
   "cell_type": "markdown",
   "id": "b1755ba6",
   "metadata": {},
   "source": [
    "## Inferencia vs Visualización\n",
    "\n",
    "Es muy común encontrar que quienes realizan análisis de datos se encuentren polarizados entre buscar explicar la myoría de elementos con gráficos y quienes desestiman la visualización por elementos descriptivos estadísticos como las medidas de tendencia central y de dispersión. En el siguiente link se encuentra una importante reflexión para ambos casos.\n",
    "\n",
    "[DataSaurus Dozen / Cuarteto de Anscombe](https://www.autodesk.com/research/publications/same-stats-different-graphs)"
   ]
  }
 ],
 "metadata": {
  "kernelspec": {
   "display_name": "Python 3",
   "language": "python",
   "name": "python3"
  },
  "language_info": {
   "codemirror_mode": {
    "name": "ipython",
    "version": 3
   },
   "file_extension": ".py",
   "mimetype": "text/x-python",
   "name": "python",
   "nbconvert_exporter": "python",
   "pygments_lexer": "ipython3",
   "version": "3.8.8"
  }
 },
 "nbformat": 4,
 "nbformat_minor": 5
}
